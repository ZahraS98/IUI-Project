{
 "cells": [
  {
   "cell_type": "code",
   "execution_count": 1,
   "id": "85734d1f",
   "metadata": {},
   "outputs": [
    {
     "name": "stderr",
     "output_type": "stream",
     "text": [
      "[nltk_data] Downloading package stopwords to\n",
      "[nltk_data]     /Users/soumyankar/nltk_data...\n",
      "[nltk_data]   Package stopwords is already up-to-date!\n"
     ]
    }
   ],
   "source": [
    "#import necessary libraries\n",
    "import pandas as pd\n",
    "import nltk\n",
    "import sys # needed this for certain print options during debugging\n",
    "import numpy as np #lmao why did we not have this before\n",
    "from nltk.tokenize import word_tokenize\n",
    "nltk.download('stopwords')\n",
    "from nltk.corpus import stopwords\n",
    "import string\n",
    "from nltk.stem import WordNetLemmatizer\n",
    "from sklearn.feature_extraction.text import TfidfVectorizer\n",
    "from sklearn.feature_extraction.text import CountVectorizer\n",
    "import matplotlib.pyplot as plt"
   ]
  },
  {
   "cell_type": "code",
   "execution_count": 2,
   "id": "b437a90f",
   "metadata": {},
   "outputs": [
    {
     "data": {
      "text/html": [
       "<div>\n",
       "<style scoped>\n",
       "    .dataframe tbody tr th:only-of-type {\n",
       "        vertical-align: middle;\n",
       "    }\n",
       "\n",
       "    .dataframe tbody tr th {\n",
       "        vertical-align: top;\n",
       "    }\n",
       "\n",
       "    .dataframe thead th {\n",
       "        text-align: right;\n",
       "    }\n",
       "</style>\n",
       "<table border=\"1\" class=\"dataframe\">\n",
       "  <thead>\n",
       "    <tr style=\"text-align: right;\">\n",
       "      <th></th>\n",
       "      <th>review_id</th>\n",
       "      <th>title</th>\n",
       "      <th>year</th>\n",
       "      <th>user_review</th>\n",
       "      <th>user_suggestion</th>\n",
       "    </tr>\n",
       "  </thead>\n",
       "  <tbody>\n",
       "    <tr>\n",
       "      <th>0</th>\n",
       "      <td>1</td>\n",
       "      <td>Spooky's Jump Scare Mansion</td>\n",
       "      <td>2016.0</td>\n",
       "      <td>I'm scared and hearing creepy voices.  So I'll pause for a moment and write a review while I wait for my heart beat to return to atleast somewhat calmer times.  This game is adorable and creepy like my happy tree friends but with the graphics sceme of my childhood (but more bubble and 'clean').  Hello 1990's.What charactes there are (that isnot trying to kill me) were likable and a bit odd.  I did do a few noob things though, such as:Oh look a class room full of ghosts from dead children, lets shine my flashlight on them and stand there staring at them..Or, hmm creepy music, I'll turn around and see if I can see what's chasing me.Never before in a game have I been this afraid of finding a locked door.</td>\n",
       "      <td>1</td>\n",
       "    </tr>\n",
       "    <tr>\n",
       "      <th>1</th>\n",
       "      <td>2</td>\n",
       "      <td>Spooky's Jump Scare Mansion</td>\n",
       "      <td>2016.0</td>\n",
       "      <td>Best game, more better than Sam Pepper's YouTube account. 10/10What you'll need to play:A computerSome extra pants.Pros:Scary as hell.Fun.Adventure.Spooky.Did I forgot to mention that its scary as hell?You'll get more pants/briefs in your wardrobe.Time consuming if you're bored.Cons:Buying pants/briefs. You haven't downloaded it yet.</td>\n",
       "      <td>1</td>\n",
       "    </tr>\n",
       "  </tbody>\n",
       "</table>\n",
       "</div>"
      ],
      "text/plain": [
       "   review_id                        title    year  \\\n",
       "0          1  Spooky's Jump Scare Mansion  2016.0   \n",
       "1          2  Spooky's Jump Scare Mansion  2016.0   \n",
       "\n",
       "                                                                                                                                                                                                                                                                                                                                                                                                                                                                                                                                                                                                                                                                                                                              user_review  \\\n",
       "0  I'm scared and hearing creepy voices.  So I'll pause for a moment and write a review while I wait for my heart beat to return to atleast somewhat calmer times.  This game is adorable and creepy like my happy tree friends but with the graphics sceme of my childhood (but more bubble and 'clean').  Hello 1990's.What charactes there are (that isnot trying to kill me) were likable and a bit odd.  I did do a few noob things though, such as:Oh look a class room full of ghosts from dead children, lets shine my flashlight on them and stand there staring at them..Or, hmm creepy music, I'll turn around and see if I can see what's chasing me.Never before in a game have I been this afraid of finding a locked door.   \n",
       "1                                                                                                                                                                                                                                                                                                                                                                                         Best game, more better than Sam Pepper's YouTube account. 10/10What you'll need to play:A computerSome extra pants.Pros:Scary as hell.Fun.Adventure.Spooky.Did I forgot to mention that its scary as hell?You'll get more pants/briefs in your wardrobe.Time consuming if you're bored.Cons:Buying pants/briefs. You haven't downloaded it yet.   \n",
       "\n",
       "   user_suggestion  \n",
       "0                1  \n",
       "1                1  "
      ]
     },
     "execution_count": 2,
     "metadata": {},
     "output_type": "execute_result"
    }
   ],
   "source": [
    "#load the dataset\n",
    "pd.set_option('display.max_colwidth', None)\n",
    "data = pd.read_csv('Steam Game Review.csv')\n",
    "# inserting a new column called tags\n",
    "# data.insert(2, 'tags', '')\n",
    "data.head(2)"
   ]
  },
  {
   "cell_type": "code",
   "execution_count": 3,
   "id": "a002e620",
   "metadata": {},
   "outputs": [],
   "source": [
    "# Now that we have about 44 games in unique, we will iterate through the dataset and add tags to them manually.\n",
    "# Oh, this will be a pain in the ass I think xdd\n",
    "\n",
    "# Now we'll iterate through the rows and start adding tags based on the 'title' column\n",
    "tags_cols = []\n",
    "for index, row in data.iterrows():\n",
    "    if(row['title'] == \"Spooky's Jump Scare Mansion\"):\n",
    "        tags_cols.append(['Action', 'Adventure', 'Free to Play', 'Indie'])\n",
    "    if(row['title'] == \"Sakura Clicker\"):\n",
    "        tags_cols.append(['Casual', 'Free to Play', 'Indie'])\n",
    "    if(row['title'] == \"WARMODE\"):\n",
    "        tags_cols.append(['Action', 'Free to Play'])\n",
    "    if(row['title'] == \"Fractured Space\"):\n",
    "        tags_cols.append(['Action', 'Indie', 'Early Access'])\n",
    "    if(row['title'] == \"Dota 2\"):\n",
    "        tags_cols.append(['Action', 'Free to Play', 'Strategy'])\n",
    "    if(row['title'] == \"Path of Exile\"):\n",
    "        tags_cols.append(['Action', 'Adventure', 'Free to Play', 'Indie', 'Massively Multiplayer', 'RPG'])\n",
    "    if(row['title'] == \"War Thunder\"):\n",
    "        tags_cols.append(['Action', 'Free to Play', 'Massively Multiplayer', 'Simulation'])\n",
    "    if(row['title'] == \"Ring of Elysium\"):\n",
    "        tags_cols.append(['Action', 'Free to Play', 'Massively Multiplayer'])\n",
    "    if(row['title'] == \"Team Fortress 2\"):\n",
    "        tags_cols.append(['Action', 'Free to Play'])\n",
    "    if(row['title'] == \"Yu-Gi-Oh! Duel Links\"):\n",
    "        tags_cols.append(['Free to Play', 'Strategy'])\n",
    "    if(row['title'] == \"SMITE®\"):\n",
    "        tags_cols.append(['Action', 'Free to Play'])\n",
    "    if(row['title'] == \"Brawlhalla\"):\n",
    "        tags_cols.append(['Action', 'Free to Play', 'Indie'])\n",
    "    if(row['title'] == \"World of Tanks Blitz\"):\n",
    "        tags_cols.append(['Action', 'Free to Play', 'Massively Multiplayer'])\n",
    "    if(row['title'] == \"DCS World Steam Edition\"):\n",
    "        tags_cols.append(['Free to Play', 'Simulation'])\n",
    "    if(row['title'] == \"Heroes & Generals\"):\n",
    "        tags_cols.append(['Action', 'Free to Play', 'Indie', 'Massively Multiplayer', 'Strategy'])\n",
    "    if(row['title'] == \"The Elder Scrolls®: Legends™\"):\n",
    "        tags_cols.append(['Free to Play'])\n",
    "    if(row['title'] == \"Trove\"):\n",
    "        tags_cols.append(['Action', 'Adventure', 'Casual', 'Free to Play', 'Massively Multiplayer', 'RPG'])\n",
    "    if(row['title'] == \"Neverwinter\"):\n",
    "        tags_cols.append(['Action', 'Adventure', 'Free to Play', 'Massively Multiplayer', 'RPG'])\n",
    "    if(row['title'] == \"Realm Royale\"):\n",
    "        tags_cols.append(['Action', 'Free to Play', 'Early Access'])\n",
    "    if(row['title'] == \"PlanetSide 2\"):\n",
    "        tags_cols.append(['Action', 'Free to Play', 'Massively Multiplayer'])\n",
    "    if(row['title'] == \"Realm of the Mad God\"):\n",
    "        tags_cols.append(['Action', 'Free to Play', 'Indie', 'Massively Multiplayer', 'RPG'])\n",
    "    if(row['title'] == \"Elsword\"):\n",
    "        tags_cols.append(['Action', 'Adventure', 'Casual', 'Free to Play', 'Massively Multiplayer', 'RPG'])\n",
    "    if(row['title'] == \"theHunter Classic\"):\n",
    "        tags_cols.append(['Action', 'Adventure', 'Free to Play', 'Simulation', 'Sports'])\n",
    "    if(row['title'] == \"Eternal Card Game\"):\n",
    "        tags_cols.append(['Casual', 'Free to Play', 'Massively Multiplayer', 'Strategy'])\n",
    "    if(row['title'] == \"Black Squad\"):\n",
    "        tags_cols.append(['Action', 'Free to Play'])\n",
    "    if(row['title'] == \"Freestyle 2: Street Basketball\"):\n",
    "        tags_cols.append(['Action, Casual', 'Free to Play', 'Massively Multiplayer', 'Sports'])\n",
    "    if(row['title'] == \"Bless Online\"):\n",
    "        tags_cols.append(['Action', 'Free to Play', 'Massively Multiplayer', 'RPG'])\n",
    "    if(row['title'] == \"RaceRoom Racing Experience\"):\n",
    "        tags_cols.append(['Free to Play', 'Racing', 'Simulation', 'Sports'])\n",
    "    if(row['title'] == \"Fallout Shelter\"):\n",
    "        tags_cols.append([' Free to Play', 'RPG', 'Simulation'])\n",
    "    if(row['title'] == \"Tactical Monsters Rumble Arena\"):\n",
    "        tags_cols.append(['Adventure', 'Free to Play', 'Indie', 'RPG', 'Strategy'])\n",
    "    if(row['title'] == \"Creativerse\"):\n",
    "        tags_cols.append(['Action', 'Adventure', 'Casual', 'Free to Play', 'Indie', 'Massively Multiplayer', 'RPG'])\n",
    "    if(row['title'] == \"Dreadnought\"):\n",
    "        tags_cols.append(['Action', 'Free to Play', 'Massively Multiplayer'])\n",
    "    if(row['title'] == \"Infestation: The New Z\"):\n",
    "        tags_cols.append(['Action', 'Free to Play', 'Indie', 'Massively Multiplayer', 'RPG'])\n",
    "    if(row['title'] == \"Shop Heroes\"):\n",
    "        tags_cols.append(['Role-playing game', 'Simulation Video Game', 'Free-to-play', 'Casual game', 'Massively Multiplayer', 'Strategy'])\n",
    "    if(row['title'] == \"Robocraft\"):\n",
    "        tags_cols.append(['Action', 'Free to Play', 'Indie', 'Massively Multiplayer', 'RPG', 'Simulation'])\n",
    "    if(row['title'] == \"Business Tour - Board Game with Online Multiplayer\"):\n",
    "        tags_cols.append(['Casual', 'Free to Play', 'Indie', 'Massively Multiplayer', 'Strategy'])\n",
    "    if(row['title'] == \"Crusaders of the Lost Idols\"):\n",
    "        tags_cols.append(['Casual', 'Free to Play', 'Indie'])\n",
    "    if(row['title'] == \"AdventureQuest 3D\"):\n",
    "        tags_cols.append(['Role-playing game', 'Free-to-play', 'Action game', 'Indie game', 'Casual game', 'Massively Multiplayer', 'Adventure'])\n",
    "    if(row['title'] == \"Realm Grinder\"):\n",
    "        tags_cols.append(['Free to Play', 'RPG', 'Strategy'])\n",
    "    if(row['title'] == \"World of Guns: Gun Disassembly\"):\n",
    "        tags_cols.append(['Free to Play', 'Indie', 'Simulation'])\n",
    "    if(row['title'] == \"Bloons TD Battles\"):\n",
    "        tags_cols.append(['Action', 'Free to Play', 'Strategy'])\n",
    "    if(row['title'] == \"Cuisine Royale\"):\n",
    "        tags_cols.append(['Action game', 'Free-to-play', 'Massively Multiplayer'])\n",
    "    if(row['title'] == \"School of Dragons\"):\n",
    "        tags_cols.append(['Adventure', 'Free to Play', 'Massively Multiplayer', 'RPG'])\n",
    "    if(row['title'] == \"EverQuest II\"):\n",
    "        tags_cols.append(['Free to Play', 'Massively Multiplayer', 'RPG'])"
   ]
  },
  {
   "cell_type": "code",
   "execution_count": 4,
   "id": "1ef7721c",
   "metadata": {},
   "outputs": [],
   "source": [
    "# Now that we have added all the tags to our games, it is time to append it to our dataset.\n",
    "data.insert(2, 'tags', tags_cols)\n",
    "# !!ATTENTION!!\n",
    "# You might run into an error here, `cannot insert tags, already exists`. However, that just means that you have run this code once before. \n",
    "# Dont stress, to make sure that things are working, just look at thhe sample of the data and you should see all the tags."
   ]
  },
  {
   "cell_type": "code",
   "execution_count": 5,
   "id": "d4942662",
   "metadata": {},
   "outputs": [
    {
     "data": {
      "text/html": [
       "<div>\n",
       "<style scoped>\n",
       "    .dataframe tbody tr th:only-of-type {\n",
       "        vertical-align: middle;\n",
       "    }\n",
       "\n",
       "    .dataframe tbody tr th {\n",
       "        vertical-align: top;\n",
       "    }\n",
       "\n",
       "    .dataframe thead th {\n",
       "        text-align: right;\n",
       "    }\n",
       "</style>\n",
       "<table border=\"1\" class=\"dataframe\">\n",
       "  <thead>\n",
       "    <tr style=\"text-align: right;\">\n",
       "      <th></th>\n",
       "      <th>review_id</th>\n",
       "      <th>title</th>\n",
       "      <th>tags</th>\n",
       "      <th>year</th>\n",
       "      <th>user_review</th>\n",
       "      <th>user_suggestion</th>\n",
       "    </tr>\n",
       "  </thead>\n",
       "  <tbody>\n",
       "    <tr>\n",
       "      <th>14391</th>\n",
       "      <td>20718</td>\n",
       "      <td>Shop Heroes</td>\n",
       "      <td>[Role-playing game, Simulation Video Game, Free-to-play, Casual game, Massively Multiplayer, Strategy]</td>\n",
       "      <td>2018.0</td>\n",
       "      <td>This is a fun twist as the shop keeper sending heroes out to collect items (sending them on quests) in order to create new gear that can be sold to them!  Casual game, very enjoyable.</td>\n",
       "      <td>1</td>\n",
       "    </tr>\n",
       "    <tr>\n",
       "      <th>5913</th>\n",
       "      <td>8288</td>\n",
       "      <td>DCS World Steam Edition</td>\n",
       "      <td>[Free to Play, Simulation]</td>\n",
       "      <td>2015.0</td>\n",
       "      <td>oooof what can I say about this ga- I MEAN \"Simulator\"Ohhhhh booy this is nothing near the flying you do on Battlefield 4 and it is much MUCH more realistic than ARMA 3's \"Advanced Helicopter Flight Model\"This game will have the sweat going and the anger flowing because no matter how much you play this game you will and I repeat YOU WILL ♥♥♥♥ up in this gameYou WILL get ECM/ENGINE/WING whatever faliuresYou WILL get AIMed by NATO F-18sYou WILL get a small loan of a million 7.62s in your wings from APCsYou WILL always be pitching the elevation of your plane (People without flight sticks)You WILL always press the wrong button of on your keyboard from somethingYou WILL crash on takeoffYou WILL crash on landingYou WILL crash into other aircraftYou WILL crash into other vehiclesYou WILL crash in ATCsYou WILL do high G turns that rip the entire frame of your aircraft take it from me! with 112 mins of play time</td>\n",
       "      <td>1</td>\n",
       "    </tr>\n",
       "    <tr>\n",
       "      <th>17409</th>\n",
       "      <td>25455</td>\n",
       "      <td>School of Dragons</td>\n",
       "      <td>[Adventure, Free to Play, Massively Multiplayer, RPG]</td>\n",
       "      <td>2018.0</td>\n",
       "      <td>this game is very fun, there is heaps to do, and it is super addictive. you can complete quests, collect dragons, explore, fight, fish, customise your own viking, and so much more! i would recomend this game to anyone who like how to train your dragon, or just mythical creatures.</td>\n",
       "      <td>1</td>\n",
       "    </tr>\n",
       "    <tr>\n",
       "      <th>13831</th>\n",
       "      <td>19775</td>\n",
       "      <td>Dreadnought</td>\n",
       "      <td>[Action, Free to Play, Massively Multiplayer]</td>\n",
       "      <td>2018.0</td>\n",
       "      <td>I've been playing the game for several years now as a tester, the gameplay is up to the standard of any competitive multiplayer you can name. It's matured to the point the balance changes are made with the aim of keeping things fresh instead of putting out fires. There are very few other games that can give you the same feeling that Dreadnought provides, and none that I've played recently. The visual aesthetics are fantastic, and with the Steam release the game now has audio to match that gravitas.I am a fan of the fluidity of the new UI introduced for the Steam release as well. It needs some refinement* but over all it is much slicker and more modern than the previous iteration. I reccommend this game to all fans of the vehicle shooter genre. It is familiar enough that anyone who has played Mech Warrior Online, Star Conflict, Fractured Space, Crossout, Roblox, etc. will be able to get into the hotseat right away. And at the same time it is a different beast altogether, I guarantee you'll enjoy the feeling of unstoppable power that comes with piloting a ship the size of a city block.*some resizing to follow PC UI conventions, higher res module icons, better menu mapping to reduce number of clicks needed, and get rid of that ugly \"Edit Ship\" button</td>\n",
       "      <td>1</td>\n",
       "    </tr>\n",
       "    <tr>\n",
       "      <th>1632</th>\n",
       "      <td>2096</td>\n",
       "      <td>Dota 2</td>\n",
       "      <td>[Action, Free to Play, Strategy]</td>\n",
       "      <td>2016.0</td>\n",
       "      <td>What is DOTA? It's very advanced and limitless game where no one learns all heroes to play at pro level. DOTA is for players who wants compatition, party games, play with friends, learn how to rage, be good at solo, play tournaments, league games, learn new languages and son on. Side effects may include...Blurred vision, memory loss, extreme paranoia, time displacement and rage.</td>\n",
       "      <td>1</td>\n",
       "    </tr>\n",
       "  </tbody>\n",
       "</table>\n",
       "</div>"
      ],
      "text/plain": [
       "       review_id                    title  \\\n",
       "14391      20718              Shop Heroes   \n",
       "5913        8288  DCS World Steam Edition   \n",
       "17409      25455        School of Dragons   \n",
       "13831      19775              Dreadnought   \n",
       "1632        2096                   Dota 2   \n",
       "\n",
       "                                                                                                         tags  \\\n",
       "14391  [Role-playing game, Simulation Video Game, Free-to-play, Casual game, Massively Multiplayer, Strategy]   \n",
       "5913                                                                               [Free to Play, Simulation]   \n",
       "17409                                                   [Adventure, Free to Play, Massively Multiplayer, RPG]   \n",
       "13831                                                           [Action, Free to Play, Massively Multiplayer]   \n",
       "1632                                                                         [Action, Free to Play, Strategy]   \n",
       "\n",
       "         year  \\\n",
       "14391  2018.0   \n",
       "5913   2015.0   \n",
       "17409  2018.0   \n",
       "13831  2018.0   \n",
       "1632   2016.0   \n",
       "\n",
       "                                                                                                                                                                                                                                                                                                                                                                                                                                                                                                                                                                                                                                                                                                                                                                                                                                                                                                                                                                                                                                                                                                                                                                                                                                                                                                               user_review  \\\n",
       "14391                                                                                                                                                                                                                                                                                                                                                                                                                                                                                                                                                                                                                                                                                                                                                                                                                                                                                                                                                                                                                                                                                                                              This is a fun twist as the shop keeper sending heroes out to collect items (sending them on quests) in order to create new gear that can be sold to them!  Casual game, very enjoyable.   \n",
       "5913                                                                                                                                                                                                                                                                                                                                                                  oooof what can I say about this ga- I MEAN \"Simulator\"Ohhhhh booy this is nothing near the flying you do on Battlefield 4 and it is much MUCH more realistic than ARMA 3's \"Advanced Helicopter Flight Model\"This game will have the sweat going and the anger flowing because no matter how much you play this game you will and I repeat YOU WILL ♥♥♥♥ up in this gameYou WILL get ECM/ENGINE/WING whatever faliuresYou WILL get AIMed by NATO F-18sYou WILL get a small loan of a million 7.62s in your wings from APCsYou WILL always be pitching the elevation of your plane (People without flight sticks)You WILL always press the wrong button of on your keyboard from somethingYou WILL crash on takeoffYou WILL crash on landingYou WILL crash into other aircraftYou WILL crash into other vehiclesYou WILL crash in ATCsYou WILL do high G turns that rip the entire frame of your aircraft take it from me! with 112 mins of play time   \n",
       "17409                                                                                                                                                                                                                                                                                                                                                                                                                                                                                                                                                                                                                                                                                                                                                                                                                                                                                                                                                                                                                             this game is very fun, there is heaps to do, and it is super addictive. you can complete quests, collect dragons, explore, fight, fish, customise your own viking, and so much more! i would recomend this game to anyone who like how to train your dragon, or just mythical creatures.   \n",
       "13831  I've been playing the game for several years now as a tester, the gameplay is up to the standard of any competitive multiplayer you can name. It's matured to the point the balance changes are made with the aim of keeping things fresh instead of putting out fires. There are very few other games that can give you the same feeling that Dreadnought provides, and none that I've played recently. The visual aesthetics are fantastic, and with the Steam release the game now has audio to match that gravitas.I am a fan of the fluidity of the new UI introduced for the Steam release as well. It needs some refinement* but over all it is much slicker and more modern than the previous iteration. I reccommend this game to all fans of the vehicle shooter genre. It is familiar enough that anyone who has played Mech Warrior Online, Star Conflict, Fractured Space, Crossout, Roblox, etc. will be able to get into the hotseat right away. And at the same time it is a different beast altogether, I guarantee you'll enjoy the feeling of unstoppable power that comes with piloting a ship the size of a city block.*some resizing to follow PC UI conventions, higher res module icons, better menu mapping to reduce number of clicks needed, and get rid of that ugly \"Edit Ship\" button   \n",
       "1632                                                                                                                                                                                                                                                                                                                                                                                                                                                                                                                                                                                                                                                                                                                                                                                                                                                                                                                         What is DOTA? It's very advanced and limitless game where no one learns all heroes to play at pro level. DOTA is for players who wants compatition, party games, play with friends, learn how to rage, be good at solo, play tournaments, league games, learn new languages and son on. Side effects may include...Blurred vision, memory loss, extreme paranoia, time displacement and rage.   \n",
       "\n",
       "       user_suggestion  \n",
       "14391                1  \n",
       "5913                 1  \n",
       "17409                1  \n",
       "13831                1  \n",
       "1632                 1  "
      ]
     },
     "execution_count": 5,
     "metadata": {},
     "output_type": "execute_result"
    }
   ],
   "source": [
    "# Now lets take a look at some of the random samples to see if it worked.\n",
    "data.sample(5)"
   ]
  },
  {
   "cell_type": "code",
   "execution_count": 6,
   "id": "0aa59ffd",
   "metadata": {},
   "outputs": [
    {
     "name": "stderr",
     "output_type": "stream",
     "text": [
      "2023-01-19 12:25:03.923756: I tensorflow/core/platform/cpu_feature_guard.cc:193] This TensorFlow binary is optimized with oneAPI Deep Neural Network Library (oneDNN) to use the following CPU instructions in performance-critical operations:  AVX2 FMA\n",
      "To enable them in other operations, rebuild TensorFlow with the appropriate compiler flags.\n"
     ]
    }
   ],
   "source": [
    "# Data processing for removing stop words, lemmatization and stemmming, and english-only.\n",
    "# Importing all relevant libraries and functions here\n",
    "import spacy #load spacy\n",
    "from sklearn.pipeline import Pipeline # pipelining pre-processing\n",
    "from spacy.lang.en import English\n",
    "nlp = spacy.load(\"en_core_web_sm\")\n",
    "tokenizer = nlp.tokenizer"
   ]
  },
  {
   "cell_type": "code",
   "execution_count": 7,
   "id": "188da1e7",
   "metadata": {},
   "outputs": [
    {
     "data": {
      "text/html": [
       "<div>\n",
       "<style scoped>\n",
       "    .dataframe tbody tr th:only-of-type {\n",
       "        vertical-align: middle;\n",
       "    }\n",
       "\n",
       "    .dataframe tbody tr th {\n",
       "        vertical-align: top;\n",
       "    }\n",
       "\n",
       "    .dataframe thead th {\n",
       "        text-align: right;\n",
       "    }\n",
       "</style>\n",
       "<table border=\"1\" class=\"dataframe\">\n",
       "  <thead>\n",
       "    <tr style=\"text-align: right;\">\n",
       "      <th></th>\n",
       "      <th>review_id</th>\n",
       "      <th>title</th>\n",
       "      <th>tags</th>\n",
       "      <th>year</th>\n",
       "      <th>user_review</th>\n",
       "      <th>user_suggestion</th>\n",
       "      <th>Tokens</th>\n",
       "    </tr>\n",
       "  </thead>\n",
       "  <tbody>\n",
       "    <tr>\n",
       "      <th>0</th>\n",
       "      <td>1</td>\n",
       "      <td>Spooky's Jump Scare Mansion</td>\n",
       "      <td>[Action, Adventure, Free to Play, Indie]</td>\n",
       "      <td>2016.0</td>\n",
       "      <td>I'm scared and hearing creepy voices.  So I'll pause for a moment and write a review while I wait for my heart beat to return to atleast somewhat calmer times.  This game is adorable and creepy like my happy tree friends but with the graphics sceme of my childhood (but more bubble and 'clean').  Hello 1990's.What charactes there are (that isnot trying to kill me) were likable and a bit odd.  I did do a few noob things though, such as:Oh look a class room full of ghosts from dead children, lets shine my flashlight on them and stand there staring at them..Or, hmm creepy music, I'll turn around and see if I can see what's chasing me.Never before in a game have I been this afraid of finding a locked door.</td>\n",
       "      <td>1</td>\n",
       "      <td>[I, 'm, scared, and, hearing, creepy, voices, .,  , So, I, 'll, pause, for, a, moment, and, write, a, review, while, I, wait, for, my, heart, beat, to, return, to, atleast, somewhat, calmer, times, .,  , This, game, is, adorable, and, creepy, like, my, happy, tree, friends, but, with, the, graphics, sceme, of, my, childhood, (, but, more, bubble, and, ', clean, ', ), .,  , Hello, 1990's, ., What, charactes, there, are, (, that, isnot, trying, to, kill, me, ), were, likable, and, a, bit, odd, .,  , I, did, do, a, few, noob, things, though, ,, such, as, ...]</td>\n",
       "    </tr>\n",
       "  </tbody>\n",
       "</table>\n",
       "</div>"
      ],
      "text/plain": [
       "   review_id                        title  \\\n",
       "0          1  Spooky's Jump Scare Mansion   \n",
       "\n",
       "                                       tags    year  \\\n",
       "0  [Action, Adventure, Free to Play, Indie]  2016.0   \n",
       "\n",
       "                                                                                                                                                                                                                                                                                                                                                                                                                                                                                                                                                                                                                                                                                                                              user_review  \\\n",
       "0  I'm scared and hearing creepy voices.  So I'll pause for a moment and write a review while I wait for my heart beat to return to atleast somewhat calmer times.  This game is adorable and creepy like my happy tree friends but with the graphics sceme of my childhood (but more bubble and 'clean').  Hello 1990's.What charactes there are (that isnot trying to kill me) were likable and a bit odd.  I did do a few noob things though, such as:Oh look a class room full of ghosts from dead children, lets shine my flashlight on them and stand there staring at them..Or, hmm creepy music, I'll turn around and see if I can see what's chasing me.Never before in a game have I been this afraid of finding a locked door.   \n",
       "\n",
       "   user_suggestion  \\\n",
       "0                1   \n",
       "\n",
       "                                                                                                                                                                                                                                                                                                                                                                                                                                                                                                                                                                               Tokens  \n",
       "0  [I, 'm, scared, and, hearing, creepy, voices, .,  , So, I, 'll, pause, for, a, moment, and, write, a, review, while, I, wait, for, my, heart, beat, to, return, to, atleast, somewhat, calmer, times, .,  , This, game, is, adorable, and, creepy, like, my, happy, tree, friends, but, with, the, graphics, sceme, of, my, childhood, (, but, more, bubble, and, ', clean, ', ), .,  , Hello, 1990's, ., What, charactes, there, are, (, that, isnot, trying, to, kill, me, ), were, likable, and, a, bit, odd, .,  , I, did, do, a, few, noob, things, though, ,, such, as, ...]  "
      ]
     },
     "execution_count": 7,
     "metadata": {},
     "output_type": "execute_result"
    }
   ],
   "source": [
    "#tokenization\n",
    "def create_tokenized_dataset(data):\n",
    "    tokens_list = []\n",
    "\n",
    "    for j in data['user_review']:\n",
    "#         tokens_list.append(word_tokenize(j))\n",
    "        spacy_tokens = [token.orth_ for token in tokenizer(j)]\n",
    "        tokens_list.append(spacy_tokens)\n",
    "    data['Tokens'] = tokens_list   \n",
    "    return data\n",
    "\n",
    "df = create_tokenized_dataset(data)\n",
    "df.head(1)"
   ]
  },
  {
   "cell_type": "code",
   "execution_count": 8,
   "id": "dd6ec271",
   "metadata": {},
   "outputs": [],
   "source": [
    "#define lemmatizer\n",
    "lemmatizer = WordNetLemmatizer()"
   ]
  },
  {
   "cell_type": "code",
   "execution_count": 9,
   "id": "6c401478",
   "metadata": {},
   "outputs": [],
   "source": [
    "#define stopwords\n",
    "stopWords = set(stopwords.words('english'))\n",
    "custom_stop = [\"'m\", \"'ll\", \"'s\", \"'re\", \"n't\", \"'ve\"]\n",
    "stop_words = set(list(stopWords) + custom_stop)"
   ]
  },
  {
   "cell_type": "code",
   "execution_count": 10,
   "id": "128f59da",
   "metadata": {},
   "outputs": [],
   "source": [
    "#define punctuation\n",
    "custom_punc = [\"``\", \"''\", \"--\", \"...\",\"♥\"]\n",
    "punctuation = set(list(string.punctuation) + custom_punc)"
   ]
  },
  {
   "cell_type": "code",
   "execution_count": 11,
   "id": "293f1526",
   "metadata": {},
   "outputs": [
    {
     "name": "stderr",
     "output_type": "stream",
     "text": [
      "[nltk_data] Downloading package words to\n",
      "[nltk_data]     /Users/soumyankar/nltk_data...\n",
      "[nltk_data]   Package words is already up-to-date!\n"
     ]
    }
   ],
   "source": [
    "# nltk for removing english words\n",
    "nltk.download('words')\n",
    "words = set(nltk.corpus.words.words())"
   ]
  },
  {
   "cell_type": "code",
   "execution_count": 12,
   "id": "9c46fcf7",
   "metadata": {},
   "outputs": [],
   "source": [
    "#data preprocessing: define functions\n",
    "\n",
    "# created a function to deal with that pesky steam heart emoticon\n",
    "# print(ord('♥'))\n",
    "def remove_steam_heart(tokens):\n",
    "    for token in tokens:\n",
    "        if len(token) == 1:\n",
    "            if(ord(token) == 9829): # 9829 is the unicode for the heart emoticon\n",
    "                tokens.remove(token)\n",
    "    return tokens\n",
    "\n",
    "#lower case\n",
    "def lower_case(tokens):\n",
    "    tokens = [token.lower() for token in tokens]\n",
    "    return tokens\n",
    "\n",
    "#remove stopwords\n",
    "def remove_stopwords(tokens):\n",
    "#     tokens = [token for token in tokens if token not in stop_words]\n",
    "# Using the spacy stop words set instead of the english stop words\n",
    "    tokens = [token for token in tokens if token not in nlp.Defaults.stop_words]\n",
    "    return tokens\n",
    "\n",
    "#remove digits\n",
    "def remove_digits(tokens):\n",
    "    for token in tokens:\n",
    "        if token.isdigit():\n",
    "            tokens.remove(token)\n",
    "    return tokens\n",
    "\n",
    "#remove punctuation\n",
    "def remove_punctuation(tokens):\n",
    "    tokens = [token for token in tokens if token not in punctuation]\n",
    "    return tokens\n",
    "\n",
    "#lemmatization\n",
    "def lemmatize_words(tokens):\n",
    "    for token in range(len(tokens)):\n",
    "        tokens[token] = lemmatizer.lemmatize(tokens[token])\n",
    "    return tokens\n",
    "\n",
    "# Using nltk to word corpus to remove non-english words\n",
    "# this method seemed cheaper and easier than spacy? maybe lol\n",
    "def remove_non_english(tokens):\n",
    "    tokens = [token for token in tokens if token in words]\n",
    "    return tokens"
   ]
  },
  {
   "cell_type": "code",
   "execution_count": 13,
   "id": "5d8fcbb1",
   "metadata": {},
   "outputs": [],
   "source": [
    "#data preprocessing function\n",
    "def data_preprocess(tokens):\n",
    "    new_tokens = lower_case(tokens)\n",
    "    new_tokens = remove_steam_heart(new_tokens)\n",
    "    new_tokens = remove_non_english(new_tokens)\n",
    "    new_tokens = remove_stopwords(new_tokens)\n",
    "    new_tokens = remove_digits(new_tokens)\n",
    "    new_tokens = remove_punctuation(new_tokens)\n",
    "    new_tokens = lemmatize_words(new_tokens)\n",
    "    return new_tokens\n",
    "    \n",
    "list_of_process_tokens = []\n",
    "for i in df['Tokens']:\n",
    "    list_of_process_tokens.append(data_preprocess(i))"
   ]
  },
  {
   "cell_type": "code",
   "execution_count": 14,
   "id": "d3e92de6",
   "metadata": {},
   "outputs": [],
   "source": [
    "df['ProcessTokens'] = list_of_process_tokens"
   ]
  },
  {
   "cell_type": "code",
   "execution_count": 15,
   "id": "63e20d7e",
   "metadata": {},
   "outputs": [],
   "source": [
    "# making the word soup column\n",
    "for index,row in df.iterrows():\n",
    "    current_row_soup = []\n",
    "    current_row_tags = list(map(str.lower,row['tags']))\n",
    "    if len(row['ProcessTokens']):\n",
    "        current_row_soup = list(row['ProcessTokens'] + current_row_tags)\n",
    "    else:\n",
    "        current_row_soup = current_row_tags\n",
    "    current_row_soup = ' '.join(map(str, current_row_soup))\n",
    "    df.loc[index, 'soup'] = current_row_soup"
   ]
  },
  {
   "cell_type": "code",
   "execution_count": 16,
   "id": "535b8e44",
   "metadata": {},
   "outputs": [],
   "source": [
    "#Converting the datatype of processtokens fromm list to string, so that our vectorization works right.\n",
    "df['ProcessTokens'] = df['ProcessTokens'].astype(\"string\")"
   ]
  },
  {
   "cell_type": "code",
   "execution_count": 17,
   "id": "07947736",
   "metadata": {},
   "outputs": [],
   "source": [
    "# making a new column for word soup\n",
    "if 'soup' not in df.columns:\n",
    "    df.insert(6,'soup', \"\")"
   ]
  },
  {
   "cell_type": "code",
   "execution_count": 35,
   "id": "0fbf712e",
   "metadata": {},
   "outputs": [
    {
     "ename": "ValueError",
     "evalue": "Please enter a value for `frac` OR `n`, not both",
     "output_type": "error",
     "traceback": [
      "\u001b[0;31m---------------------------------------------------------------------------\u001b[0m",
      "\u001b[0;31mValueError\u001b[0m                                Traceback (most recent call last)",
      "Cell \u001b[0;32mIn [35], line 1\u001b[0m\n\u001b[0;32m----> 1\u001b[0m \u001b[43mdf\u001b[49m\u001b[38;5;241;43m.\u001b[39;49m\u001b[43msample\u001b[49m\u001b[43m(\u001b[49m\u001b[38;5;241;43m2\u001b[39;49m\u001b[43m,\u001b[49m\u001b[43m \u001b[49m\u001b[38;5;124;43m'\u001b[39;49m\u001b[38;5;124;43mtitle\u001b[39;49m\u001b[38;5;124;43m'\u001b[39;49m\u001b[38;5;241;43m==\u001b[39;49m\u001b[38;5;124;43m'\u001b[39;49m\u001b[38;5;124;43mElsword\u001b[39;49m\u001b[38;5;124;43m'\u001b[39;49m\u001b[43m)\u001b[49m\n",
      "File \u001b[0;32m~/.pyenv/versions/miniconda3-latest/lib/python3.9/site-packages/pandas/core/generic.py:5438\u001b[0m, in \u001b[0;36mNDFrame.sample\u001b[0;34m(self, n, frac, replace, weights, random_state, axis, ignore_index)\u001b[0m\n\u001b[1;32m   5435\u001b[0m \u001b[38;5;66;03m# Process random_state argument\u001b[39;00m\n\u001b[1;32m   5436\u001b[0m rs \u001b[38;5;241m=\u001b[39m com\u001b[38;5;241m.\u001b[39mrandom_state(random_state)\n\u001b[0;32m-> 5438\u001b[0m size \u001b[38;5;241m=\u001b[39m \u001b[43msample\u001b[49m\u001b[38;5;241;43m.\u001b[39;49m\u001b[43mprocess_sampling_size\u001b[49m\u001b[43m(\u001b[49m\u001b[43mn\u001b[49m\u001b[43m,\u001b[49m\u001b[43m \u001b[49m\u001b[43mfrac\u001b[49m\u001b[43m,\u001b[49m\u001b[43m \u001b[49m\u001b[43mreplace\u001b[49m\u001b[43m)\u001b[49m\n\u001b[1;32m   5439\u001b[0m \u001b[38;5;28;01mif\u001b[39;00m size \u001b[38;5;129;01mis\u001b[39;00m \u001b[38;5;28;01mNone\u001b[39;00m:\n\u001b[1;32m   5440\u001b[0m     \u001b[38;5;28;01massert\u001b[39;00m frac \u001b[38;5;129;01mis\u001b[39;00m \u001b[38;5;129;01mnot\u001b[39;00m \u001b[38;5;28;01mNone\u001b[39;00m\n",
      "File \u001b[0;32m~/.pyenv/versions/miniconda3-latest/lib/python3.9/site-packages/pandas/core/sample.py:92\u001b[0m, in \u001b[0;36mprocess_sampling_size\u001b[0;34m(n, frac, replace)\u001b[0m\n\u001b[1;32m     90\u001b[0m     n \u001b[38;5;241m=\u001b[39m \u001b[38;5;241m1\u001b[39m\n\u001b[1;32m     91\u001b[0m \u001b[38;5;28;01melif\u001b[39;00m n \u001b[38;5;129;01mis\u001b[39;00m \u001b[38;5;129;01mnot\u001b[39;00m \u001b[38;5;28;01mNone\u001b[39;00m \u001b[38;5;129;01mand\u001b[39;00m frac \u001b[38;5;129;01mis\u001b[39;00m \u001b[38;5;129;01mnot\u001b[39;00m \u001b[38;5;28;01mNone\u001b[39;00m:\n\u001b[0;32m---> 92\u001b[0m     \u001b[38;5;28;01mraise\u001b[39;00m \u001b[38;5;167;01mValueError\u001b[39;00m(\u001b[38;5;124m\"\u001b[39m\u001b[38;5;124mPlease enter a value for `frac` OR `n`, not both\u001b[39m\u001b[38;5;124m\"\u001b[39m)\n\u001b[1;32m     93\u001b[0m \u001b[38;5;28;01melif\u001b[39;00m n \u001b[38;5;129;01mis\u001b[39;00m \u001b[38;5;129;01mnot\u001b[39;00m \u001b[38;5;28;01mNone\u001b[39;00m:\n\u001b[1;32m     94\u001b[0m     \u001b[38;5;28;01mif\u001b[39;00m n \u001b[38;5;241m<\u001b[39m \u001b[38;5;241m0\u001b[39m:\n",
      "\u001b[0;31mValueError\u001b[0m: Please enter a value for `frac` OR `n`, not both"
     ]
    }
   ],
   "source": [
    "df.sample(2)"
   ]
  },
  {
   "cell_type": "code",
   "execution_count": 30,
   "id": "3dc4ab95",
   "metadata": {},
   "outputs": [],
   "source": [
    "def getSearchTerms():\n",
    "    genres = ['Action', 'Adventure', 'Casual', 'Free to Play', 'Massively Multiplayer', 'RPG']\n",
    "    review1 = [\"I love plains of eidolon, let's remove every mission in the game and put their rewards in the plains so we can play max range nova every game.\"]\n",
    "    review2 = []\n",
    "    review3 = []\n",
    "    searchTerms = genres + review1 + review2 + review3\n",
    "    \n",
    "    searchTerms = \" \".join(map(str, searchTerms))\n",
    "    searchTerms = searchTerms.lower()\n",
    "    return searchTerms"
   ]
  },
  {
   "cell_type": "code",
   "execution_count": 31,
   "id": "0d6ae582",
   "metadata": {},
   "outputs": [],
   "source": [
    "from sklearn.feature_extraction.text import CountVectorizer\n",
    "from sklearn.metrics.pairwise import cosine_similarity\n",
    "from itertools import chain\n",
    "\n",
    "def make_recommendation(df=df):\n",
    "    new_row = df.iloc[-1,:].copy() #creating a copy of the last row of the \n",
    "    #dataset, which we will use to input the user's input\n",
    "\n",
    "    #grabbing the new wordsoup from the user\n",
    "    searchTerms = getSearchTerms()\n",
    "    new_row['soup'] = searchTerms\n",
    "    new_row['title'] = 'UserInput'\n",
    "\n",
    "    #adding the new row to the dataset\n",
    "    df = df.append(new_row)\n",
    "#     df.iloc[-1] = searchTerms #adding the input to our new row\n",
    "\n",
    "    #Vectorizing the entire matrix as described above!\n",
    "    count = CountVectorizer(stop_words='english')\n",
    "    count_matrix = count.fit_transform(df['soup'])\n",
    "\n",
    "    #running pairwise cosine similarity \n",
    "    cosine_sim2 = cosine_similarity(count_matrix, count_matrix) #getting a similarity matrix\n",
    "\n",
    "    #sorting cosine similarities by highest to lowest\n",
    "    sim_scores = list(enumerate(cosine_sim2[-1,:]))\n",
    "    sim_scores = sorted(sim_scores, key=lambda x: x[1], reverse=True)\n",
    "    #matching the similarities to the movie titles and ids\n",
    "    #   ranked_titles = []\n",
    "    #   for i in range(1, 11):\n",
    "    #     indx = sim_scores[i][0]\n",
    "    #     ranked_titles.append([df['title'].iloc[indx], df['soup'].iloc[indx]])\n",
    "    i = 10\n",
    "    inc = 1 # we start from the 1-th row because, the 0th row is the input itself. dont want that.\n",
    "    \n",
    "    ranked_titles = []\n",
    "    while i>=0:\n",
    "        indx = sim_scores[inc][0]\n",
    "        inc = inc + 1\n",
    "        current_title = df['title'].iloc[indx]\n",
    "        if(current_title == 'UserInput'):\n",
    "            continue\n",
    "        if(current_title not in chain(*ranked_titles)):\n",
    "            ranked_titles.append([df['title'].iloc[indx], sim_scores[inc-1][1]])\n",
    "            i = i - 1\n",
    "\n",
    "    return ranked_titles"
   ]
  },
  {
   "cell_type": "code",
   "execution_count": 32,
   "id": "979ddf43",
   "metadata": {
    "scrolled": true
   },
   "outputs": [
    {
     "name": "stderr",
     "output_type": "stream",
     "text": [
      "/var/folders/r3/y82b8vjs51z3zz5mznqcwwbc0000gn/T/ipykernel_32859/2116405780.py:15: FutureWarning: The frame.append method is deprecated and will be removed from pandas in a future version. Use pandas.concat instead.\n",
      "  df = df.append(new_row)\n"
     ]
    },
    {
     "data": {
      "text/plain": [
       "[['Neverwinter', 0.9354143466934851],\n",
       " ['Creativerse', 0.8944271909999159],\n",
       " ['Elsword', 0.882522608121828],\n",
       " ['Path of Exile', 0.8749999999999999],\n",
       " ['Bless Online', 0.8660254037844387],\n",
       " ['School of Dragons', 0.8660254037844387],\n",
       " ['Realm of the Mad God', 0.801783725737273],\n",
       " ['Infestation: The New Z', 0.801783725737273],\n",
       " ['World of Tanks Blitz', 0.7905694150420948],\n",
       " ['PlanetSide 2', 0.7905694150420948],\n",
       " ['Trove', 0.7559289460184545]]"
      ]
     },
     "metadata": {},
     "output_type": "display_data"
    },
    {
     "name": "stdout",
     "output_type": "stream",
     "text": [
      "--- 16.059356927871704 seconds ---\n"
     ]
    }
   ],
   "source": [
    "import time\n",
    "start_time = time.time()\n",
    "#let's try our recommendation function now\n",
    "user_recs = make_recommendation()\n",
    "display(user_recs)\n",
    "print(\"--- %s seconds ---\" % (time.time() - start_time))"
   ]
  }
 ],
 "metadata": {
  "kernelspec": {
   "display_name": "Python 3 (ipykernel)",
   "language": "python",
   "name": "python3"
  },
  "language_info": {
   "codemirror_mode": {
    "name": "ipython",
    "version": 3
   },
   "file_extension": ".py",
   "mimetype": "text/x-python",
   "name": "python",
   "nbconvert_exporter": "python",
   "pygments_lexer": "ipython3",
   "version": "3.9.12"
  }
 },
 "nbformat": 4,
 "nbformat_minor": 5
}
