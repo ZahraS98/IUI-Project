{
 "cells": [
  {
   "cell_type": "code",
   "execution_count": 1,
   "id": "45b06cf9-aa4d-45e0-a1d0-f85cf56e331a",
   "metadata": {},
   "outputs": [
    {
     "name": "stderr",
     "output_type": "stream",
     "text": [
      "[nltk_data] Downloading package stopwords to\n",
      "[nltk_data]     /Users/soumyankar/nltk_data...\n",
      "[nltk_data]   Package stopwords is already up-to-date!\n"
     ]
    }
   ],
   "source": [
    "#import necessary libraries\n",
    "import pandas as pd\n",
    "import nltk\n",
    "from nltk.tokenize import word_tokenize\n",
    "nltk.download('stopwords')\n",
    "from nltk.corpus import stopwords\n",
    "import string\n",
    "from nltk.stem import WordNetLemmatizer\n",
    "from sklearn.feature_extraction.text import TfidfVectorizer\n",
    "from sklearn.feature_extraction.text import CountVectorizer"
   ]
  },
  {
   "cell_type": "code",
   "execution_count": 2,
   "id": "c3c3e8e2-7579-4ca0-949d-a7a336abdd4a",
   "metadata": {},
   "outputs": [
    {
     "data": {
      "text/html": [
       "<div>\n",
       "<style scoped>\n",
       "    .dataframe tbody tr th:only-of-type {\n",
       "        vertical-align: middle;\n",
       "    }\n",
       "\n",
       "    .dataframe tbody tr th {\n",
       "        vertical-align: top;\n",
       "    }\n",
       "\n",
       "    .dataframe thead th {\n",
       "        text-align: right;\n",
       "    }\n",
       "</style>\n",
       "<table border=\"1\" class=\"dataframe\">\n",
       "  <thead>\n",
       "    <tr style=\"text-align: right;\">\n",
       "      <th></th>\n",
       "      <th>review_id</th>\n",
       "      <th>title</th>\n",
       "      <th>year</th>\n",
       "      <th>user_review</th>\n",
       "      <th>user_suggestion</th>\n",
       "    </tr>\n",
       "  </thead>\n",
       "  <tbody>\n",
       "    <tr>\n",
       "      <th>0</th>\n",
       "      <td>1</td>\n",
       "      <td>Spooky's Jump Scare Mansion</td>\n",
       "      <td>2016.0</td>\n",
       "      <td>I'm scared and hearing creepy voices.  So I'll pause for a moment and write a review while I wait for my heart beat to return to atleast somewhat calmer times.  This game is adorable and creepy like my happy tree friends but with the graphics sceme of my childhood (but more bubble and 'clean').  Hello 1990's.What charactes there are (that isnot trying to kill me) were likable and a bit odd.  I did do a few noob things though, such as:Oh look a class room full of ghosts from dead children, lets shine my flashlight on them and stand there staring at them..Or, hmm creepy music, I'll turn around and see if I can see what's chasing me.Never before in a game have I been this afraid of finding a locked door.</td>\n",
       "      <td>1</td>\n",
       "    </tr>\n",
       "    <tr>\n",
       "      <th>1</th>\n",
       "      <td>2</td>\n",
       "      <td>Spooky's Jump Scare Mansion</td>\n",
       "      <td>2016.0</td>\n",
       "      <td>Best game, more better than Sam Pepper's YouTube account. 10/10What you'll need to play:A computerSome extra pants.Pros:Scary as hell.Fun.Adventure.Spooky.Did I forgot to mention that its scary as hell?You'll get more pants/briefs in your wardrobe.Time consuming if you're bored.Cons:Buying pants/briefs. You haven't downloaded it yet.</td>\n",
       "      <td>1</td>\n",
       "    </tr>\n",
       "  </tbody>\n",
       "</table>\n",
       "</div>"
      ],
      "text/plain": [
       "   review_id                        title    year  \\\n",
       "0          1  Spooky's Jump Scare Mansion  2016.0   \n",
       "1          2  Spooky's Jump Scare Mansion  2016.0   \n",
       "\n",
       "                                                                                                                                                                                                                                                                                                                                                                                                                                                                                                                                                                                                                                                                                                                              user_review  \\\n",
       "0  I'm scared and hearing creepy voices.  So I'll pause for a moment and write a review while I wait for my heart beat to return to atleast somewhat calmer times.  This game is adorable and creepy like my happy tree friends but with the graphics sceme of my childhood (but more bubble and 'clean').  Hello 1990's.What charactes there are (that isnot trying to kill me) were likable and a bit odd.  I did do a few noob things though, such as:Oh look a class room full of ghosts from dead children, lets shine my flashlight on them and stand there staring at them..Or, hmm creepy music, I'll turn around and see if I can see what's chasing me.Never before in a game have I been this afraid of finding a locked door.   \n",
       "1                                                                                                                                                                                                                                                                                                                                                                                         Best game, more better than Sam Pepper's YouTube account. 10/10What you'll need to play:A computerSome extra pants.Pros:Scary as hell.Fun.Adventure.Spooky.Did I forgot to mention that its scary as hell?You'll get more pants/briefs in your wardrobe.Time consuming if you're bored.Cons:Buying pants/briefs. You haven't downloaded it yet.   \n",
       "\n",
       "   user_suggestion  \n",
       "0                1  \n",
       "1                1  "
      ]
     },
     "execution_count": 2,
     "metadata": {},
     "output_type": "execute_result"
    }
   ],
   "source": [
    "#load the dataset\n",
    "pd.set_option('display.max_colwidth', None)\n",
    "data = pd.read_csv('Steam Game Review.csv')\n",
    "data.head(2)"
   ]
  },
  {
   "cell_type": "code",
   "execution_count": 3,
   "id": "18ef51d8-5e40-4451-b434-2ecb4c899020",
   "metadata": {},
   "outputs": [
    {
     "data": {
      "text/plain": [
       "(17494, 5)"
      ]
     },
     "execution_count": 3,
     "metadata": {},
     "output_type": "execute_result"
    }
   ],
   "source": [
    "#dataset facts\n",
    "data.shape"
   ]
  },
  {
   "cell_type": "code",
   "execution_count": 4,
   "id": "a67e2a74-b520-4a97-97da-6392446bcbc9",
   "metadata": {},
   "outputs": [
    {
     "data": {
      "text/plain": [
       "1    9968\n",
       "0    7526\n",
       "Name: user_suggestion, dtype: int64"
      ]
     },
     "execution_count": 4,
     "metadata": {},
     "output_type": "execute_result"
    }
   ],
   "source": [
    "#dataset facts\n",
    "data['user_suggestion'].value_counts()"
   ]
  },
  {
   "cell_type": "code",
   "execution_count": 5,
   "id": "216643b0-e7cd-49ac-b0cb-708cac9ba2cf",
   "metadata": {},
   "outputs": [
    {
     "data": {
      "text/plain": [
       "44"
      ]
     },
     "execution_count": 5,
     "metadata": {},
     "output_type": "execute_result"
    }
   ],
   "source": [
    "#dataset facts\n",
    "data['title'].nunique()"
   ]
  },
  {
   "cell_type": "code",
   "execution_count": 6,
   "id": "0bedf52d-4146-4ae7-828b-107e3c7828ab",
   "metadata": {},
   "outputs": [
    {
     "data": {
      "text/html": [
       "<div>\n",
       "<style scoped>\n",
       "    .dataframe tbody tr th:only-of-type {\n",
       "        vertical-align: middle;\n",
       "    }\n",
       "\n",
       "    .dataframe tbody tr th {\n",
       "        vertical-align: top;\n",
       "    }\n",
       "\n",
       "    .dataframe thead th {\n",
       "        text-align: right;\n",
       "    }\n",
       "</style>\n",
       "<table border=\"1\" class=\"dataframe\">\n",
       "  <thead>\n",
       "    <tr style=\"text-align: right;\">\n",
       "      <th></th>\n",
       "      <th>review_id</th>\n",
       "      <th>title</th>\n",
       "      <th>year</th>\n",
       "      <th>user_review</th>\n",
       "      <th>user_suggestion</th>\n",
       "      <th>Tokens</th>\n",
       "    </tr>\n",
       "  </thead>\n",
       "  <tbody>\n",
       "    <tr>\n",
       "      <th>0</th>\n",
       "      <td>1</td>\n",
       "      <td>Spooky's Jump Scare Mansion</td>\n",
       "      <td>2016.0</td>\n",
       "      <td>I'm scared and hearing creepy voices.  So I'll pause for a moment and write a review while I wait for my heart beat to return to atleast somewhat calmer times.  This game is adorable and creepy like my happy tree friends but with the graphics sceme of my childhood (but more bubble and 'clean').  Hello 1990's.What charactes there are (that isnot trying to kill me) were likable and a bit odd.  I did do a few noob things though, such as:Oh look a class room full of ghosts from dead children, lets shine my flashlight on them and stand there staring at them..Or, hmm creepy music, I'll turn around and see if I can see what's chasing me.Never before in a game have I been this afraid of finding a locked door.</td>\n",
       "      <td>1</td>\n",
       "      <td>[I, 'm, scared, and, hearing, creepy, voices, ., So, I, 'll, pause, for, a, moment, and, write, a, review, while, I, wait, for, my, heart, beat, to, return, to, atleast, somewhat, calmer, times, ., This, game, is, adorable, and, creepy, like, my, happy, tree, friends, but, with, the, graphics, sceme, of, my, childhood, (, but, more, bubble, and, 'clean, ', ), ., Hello, 1990's.What, charactes, there, are, (, that, isnot, trying, to, kill, me, ), were, likable, and, a, bit, odd, ., I, did, do, a, few, noob, things, though, ,, such, as, :, Oh, look, a, class, room, full, ...]</td>\n",
       "    </tr>\n",
       "  </tbody>\n",
       "</table>\n",
       "</div>"
      ],
      "text/plain": [
       "   review_id                        title    year  \\\n",
       "0          1  Spooky's Jump Scare Mansion  2016.0   \n",
       "\n",
       "                                                                                                                                                                                                                                                                                                                                                                                                                                                                                                                                                                                                                                                                                                                              user_review  \\\n",
       "0  I'm scared and hearing creepy voices.  So I'll pause for a moment and write a review while I wait for my heart beat to return to atleast somewhat calmer times.  This game is adorable and creepy like my happy tree friends but with the graphics sceme of my childhood (but more bubble and 'clean').  Hello 1990's.What charactes there are (that isnot trying to kill me) were likable and a bit odd.  I did do a few noob things though, such as:Oh look a class room full of ghosts from dead children, lets shine my flashlight on them and stand there staring at them..Or, hmm creepy music, I'll turn around and see if I can see what's chasing me.Never before in a game have I been this afraid of finding a locked door.   \n",
       "\n",
       "   user_suggestion  \\\n",
       "0                1   \n",
       "\n",
       "                                                                                                                                                                                                                                                                                                                                                                                                                                                                                                                                                                                                Tokens  \n",
       "0  [I, 'm, scared, and, hearing, creepy, voices, ., So, I, 'll, pause, for, a, moment, and, write, a, review, while, I, wait, for, my, heart, beat, to, return, to, atleast, somewhat, calmer, times, ., This, game, is, adorable, and, creepy, like, my, happy, tree, friends, but, with, the, graphics, sceme, of, my, childhood, (, but, more, bubble, and, 'clean, ', ), ., Hello, 1990's.What, charactes, there, are, (, that, isnot, trying, to, kill, me, ), were, likable, and, a, bit, odd, ., I, did, do, a, few, noob, things, though, ,, such, as, :, Oh, look, a, class, room, full, ...]  "
      ]
     },
     "execution_count": 6,
     "metadata": {},
     "output_type": "execute_result"
    }
   ],
   "source": [
    "#tokenization\n",
    "def create_tokenized_dataset(data):\n",
    "    tokens_list = []\n",
    "\n",
    "    for j in data['user_review']:\n",
    "        tokens_list.append(word_tokenize(j))\n",
    "    data['Tokens'] = tokens_list   \n",
    "    return data\n",
    "\n",
    "df = create_tokenized_dataset(data)\n",
    "df.head(1)"
   ]
  },
  {
   "cell_type": "code",
   "execution_count": 7,
   "id": "33f6d3a4-41b1-4c48-80eb-5a65b3434371",
   "metadata": {},
   "outputs": [],
   "source": [
    "#define lemmatizer\n",
    "lemmatizer = WordNetLemmatizer()"
   ]
  },
  {
   "cell_type": "code",
   "execution_count": 8,
   "id": "c10c7d2f-c6f6-4f31-b4ec-546831a1d6f0",
   "metadata": {},
   "outputs": [],
   "source": [
    "#define stopwords\n",
    "stopWords = set(stopwords.words('english'))\n",
    "custom_stop = [\"'m\", \"'ll\", \"'s\", \"'re\", \"n't\", \"'ve\"]\n",
    "stop_words = set(list(stopWords) + custom_stop)"
   ]
  },
  {
   "cell_type": "code",
   "execution_count": 9,
   "id": "2a6017c0-5425-4ee7-a0ef-990aacbbe53d",
   "metadata": {},
   "outputs": [],
   "source": [
    "#define punctuation\n",
    "custom_punc = [\"``\", \"''\", \"--\", \"...\"]\n",
    "punctuation = set(list(string.punctuation) + custom_punc)"
   ]
  },
  {
   "cell_type": "code",
   "execution_count": 10,
   "id": "26bab3cb-67f6-4f86-b89a-05770e444aed",
   "metadata": {},
   "outputs": [],
   "source": [
    "#data preprocessing: define functions\n",
    "\n",
    "#lower case\n",
    "def lower_case(tokens):\n",
    "    tokens = [token.lower() for token in tokens]\n",
    "    return tokens\n",
    "\n",
    "#remove stopwords\n",
    "def remove_stopwords(tokens):\n",
    "    tokens = [token for token in tokens if token not in stop_words]\n",
    "    return tokens\n",
    "\n",
    "#remove digits\n",
    "def remove_digits(tokens):\n",
    "    for token in tokens:\n",
    "        if token.isdigit():\n",
    "            tokens.remove(token)\n",
    "    return tokens\n",
    "\n",
    "#remove punctuation\n",
    "def remove_punctuation(tokens):\n",
    "    tokens = [token for token in tokens if token not in punctuation]\n",
    "    return tokens\n",
    "\n",
    "#lemmatization\n",
    "def lemmatize_words(tokens):\n",
    "    for token in range(len(tokens)):\n",
    "        tokens[token] = lemmatizer.lemmatize(tokens[token])\n",
    "    return tokens"
   ]
  },
  {
   "cell_type": "code",
   "execution_count": 11,
   "id": "ffa539c8-bfd8-4f92-a4de-c424ccfa2bee",
   "metadata": {},
   "outputs": [],
   "source": [
    "#data preprocessing function\n",
    "def data_preprocess(tokens):\n",
    "    new_tokens = lower_case(tokens)\n",
    "    new_tokens = remove_stopwords(new_tokens)\n",
    "    new_tokens = remove_digits(new_tokens)\n",
    "    new_tokens = remove_punctuation(new_tokens)\n",
    "    new_tokens = lemmatize_words(new_tokens)\n",
    "    return new_tokens\n",
    "    \n",
    "list_of_process_tokens = []\n",
    "for i in df['Tokens']:\n",
    "    list_of_process_tokens.append(data_preprocess(i))"
   ]
  },
  {
   "cell_type": "code",
   "execution_count": 12,
   "id": "49d5edc9-7ed6-4532-ba11-f0fc99eb7d1b",
   "metadata": {},
   "outputs": [
    {
     "data": {
      "text/html": [
       "<div>\n",
       "<style scoped>\n",
       "    .dataframe tbody tr th:only-of-type {\n",
       "        vertical-align: middle;\n",
       "    }\n",
       "\n",
       "    .dataframe tbody tr th {\n",
       "        vertical-align: top;\n",
       "    }\n",
       "\n",
       "    .dataframe thead th {\n",
       "        text-align: right;\n",
       "    }\n",
       "</style>\n",
       "<table border=\"1\" class=\"dataframe\">\n",
       "  <thead>\n",
       "    <tr style=\"text-align: right;\">\n",
       "      <th></th>\n",
       "      <th>review_id</th>\n",
       "      <th>title</th>\n",
       "      <th>year</th>\n",
       "      <th>user_review</th>\n",
       "      <th>user_suggestion</th>\n",
       "      <th>Tokens</th>\n",
       "      <th>ProcessTokens</th>\n",
       "    </tr>\n",
       "  </thead>\n",
       "  <tbody>\n",
       "    <tr>\n",
       "      <th>0</th>\n",
       "      <td>1</td>\n",
       "      <td>Spooky's Jump Scare Mansion</td>\n",
       "      <td>2016.0</td>\n",
       "      <td>I'm scared and hearing creepy voices.  So I'll pause for a moment and write a review while I wait for my heart beat to return to atleast somewhat calmer times.  This game is adorable and creepy like my happy tree friends but with the graphics sceme of my childhood (but more bubble and 'clean').  Hello 1990's.What charactes there are (that isnot trying to kill me) were likable and a bit odd.  I did do a few noob things though, such as:Oh look a class room full of ghosts from dead children, lets shine my flashlight on them and stand there staring at them..Or, hmm creepy music, I'll turn around and see if I can see what's chasing me.Never before in a game have I been this afraid of finding a locked door.</td>\n",
       "      <td>1</td>\n",
       "      <td>[I, 'm, scared, and, hearing, creepy, voices, ., So, I, 'll, pause, for, a, moment, and, write, a, review, while, I, wait, for, my, heart, beat, to, return, to, atleast, somewhat, calmer, times, ., This, game, is, adorable, and, creepy, like, my, happy, tree, friends, but, with, the, graphics, sceme, of, my, childhood, (, but, more, bubble, and, 'clean, ', ), ., Hello, 1990's.What, charactes, there, are, (, that, isnot, trying, to, kill, me, ), were, likable, and, a, bit, odd, ., I, did, do, a, few, noob, things, though, ,, such, as, :, Oh, look, a, class, room, full, ...]</td>\n",
       "      <td>[scared, hearing, creepy, voice, pause, moment, write, review, wait, heart, beat, return, atleast, somewhat, calmer, time, game, adorable, creepy, like, happy, tree, friend, graphic, sceme, childhood, bubble, 'clean, hello, 1990's.what, charactes, isnot, trying, kill, likable, bit, odd, noob, thing, though, oh, look, class, room, full, ghost, dead, child, let, shine, flashlight, stand, staring, .., hmm, creepy, music, turn, around, see, see, chasing, me.never, game, afraid, finding, locked, door]</td>\n",
       "    </tr>\n",
       "  </tbody>\n",
       "</table>\n",
       "</div>"
      ],
      "text/plain": [
       "   review_id                        title    year  \\\n",
       "0          1  Spooky's Jump Scare Mansion  2016.0   \n",
       "\n",
       "                                                                                                                                                                                                                                                                                                                                                                                                                                                                                                                                                                                                                                                                                                                              user_review  \\\n",
       "0  I'm scared and hearing creepy voices.  So I'll pause for a moment and write a review while I wait for my heart beat to return to atleast somewhat calmer times.  This game is adorable and creepy like my happy tree friends but with the graphics sceme of my childhood (but more bubble and 'clean').  Hello 1990's.What charactes there are (that isnot trying to kill me) were likable and a bit odd.  I did do a few noob things though, such as:Oh look a class room full of ghosts from dead children, lets shine my flashlight on them and stand there staring at them..Or, hmm creepy music, I'll turn around and see if I can see what's chasing me.Never before in a game have I been this afraid of finding a locked door.   \n",
       "\n",
       "   user_suggestion  \\\n",
       "0                1   \n",
       "\n",
       "                                                                                                                                                                                                                                                                                                                                                                                                                                                                                                                                                                                                Tokens  \\\n",
       "0  [I, 'm, scared, and, hearing, creepy, voices, ., So, I, 'll, pause, for, a, moment, and, write, a, review, while, I, wait, for, my, heart, beat, to, return, to, atleast, somewhat, calmer, times, ., This, game, is, adorable, and, creepy, like, my, happy, tree, friends, but, with, the, graphics, sceme, of, my, childhood, (, but, more, bubble, and, 'clean, ', ), ., Hello, 1990's.What, charactes, there, are, (, that, isnot, trying, to, kill, me, ), were, likable, and, a, bit, odd, ., I, did, do, a, few, noob, things, though, ,, such, as, :, Oh, look, a, class, room, full, ...]   \n",
       "\n",
       "                                                                                                                                                                                                                                                                                                                                                                                                                                                                                                           ProcessTokens  \n",
       "0  [scared, hearing, creepy, voice, pause, moment, write, review, wait, heart, beat, return, atleast, somewhat, calmer, time, game, adorable, creepy, like, happy, tree, friend, graphic, sceme, childhood, bubble, 'clean, hello, 1990's.what, charactes, isnot, trying, kill, likable, bit, odd, noob, thing, though, oh, look, class, room, full, ghost, dead, child, let, shine, flashlight, stand, staring, .., hmm, creepy, music, turn, around, see, see, chasing, me.never, game, afraid, finding, locked, door]  "
      ]
     },
     "execution_count": 12,
     "metadata": {},
     "output_type": "execute_result"
    }
   ],
   "source": [
    "df['ProcessTokens'] = list_of_process_tokens    \n",
    "df.head(1)"
   ]
  },
  {
   "cell_type": "code",
   "execution_count": 13,
   "id": "0122b2a4-f5ef-4f5c-8428-b285415e8a7e",
   "metadata": {},
   "outputs": [],
   "source": [
    "#JUST FOR FUN :)\n",
    "#most common words for each category (user_suggestion=1 OR user_suggestion=0)\n",
    "\n",
    "def words_frequency(data, rating_col, token_col, rating_nr):\n",
    "    all_rating_tokens = []\n",
    "    tokens = list(data[data[rating_col] == rating_nr][token_col])\n",
    "    for i in tokens:\n",
    "        for j in i:\n",
    "            all_rating_tokens.append(j)\n",
    "                \n",
    "    freq = nltk.FreqDist(all_rating_tokens)\n",
    "    print(freq.most_common()[0:20])\n",
    "    freq.plot(10, cumulative=False)\n",
    "    return freq, all_rating_tokens"
   ]
  },
  {
   "cell_type": "code",
   "execution_count": 14,
   "id": "6f89dfc6-7b9c-4b54-b247-5109a0f04363",
   "metadata": {},
   "outputs": [
    {
     "name": "stdout",
     "output_type": "stream",
     "text": [
      "[('game', 30920), ('like', 7249), ('play', 6682), ('get', 6296), ('good', 4579), ('time', 4416), ('fun', 4260), ('one', 4085), ('early', 3992), ('access', 3932), ('really', 3663), ('free', 3527), ('player', 3267), ('nope', 3235), ('great', 2938), ('make', 2881), ('would', 2840), ('playing', 2792), ('thing', 2707), ('even', 2689)]\n"
     ]
    },
    {
     "data": {
      "image/png": "[encoded data removed]",
      "text/plain": [
       "<Figure size 640x480 with 1 Axes>"
      ]
     },
     "metadata": {},
     "output_type": "display_data"
    }
   ],
   "source": [
    "freq, all_rating_tokens = words_frequency(df, 'user_suggestion', 'ProcessTokens', 1)"
   ]
  },
  {
   "cell_type": "code",
   "execution_count": 15,
   "id": "497e3b40-7d81-45f3-a118-ebfbb911bb81",
   "metadata": {},
   "outputs": [
    {
     "name": "stdout",
     "output_type": "stream",
     "text": [
      "[('game', 25022), ('get', 6026), ('play', 5107), ('like', 4763), ('time', 4282), ('even', 3657), ('one', 3266), ('player', 3159), ('access', 2960), ('good', 2949), ('early', 2898), ('money', 2832), ('make', 2714), ('would', 2597), ('fun', 2493), ('really', 2399), ('new', 2246), ('want', 2224), ('pay', 2213), ('thing', 2098)]\n"
     ]
    },
    {
     "data": {
      "image/png": "[encoded data removed]",
      "text/plain": [
       "<Figure size 640x480 with 1 Axes>"
      ]
     },
     "metadata": {},
     "output_type": "display_data"
    }
   ],
   "source": [
    "freq, all_rating_tokens = words_frequency(df, 'user_suggestion', 'ProcessTokens', 0)"
   ]
  },
  {
   "cell_type": "code",
   "execution_count": 16,
   "id": "1ff490cc-3296-4c27-8560-dcb54f42838e",
   "metadata": {},
   "outputs": [],
   "source": [
    "#define text vectorizers (I used two different ones, later we can decide which one we should continue with)\n",
    "count_vectorizer = CountVectorizer()\n",
    "tfidf_vectorizer = TfidfVectorizer()"
   ]
  },
  {
   "cell_type": "code",
   "execution_count": 17,
   "id": "76438feb",
   "metadata": {},
   "outputs": [],
   "source": [
    "#text vectorization with count_vectorizer\n",
    "def create_vectorized_dataset_count(data):\n",
    "    list_of_count_vectors = []\n",
    "    count_vectorizer.fit(data)\n",
    "\n",
    "    for i in data['ProcessTokens']:\n",
    "        count_vector = count_vectorizer.transform(i)\n",
    "        list_of_count_vectors.append(count_vector.toarray())\n",
    "    data['Count_Vectors'] = list_of_count_vectors   \n",
    "    return data\n",
    "\n",
    "df = create_vectorized_dataset_count(df)\n",
    "#df.head(1)"
   ]
  },
  {
   "cell_type": "code",
   "execution_count": 18,
   "id": "e8f4b007",
   "metadata": {},
   "outputs": [],
   "source": [
    "#text vectorization with tfidf_vectorizer\n",
    "def create_vectorized_dataset_tfidf(data):\n",
    "    list_of_tfidf_vectors = []\n",
    "    tfidf_vectorizer.fit(data)\n",
    "\n",
    "    for i in data['ProcessTokens']:\n",
    "        tfidf_vector = tfidf_vectorizer.transform(i)\n",
    "        list_of_tfidf_vectors.append(tfidf_vector.toarray())\n",
    "    data['TF-IDF_Vectors'] = list_of_tfidf_vectors   \n",
    "    return data\n",
    "\n",
    "df = create_vectorized_dataset_tfidf(df)\n",
    "#df.head(1)"
   ]
  },
  {
   "cell_type": "markdown",
   "id": "6b0ff8c3-1f0f-46ee-bebe-deef16a3beaf",
   "metadata": {},
   "source": [
    "NOTE: use either Count_Vector or TF-IDF_Vectors column as the input for ML models\n",
    "\n",
    "Next steps: \n",
    "1. define differnet ML models to work with\n",
    "2. split the dataset (either Count_Vector or TF-IDF_Vectors) into training and testing data\n",
    "3. fit the training data to the models\n",
    "4. make predictions\n",
    "\n",
    "Futher steps:\n",
    "\n",
    "5. evaluate each model using different evaluation methods (use the testing dataset for this)"
   ]
  },
  {
   "cell_type": "code",
   "execution_count": null,
   "id": "57253233-3da0-4666-989d-1e89dc1eb729",
   "metadata": {},
   "outputs": [],
   "source": []
  },
  {
   "cell_type": "code",
   "execution_count": null,
   "id": "37a5e816",
   "metadata": {},
   "outputs": [],
   "source": []
  }
 ],
 "metadata": {
  "kernelspec": {
   "display_name": "Python 3 (ipykernel)",
   "language": "python",
   "name": "python3"
  },
  "language_info": {
   "codemirror_mode": {
    "name": "ipython",
    "version": 3
   },
   "file_extension": ".py",
   "mimetype": "text/x-python",
   "name": "python",
   "nbconvert_exporter": "python",
   "pygments_lexer": "ipython3",
   "version": "3.9.12"
  }
 },
 "nbformat": 4,
 "nbformat_minor": 5
}
