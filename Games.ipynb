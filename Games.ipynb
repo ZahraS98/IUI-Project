{
 "cells": [
  {
   "cell_type": "code",
   "execution_count": 63,
   "id": "45b06cf9-aa4d-45e0-a1d0-f85cf56e331a",
   "metadata": {},
   "outputs": [
    {
     "name": "stderr",
     "output_type": "stream",
     "text": [
      "[nltk_data] Downloading package stopwords to\n",
      "[nltk_data]     /Users/soumyankar/nltk_data...\n",
      "[nltk_data]   Package stopwords is already up-to-date!\n"
     ]
    }
   ],
   "source": [
    "#import necessary libraries\n",
    "import pandas as pd\n",
    "import nltk\n",
    "import sys # needed this for certain print options during debugging\n",
    "import numpy as np #lmao why did we not have this before\n",
    "from nltk.tokenize import word_tokenize\n",
    "nltk.download('stopwords')\n",
    "from nltk.corpus import stopwords\n",
    "import string\n",
    "from nltk.stem import WordNetLemmatizer\n",
    "from sklearn.feature_extraction.text import TfidfVectorizer\n",
    "from sklearn.feature_extraction.text import CountVectorizer\n",
    "import matplotlib.pyplot as plt"
   ]
  },
  {
   "cell_type": "code",
   "execution_count": 42,
   "id": "c3c3e8e2-7579-4ca0-949d-a7a336abdd4a",
   "metadata": {},
   "outputs": [
    {
     "data": {
      "text/html": [
       "<div>\n",
       "<style scoped>\n",
       "    .dataframe tbody tr th:only-of-type {\n",
       "        vertical-align: middle;\n",
       "    }\n",
       "\n",
       "    .dataframe tbody tr th {\n",
       "        vertical-align: top;\n",
       "    }\n",
       "\n",
       "    .dataframe thead th {\n",
       "        text-align: right;\n",
       "    }\n",
       "</style>\n",
       "<table border=\"1\" class=\"dataframe\">\n",
       "  <thead>\n",
       "    <tr style=\"text-align: right;\">\n",
       "      <th></th>\n",
       "      <th>review_id</th>\n",
       "      <th>title</th>\n",
       "      <th>year</th>\n",
       "      <th>user_review</th>\n",
       "      <th>user_suggestion</th>\n",
       "    </tr>\n",
       "  </thead>\n",
       "  <tbody>\n",
       "    <tr>\n",
       "      <th>0</th>\n",
       "      <td>1</td>\n",
       "      <td>Spooky's Jump Scare Mansion</td>\n",
       "      <td>2016.0</td>\n",
       "      <td>I'm scared and hearing creepy voices.  So I'll pause for a moment and write a review while I wait for my heart beat to return to atleast somewhat calmer times.  This game is adorable and creepy like my happy tree friends but with the graphics sceme of my childhood (but more bubble and 'clean').  Hello 1990's.What charactes there are (that isnot trying to kill me) were likable and a bit odd.  I did do a few noob things though, such as:Oh look a class room full of ghosts from dead children, lets shine my flashlight on them and stand there staring at them..Or, hmm creepy music, I'll turn around and see if I can see what's chasing me.Never before in a game have I been this afraid of finding a locked door.</td>\n",
       "      <td>1</td>\n",
       "    </tr>\n",
       "    <tr>\n",
       "      <th>1</th>\n",
       "      <td>2</td>\n",
       "      <td>Spooky's Jump Scare Mansion</td>\n",
       "      <td>2016.0</td>\n",
       "      <td>Best game, more better than Sam Pepper's YouTube account. 10/10What you'll need to play:A computerSome extra pants.Pros:Scary as hell.Fun.Adventure.Spooky.Did I forgot to mention that its scary as hell?You'll get more pants/briefs in your wardrobe.Time consuming if you're bored.Cons:Buying pants/briefs. You haven't downloaded it yet.</td>\n",
       "      <td>1</td>\n",
       "    </tr>\n",
       "  </tbody>\n",
       "</table>\n",
       "</div>"
      ],
      "text/plain": [
       "   review_id                        title    year  \\\n",
       "0          1  Spooky's Jump Scare Mansion  2016.0   \n",
       "1          2  Spooky's Jump Scare Mansion  2016.0   \n",
       "\n",
       "                                                                                                                                                                                                                                                                                                                                                                                                                                                                                                                                                                                                                                                                                                                              user_review  \\\n",
       "0  I'm scared and hearing creepy voices.  So I'll pause for a moment and write a review while I wait for my heart beat to return to atleast somewhat calmer times.  This game is adorable and creepy like my happy tree friends but with the graphics sceme of my childhood (but more bubble and 'clean').  Hello 1990's.What charactes there are (that isnot trying to kill me) were likable and a bit odd.  I did do a few noob things though, such as:Oh look a class room full of ghosts from dead children, lets shine my flashlight on them and stand there staring at them..Or, hmm creepy music, I'll turn around and see if I can see what's chasing me.Never before in a game have I been this afraid of finding a locked door.   \n",
       "1                                                                                                                                                                                                                                                                                                                                                                                         Best game, more better than Sam Pepper's YouTube account. 10/10What you'll need to play:A computerSome extra pants.Pros:Scary as hell.Fun.Adventure.Spooky.Did I forgot to mention that its scary as hell?You'll get more pants/briefs in your wardrobe.Time consuming if you're bored.Cons:Buying pants/briefs. You haven't downloaded it yet.   \n",
       "\n",
       "   user_suggestion  \n",
       "0                1  \n",
       "1                1  "
      ]
     },
     "execution_count": 42,
     "metadata": {},
     "output_type": "execute_result"
    }
   ],
   "source": [
    "#load the dataset\n",
    "pd.set_option('display.max_colwidth', None)\n",
    "data = pd.read_csv('Steam Game Review.csv')\n",
    "# inserting a new column called tags\n",
    "# data.insert(2, 'tags', '')\n",
    "data.head(2)"
   ]
  },
  {
   "cell_type": "code",
   "execution_count": 14,
   "id": "18ef51d8-5e40-4451-b434-2ecb4c899020",
   "metadata": {},
   "outputs": [
    {
     "data": {
      "text/plain": [
       "(17494, 5)"
      ]
     },
     "execution_count": 14,
     "metadata": {},
     "output_type": "execute_result"
    }
   ],
   "source": [
    "#dataset facts\n",
    "data.shape"
   ]
  },
  {
   "cell_type": "code",
   "execution_count": 15,
   "id": "a67e2a74-b520-4a97-97da-6392446bcbc9",
   "metadata": {},
   "outputs": [
    {
     "data": {
      "text/plain": [
       "1    9968\n",
       "0    7526\n",
       "Name: user_suggestion, dtype: int64"
      ]
     },
     "execution_count": 15,
     "metadata": {},
     "output_type": "execute_result"
    }
   ],
   "source": [
    "#dataset facts\n",
    "data['user_suggestion'].value_counts()"
   ]
  },
  {
   "cell_type": "code",
   "execution_count": 16,
   "id": "216643b0-e7cd-49ac-b0cb-708cac9ba2cf",
   "metadata": {},
   "outputs": [
    {
     "data": {
      "text/plain": [
       "44"
      ]
     },
     "execution_count": 16,
     "metadata": {},
     "output_type": "execute_result"
    }
   ],
   "source": [
    "#dataset facts\n",
    "data['title'].nunique()"
   ]
  },
  {
   "cell_type": "code",
   "execution_count": 17,
   "id": "8f97e907",
   "metadata": {},
   "outputs": [
    {
     "data": {
      "text/plain": [
       "array([\"Spooky's Jump Scare Mansion\", 'Sakura Clicker', 'WARMODE',\n",
       "       'Fractured Space', 'Dota 2', 'Path of Exile', 'War Thunder',\n",
       "       'Ring of Elysium', 'Team Fortress 2', 'Yu-Gi-Oh! Duel Links',\n",
       "       'SMITE®', 'Brawlhalla', 'World of Tanks Blitz',\n",
       "       'DCS World Steam Edition', 'Heroes & Generals',\n",
       "       'The Elder Scrolls®: Legends™', 'Trove', 'Neverwinter',\n",
       "       'Realm Royale', 'PlanetSide 2', 'Realm of the Mad God', 'Elsword',\n",
       "       'theHunter Classic', 'Eternal Card Game', 'Black Squad',\n",
       "       'Freestyle 2: Street Basketball', 'Bless Online',\n",
       "       'RaceRoom Racing Experience', 'Fallout Shelter',\n",
       "       'Tactical Monsters Rumble Arena', 'Creativerse', 'Dreadnought',\n",
       "       'Infestation: The New Z', 'Shop Heroes', 'Robocraft',\n",
       "       'Business Tour - Board Game with Online Multiplayer',\n",
       "       'Crusaders of the Lost Idols', 'AdventureQuest 3D',\n",
       "       'Realm Grinder', 'World of Guns: Gun Disassembly',\n",
       "       'Bloons TD Battles', 'Cuisine Royale', 'School of Dragons',\n",
       "       'EverQuest II'], dtype=object)"
      ]
     },
     "execution_count": 17,
     "metadata": {},
     "output_type": "execute_result"
    }
   ],
   "source": [
    "# Adding tags to the games here\n",
    "data['title'].unique()"
   ]
  },
  {
   "cell_type": "code",
   "execution_count": 48,
   "id": "a7af6f3b",
   "metadata": {},
   "outputs": [],
   "source": [
    "# Now that we have about 44 games in unique, we will iterate through the dataset and add tags to them manually.\n",
    "# Oh, this will be a pain in the ass I think xdd\n",
    "\n",
    "# Now we'll iterate through the rows and start adding tags based on the 'title' column\n",
    "tags_cols = []\n",
    "for index, row in data.iterrows():\n",
    "    if(row['title'] == \"Spooky's Jump Scare Mansion\"):\n",
    "        tags_cols.append(['Action', 'Adventure', 'Free to Play', 'Indie'])\n",
    "    if(row['title'] == \"Sakura Clicker\"):\n",
    "        tags_cols.append(['Casual', 'Free to Play', 'Indie'])\n",
    "    if(row['title'] == \"WARMODE\"):\n",
    "        tags_cols.append(['Action', 'Free to Play'])\n",
    "    if(row['title'] == \"Fractured Space\"):\n",
    "        tags_cols.append(['Action', 'Indie', 'Early Access'])\n",
    "    if(row['title'] == \"Dota 2\"):\n",
    "        tags_cols.append(['Action', 'Free to Play', 'Strategy'])\n",
    "    if(row['title'] == \"Path of Exile\"):\n",
    "        tags_cols.append(['Action', 'Adventure', 'Free to Play', 'Indie', 'Massively Multiplayer', 'RPG'])\n",
    "    if(row['title'] == \"War Thunder\"):\n",
    "        tags_cols.append(['Action', 'Free to Play', 'Massively Multiplayer', 'Simulation'])\n",
    "    if(row['title'] == \"Ring of Elysium\"):\n",
    "        tags_cols.append(['Action', 'Free to Play', 'Massively Multiplayer'])\n",
    "    if(row['title'] == \"Team Fortress 2\"):\n",
    "        tags_cols.append(['Action', 'Free to Play'])\n",
    "    if(row['title'] == \"Yu-Gi-Oh! Duel Links\"):\n",
    "        tags_cols.append(['Free to Play', 'Strategy'])\n",
    "    if(row['title'] == \"SMITE®\"):\n",
    "        tags_cols.append(['Action', 'Free to Play'])\n",
    "    if(row['title'] == \"Brawlhalla\"):\n",
    "        tags_cols.append(['Action', 'Free to Play', 'Indie'])\n",
    "    if(row['title'] == \"World of Tanks Blitz\"):\n",
    "        tags_cols.append(['Action', 'Free to Play', 'Massively Multiplayer'])\n",
    "    if(row['title'] == \"DCS World Steam Edition\"):\n",
    "        tags_cols.append(['Free to Play', 'Simulation'])\n",
    "    if(row['title'] == \"Heroes & Generals\"):\n",
    "        tags_cols.append(['Action', 'Free to Play', 'Indie', 'Massively Multiplayer', 'Strategy'])\n",
    "    if(row['title'] == \"The Elder Scrolls®: Legends™\"):\n",
    "        tags_cols.append(['Free to Play'])\n",
    "    if(row['title'] == \"Trove\"):\n",
    "        tags_cols.append(['Action', 'Adventure', 'Casual', 'Free to Play', 'Massively Multiplayer', 'RPG'])\n",
    "    if(row['title'] == \"Neverwinter\"):\n",
    "        tags_cols.append(['Action', 'Adventure', 'Free to Play', 'Massively Multiplayer', 'RPG'])\n",
    "    if(row['title'] == \"Realm Royale\"):\n",
    "        tags_cols.append(['Action', 'Free to Play', 'Early Access'])\n",
    "    if(row['title'] == \"PlanetSide 2\"):\n",
    "        tags_cols.append(['Action', 'Free to Play', 'Massively Multiplayer'])\n",
    "    if(row['title'] == \"Realm of the Mad God\"):\n",
    "        tags_cols.append(['Action', 'Free to Play', 'Indie', 'Massively Multiplayer', 'RPG'])\n",
    "    if(row['title'] == \"Elsword\"):\n",
    "        tags_cols.append(['Action', 'Adventure', 'Casual', 'Free to Play', 'Massively Multiplayer', 'RPG'])\n",
    "    if(row['title'] == \"theHunter Classic\"):\n",
    "        tags_cols.append(['Action', 'Adventure', 'Free to Play', 'Simulation', 'Sports'])\n",
    "    if(row['title'] == \"Eternal Card Game\"):\n",
    "        tags_cols.append(['Casual', 'Free to Play', 'Massively Multiplayer', 'Strategy'])\n",
    "    if(row['title'] == \"Black Squad\"):\n",
    "        tags_cols.append(['Action', 'Free to Play'])\n",
    "    if(row['title'] == \"Freestyle 2: Street Basketball\"):\n",
    "        tags_cols.append(['Action, Casual', 'Free to Play', 'Massively Multiplayer', 'Sports'])\n",
    "    if(row['title'] == \"Bless Online\"):\n",
    "        tags_cols.append(['Action', 'Free to Play', 'Massively Multiplayer', 'RPG'])\n",
    "    if(row['title'] == \"RaceRoom Racing Experience\"):\n",
    "        tags_cols.append(['Free to Play', 'Racing', 'Simulation', 'Sports'])\n",
    "    if(row['title'] == \"Fallout Shelter\"):\n",
    "        tags_cols.append([' Free to Play', 'RPG', 'Simulation'])\n",
    "    if(row['title'] == \"Tactical Monsters Rumble Arena\"):\n",
    "        tags_cols.append(['Adventure', 'Free to Play', 'Indie', 'RPG', 'Strategy'])\n",
    "    if(row['title'] == \"Creativerse\"):\n",
    "        tags_cols.append(['Action', 'Adventure', 'Casual', 'Free to Play', 'Indie', 'Massively Multiplayer', 'RPG'])\n",
    "    if(row['title'] == \"Dreadnought\"):\n",
    "        tags_cols.append(['Action', 'Free to Play', 'Massively Multiplayer'])\n",
    "    if(row['title'] == \"Infestation: The New Z\"):\n",
    "        tags_cols.append(['Action', 'Free to Play', 'Indie', 'Massively Multiplayer', 'RPG'])\n",
    "    if(row['title'] == \"Shop Heroes\"):\n",
    "        tags_cols.append(['Role-playing game', 'Simulation Video Game', 'Free-to-play', 'Casual game', 'Massively Multiplayer', 'Strategy'])\n",
    "    if(row['title'] == \"Robocraft\"):\n",
    "        tags_cols.append(['Action', 'Free to Play', 'Indie', 'Massively Multiplayer', 'RPG', 'Simulation'])\n",
    "    if(row['title'] == \"Business Tour - Board Game with Online Multiplayer\"):\n",
    "        tags_cols.append(['Casual', 'Free to Play', 'Indie', 'Massively Multiplayer', 'Strategy'])\n",
    "    if(row['title'] == \"Crusaders of the Lost Idols\"):\n",
    "        tags_cols.append(['Casual', 'Free to Play', 'Indie'])\n",
    "    if(row['title'] == \"AdventureQuest 3D\"):\n",
    "        tags_cols.append(['Role-playing game', 'Free-to-play', 'Action game', 'Indie game', 'Casual game', 'Massively Multiplayer', 'Adventure'])\n",
    "    if(row['title'] == \"Realm Grinder\"):\n",
    "        tags_cols.append(['Free to Play', 'RPG', 'Strategy'])\n",
    "    if(row['title'] == \"World of Guns: Gun Disassembly\"):\n",
    "        tags_cols.append(['Free to Play', 'Indie', 'Simulation'])\n",
    "    if(row['title'] == \"Bloons TD Battles\"):\n",
    "        tags_cols.append(['Action', 'Free to Play', 'Strategy'])\n",
    "    if(row['title'] == \"Cuisine Royale\"):\n",
    "        tags_cols.append(['Action game', 'Free-to-play', 'Massively Multiplayer'])\n",
    "    if(row['title'] == \"School of Dragons\"):\n",
    "        tags_cols.append(['Adventure', 'Free to Play', 'Massively Multiplayer', 'RPG'])\n",
    "    if(row['title'] == \"EverQuest II\"):\n",
    "        tags_cols.append(['Free to Play', 'Massively Multiplayer', 'RPG'])"
   ]
  },
  {
   "cell_type": "code",
   "execution_count": 51,
   "id": "20881c40",
   "metadata": {},
   "outputs": [
    {
     "ename": "ValueError",
     "evalue": "cannot insert tags, already exists",
     "output_type": "error",
     "traceback": [
      "\u001b[0;31m---------------------------------------------------------------------------\u001b[0m",
      "\u001b[0;31mValueError\u001b[0m                                Traceback (most recent call last)",
      "Cell \u001b[0;32mIn [51], line 2\u001b[0m\n\u001b[1;32m      1\u001b[0m \u001b[38;5;66;03m# Now that we have added all the tags to our games, it is time to append it to our dataset.\u001b[39;00m\n\u001b[0;32m----> 2\u001b[0m \u001b[43mdata\u001b[49m\u001b[38;5;241;43m.\u001b[39;49m\u001b[43minsert\u001b[49m\u001b[43m(\u001b[49m\u001b[38;5;241;43m2\u001b[39;49m\u001b[43m,\u001b[49m\u001b[43m \u001b[49m\u001b[38;5;124;43m'\u001b[39;49m\u001b[38;5;124;43mtags\u001b[39;49m\u001b[38;5;124;43m'\u001b[39;49m\u001b[43m,\u001b[49m\u001b[43m \u001b[49m\u001b[43mtags_cols\u001b[49m\u001b[43m)\u001b[49m\n",
      "File \u001b[0;32m~/.pyenv/versions/miniconda3-latest/lib/python3.9/site-packages/pandas/core/frame.py:4443\u001b[0m, in \u001b[0;36mDataFrame.insert\u001b[0;34m(self, loc, column, value, allow_duplicates)\u001b[0m\n\u001b[1;32m   4437\u001b[0m     \u001b[38;5;28;01mraise\u001b[39;00m \u001b[38;5;167;01mValueError\u001b[39;00m(\n\u001b[1;32m   4438\u001b[0m         \u001b[38;5;124m\"\u001b[39m\u001b[38;5;124mCannot specify \u001b[39m\u001b[38;5;124m'\u001b[39m\u001b[38;5;124mallow_duplicates=True\u001b[39m\u001b[38;5;124m'\u001b[39m\u001b[38;5;124m when \u001b[39m\u001b[38;5;124m\"\u001b[39m\n\u001b[1;32m   4439\u001b[0m         \u001b[38;5;124m\"\u001b[39m\u001b[38;5;124m'\u001b[39m\u001b[38;5;124mself.flags.allows_duplicate_labels\u001b[39m\u001b[38;5;124m'\u001b[39m\u001b[38;5;124m is False.\u001b[39m\u001b[38;5;124m\"\u001b[39m\n\u001b[1;32m   4440\u001b[0m     )\n\u001b[1;32m   4441\u001b[0m \u001b[38;5;28;01mif\u001b[39;00m \u001b[38;5;129;01mnot\u001b[39;00m allow_duplicates \u001b[38;5;129;01mand\u001b[39;00m column \u001b[38;5;129;01min\u001b[39;00m \u001b[38;5;28mself\u001b[39m\u001b[38;5;241m.\u001b[39mcolumns:\n\u001b[1;32m   4442\u001b[0m     \u001b[38;5;66;03m# Should this be a different kind of error??\u001b[39;00m\n\u001b[0;32m-> 4443\u001b[0m     \u001b[38;5;28;01mraise\u001b[39;00m \u001b[38;5;167;01mValueError\u001b[39;00m(\u001b[38;5;124mf\u001b[39m\u001b[38;5;124m\"\u001b[39m\u001b[38;5;124mcannot insert \u001b[39m\u001b[38;5;132;01m{\u001b[39;00mcolumn\u001b[38;5;132;01m}\u001b[39;00m\u001b[38;5;124m, already exists\u001b[39m\u001b[38;5;124m\"\u001b[39m)\n\u001b[1;32m   4444\u001b[0m \u001b[38;5;28;01mif\u001b[39;00m \u001b[38;5;129;01mnot\u001b[39;00m \u001b[38;5;28misinstance\u001b[39m(loc, \u001b[38;5;28mint\u001b[39m):\n\u001b[1;32m   4445\u001b[0m     \u001b[38;5;28;01mraise\u001b[39;00m \u001b[38;5;167;01mTypeError\u001b[39;00m(\u001b[38;5;124m\"\u001b[39m\u001b[38;5;124mloc must be int\u001b[39m\u001b[38;5;124m\"\u001b[39m)\n",
      "\u001b[0;31mValueError\u001b[0m: cannot insert tags, already exists"
     ]
    }
   ],
   "source": [
    "# Now that we have added all the tags to our games, it is time to append it to our dataset.\n",
    "data.insert(2, 'tags', tags_cols)\n",
    "# !!ATTENTION!!\n",
    "# You might run into an error here, `cannot insert tags, already exists`. However, that just means that you have run this code once before. \n",
    "# Dont stress, to make sure that things are working, just look at thhe sample of the data and you should see all the tags."
   ]
  },
  {
   "cell_type": "code",
   "execution_count": 52,
   "id": "ddbdd23f",
   "metadata": {},
   "outputs": [
    {
     "data": {
      "text/html": [
       "<div>\n",
       "<style scoped>\n",
       "    .dataframe tbody tr th:only-of-type {\n",
       "        vertical-align: middle;\n",
       "    }\n",
       "\n",
       "    .dataframe tbody tr th {\n",
       "        vertical-align: top;\n",
       "    }\n",
       "\n",
       "    .dataframe thead th {\n",
       "        text-align: right;\n",
       "    }\n",
       "</style>\n",
       "<table border=\"1\" class=\"dataframe\">\n",
       "  <thead>\n",
       "    <tr style=\"text-align: right;\">\n",
       "      <th></th>\n",
       "      <th>review_id</th>\n",
       "      <th>title</th>\n",
       "      <th>tags</th>\n",
       "      <th>year</th>\n",
       "      <th>user_review</th>\n",
       "      <th>user_suggestion</th>\n",
       "    </tr>\n",
       "  </thead>\n",
       "  <tbody>\n",
       "    <tr>\n",
       "      <th>2100</th>\n",
       "      <td>2564</td>\n",
       "      <td>Path of Exile</td>\n",
       "      <td>[Action, Adventure, Free to Play, Indie, Massively Multiplayer, RPG]</td>\n",
       "      <td>2018.0</td>\n",
       "      <td>Yes. What Diablo 4 could be if Blizzard got their act together. Basically plays like Diablo 2 with a modern day MTX system for cosmetic stuff. The layout is similiar to Guild Wars 1 in that you have MMO-style gathering hubs with instanced areas just for you and your group.</td>\n",
       "      <td>1</td>\n",
       "    </tr>\n",
       "    <tr>\n",
       "      <th>12417</th>\n",
       "      <td>17914</td>\n",
       "      <td>RaceRoom Racing Experience</td>\n",
       "      <td>[Free to Play, Racing, Simulation, Sports]</td>\n",
       "      <td>2013.0</td>\n",
       "      <td>I think this game is one to watch. It really is a very high quality racing simulator especially considering it is free. A little too far down the realism spectrum for my liking though. The main problem is that there is no sense of accomplishment or incentive to keep playing. In most racing games you win races to unlock new tracks and cars which keeps you wanting to play on. But here you unlock new stuff by buying it. Also the races them self are just against the clock. There is very little sense of accomplishment from just moving a few places up the leader boards. So as I say I think this is one to keep an eye on as more content become available.</td>\n",
       "      <td>1</td>\n",
       "    </tr>\n",
       "    <tr>\n",
       "      <th>6512</th>\n",
       "      <td>8887</td>\n",
       "      <td>Heroes &amp; Generals</td>\n",
       "      <td>[Action, Free to Play, Indie, Massively Multiplayer, Strategy]</td>\n",
       "      <td>2017.0</td>\n",
       "      <td>Where does one start here? Like really.I have 69 hours or so on this game. However, I bought it about a month before the Soviets were added.That was when the game declined. It will probably never meet the greatness that this game was before the Soviets were added. I remember picking this game up and saying, \"Hey, this looks sweet.\" And it was! Germany and America dueling it out. Skirmishes was the best and both teams seemed to take turns winning wars. Simply because they both had good, experienced Generals/Officers.So what happened? Well the Soviet Union came in. And because the CoD generation of gamers exists, they went to the Soviets because of their stronkness. And so that team got flooded and everyone whined that they weren't good enough.Right off the bat, they had buffed spawn tickets and it seemed like they had good equipment. They needed this because it saved their lives. Then it took a dark turn. They lose every war in last place but win most of the skirmishes because of some stupid HP system and some really stupid OP weapons.Another major issue: TanksFirst off, I'd like to say that when you have a machine gun in the game cost just as much as a Tiger I, you've got issues. \"So, what is the MAIN issue?\" I hear you saying aloud as you read this. Well, the tanks are their own worst enemy. If you do what their supposed to do, support Infantry as they move from objective to objective, they get wrecked by an Anti-Tank Rambo with a motorcycle and some AT Grenades. So the tanks sit back and cut people in half with 75mm's, 85mm's, and 88mm's from a mile away. So, the infantry and paratroopers are caught with their pants around their ankles with their♥♥♥♥♥ which is mooning a taxi driver in NYC by the way, hanging in the breeze. So objectives just get traded until someone, eight hours later, wins.Tanks also get killed for staying still so it's a lose/lose situation if you pick that career option.Oh and it doesn't make a difference if you are driving in a Tiger II or an M4 Sherman, your♥♥♥♥♥is molasses as Sheriff Buford T. Justice would say.Planes are an absolute joke to fly. I can't seem to do it and others can. Fly Germany if you want wings on your chest I guess? I don't know. The P-38 seems like a stupid option for an aircraft. The P-51 and P-47 were more used than the P-38 for the game's intended purpose so why is this mediocre aircraft there?Paratrooper is the best career hands down. You can join the fight anywhere your plane flies and you get that sweet sweet M1A1 Carbine. Sniper's are OP but I guess that's their role so I don't know. OHK rifles, that ones the snipers get, are realistic but they seem limited to the bolt-action rifles. Most of which fire the same round as their \"starter rifle\" counter parts for brand new players. And these starter rifles take two or three shots to kill someone at medium to close range. So not realistic then.Infantry is where you'll get the most out of the game. The most weapons and vehicles for all purposes. Before AT mines were nerfed I would destroy two Tiger's in every life I had. Just place the mine below it's♥♥♥♥♥ run away, shoot the mine. And the whole thing just blew up. The most fun I had.The Soviets get no MG on their starter utility car/vehicle. So they are at a supreme disadvantage going against level 1 American or German motorized infantry.Currently, this game is turning to garbage update after update. People don't cooperate with teams at all. They just go out to score some Kills because....K/D's are more important.The playerbase is shrinking and no new players are coming because all of the good reviews are in the negative. Some good effort was poured into this game but ultimately, the developers didn't listen to the community. I think they should try again, but smooth things out before adding content.So, I give a negative review for Bicycle Simulator 2016.</td>\n",
       "      <td>0</td>\n",
       "    </tr>\n",
       "    <tr>\n",
       "      <th>5953</th>\n",
       "      <td>8328</td>\n",
       "      <td>DCS World Steam Edition</td>\n",
       "      <td>[Free to Play, Simulation]</td>\n",
       "      <td>2018.0</td>\n",
       "      <td>My question is when I launch the free play until I can buy a part of this simulation why do I see the whole thing reopen the program to never start a new account in this (DCS)? An why I can not use my desk top device to pull out the registry to the information to this account when it goes off screen and I can not adjust the whole thing to fit my desk top screen.</td>\n",
       "      <td>0</td>\n",
       "    </tr>\n",
       "    <tr>\n",
       "      <th>16104</th>\n",
       "      <td>23539</td>\n",
       "      <td>Realm Grinder</td>\n",
       "      <td>[Free to Play, RPG, Strategy]</td>\n",
       "      <td>2018.0</td>\n",
       "      <td>The best god damn clicker game out there.Pros:Great pixel graphicsFun and interesting challengesGood themeGreat progressionA lot to play throughCons:Some explanation might be needed sometimes</td>\n",
       "      <td>1</td>\n",
       "    </tr>\n",
       "  </tbody>\n",
       "</table>\n",
       "</div>"
      ],
      "text/plain": [
       "       review_id                       title  \\\n",
       "2100        2564               Path of Exile   \n",
       "12417      17914  RaceRoom Racing Experience   \n",
       "6512        8887           Heroes & Generals   \n",
       "5953        8328     DCS World Steam Edition   \n",
       "16104      23539               Realm Grinder   \n",
       "\n",
       "                                                                       tags  \\\n",
       "2100   [Action, Adventure, Free to Play, Indie, Massively Multiplayer, RPG]   \n",
       "12417                            [Free to Play, Racing, Simulation, Sports]   \n",
       "6512         [Action, Free to Play, Indie, Massively Multiplayer, Strategy]   \n",
       "5953                                             [Free to Play, Simulation]   \n",
       "16104                                         [Free to Play, RPG, Strategy]   \n",
       "\n",
       "         year  \\\n",
       "2100   2018.0   \n",
       "12417  2013.0   \n",
       "6512   2017.0   \n",
       "5953   2018.0   \n",
       "16104  2018.0   \n",
       "\n",
       "                                                                                                                                                                                                                                                                                                                                                                                                                                                                                                                                                                                                                                                                                                                                                                                                                                                                                                                                                                                                                                                                                                                                                                                                                                                                                                                                                                                                                                                                                                                                                                                                                                                                                                                                                                                                                                                                                                                                                                                                                                                                                                                                                                                                                                                                                                                                                                                                                                                                                                                                                                                                                                                                                                                                                                                                                                                                                                                                                                                                                                                                                                                                                                                                                                                                                                                                                                                                                                                                                                                                                                                                                                                                                                                                                                                                                                                                                                                                                                                                                             user_review  \\\n",
       "2100                                                                                                                                                                                                                                                                                                                                                                                                                                                                                                                                                                                                                                                                                                                                                                                                                                                                                                                                                                                                                                                                                                                                                                                                                                                                                                                                                                                                                                                                                                                                                                                                                                                                                                                                                                                                                                                                                                                                                                                                                                                                                                                                                                                                                                                                                                                                                                                                                                                                                                                                                                                                                                                                                                                                                                                                                                                                                                                                                                                                                                                                                                                                                                                                                                                                                                                                                                                                                                                                                                                                                                                                                                                                                                                                                   Yes. What Diablo 4 could be if Blizzard got their act together. Basically plays like Diablo 2 with a modern day MTX system for cosmetic stuff. The layout is similiar to Guild Wars 1 in that you have MMO-style gathering hubs with instanced areas just for you and your group.   \n",
       "12417                                                                                                                                                                                                                                                                                                                                                                                                                                                                                                                                                                                                                                                                                                                                                                                                                                                                                                                                                                                                                                                                                                                                                                                                                                                                                                                                                                                                                                                                                                                                                                                                                                                                                                                                                                                                                                                                                                                                                                                                                                                                                                                                                                                                                                                                                                                                                                                                                                                                                                                                                                                                                                                                                                                                                                                                                                                                                                                                                                                                                                                                                                                                                                                                                                                                                                                                                     I think this game is one to watch. It really is a very high quality racing simulator especially considering it is free. A little too far down the realism spectrum for my liking though. The main problem is that there is no sense of accomplishment or incentive to keep playing. In most racing games you win races to unlock new tracks and cars which keeps you wanting to play on. But here you unlock new stuff by buying it. Also the races them self are just against the clock. There is very little sense of accomplishment from just moving a few places up the leader boards. So as I say I think this is one to keep an eye on as more content become available.   \n",
       "6512   Where does one start here? Like really.I have 69 hours or so on this game. However, I bought it about a month before the Soviets were added.That was when the game declined. It will probably never meet the greatness that this game was before the Soviets were added. I remember picking this game up and saying, \"Hey, this looks sweet.\" And it was! Germany and America dueling it out. Skirmishes was the best and both teams seemed to take turns winning wars. Simply because they both had good, experienced Generals/Officers.So what happened? Well the Soviet Union came in. And because the CoD generation of gamers exists, they went to the Soviets because of their stronkness. And so that team got flooded and everyone whined that they weren't good enough.Right off the bat, they had buffed spawn tickets and it seemed like they had good equipment. They needed this because it saved their lives. Then it took a dark turn. They lose every war in last place but win most of the skirmishes because of some stupid HP system and some really stupid OP weapons.Another major issue: TanksFirst off, I'd like to say that when you have a machine gun in the game cost just as much as a Tiger I, you've got issues. \"So, what is the MAIN issue?\" I hear you saying aloud as you read this. Well, the tanks are their own worst enemy. If you do what their supposed to do, support Infantry as they move from objective to objective, they get wrecked by an Anti-Tank Rambo with a motorcycle and some AT Grenades. So the tanks sit back and cut people in half with 75mm's, 85mm's, and 88mm's from a mile away. So, the infantry and paratroopers are caught with their pants around their ankles with their♥♥♥♥♥ which is mooning a taxi driver in NYC by the way, hanging in the breeze. So objectives just get traded until someone, eight hours later, wins.Tanks also get killed for staying still so it's a lose/lose situation if you pick that career option.Oh and it doesn't make a difference if you are driving in a Tiger II or an M4 Sherman, your♥♥♥♥♥is molasses as Sheriff Buford T. Justice would say.Planes are an absolute joke to fly. I can't seem to do it and others can. Fly Germany if you want wings on your chest I guess? I don't know. The P-38 seems like a stupid option for an aircraft. The P-51 and P-47 were more used than the P-38 for the game's intended purpose so why is this mediocre aircraft there?Paratrooper is the best career hands down. You can join the fight anywhere your plane flies and you get that sweet sweet M1A1 Carbine. Sniper's are OP but I guess that's their role so I don't know. OHK rifles, that ones the snipers get, are realistic but they seem limited to the bolt-action rifles. Most of which fire the same round as their \"starter rifle\" counter parts for brand new players. And these starter rifles take two or three shots to kill someone at medium to close range. So not realistic then.Infantry is where you'll get the most out of the game. The most weapons and vehicles for all purposes. Before AT mines were nerfed I would destroy two Tiger's in every life I had. Just place the mine below it's♥♥♥♥♥ run away, shoot the mine. And the whole thing just blew up. The most fun I had.The Soviets get no MG on their starter utility car/vehicle. So they are at a supreme disadvantage going against level 1 American or German motorized infantry.Currently, this game is turning to garbage update after update. People don't cooperate with teams at all. They just go out to score some Kills because....K/D's are more important.The playerbase is shrinking and no new players are coming because all of the good reviews are in the negative. Some good effort was poured into this game but ultimately, the developers didn't listen to the community. I think they should try again, but smooth things out before adding content.So, I give a negative review for Bicycle Simulator 2016.   \n",
       "5953                                                                                                                                                                                                                                                                                                                                                                                                                                                                                                                                                                                                                                                                                                                                                                                                                                                                                                                                                                                                                                                                                                                                                                                                                                                                                                                                                                                                                                                                                                                                                                                                                                                                                                                                                                                                                                                                                                                                                                                                                                                                                                                                                                                                                                                                                                                                                                                                                                                                                                                                                                                                                                                                                                                                                                                                                                                                                                                                                                                                                                                                                                                                                                                                                                                                                                                                                                                                                                                                                                                                                                                                                                                        My question is when I launch the free play until I can buy a part of this simulation why do I see the whole thing reopen the program to never start a new account in this (DCS)? An why I can not use my desk top device to pull out the registry to the information to this account when it goes off screen and I can not adjust the whole thing to fit my desk top screen.   \n",
       "16104                                                                                                                                                                                                                                                                                                                                                                                                                                                                                                                                                                                                                                                                                                                                                                                                                                                                                                                                                                                                                                                                                                                                                                                                                                                                                                                                                                                                                                                                                                                                                                                                                                                                                                                                                                                                                                                                                                                                                                                                                                                                                                                                                                                                                                                                                                                                                                                                                                                                                                                                                                                                                                                                                                                                                                                                                                                                                                                                                                                                                                                                                                                                                                                                                                                                                                                                                                                                                                                                                                                                                                                                                                                                                                                                                                                                                                   The best god damn clicker game out there.Pros:Great pixel graphicsFun and interesting challengesGood themeGreat progressionA lot to play throughCons:Some explanation might be needed sometimes    \n",
       "\n",
       "       user_suggestion  \n",
       "2100                 1  \n",
       "12417                1  \n",
       "6512                 0  \n",
       "5953                 0  \n",
       "16104                1  "
      ]
     },
     "execution_count": 52,
     "metadata": {},
     "output_type": "execute_result"
    }
   ],
   "source": [
    "# Now lets take a look at some of the random samples to see if it worked.\n",
    "data.sample(5)"
   ]
  },
  {
   "cell_type": "code",
   "execution_count": 6,
   "id": "ce20d5d0",
   "metadata": {},
   "outputs": [
    {
     "name": "stderr",
     "output_type": "stream",
     "text": [
      "2023-01-13 10:14:02.869997: I tensorflow/core/platform/cpu_feature_guard.cc:193] This TensorFlow binary is optimized with oneAPI Deep Neural Network Library (oneDNN) to use the following CPU instructions in performance-critical operations:  AVX2 FMA\n",
      "To enable them in other operations, rebuild TensorFlow with the appropriate compiler flags.\n"
     ]
    }
   ],
   "source": [
    "# Data processing for removing stop words, lemmatization and stemmming, and english-only.\n",
    "# Importing all relevant libraries and functions here\n",
    "import spacy #load spacy\n",
    "from sklearn.pipeline import Pipeline # pipelining pre-processing\n",
    "from spacy.lang.en import English\n",
    "nlp = spacy.load(\"en_core_web_sm\")\n",
    "tokenizer = nlp.tokenizer"
   ]
  },
  {
   "cell_type": "code",
   "execution_count": 7,
   "id": "0bedf52d-4146-4ae7-828b-107e3c7828ab",
   "metadata": {},
   "outputs": [
    {
     "data": {
      "text/html": [
       "<div>\n",
       "<style scoped>\n",
       "    .dataframe tbody tr th:only-of-type {\n",
       "        vertical-align: middle;\n",
       "    }\n",
       "\n",
       "    .dataframe tbody tr th {\n",
       "        vertical-align: top;\n",
       "    }\n",
       "\n",
       "    .dataframe thead th {\n",
       "        text-align: right;\n",
       "    }\n",
       "</style>\n",
       "<table border=\"1\" class=\"dataframe\">\n",
       "  <thead>\n",
       "    <tr style=\"text-align: right;\">\n",
       "      <th></th>\n",
       "      <th>review_id</th>\n",
       "      <th>title</th>\n",
       "      <th>year</th>\n",
       "      <th>user_review</th>\n",
       "      <th>user_suggestion</th>\n",
       "      <th>Tokens</th>\n",
       "    </tr>\n",
       "  </thead>\n",
       "  <tbody>\n",
       "    <tr>\n",
       "      <th>0</th>\n",
       "      <td>1</td>\n",
       "      <td>Spooky's Jump Scare Mansion</td>\n",
       "      <td>2016.0</td>\n",
       "      <td>I'm scared and hearing creepy voices.  So I'll pause for a moment and write a review while I wait for my heart beat to return to atleast somewhat calmer times.  This game is adorable and creepy like my happy tree friends but with the graphics sceme of my childhood (but more bubble and 'clean').  Hello 1990's.What charactes there are (that isnot trying to kill me) were likable and a bit odd.  I did do a few noob things though, such as:Oh look a class room full of ghosts from dead children, lets shine my flashlight on them and stand there staring at them..Or, hmm creepy music, I'll turn around and see if I can see what's chasing me.Never before in a game have I been this afraid of finding a locked door.</td>\n",
       "      <td>1</td>\n",
       "      <td>[I, 'm, scared, and, hearing, creepy, voices, .,  , So, I, 'll, pause, for, a, moment, and, write, a, review, while, I, wait, for, my, heart, beat, to, return, to, atleast, somewhat, calmer, times, .,  , This, game, is, adorable, and, creepy, like, my, happy, tree, friends, but, with, the, graphics, sceme, of, my, childhood, (, but, more, bubble, and, ', clean, ', ), .,  , Hello, 1990's, ., What, charactes, there, are, (, that, isnot, trying, to, kill, me, ), were, likable, and, a, bit, odd, .,  , I, did, do, a, few, noob, things, though, ,, such, as, ...]</td>\n",
       "    </tr>\n",
       "  </tbody>\n",
       "</table>\n",
       "</div>"
      ],
      "text/plain": [
       "   review_id                        title    year  \\\n",
       "0          1  Spooky's Jump Scare Mansion  2016.0   \n",
       "\n",
       "                                                                                                                                                                                                                                                                                                                                                                                                                                                                                                                                                                                                                                                                                                                              user_review  \\\n",
       "0  I'm scared and hearing creepy voices.  So I'll pause for a moment and write a review while I wait for my heart beat to return to atleast somewhat calmer times.  This game is adorable and creepy like my happy tree friends but with the graphics sceme of my childhood (but more bubble and 'clean').  Hello 1990's.What charactes there are (that isnot trying to kill me) were likable and a bit odd.  I did do a few noob things though, such as:Oh look a class room full of ghosts from dead children, lets shine my flashlight on them and stand there staring at them..Or, hmm creepy music, I'll turn around and see if I can see what's chasing me.Never before in a game have I been this afraid of finding a locked door.   \n",
       "\n",
       "   user_suggestion  \\\n",
       "0                1   \n",
       "\n",
       "                                                                                                                                                                                                                                                                                                                                                                                                                                                                                                                                                                               Tokens  \n",
       "0  [I, 'm, scared, and, hearing, creepy, voices, .,  , So, I, 'll, pause, for, a, moment, and, write, a, review, while, I, wait, for, my, heart, beat, to, return, to, atleast, somewhat, calmer, times, .,  , This, game, is, adorable, and, creepy, like, my, happy, tree, friends, but, with, the, graphics, sceme, of, my, childhood, (, but, more, bubble, and, ', clean, ', ), .,  , Hello, 1990's, ., What, charactes, there, are, (, that, isnot, trying, to, kill, me, ), were, likable, and, a, bit, odd, .,  , I, did, do, a, few, noob, things, though, ,, such, as, ...]  "
      ]
     },
     "execution_count": 7,
     "metadata": {},
     "output_type": "execute_result"
    }
   ],
   "source": [
    "#tokenization\n",
    "def create_tokenized_dataset(data):\n",
    "    tokens_list = []\n",
    "\n",
    "    for j in data['user_review']:\n",
    "#         tokens_list.append(word_tokenize(j))\n",
    "        spacy_tokens = [token.orth_ for token in tokenizer(j)]\n",
    "        tokens_list.append(spacy_tokens)\n",
    "    data['Tokens'] = tokens_list   \n",
    "    return data\n",
    "\n",
    "df = create_tokenized_dataset(data)\n",
    "df.head(1)"
   ]
  },
  {
   "cell_type": "code",
   "execution_count": 9,
   "id": "33f6d3a4-41b1-4c48-80eb-5a65b3434371",
   "metadata": {},
   "outputs": [],
   "source": [
    "#define lemmatizer\n",
    "lemmatizer = WordNetLemmatizer()"
   ]
  },
  {
   "cell_type": "code",
   "execution_count": 10,
   "id": "c10c7d2f-c6f6-4f31-b4ec-546831a1d6f0",
   "metadata": {},
   "outputs": [],
   "source": [
    "#define stopwords\n",
    "stopWords = set(stopwords.words('english'))\n",
    "custom_stop = [\"'m\", \"'ll\", \"'s\", \"'re\", \"n't\", \"'ve\"]\n",
    "stop_words = set(list(stopWords) + custom_stop)"
   ]
  },
  {
   "cell_type": "code",
   "execution_count": 11,
   "id": "2a6017c0-5425-4ee7-a0ef-990aacbbe53d",
   "metadata": {},
   "outputs": [],
   "source": [
    "#define punctuation\n",
    "custom_punc = [\"``\", \"''\", \"--\", \"...\",\"♥\"]\n",
    "punctuation = set(list(string.punctuation) + custom_punc)"
   ]
  },
  {
   "cell_type": "code",
   "execution_count": 12,
   "id": "85a32684",
   "metadata": {},
   "outputs": [
    {
     "name": "stderr",
     "output_type": "stream",
     "text": [
      "[nltk_data] Downloading package words to\n",
      "[nltk_data]     /Users/soumyankar/nltk_data...\n",
      "[nltk_data]   Package words is already up-to-date!\n"
     ]
    }
   ],
   "source": [
    "# nltk for removing english words\n",
    "nltk.download('words')\n",
    "words = set(nltk.corpus.words.words())"
   ]
  },
  {
   "cell_type": "code",
   "execution_count": 14,
   "id": "26bab3cb-67f6-4f86-b89a-05770e444aed",
   "metadata": {},
   "outputs": [],
   "source": [
    "#data preprocessing: define functions\n",
    "\n",
    "# created a function to deal with that pesky steam heart emoticon\n",
    "# print(ord('♥'))\n",
    "def remove_steam_heart(tokens):\n",
    "    for token in tokens:\n",
    "        if len(token) == 1:\n",
    "            if(ord(token) == 9829): # 9829 is the unicode for the heart emoticon\n",
    "                tokens.remove(token)\n",
    "    return tokens\n",
    "\n",
    "#lower case\n",
    "def lower_case(tokens):\n",
    "    tokens = [token.lower() for token in tokens]\n",
    "    return tokens\n",
    "\n",
    "#remove stopwords\n",
    "def remove_stopwords(tokens):\n",
    "#     tokens = [token for token in tokens if token not in stop_words]\n",
    "# Using the spacy stop words set instead of the english stop words\n",
    "    tokens = [token for token in tokens if token not in nlp.Defaults.stop_words]\n",
    "    return tokens\n",
    "\n",
    "#remove digits\n",
    "def remove_digits(tokens):\n",
    "    for token in tokens:\n",
    "        if token.isdigit():\n",
    "            tokens.remove(token)\n",
    "    return tokens\n",
    "\n",
    "#remove punctuation\n",
    "def remove_punctuation(tokens):\n",
    "    tokens = [token for token in tokens if token not in punctuation]\n",
    "    return tokens\n",
    "\n",
    "#lemmatization\n",
    "def lemmatize_words(tokens):\n",
    "    for token in range(len(tokens)):\n",
    "        tokens[token] = lemmatizer.lemmatize(tokens[token])\n",
    "    return tokens\n",
    "\n",
    "# Using nltk to word corpus to remove non-english words\n",
    "# this method seemed cheaper and easier than spacy? maybe lol\n",
    "def remove_non_english(tokens):\n",
    "    tokens = [token for token in tokens if token in words]\n",
    "    return tokens"
   ]
  },
  {
   "cell_type": "code",
   "execution_count": 15,
   "id": "ffa539c8-bfd8-4f92-a4de-c424ccfa2bee",
   "metadata": {},
   "outputs": [],
   "source": [
    "#data preprocessing function\n",
    "def data_preprocess(tokens):\n",
    "    new_tokens = lower_case(tokens)\n",
    "    new_tokens = remove_steam_heart(new_tokens)\n",
    "    new_tokens = remove_non_english(new_tokens)\n",
    "    new_tokens = remove_stopwords(new_tokens)\n",
    "    new_tokens = remove_digits(new_tokens)\n",
    "    new_tokens = remove_punctuation(new_tokens)\n",
    "    new_tokens = lemmatize_words(new_tokens)\n",
    "    return new_tokens\n",
    "    \n",
    "list_of_process_tokens = []\n",
    "for i in df['Tokens']:\n",
    "    list_of_process_tokens.append(data_preprocess(i))"
   ]
  },
  {
   "cell_type": "code",
   "execution_count": 16,
   "id": "49d5edc9-7ed6-4532-ba11-f0fc99eb7d1b",
   "metadata": {},
   "outputs": [
    {
     "data": {
      "text/html": [
       "<div>\n",
       "<style scoped>\n",
       "    .dataframe tbody tr th:only-of-type {\n",
       "        vertical-align: middle;\n",
       "    }\n",
       "\n",
       "    .dataframe tbody tr th {\n",
       "        vertical-align: top;\n",
       "    }\n",
       "\n",
       "    .dataframe thead th {\n",
       "        text-align: right;\n",
       "    }\n",
       "</style>\n",
       "<table border=\"1\" class=\"dataframe\">\n",
       "  <thead>\n",
       "    <tr style=\"text-align: right;\">\n",
       "      <th></th>\n",
       "      <th>review_id</th>\n",
       "      <th>title</th>\n",
       "      <th>year</th>\n",
       "      <th>user_review</th>\n",
       "      <th>user_suggestion</th>\n",
       "      <th>Tokens</th>\n",
       "      <th>ProcessTokens</th>\n",
       "    </tr>\n",
       "  </thead>\n",
       "  <tbody>\n",
       "    <tr>\n",
       "      <th>9753</th>\n",
       "      <td>13337</td>\n",
       "      <td>Elsword</td>\n",
       "      <td>2016.0</td>\n",
       "      <td>Swank Animu Simulator Have you ever wanted to be a cliche Shounen Protagonist? Then this is the game for you!!! This game is AWESOME! well... now it is...As many of you can tell, this game has received a LOT of flak after ADDing the unbalanced charactersAdd (prompting my joke above) and Lu/Ciel (No I didn't randomly throw in a slash the character is 2 different people).These characters were able to (once awakened) keep an enemy in a combo for EVER (which broke PVP causing the outrage). So FINALLY KoG has responded by no... not nerfing the new characters but remaking all the old ones! (and the new ones too but they aren't out yet at the time im writing this so imma just assume that they are gonna be balanced)This is ADDresing (#sorrynotsorry) all of the problems in pvp (even if it does COMPLETELY ♥♥♥♥ over pve but who cares about that anyways?) All in all this game is really fun and INCREDIBLY fun when playing with friends! I highly reccomend it and promise you that you won't be let down!</td>\n",
       "      <td>1</td>\n",
       "      <td>[ , Swank, Animu, Simulator, Have, you, ever, wanted, to, be, a, cliche, Shounen, Protagonist, ?, Then, this, is, the, game, for, you, !, !, !, This, game, is, AWESOME, !, well, ..., now, it, is, ..., As, many, of, you, can, tell, ,, this, game, has, received, a, LOT, of, flak, after, ADDing, the, unbalanced, charactersAdd, (, prompting, my, joke, above, ), and, Lu, /, Ciel, (, No, I, did, n't, randomly, throw, in, a, slash, the, character, is, 2, different, people).These, characters, were, able, to, (, once, awakened, ), keep, an, enemy, in, a, combo, for, EVER, (, which, ...]</td>\n",
       "      <td>[swank, simulator, cliche, protagonist, game, game, awesome, tell, game, received, lot, flak, unbalanced, joke, randomly, throw, slash, character, different, able, enemy, broke, causing, outrage, finally, new, old, new, time, m, writing, assume, gon, na, completely, anyways, game, fun, incredibly, fun, highly, promise, wo, let]</td>\n",
       "    </tr>\n",
       "    <tr>\n",
       "      <th>11527</th>\n",
       "      <td>17024</td>\n",
       "      <td>Black Squad</td>\n",
       "      <td>2017.0</td>\n",
       "      <td>Early Access ReviewWith my little time playing, I've experienced everything I need to write a solid review.It's good. It's not going to blow you away by any means, and it's not going to make you want to throw your computer out the window. It's in the sweet spot of good, and bad. It's what you'd expect from a F2P First Person Shooter. What you wouldn't expect is, a non-pay to win aspect to the game. Gaining ingame currency is not that diffcult, and will most likely bring players back who want to visit the shop more often.You're not paying anything for it, so why not try it? It's the generic arcade style shooter. Running in gunning is pretty extensive in this game, and I recommend you hop in with some friends and have some fun. With that being said, don't take this game too seriously. You're probably going to die a lot (as I did) and raging would just make it not fun. Just run, and gun and have some fun.Overall though, it's a pretty solid for what your paying... nothing.</td>\n",
       "      <td>1</td>\n",
       "      <td>[Early, Access, ReviewWith, my, little, time, playing, ,, I, 've, experienced, everything, I, need, to, write, a, solid, review, ., It, 's, good, ., It, 's, not, going, to, blow, you, away, by, any, means, ,, and, it, 's, not, going, to, make, you, want, to, throw, your, computer, out, the, window, ., It, 's, in, the, sweet, spot, of, good, ,, and, bad, ., It, 's, what, you, 'd, expect, from, a, F2P, First, Person, Shooter, ., What, you, would, n't, expect, is, ,, a, non, -, pay, to, win, aspect, to, the, game, ., Gaining, ingame, currency, is, ...]</td>\n",
       "      <td>[early, access, little, time, experienced, need, write, solid, review, good, going, blow, away, going, want, throw, computer, window, sweet, spot, good, bad, expect, person, shooter, expect, non, pay, win, aspect, game, gaining, currency, likely, bring, want, visit, shop, paying, try, generic, arcade, style, shooter, running, gunning, pretty, extensive, game, recommend, hop, fun, said, game, seriously, probably, going, die, lot, raging, fun, run, gun, fun, overall, pretty, solid, paying]</td>\n",
       "    </tr>\n",
       "    <tr>\n",
       "      <th>13866</th>\n",
       "      <td>19810</td>\n",
       "      <td>Infestation: The New Z</td>\n",
       "      <td>2017.0</td>\n",
       "      <td>DON'T PUT A SINGLE SECOND OF YOUR TIME OR MONEY IN THIS GAME!!!!!!I didn't play this game, I downloaded more than 5Gb just to write this warning, because...let me tell you a history.Back in 2012~ more or less there was a hype over a mod for ARMA II called DayZ.It was all the rage, because was something new, multiplayer in a huge map where everyone fights for themselves and have to survive and care for your basic needs like food, water, etc.Then someone very greedy decided to make a standalone game and ride in the  success of this mod and made WarZ.I fell in this trap, because some of my friends told me it was an awesome game, and it would be better than the mod.It wasn't. Things that happened over the course of WarZ:=&gt; they didn't have stable servers, nor corrected all the bugs in a timely manner which leads to....=&gt; cheaters, cheaters, cheaters, a lot of cheaters (and angry people that doesn't cheat) which leads to...=&gt;  ban of random players (because they didn't have any proper anticheating) , they decided to ban random players to scare the cheaters....do  I need to say it didn't work? I guess not....With all these facts, it led to mass negative reviews so...what they did? REBRANDED as INFESTATION SURVIVOR STORIES.After they got some of the new poor souls that feel for them with the new name and eventually lost them too,....what they did?\"Sold it\", or so they say, to new developers....but they're still the publisher of the game....TLDR: It's a rebranded not well developed game with horrible bugs, lot's of cheaters, and horrible publisher (which was the developer of the game before it was rebranded)</td>\n",
       "      <td>0</td>\n",
       "      <td>[DON'T, PUT, A, SINGLE, SECOND, OF, YOUR, TIME, OR, MONEY, IN, THIS, GAME!!!!!!I, did, n't, play, this, game, ,, I, downloaded, more, than, 5Gb, just, to, write, this, warning, ,, because, ..., let, me, tell, you, a, history, ., Back, in, 2012~, more, or, less, there, was, a, hype, over, a, mod, for, ARMA, II, called, DayZ.It, was, all, the, rage, ,, because, was, something, new, ,, multiplayer, in, a, huge, map, where, everyone, fights, for, themselves, and, have, to, survive, and, care, for, your, basic, needs, like, food, ,, water, ,, etc, ., Then, someone, very, greedy, decided, to, ...]</td>\n",
       "      <td>[single, second, time, money, play, game, write, warning, let, tell, history, rage, new, huge, map, survive, care, basic, need, like, food, water, greedy, decided, game, ride, success, fell, trap, told, awesome, game, better, course, stable, corrected, timely, manner, lot, angry, people, cheat, ban, random, proper, decided, ban, random, scare, need, work, guess, led, mass, negative, infestation, survivor, got, new, poor, feel, new, eventually, lost, new, publisher, game, game, horrible, lot, horrible, publisher, developer, game]</td>\n",
       "    </tr>\n",
       "    <tr>\n",
       "      <th>9807</th>\n",
       "      <td>13391</td>\n",
       "      <td>Elsword</td>\n",
       "      <td>2015.0</td>\n",
       "      <td>Fun with friends, a little repetitive if you're playing alone. Recommended to play with friends and create a guild to get guild buffs. Pretty common equipment upgrade system +1, +2, +3... with a chance to break / lose enchantment... etc. Plus, all the female characters have huge breasts. Recommended.</td>\n",
       "      <td>1</td>\n",
       "      <td>[Fun, with, friends, ,, a, little, repetitive, if, you, 're, playing, alone, ., Recommended, to, play, with, friends, and, create, a, guild, to, get, guild, buffs, ., Pretty, common, equipment, upgrade, system, +1, ,, +2, ,, +3, ..., with, a, chance, to, break, /, lose, enchantment, ..., etc, ., Plus, ,, all, the, female, characters, have, huge, breasts, ., Recommended, .]</td>\n",
       "      <td>[fun, little, repetitive, play, create, guild, guild, pretty, common, equipment, upgrade, system, chance, break, lose, enchantment, plus, female, huge]</td>\n",
       "    </tr>\n",
       "    <tr>\n",
       "      <th>6214</th>\n",
       "      <td>8589</td>\n",
       "      <td>Heroes &amp; Generals</td>\n",
       "      <td>2014.0</td>\n",
       "      <td>Early Access ReviewASWSOME. This is in my favourite game list, omg its a ♥♥♥♥ing good game, i can kill nazis guys.You can drive: tanks, motos, cars, planes, everything in a war.PLai it its free and its AWSOME...</td>\n",
       "      <td>1</td>\n",
       "      <td>[Early, Access, ReviewASWSOME, ., This, is, in, my, favourite, game, list, ,, omg, its, a, ♥, ♥, ♥, ♥, ing, good, game, ,, i, can, kill, nazis, guys, ., You, can, drive, :, tanks, ,, motos, ,, cars, ,, planes, ,, everything, in, a, war, ., PLai, it, its, free, and, its, AWSOME, ...]</td>\n",
       "      <td>[early, access, game, list, ing, good, game, kill, drive, war, free]</td>\n",
       "    </tr>\n",
       "    <tr>\n",
       "      <th>148</th>\n",
       "      <td>149</td>\n",
       "      <td>Spooky's Jump Scare Mansion</td>\n",
       "      <td>2015.0</td>\n",
       "      <td>Let's summarize my experience so far. For that, I will be using the vinesauce advisory spooky scale system of spooks.Not spooky : its safe but always be alert for SpookySpoopy : no Spooky nearby but I'm kind of scared anywayP spoopy : imminent danger of SpookySpooky : theres a Spooky behind you look out2spooky : it's too late, a Spooky is inside you</td>\n",
       "      <td>1</td>\n",
       "      <td>[Let, 's, summarize, my, experience, so, far, ., For, that, ,, I, will, be, using, the, vinesauce, advisory, spooky, scale, system, of, spooks, ., Not, spooky, :, its, safe, but, always, be, alert, for, SpookySpoopy, :, no, Spooky, nearby, but, I, 'm, kind, of, scared, anywayP, spoopy, :, imminent, danger, of, SpookySpooky, :, there, s, a, Spooky, behind, you, look, out2spooky, :, it, 's, too, late, ,, a, Spooky, is, inside, you]</td>\n",
       "      <td>[let, summarize, experience, far, advisory, spooky, scale, system, spooky, safe, alert, spooky, nearby, kind, imminent, danger, s, spooky, look, late, spooky, inside]</td>\n",
       "    </tr>\n",
       "    <tr>\n",
       "      <th>4349</th>\n",
       "      <td>5745</td>\n",
       "      <td>Yu-Gi-Oh! Duel Links</td>\n",
       "      <td>2017.0</td>\n",
       "      <td>What's this? Yu-Gi-Oh! board for ants?Well, if you never played Yu-Gi-Oh! before, and/or don't have any deck in particular you would like to play which requires more than 3 board slots (like Law of the Normal or Destiny Board) this game is for you. Somewhat canon rules, good olden card-os (think heartstone before GVG), and microtransactions (i get it, you need to earn something to stay afloat. But ONE deck slot and paywall to get more? REALLY?). For my taste it's meh. But if you never before tasted Yu-Gi-Oh!, don't want to get your hopes and dreams crushed by OTK/Exodia decks, and/or just looking to play some casual children's card game this might just be it for you. If you are brave enough to get through smartphone/tablet controls ofc.</td>\n",
       "      <td>0</td>\n",
       "      <td>[What, 's, this, ?, Yu, -, Gi, -, Oh, !, board, for, ants?Well, ,, if, you, never, played, Yu, -, Gi, -, Oh, !, before, ,, and/or, do, n't, have, any, deck, in, particular, you, would, like, to, play, which, requires, more, than, 3, board, slots, (, like, Law, of, the, Normal, or, Destiny, Board, ), this, game, is, for, you, ., Somewhat, canon, rules, ,, good, olden, card, -, os, (, think, heartstone, before, GVG, ), ,, and, microtransactions, (, i, get, it, ,, you, need, to, earn, something, to, stay, afloat, ., But, ONE, deck, slot, and, paywall, ...]</td>\n",
       "      <td>[oh, board, oh, deck, particular, like, play, board, like, law, normal, destiny, board, game, somewhat, canon, good, olden, card, o, think, need, earn, stay, afloat, deck, slot, taste, tasted, oh, want, crushed, looking, play, casual, card, game, brave, tablet]</td>\n",
       "    </tr>\n",
       "    <tr>\n",
       "      <th>11133</th>\n",
       "      <td>16630</td>\n",
       "      <td>Eternal Card Game</td>\n",
       "      <td>2017.0</td>\n",
       "      <td>Early Access ReviewHonestly the most fun ive had playing an online CCG. Hearthstone never did hold my attention well and i was always wanting a better Magic the Gathering online game. Now ive got it. A game system with mechanics reminiscent of MTG but with a way better client that is streamlined for fast and fun games. I would highly recommend this game to new and seasoned CCG players alike.</td>\n",
       "      <td>1</td>\n",
       "      <td>[Early, Access, ReviewHonestly, the, most, fun, i, ve, had, playing, an, online, CCG, ., Hearthstone, never, did, hold, my, attention, well, and, i, was, always, wanting, a, better, Magic, the, Gathering, online, game, ., Now, i, ve, got, it, ., A, game, system, with, mechanics, reminiscent, of, MTG, but, with, a, way, better, client, that, is, streamlined, for, fast, and, fun, games, ., I, would, highly, recommend, this, game, to, new, and, seasoned, CCG, players, alike, .]</td>\n",
       "      <td>[early, access, fun, hearthstone, hold, attention, wanting, better, magic, gathering, game, got, game, system, mechanic, reminiscent, way, better, client, streamlined, fast, fun, highly, recommend, game, new, seasoned, alike]</td>\n",
       "    </tr>\n",
       "    <tr>\n",
       "      <th>6054</th>\n",
       "      <td>8429</td>\n",
       "      <td>DCS World Steam Edition</td>\n",
       "      <td>2018.0</td>\n",
       "      <td>Nothing really wrong with this game other than the fact that the controls are hard to grasp, even in tutorials. There needs to be less of a (tokyo) drift in order to make it a simpler, more realistic game. Thus being said, great game for the experienced flight gamer.</td>\n",
       "      <td>1</td>\n",
       "      <td>[Nothing, really, wrong, with, this, game, other, than, the, fact, that, the, controls, are, hard, to, grasp, ,, even, in, tutorials, ., There, needs, to, be, less, of, a, (, tokyo, ), drift, in, order, to, make, it, a, simpler, ,, more, realistic, game, ., Thus, being, said, ,, great, game, for, the, experienced, flight, gamer, .]</td>\n",
       "      <td>[wrong, game, fact, hard, grasp, need, drift, order, simpler, realistic, game, said, great, game, experienced, flight]</td>\n",
       "    </tr>\n",
       "    <tr>\n",
       "      <th>5628</th>\n",
       "      <td>7553</td>\n",
       "      <td>World of Tanks Blitz</td>\n",
       "      <td>2016.0</td>\n",
       "      <td>all the rejects who cant play the real version of tanks play this. you have all these idiots rush in with their light tanks and expect to destroy the enemy heavies. horrible idea from a horrible russian company.</td>\n",
       "      <td>0</td>\n",
       "      <td>[all, the, rejects, who, ca, nt, play, the, real, version, of, tanks, play, this, ., you, have, all, these, idiots, rush, in, with, their, light, tanks, and, expect, to, destroy, the, enemy, heavies, ., horrible, idea, from, a, horrible, russian, company, .]</td>\n",
       "      <td>[play, real, version, play, rush, light, expect, destroy, enemy, heavy, horrible, idea, horrible, company]</td>\n",
       "    </tr>\n",
       "    <tr>\n",
       "      <th>118</th>\n",
       "      <td>119</td>\n",
       "      <td>Spooky's Jump Scare Mansion</td>\n",
       "      <td>2015.0</td>\n",
       "      <td>I recently heard about spooky's house of jumpscares from word of mouth. hearing that it was free,  downloaded it as fast as i could.but wait, it doesn't work.the sound is glitchy and broken, making it the most frightening thing i'm going to see in this game.if i press a key, the game crashes. simple as that. considering i HAVE to press keys to get past the title screen, i obviously didn't get far.broken mess of code.</td>\n",
       "      <td>0</td>\n",
       "      <td>[I, recently, heard, about, spooky, 's, house, of, jumpscares, from, word, of, mouth, ., hearing, that, it, was, free, ,,  , downloaded, it, as, fast, as, i, could.but, wait, ,, it, does, n't, work.the, sound, is, glitchy, and, broken, ,, making, it, the, most, frightening, thing, i, 'm, going, to, see, in, this, game.if, i, press, a, key, ,, the, game, crashes, ., simple, as, that, ., considering, i, HAVE, to, press, keys, to, get, past, the, title, screen, ,, i, obviously, did, n't, get, far.broken, mess, of, code, .]</td>\n",
       "      <td>[recently, spooky, house, word, mouth, hearing, free, fast, wait, sound, broken, making, frightening, thing, going, press, key, game, simple, considering, press, past, title, screen, obviously, mess, code]</td>\n",
       "    </tr>\n",
       "    <tr>\n",
       "      <th>16465</th>\n",
       "      <td>24325</td>\n",
       "      <td>World of Guns: Gun Disassembly</td>\n",
       "      <td>2015.0</td>\n",
       "      <td>When you first start the game you may think.. ugh, this looks dumb and im disspointed. DO NOT HOLD ONTO THAT FEELING. The desighn of this game is rediculous. It is just excellent, Break down a weapon as it teaches you to a great model detail. Enhance your memory skills, learn all the names of parts. Different modes from basic field strip to click and it goes with out mistake. Each weapon comes with myriad photos, links to the manufacturer, youtube clips, etc et al. Then there going to add more!! That promise is not empty either, and at no point have they done it in a quick or slipshod way.In addition maybe guns arent your bag, they have cars and skeletons... oh my. I just cant put into words what a good job this company has done and i get that because of all the tiny details they dont overlook. the matrix they put together is fair for both you and them. You can pay and advance or you can get better and advance in a reasonable manner. Kudos!</td>\n",
       "      <td>1</td>\n",
       "      <td>[When, you, first, start, the, game, you, may, think, .., ugh, ,, this, looks, dumb, and, i, m, disspointed, ., DO, NOT, HOLD, ONTO, THAT, FEELING, ., The, desighn, of, this, game, is, rediculous, ., It, is, just, excellent, ,, Break, down, a, weapon, as, it, teaches, you, to, a, great, model, detail, ., Enhance, your, memory, skills, ,, learn, all, the, names, of, parts, ., Different, modes, from, basic, field, strip, to, click, and, it, goes, with, out, mistake, ., Each, weapon, comes, with, myriad, photos, ,, links, to, the, manufacturer, ,, youtube, clips, ,, etc, et, al, ., ...]</td>\n",
       "      <td>[start, game, think, ugh, dumb, m, hold, feeling, game, excellent, break, weapon, great, model, detail, enhance, memory, learn, different, basic, field, strip, click, go, mistake, weapon, come, myriad, link, manufacturer, clip, al, going, add, promise, point, quick, slipshod, way, addition, maybe, bag, oh, good, job, company, tiny, overlook, matrix, fair, pay, advance, better, advance, reasonable, manner, kudos]</td>\n",
       "    </tr>\n",
       "    <tr>\n",
       "      <th>16748</th>\n",
       "      <td>24717</td>\n",
       "      <td>Bloons TD Battles</td>\n",
       "      <td>2016.0</td>\n",
       "      <td>THIS GAME RUNS THROUGH THEIR STUPID WEBSITE, NOT STEAM(PARTY OPTIONS). I JUST WANTED TO PLAY WITH FRIENDS. FORCES YOU TO DO TUTORIAL, THEN FORCES YOU TO PLAY ONLINE AGAINST A RANDOM OPPONENT, THEN OTHER DIRTY THINGS.</td>\n",
       "      <td>0</td>\n",
       "      <td>[THIS, GAME, RUNS, THROUGH, THEIR, STUPID, WEBSITE, ,, NOT, STEAM(PARTY, OPTIONS, ), ., I, JUST, WANTED, TO, PLAY, WITH, FRIENDS, ., FORCES, YOU, TO, DO, TUTORIAL, ,, THEN, FORCES, YOU, TO, PLAY, ONLINE, AGAINST, A, RANDOM, OPPONENT, ,, THEN, OTHER, DIRTY, THINGS, .]</td>\n",
       "      <td>[game, stupid, play, tutorial, play, random, opponent, dirty]</td>\n",
       "    </tr>\n",
       "    <tr>\n",
       "      <th>81</th>\n",
       "      <td>82</td>\n",
       "      <td>Spooky's Jump Scare Mansion</td>\n",
       "      <td>2015.0</td>\n",
       "      <td>Early Access Reviewokay, i Haven't made it through the last 200 rooms yet, but i can alrEady say, this game is easiLy the most terrifying game i've ever Played or seen, it has had so many moments that have tempted me to shut the game off (iM talking to you, deer god) and just wow this gamE was so well made. anyone who enjoys the horror genre should definetly have go with this one.P.S can anyone find my secret message?</td>\n",
       "      <td>1</td>\n",
       "      <td>[Early, Access, Reviewokay, ,, i, Have, n't, made, it, through, the, last, 200, rooms, yet, ,, but, i, can, alrEady, say, ,, this, game, is, easiLy, the, most, terrifying, game, i, 've, ever, Played, or, seen, ,, it, has, had, so, many, moments, that, have, tempted, me, to, shut, the, game, off, (, iM, talking, to, you, ,, deer, god, ), and, just, wow, this, gamE, was, so, well, made, ., anyone, who, enjoys, the, horror, genre, should, definetly, have, go, with, this, one, ., P.S, can, anyone, find, my, secret, message, ?]</td>\n",
       "      <td>[early, access, game, easily, terrifying, game, seen, shut, game, talking, deer, god, wow, game, horror, genre, find, secret, message]</td>\n",
       "    </tr>\n",
       "    <tr>\n",
       "      <th>14593</th>\n",
       "      <td>21704</td>\n",
       "      <td>Robocraft</td>\n",
       "      <td>2016.0</td>\n",
       "      <td>Product received for freeEarly Access ReviewFreejam has made there game ♥♥♥♥♥♥ once agian with there EPIC loot crates the only thing good about the \"Boxes\" is nothing the flak cannon takes no skill nither dose the missle launcher and the shotgun its BORING when i can oneshot somebody like WTF it was a great game i had purchased the CC or something and the Better blocks and come back to see they had been replaced with ♥♥♥♥♥♥ colored ones like Really..... i had purchased those with real money and the tech tree was great now you can put a Crap ton of the OP wepons on your craft and its crappy how you can have 5 DIFFRENT guns on one craft Really Thats just bad and now Little Turds with money have things that are op and stuff and it makes the game Boring i keep wanting to play but i just cant beacuse its painful some matches are great but alot of them you lose its really anoying when you are getting bombarded with misslels and crap i hope freejam reverts the game to what it used to be and not a piece of crap and it looks like freejam is just tyring to make MONEY now when you open a crate and see what you may be able to get if you buy premium Freejam You had a Great Game Bring Back Old times Whan the game wasnt ♥♥♥♥♥♥.</td>\n",
       "      <td>0</td>\n",
       "      <td>[Product, received, for, freeEarly, Access, ReviewFreejam, has, made, there, game, ♥, ♥, ♥, ♥, ♥, ♥, once, agian, with, there, EPIC, loot, crates, the, only, thing, good, about, the, \", Boxes, \", is, nothing, the, flak, cannon, takes, no, skill, nither, dose, the, missle, launcher, and, the, shotgun, its, BORING, when, i, can, oneshot, somebody, like, WTF, it, was, a, great, game, i, had, purchased, the, CC, or, something, and, the, Better, blocks, and, come, back, to, see, they, had, been, replaced, with, ♥, ♥, ♥, ♥, ♥, ♥, colored, ones, like, Really, ....., i, had, purchased, those, with, real, ...]</td>\n",
       "      <td>[product, received, access, game, epic, loot, thing, good, flak, cannon, skill, nither, dose, launcher, shotgun, boring, somebody, like, great, game, better, come, colored, like, real, money, tech, tree, great, crap, ton, craft, craft, s, bad, little, money, stuff, game, boring, wanting, play, painful, great, lose, getting, crap, hope, game, piece, crap, like, money, open, crate, able, buy, premium, great, game, bring, old, time, whan, game]</td>\n",
       "    </tr>\n",
       "    <tr>\n",
       "      <th>12279</th>\n",
       "      <td>17776</td>\n",
       "      <td>Bless Online</td>\n",
       "      <td>2018.0</td>\n",
       "      <td>Early Access ReviewThe game is configured by default to only run on one CPU core, only utilizes 150MB of VRAM, has mouse smoothing enabled, is framelocked to 60FPS, and the vertical camera moves slower than the horizontal camera. None of these settings can be changed without delving into several .ini files.Every single class moves and turns with ASDW, and straves with Q E, turning the camera with right clicks... except berserker, which inexplicably strafes with A D and has the camera locked to the mouse. This makes clicking several important UI elements which cannot be set to a hotkey a bit frustrating, and when a loot roll pops up your mouse completely stops controlling your camera until you bid on the item... even if you are in the middle of fighting a boss. This jarring transition got me killed several times.Every single skill description seems to have been run through google translate and babelfish several times to the point where I have no idea what most of my skills do. There is an ability which can be upgraded to \"Increases the cooldown cooldown, but further reduces cooldown cooldown.\" What??? My main ability has dozens of little white boxes in the tooltip, signifying invalid characters. When you level up, the game says \"WELCOME TO 2LEVEL\".The chat censorship is so intense that the word \"mage\" is censored. Why? Because \"ag\" is apparently lewd. You cannot tell someone that you'll meet them in an hour, because \"hour\" is censored... because it contains the letters \"ho\". The GMs accidentally censored themselves in a server message ironically apologizing for the restrictive chat filter, because the \"se\" in cause is filtered.More than half of my \"playtime\" was spent staring at an offline server or a queue.... this was a horrible cash grab by neowiz and I should have seen it coming. The game is almost unplayable in its current state, and even if you could play it... you wouldn't want to.</td>\n",
       "      <td>0</td>\n",
       "      <td>[Early, Access, ReviewThe, game, is, configured, by, default, to, only, run, on, one, CPU, core, ,, only, utilizes, 150, MB, of, VRAM, ,, has, mouse, smoothing, enabled, ,, is, framelocked, to, 60FPS, ,, and, the, vertical, camera, moves, slower, than, the, horizontal, camera, ., None, of, these, settings, can, be, changed, without, delving, into, several, .ini, files, ., Every, single, class, moves, and, turns, with, ASDW, ,, and, straves, with, Q, E, ,, turning, the, camera, with, right, clicks, ..., except, berserker, ,, which, inexplicably, strafes, with, A, D, and, has, the, camera, locked, to, the, mouse, ., This, makes, ...]</td>\n",
       "      <td>[early, access, game, default, run, core, mouse, smoothing, vertical, camera, horizontal, camera, single, class, turn, q, e, turning, camera, right, berserker, inexplicably, d, camera, locked, mouse, important, set, bit, loot, roll, mouse, completely, camera, bid, item, middle, fighting, bos, jarring, transition, got, time, single, skill, description, run, translate, time, point, idea, ability, main, ability, little, white, invalid, level, game, welcome, chat, censorship, intense, word, mage, apparently, lewd, tell, meet, hour, hour, ho, accidentally, server, message, ironically, restrictive, chat, filter, se, cause, half, playtime, spent, staring, server, queue, horrible, cash, grab, seen, coming, game, unplayable, current, state, play, want]</td>\n",
       "    </tr>\n",
       "    <tr>\n",
       "      <th>7529</th>\n",
       "      <td>10539</td>\n",
       "      <td>Trove</td>\n",
       "      <td>2015.0</td>\n",
       "      <td>Super fun and addicting. The game makes it fun to do both building and fighting, and makes it so its hard to get bored of either. The grinding for mounts, ores, levels, etc, makes it hard to stop playing after you start. Still, over the past day or two, it's basically been a lag simulator for me. That doesn't make it any worse of a game, especially since I think part of it has to do with my computer, so I would still definitely recommend Trove, as it is the only free to play game that I have enjoyed without spending any money on it.</td>\n",
       "      <td>1</td>\n",
       "      <td>[Super, fun, and, addicting, ., The, game, makes, it, fun, to, do, both, building, and, fighting, ,, and, makes, it, so, its, hard, to, get, bored, of, either, ., The, grinding, for, mounts, ,, ores, ,, levels, ,, etc, ,, makes, it, hard, to, stop, playing, after, you, start, ., Still, ,, over, the, past, day, or, two, ,, it, 's, basically, been, a, lag, simulator, for, me, ., That, does, n't, make, it, any, worse, of, a, game, ,, especially, since, I, think, part, of, it, has, to, do, with, my, computer, ,, so, I, would, still, definitely, recommend, ...]</td>\n",
       "      <td>[super, fun, game, fun, building, fighting, hard, grinding, hard, stop, start, past, day, basically, lag, simulator, worse, game, especially, think, computer, definitely, recommend, trove, free, play, game, spending, money]</td>\n",
       "    </tr>\n",
       "    <tr>\n",
       "      <th>16374</th>\n",
       "      <td>24234</td>\n",
       "      <td>World of Guns: Gun Disassembly</td>\n",
       "      <td>2014.0</td>\n",
       "      <td>I love this game so much. i love taking care of guns IRL and when a basic cleaning isnt enough i pop out this game for more details on furhter disassembly for cleaning. highly reccomend this game to all gun lovers like me.</td>\n",
       "      <td>1</td>\n",
       "      <td>[I, love, this, game, so, much, ., i, love, taking, care, of, guns, IRL, and, when, a, basic, cleaning, is, nt, enough, i, pop, out, this, game, for, more, details, on, furhter, disassembly, for, cleaning, ., highly, reccomend, this, game, to, all, gun, lovers, like, me, .]</td>\n",
       "      <td>[love, game, love, taking, care, basic, cleaning, pop, game, disassembly, cleaning, highly, game, gun, like]</td>\n",
       "    </tr>\n",
       "    <tr>\n",
       "      <th>5373</th>\n",
       "      <td>7298</td>\n",
       "      <td>World of Tanks Blitz</td>\n",
       "      <td>2017.0</td>\n",
       "      <td>Meh...It's somewhat fun.  Here's my issue:  The game kinda boot-to-the-neck grinds your face.  The tutorial I get...do this, okay now do this.  But after the tutorial, the game still doesn't let you really play to your liking.  It still tells you what you  can do next, which is only ever one option.  Basically, most of the game is click next to continue, and that button moves.  Then you get to battle, yay, then go back to click next to continue.  What's that? You wanted to buy more consumables to help you? Nah, you gotta buy a tank from another country now.  But I wanna upgrade my gun!  Tough, now sell that important thing you probably will need.  But I wanted that, here, let me buy one back from the shop...nah, time for battle!♥♥♥♥ that, ♥♥♥♥ this game.  If I wanted a comic about tanks/video games, I'da downloaded that.</td>\n",
       "      <td>0</td>\n",
       "      <td>[Meh, ..., It, 's, somewhat, fun, .,  , Here, 's, my, issue, :,  , The, game, kinda, boot, -, to, -, the, -, neck, grinds, your, face, .,  , The, tutorial, I, get, ..., do, this, ,, okay, now, do, this, .,  , But, after, the, tutorial, ,, the, game, still, does, n't, let, you, really, play, to, your, liking, .,  , It, still, tells, you, what, you,  , can, do, next, ,, which, is, only, ever, one, option, .,  , Basically, ,, most, of, the, game, is, click, next, to, continue, ,, and, that, button, moves, .,  , Then, ...]</td>\n",
       "      <td>[somewhat, fun, issue, game, boot, neck, face, tutorial, tutorial, game, let, play, liking, option, basically, game, click, continue, button, battle, click, continue, buy, help, got, ta, buy, tank, country, upgrade, gun, tough, sell, important, thing, probably, need, let, buy, shop, time, battle, game, comic, video]</td>\n",
       "    </tr>\n",
       "    <tr>\n",
       "      <th>3178</th>\n",
       "      <td>3642</td>\n",
       "      <td>War Thunder</td>\n",
       "      <td>2016.0</td>\n",
       "      <td>There are no words to describe how bad this game is.You spend alot of time grinding up the British tank tech tree to find that all teir 5 tanks can be penned by a teir 3 tank. The Conq is one of the worst tanks in the British Tech tree. 120mm with 361 pen. HA What a joke that is. HESH. Waste of time. If you want to enjoy this game. Spend money. Get IS-2. Grind up to T-10m Enjoy making the brits rage.This game should get their mechanics in the game to work first before releasing more tanks that will be terrible. The only tank that works in the British Tech tree is  the Cent MK.3.</td>\n",
       "      <td>0</td>\n",
       "      <td>[There, are, no, words, to, describe, how, bad, this, game, is, ., You, spend, alot, of, time, grinding, up, the, British, tank, tech, tree, to, find, that, all, teir, 5, tanks, can, be, penned, by, a, teir, 3, tank, ., The, Conq, is, one, of, the, worst, tanks, in, the, British, Tech, tree, ., 120, mm, with, 361, pen, ., HA, What, a, joke, that, is, ., HESH, ., Waste, of, time, ., If, you, want, to, enjoy, this, game, ., Spend, money, ., Get, IS-2, ., Grind, up, to, T-10, m, Enjoy, making, the, brits, rage, ., This, game, ...]</td>\n",
       "      <td>[describe, bad, game, spend, time, grinding, tank, tech, tree, find, tank, worst, tech, tree, pen, ha, joke, waste, time, want, enjoy, game, spend, money, grind, m, enjoy, making, rage, game, mechanic, game, work, terrible, tank, work, tech, tree, cent]</td>\n",
       "    </tr>\n",
       "  </tbody>\n",
       "</table>\n",
       "</div>"
      ],
      "text/plain": [
       "       review_id                           title    year  \\\n",
       "9753       13337                         Elsword  2016.0   \n",
       "11527      17024                     Black Squad  2017.0   \n",
       "13866      19810          Infestation: The New Z  2017.0   \n",
       "9807       13391                         Elsword  2015.0   \n",
       "6214        8589               Heroes & Generals  2014.0   \n",
       "148          149     Spooky's Jump Scare Mansion  2015.0   \n",
       "4349        5745            Yu-Gi-Oh! Duel Links  2017.0   \n",
       "11133      16630               Eternal Card Game  2017.0   \n",
       "6054        8429         DCS World Steam Edition  2018.0   \n",
       "5628        7553            World of Tanks Blitz  2016.0   \n",
       "118          119     Spooky's Jump Scare Mansion  2015.0   \n",
       "16465      24325  World of Guns: Gun Disassembly  2015.0   \n",
       "16748      24717               Bloons TD Battles  2016.0   \n",
       "81            82     Spooky's Jump Scare Mansion  2015.0   \n",
       "14593      21704                       Robocraft  2016.0   \n",
       "12279      17776                    Bless Online  2018.0   \n",
       "7529       10539                           Trove  2015.0   \n",
       "16374      24234  World of Guns: Gun Disassembly  2014.0   \n",
       "5373        7298            World of Tanks Blitz  2017.0   \n",
       "3178        3642                     War Thunder  2016.0   \n",
       "\n",
       "                                                                                                                                                                                                                                                                                                                                                                                                                                                                                                                                                                                                                                                                                                                                                                                                                                                                                                                                                                                                                                                                                                                                                                                                                                                                                                                                                                                                                                                                                                                                                                                                                                                                                                                                                                                                                                                                                                                                                                                            user_review  \\\n",
       "9753                                                                                                                                                                                                                                                                                                                                                                                                                                                                                                                                                                                                                                                                                                                                                                                                                                                                                                                                                         Swank Animu Simulator Have you ever wanted to be a cliche Shounen Protagonist? Then this is the game for you!!! This game is AWESOME! well... now it is...As many of you can tell, this game has received a LOT of flak after ADDing the unbalanced charactersAdd (prompting my joke above) and Lu/Ciel (No I didn't randomly throw in a slash the character is 2 different people).These characters were able to (once awakened) keep an enemy in a combo for EVER (which broke PVP causing the outrage). So FINALLY KoG has responded by no... not nerfing the new characters but remaking all the old ones! (and the new ones too but they aren't out yet at the time im writing this so imma just assume that they are gonna be balanced)This is ADDresing (#sorrynotsorry) all of the problems in pvp (even if it does COMPLETELY ♥♥♥♥ over pve but who cares about that anyways?) All in all this game is really fun and INCREDIBLY fun when playing with friends! I highly reccomend it and promise you that you won't be let down!   \n",
       "11527                                                                                                                                                                                                                                                                                                                                                                                                                                                                                                                                                                                                                                                                                                                                                                                                                                                                                                                                                                           Early Access ReviewWith my little time playing, I've experienced everything I need to write a solid review.It's good. It's not going to blow you away by any means, and it's not going to make you want to throw your computer out the window. It's in the sweet spot of good, and bad. It's what you'd expect from a F2P First Person Shooter. What you wouldn't expect is, a non-pay to win aspect to the game. Gaining ingame currency is not that diffcult, and will most likely bring players back who want to visit the shop more often.You're not paying anything for it, so why not try it? It's the generic arcade style shooter. Running in gunning is pretty extensive in this game, and I recommend you hop in with some friends and have some fun. With that being said, don't take this game too seriously. You're probably going to die a lot (as I did) and raging would just make it not fun. Just run, and gun and have some fun.Overall though, it's a pretty solid for what your paying... nothing.   \n",
       "13866                                                                                                                                                                                                                                                                                                       DON'T PUT A SINGLE SECOND OF YOUR TIME OR MONEY IN THIS GAME!!!!!!I didn't play this game, I downloaded more than 5Gb just to write this warning, because...let me tell you a history.Back in 2012~ more or less there was a hype over a mod for ARMA II called DayZ.It was all the rage, because was something new, multiplayer in a huge map where everyone fights for themselves and have to survive and care for your basic needs like food, water, etc.Then someone very greedy decided to make a standalone game and ride in the  success of this mod and made WarZ.I fell in this trap, because some of my friends told me it was an awesome game, and it would be better than the mod.It wasn't. Things that happened over the course of WarZ:=> they didn't have stable servers, nor corrected all the bugs in a timely manner which leads to....=> cheaters, cheaters, cheaters, a lot of cheaters (and angry people that doesn't cheat) which leads to...=>  ban of random players (because they didn't have any proper anticheating) , they decided to ban random players to scare the cheaters....do  I need to say it didn't work? I guess not....With all these facts, it led to mass negative reviews so...what they did? REBRANDED as INFESTATION SURVIVOR STORIES.After they got some of the new poor souls that feel for them with the new name and eventually lost them too,....what they did?\"Sold it\", or so they say, to new developers....but they're still the publisher of the game....TLDR: It's a rebranded not well developed game with horrible bugs, lot's of cheaters, and horrible publisher (which was the developer of the game before it was rebranded)   \n",
       "9807                                                                                                                                                                                                                                                                                                                                                                                                                                                                                                                                                                                                                                                                                                                                                                                                                                                                                                                                                                                                                                                                                                                                                                                                                                                                                                                                                                                                                                                                                                                                                                                                                                                                                      Fun with friends, a little repetitive if you're playing alone. Recommended to play with friends and create a guild to get guild buffs. Pretty common equipment upgrade system +1, +2, +3... with a chance to break / lose enchantment... etc. Plus, all the female characters have huge breasts. Recommended.   \n",
       "6214                                                                                                                                                                                                                                                                                                                                                                                                                                                                                                                                                                                                                                                                                                                                                                                                                                                                                                                                                                                                                                                                                                                                                                                                                                                                                                                                                                                                                                                                                                                                                                                                                                                                                                                                                                                Early Access ReviewASWSOME. This is in my favourite game list, omg its a ♥♥♥♥ing good game, i can kill nazis guys.You can drive: tanks, motos, cars, planes, everything in a war.PLai it its free and its AWSOME...   \n",
       "148                                                                                                                                                                                                                                                                                                                                                                                                                                                                                                                                                                                                                                                                                                                                                                                                                                                                                                                                                                                                                                                                                                                                                                                                                                                                                                                                                                                                                                                                                                                                                                                                                                    Let's summarize my experience so far. For that, I will be using the vinesauce advisory spooky scale system of spooks.Not spooky : its safe but always be alert for SpookySpoopy : no Spooky nearby but I'm kind of scared anywayP spoopy : imminent danger of SpookySpooky : theres a Spooky behind you look out2spooky : it's too late, a Spooky is inside you    \n",
       "4349                                                                                                                                                                                                                                                                                                                                                                                                                                                                                                                                                                                                                                                                                                                                                                                                                                                                                                                                                                                                                                                                                                                                                                                                                         What's this? Yu-Gi-Oh! board for ants?Well, if you never played Yu-Gi-Oh! before, and/or don't have any deck in particular you would like to play which requires more than 3 board slots (like Law of the Normal or Destiny Board) this game is for you. Somewhat canon rules, good olden card-os (think heartstone before GVG), and microtransactions (i get it, you need to earn something to stay afloat. But ONE deck slot and paywall to get more? REALLY?). For my taste it's meh. But if you never before tasted Yu-Gi-Oh!, don't want to get your hopes and dreams crushed by OTK/Exodia decks, and/or just looking to play some casual children's card game this might just be it for you. If you are brave enough to get through smartphone/tablet controls ofc.   \n",
       "11133                                                                                                                                                                                                                                                                                                                                                                                                                                                                                                                                                                                                                                                                                                                                                                                                                                                                                                                                                                                                                                                                                                                                                                                                                                                                                                                                                                                                                                                                                                                                                                                        Early Access ReviewHonestly the most fun ive had playing an online CCG. Hearthstone never did hold my attention well and i was always wanting a better Magic the Gathering online game. Now ive got it. A game system with mechanics reminiscent of MTG but with a way better client that is streamlined for fast and fun games. I would highly recommend this game to new and seasoned CCG players alike.   \n",
       "6054                                                                                                                                                                                                                                                                                                                                                                                                                                                                                                                                                                                                                                                                                                                                                                                                                                                                                                                                                                                                                                                                                                                                                                                                                                                                                                                                                                                                                                                                                                                                                                                                                                                                                                                        Nothing really wrong with this game other than the fact that the controls are hard to grasp, even in tutorials. There needs to be less of a (tokyo) drift in order to make it a simpler, more realistic game. Thus being said, great game for the experienced flight gamer.   \n",
       "5628                                                                                                                                                                                                                                                                                                                                                                                                                                                                                                                                                                                                                                                                                                                                                                                                                                                                                                                                                                                                                                                                                                                                                                                                                                                                                                                                                                                                                                                                                                                                                                                                                                                                                                                                                                                all the rejects who cant play the real version of tanks play this. you have all these idiots rush in with their light tanks and expect to destroy the enemy heavies. horrible idea from a horrible russian company.   \n",
       "118                                                                                                                                                                                                                                                                                                                                                                                                                                                                                                                                                                                                                                                                                                                                                                                                                                                                                                                                                                                                                                                                                                                                                                                                                                                                                                                                                                                                                                                                                                                                                                I recently heard about spooky's house of jumpscares from word of mouth. hearing that it was free,  downloaded it as fast as i could.but wait, it doesn't work.the sound is glitchy and broken, making it the most frightening thing i'm going to see in this game.if i press a key, the game crashes. simple as that. considering i HAVE to press keys to get past the title screen, i obviously didn't get far.broken mess of code.   \n",
       "16465                                                                                                                                                                                                                                                                                                                                                                                                                                                                                                                                                                                                                                                                                                                                                                                                                                                                                                                                                                                                        When you first start the game you may think.. ugh, this looks dumb and im disspointed. DO NOT HOLD ONTO THAT FEELING. The desighn of this game is rediculous. It is just excellent, Break down a weapon as it teaches you to a great model detail. Enhance your memory skills, learn all the names of parts. Different modes from basic field strip to click and it goes with out mistake. Each weapon comes with myriad photos, links to the manufacturer, youtube clips, etc et al. Then there going to add more!! That promise is not empty either, and at no point have they done it in a quick or slipshod way.In addition maybe guns arent your bag, they have cars and skeletons... oh my. I just cant put into words what a good job this company has done and i get that because of all the tiny details they dont overlook. the matrix they put together is fair for both you and them. You can pay and advance or you can get better and advance in a reasonable manner. Kudos!   \n",
       "16748                                                                                                                                                                                                                                                                                                                                                                                                                                                                                                                                                                                                                                                                                                                                                                                                                                                                                                                                                                                                                                                                                                                                                                                                                                                                                                                                                                                                                                                                                                                                                                                                                                                                                                                                                                          THIS GAME RUNS THROUGH THEIR STUPID WEBSITE, NOT STEAM(PARTY OPTIONS). I JUST WANTED TO PLAY WITH FRIENDS. FORCES YOU TO DO TUTORIAL, THEN FORCES YOU TO PLAY ONLINE AGAINST A RANDOM OPPONENT, THEN OTHER DIRTY THINGS.   \n",
       "81                                                                                                                                                                                                                                                                                                                                                                                                                                                                                                                                                                                                                                                                                                                                                                                                                                                                                                                                                                                                                                                                                                                                                                                                                                                                                                                                                                                                                                                                                                                                                                Early Access Reviewokay, i Haven't made it through the last 200 rooms yet, but i can alrEady say, this game is easiLy the most terrifying game i've ever Played or seen, it has had so many moments that have tempted me to shut the game off (iM talking to you, deer god) and just wow this gamE was so well made. anyone who enjoys the horror genre should definetly have go with this one.P.S can anyone find my secret message?   \n",
       "14593                                                                                                                                                                                                                                                                                                                                                                                                                                                                                                                                                                                                                                                                                                                  Product received for freeEarly Access ReviewFreejam has made there game ♥♥♥♥♥♥ once agian with there EPIC loot crates the only thing good about the \"Boxes\" is nothing the flak cannon takes no skill nither dose the missle launcher and the shotgun its BORING when i can oneshot somebody like WTF it was a great game i had purchased the CC or something and the Better blocks and come back to see they had been replaced with ♥♥♥♥♥♥ colored ones like Really..... i had purchased those with real money and the tech tree was great now you can put a Crap ton of the OP wepons on your craft and its crappy how you can have 5 DIFFRENT guns on one craft Really Thats just bad and now Little Turds with money have things that are op and stuff and it makes the game Boring i keep wanting to play but i just cant beacuse its painful some matches are great but alot of them you lose its really anoying when you are getting bombarded with misslels and crap i hope freejam reverts the game to what it used to be and not a piece of crap and it looks like freejam is just tyring to make MONEY now when you open a crate and see what you may be able to get if you buy premium Freejam You had a Great Game Bring Back Old times Whan the game wasnt ♥♥♥♥♥♥.   \n",
       "12279  Early Access ReviewThe game is configured by default to only run on one CPU core, only utilizes 150MB of VRAM, has mouse smoothing enabled, is framelocked to 60FPS, and the vertical camera moves slower than the horizontal camera. None of these settings can be changed without delving into several .ini files.Every single class moves and turns with ASDW, and straves with Q E, turning the camera with right clicks... except berserker, which inexplicably strafes with A D and has the camera locked to the mouse. This makes clicking several important UI elements which cannot be set to a hotkey a bit frustrating, and when a loot roll pops up your mouse completely stops controlling your camera until you bid on the item... even if you are in the middle of fighting a boss. This jarring transition got me killed several times.Every single skill description seems to have been run through google translate and babelfish several times to the point where I have no idea what most of my skills do. There is an ability which can be upgraded to \"Increases the cooldown cooldown, but further reduces cooldown cooldown.\" What??? My main ability has dozens of little white boxes in the tooltip, signifying invalid characters. When you level up, the game says \"WELCOME TO 2LEVEL\".The chat censorship is so intense that the word \"mage\" is censored. Why? Because \"ag\" is apparently lewd. You cannot tell someone that you'll meet them in an hour, because \"hour\" is censored... because it contains the letters \"ho\". The GMs accidentally censored themselves in a server message ironically apologizing for the restrictive chat filter, because the \"se\" in cause is filtered.More than half of my \"playtime\" was spent staring at an offline server or a queue.... this was a horrible cash grab by neowiz and I should have seen it coming. The game is almost unplayable in its current state, and even if you could play it... you wouldn't want to.   \n",
       "7529                                                                                                                                                                                                                                                                                                                                                                                                                                                                                                                                                                                                                                                                                                                                                                                                                                                                                                                                                                                                                                                                                                                                                                                                                                                                                                                                                                                                                                         Super fun and addicting. The game makes it fun to do both building and fighting, and makes it so its hard to get bored of either. The grinding for mounts, ores, levels, etc, makes it hard to stop playing after you start. Still, over the past day or two, it's basically been a lag simulator for me. That doesn't make it any worse of a game, especially since I think part of it has to do with my computer, so I would still definitely recommend Trove, as it is the only free to play game that I have enjoyed without spending any money on it.   \n",
       "16374                                                                                                                                                                                                                                                                                                                                                                                                                                                                                                                                                                                                                                                                                                                                                                                                                                                                                                                                                                                                                                                                                                                                                                                                                                                                                                                                                                                                                                                                                                                                                                                                                                                                                                                                                                    I love this game so much. i love taking care of guns IRL and when a basic cleaning isnt enough i pop out this game for more details on furhter disassembly for cleaning. highly reccomend this game to all gun lovers like me.   \n",
       "5373                                                                                                                                                                                                                                                                                                                                                                                                                                                                                                                                                                                                                                                                                                                                                                                                                                                                                                                                                                                                                                                                                                                                   Meh...It's somewhat fun.  Here's my issue:  The game kinda boot-to-the-neck grinds your face.  The tutorial I get...do this, okay now do this.  But after the tutorial, the game still doesn't let you really play to your liking.  It still tells you what you  can do next, which is only ever one option.  Basically, most of the game is click next to continue, and that button moves.  Then you get to battle, yay, then go back to click next to continue.  What's that? You wanted to buy more consumables to help you? Nah, you gotta buy a tank from another country now.  But I wanna upgrade my gun!  Tough, now sell that important thing you probably will need.  But I wanted that, here, let me buy one back from the shop...nah, time for battle!♥♥♥♥ that, ♥♥♥♥ this game.  If I wanted a comic about tanks/video games, I'da downloaded that.   \n",
       "3178                                                                                                                                                                                                                                                                                                                                                                                                                                                                                                                                                                                                                                                                                                                                                                                                                                                                                                                                                                                                                                                                                                                                                                                                                                                                                                                                                                                          There are no words to describe how bad this game is.You spend alot of time grinding up the British tank tech tree to find that all teir 5 tanks can be penned by a teir 3 tank. The Conq is one of the worst tanks in the British Tech tree. 120mm with 361 pen. HA What a joke that is. HESH. Waste of time. If you want to enjoy this game. Spend money. Get IS-2. Grind up to T-10m Enjoy making the brits rage.This game should get their mechanics in the game to work first before releasing more tanks that will be terrible. The only tank that works in the British Tech tree is  the Cent MK.3.   \n",
       "\n",
       "       user_suggestion  \\\n",
       "9753                 1   \n",
       "11527                1   \n",
       "13866                0   \n",
       "9807                 1   \n",
       "6214                 1   \n",
       "148                  1   \n",
       "4349                 0   \n",
       "11133                1   \n",
       "6054                 1   \n",
       "5628                 0   \n",
       "118                  0   \n",
       "16465                1   \n",
       "16748                0   \n",
       "81                   1   \n",
       "14593                0   \n",
       "12279                0   \n",
       "7529                 1   \n",
       "16374                1   \n",
       "5373                 0   \n",
       "3178                 0   \n",
       "\n",
       "                                                                                                                                                                                                                                                                                                                                                                                                                                                                                                                                                                                                                                                                Tokens  \\\n",
       "9753                                                          [ , Swank, Animu, Simulator, Have, you, ever, wanted, to, be, a, cliche, Shounen, Protagonist, ?, Then, this, is, the, game, for, you, !, !, !, This, game, is, AWESOME, !, well, ..., now, it, is, ..., As, many, of, you, can, tell, ,, this, game, has, received, a, LOT, of, flak, after, ADDing, the, unbalanced, charactersAdd, (, prompting, my, joke, above, ), and, Lu, /, Ciel, (, No, I, did, n't, randomly, throw, in, a, slash, the, character, is, 2, different, people).These, characters, were, able, to, (, once, awakened, ), keep, an, enemy, in, a, combo, for, EVER, (, which, ...]   \n",
       "11527                                                                                      [Early, Access, ReviewWith, my, little, time, playing, ,, I, 've, experienced, everything, I, need, to, write, a, solid, review, ., It, 's, good, ., It, 's, not, going, to, blow, you, away, by, any, means, ,, and, it, 's, not, going, to, make, you, want, to, throw, your, computer, out, the, window, ., It, 's, in, the, sweet, spot, of, good, ,, and, bad, ., It, 's, what, you, 'd, expect, from, a, F2P, First, Person, Shooter, ., What, you, would, n't, expect, is, ,, a, non, -, pay, to, win, aspect, to, the, game, ., Gaining, ingame, currency, is, ...]   \n",
       "13866                                           [DON'T, PUT, A, SINGLE, SECOND, OF, YOUR, TIME, OR, MONEY, IN, THIS, GAME!!!!!!I, did, n't, play, this, game, ,, I, downloaded, more, than, 5Gb, just, to, write, this, warning, ,, because, ..., let, me, tell, you, a, history, ., Back, in, 2012~, more, or, less, there, was, a, hype, over, a, mod, for, ARMA, II, called, DayZ.It, was, all, the, rage, ,, because, was, something, new, ,, multiplayer, in, a, huge, map, where, everyone, fights, for, themselves, and, have, to, survive, and, care, for, your, basic, needs, like, food, ,, water, ,, etc, ., Then, someone, very, greedy, decided, to, ...]   \n",
       "9807                                                                                                                                                                                                                                                                           [Fun, with, friends, ,, a, little, repetitive, if, you, 're, playing, alone, ., Recommended, to, play, with, friends, and, create, a, guild, to, get, guild, buffs, ., Pretty, common, equipment, upgrade, system, +1, ,, +2, ,, +3, ..., with, a, chance, to, break, /, lose, enchantment, ..., etc, ., Plus, ,, all, the, female, characters, have, huge, breasts, ., Recommended, .]   \n",
       "6214                                                                                                                                                                                                                                                                                                                                                                       [Early, Access, ReviewASWSOME, ., This, is, in, my, favourite, game, list, ,, omg, its, a, ♥, ♥, ♥, ♥, ing, good, game, ,, i, can, kill, nazis, guys, ., You, can, drive, :, tanks, ,, motos, ,, cars, ,, planes, ,, everything, in, a, war, ., PLai, it, its, free, and, its, AWSOME, ...]   \n",
       "148                                                                                                                                                                                                                  [Let, 's, summarize, my, experience, so, far, ., For, that, ,, I, will, be, using, the, vinesauce, advisory, spooky, scale, system, of, spooks, ., Not, spooky, :, its, safe, but, always, be, alert, for, SpookySpoopy, :, no, Spooky, nearby, but, I, 'm, kind, of, scared, anywayP, spoopy, :, imminent, danger, of, SpookySpooky, :, there, s, a, Spooky, behind, you, look, out2spooky, :, it, 's, too, late, ,, a, Spooky, is, inside, you]   \n",
       "4349                                                                                   [What, 's, this, ?, Yu, -, Gi, -, Oh, !, board, for, ants?Well, ,, if, you, never, played, Yu, -, Gi, -, Oh, !, before, ,, and/or, do, n't, have, any, deck, in, particular, you, would, like, to, play, which, requires, more, than, 3, board, slots, (, like, Law, of, the, Normal, or, Destiny, Board, ), this, game, is, for, you, ., Somewhat, canon, rules, ,, good, olden, card, -, os, (, think, heartstone, before, GVG, ), ,, and, microtransactions, (, i, get, it, ,, you, need, to, earn, something, to, stay, afloat, ., But, ONE, deck, slot, and, paywall, ...]   \n",
       "11133                                                                                                                                                                  [Early, Access, ReviewHonestly, the, most, fun, i, ve, had, playing, an, online, CCG, ., Hearthstone, never, did, hold, my, attention, well, and, i, was, always, wanting, a, better, Magic, the, Gathering, online, game, ., Now, i, ve, got, it, ., A, game, system, with, mechanics, reminiscent, of, MTG, but, with, a, way, better, client, that, is, streamlined, for, fast, and, fun, games, ., I, would, highly, recommend, this, game, to, new, and, seasoned, CCG, players, alike, .]   \n",
       "6054                                                                                                                                                                                                                                                                                                                     [Nothing, really, wrong, with, this, game, other, than, the, fact, that, the, controls, are, hard, to, grasp, ,, even, in, tutorials, ., There, needs, to, be, less, of, a, (, tokyo, ), drift, in, order, to, make, it, a, simpler, ,, more, realistic, game, ., Thus, being, said, ,, great, game, for, the, experienced, flight, gamer, .]   \n",
       "5628                                                                                                                                                                                                                                                                                                                                                                                                [all, the, rejects, who, ca, nt, play, the, real, version, of, tanks, play, this, ., you, have, all, these, idiots, rush, in, with, their, light, tanks, and, expect, to, destroy, the, enemy, heavies, ., horrible, idea, from, a, horrible, russian, company, .]   \n",
       "118                                                                                                                      [I, recently, heard, about, spooky, 's, house, of, jumpscares, from, word, of, mouth, ., hearing, that, it, was, free, ,,  , downloaded, it, as, fast, as, i, could.but, wait, ,, it, does, n't, work.the, sound, is, glitchy, and, broken, ,, making, it, the, most, frightening, thing, i, 'm, going, to, see, in, this, game.if, i, press, a, key, ,, the, game, crashes, ., simple, as, that, ., considering, i, HAVE, to, press, keys, to, get, past, the, title, screen, ,, i, obviously, did, n't, get, far.broken, mess, of, code, .]   \n",
       "16465                                                   [When, you, first, start, the, game, you, may, think, .., ugh, ,, this, looks, dumb, and, i, m, disspointed, ., DO, NOT, HOLD, ONTO, THAT, FEELING, ., The, desighn, of, this, game, is, rediculous, ., It, is, just, excellent, ,, Break, down, a, weapon, as, it, teaches, you, to, a, great, model, detail, ., Enhance, your, memory, skills, ,, learn, all, the, names, of, parts, ., Different, modes, from, basic, field, strip, to, click, and, it, goes, with, out, mistake, ., Each, weapon, comes, with, myriad, photos, ,, links, to, the, manufacturer, ,, youtube, clips, ,, etc, et, al, ., ...]   \n",
       "16748                                                                                                                                                                                                                                                                                                                                                                                      [THIS, GAME, RUNS, THROUGH, THEIR, STUPID, WEBSITE, ,, NOT, STEAM(PARTY, OPTIONS, ), ., I, JUST, WANTED, TO, PLAY, WITH, FRIENDS, ., FORCES, YOU, TO, DO, TUTORIAL, ,, THEN, FORCES, YOU, TO, PLAY, ONLINE, AGAINST, A, RANDOM, OPPONENT, ,, THEN, OTHER, DIRTY, THINGS, .]   \n",
       "81                                                                                                                    [Early, Access, Reviewokay, ,, i, Have, n't, made, it, through, the, last, 200, rooms, yet, ,, but, i, can, alrEady, say, ,, this, game, is, easiLy, the, most, terrifying, game, i, 've, ever, Played, or, seen, ,, it, has, had, so, many, moments, that, have, tempted, me, to, shut, the, game, off, (, iM, talking, to, you, ,, deer, god, ), and, just, wow, this, gamE, was, so, well, made, ., anyone, who, enjoys, the, horror, genre, should, definetly, have, go, with, this, one, ., P.S, can, anyone, find, my, secret, message, ?]   \n",
       "14593                                 [Product, received, for, freeEarly, Access, ReviewFreejam, has, made, there, game, ♥, ♥, ♥, ♥, ♥, ♥, once, agian, with, there, EPIC, loot, crates, the, only, thing, good, about, the, \", Boxes, \", is, nothing, the, flak, cannon, takes, no, skill, nither, dose, the, missle, launcher, and, the, shotgun, its, BORING, when, i, can, oneshot, somebody, like, WTF, it, was, a, great, game, i, had, purchased, the, CC, or, something, and, the, Better, blocks, and, come, back, to, see, they, had, been, replaced, with, ♥, ♥, ♥, ♥, ♥, ♥, colored, ones, like, Really, ....., i, had, purchased, those, with, real, ...]   \n",
       "12279  [Early, Access, ReviewThe, game, is, configured, by, default, to, only, run, on, one, CPU, core, ,, only, utilizes, 150, MB, of, VRAM, ,, has, mouse, smoothing, enabled, ,, is, framelocked, to, 60FPS, ,, and, the, vertical, camera, moves, slower, than, the, horizontal, camera, ., None, of, these, settings, can, be, changed, without, delving, into, several, .ini, files, ., Every, single, class, moves, and, turns, with, ASDW, ,, and, straves, with, Q, E, ,, turning, the, camera, with, right, clicks, ..., except, berserker, ,, which, inexplicably, strafes, with, A, D, and, has, the, camera, locked, to, the, mouse, ., This, makes, ...]   \n",
       "7529                                                                                [Super, fun, and, addicting, ., The, game, makes, it, fun, to, do, both, building, and, fighting, ,, and, makes, it, so, its, hard, to, get, bored, of, either, ., The, grinding, for, mounts, ,, ores, ,, levels, ,, etc, ,, makes, it, hard, to, stop, playing, after, you, start, ., Still, ,, over, the, past, day, or, two, ,, it, 's, basically, been, a, lag, simulator, for, me, ., That, does, n't, make, it, any, worse, of, a, game, ,, especially, since, I, think, part, of, it, has, to, do, with, my, computer, ,, so, I, would, still, definitely, recommend, ...]   \n",
       "16374                                                                                                                                                                                                                                                                                                                                                                               [I, love, this, game, so, much, ., i, love, taking, care, of, guns, IRL, and, when, a, basic, cleaning, is, nt, enough, i, pop, out, this, game, for, more, details, on, furhter, disassembly, for, cleaning, ., highly, reccomend, this, game, to, all, gun, lovers, like, me, .]   \n",
       "5373                                                                                                                      [Meh, ..., It, 's, somewhat, fun, .,  , Here, 's, my, issue, :,  , The, game, kinda, boot, -, to, -, the, -, neck, grinds, your, face, .,  , The, tutorial, I, get, ..., do, this, ,, okay, now, do, this, .,  , But, after, the, tutorial, ,, the, game, still, does, n't, let, you, really, play, to, your, liking, .,  , It, still, tells, you, what, you,  , can, do, next, ,, which, is, only, ever, one, option, .,  , Basically, ,, most, of, the, game, is, click, next, to, continue, ,, and, that, button, moves, .,  , Then, ...]   \n",
       "3178                                                                                                             [There, are, no, words, to, describe, how, bad, this, game, is, ., You, spend, alot, of, time, grinding, up, the, British, tank, tech, tree, to, find, that, all, teir, 5, tanks, can, be, penned, by, a, teir, 3, tank, ., The, Conq, is, one, of, the, worst, tanks, in, the, British, Tech, tree, ., 120, mm, with, 361, pen, ., HA, What, a, joke, that, is, ., HESH, ., Waste, of, time, ., If, you, want, to, enjoy, this, game, ., Spend, money, ., Get, IS-2, ., Grind, up, to, T-10, m, Enjoy, making, the, brits, rage, ., This, game, ...]   \n",
       "\n",
       "                                                                                                                                                                                                                                                                                                                                                                                                                                                                                                                                                                                                                                                                                                                                                                           ProcessTokens  \n",
       "9753                                                                                                                                                                                                                                                                                                                                                                                                                                           [swank, simulator, cliche, protagonist, game, game, awesome, tell, game, received, lot, flak, unbalanced, joke, randomly, throw, slash, character, different, able, enemy, broke, causing, outrage, finally, new, old, new, time, m, writing, assume, gon, na, completely, anyways, game, fun, incredibly, fun, highly, promise, wo, let]  \n",
       "11527                                                                                                                                                                                                                                                                       [early, access, little, time, experienced, need, write, solid, review, good, going, blow, away, going, want, throw, computer, window, sweet, spot, good, bad, expect, person, shooter, expect, non, pay, win, aspect, game, gaining, currency, likely, bring, want, visit, shop, paying, try, generic, arcade, style, shooter, running, gunning, pretty, extensive, game, recommend, hop, fun, said, game, seriously, probably, going, die, lot, raging, fun, run, gun, fun, overall, pretty, solid, paying]  \n",
       "13866                                                                                                                                                                                                                             [single, second, time, money, play, game, write, warning, let, tell, history, rage, new, huge, map, survive, care, basic, need, like, food, water, greedy, decided, game, ride, success, fell, trap, told, awesome, game, better, course, stable, corrected, timely, manner, lot, angry, people, cheat, ban, random, proper, decided, ban, random, scare, need, work, guess, led, mass, negative, infestation, survivor, got, new, poor, feel, new, eventually, lost, new, publisher, game, game, horrible, lot, horrible, publisher, developer, game]  \n",
       "9807                                                                                                                                                                                                                                                                                                                                                                                                                                                                                                                                                                                                                             [fun, little, repetitive, play, create, guild, guild, pretty, common, equipment, upgrade, system, chance, break, lose, enchantment, plus, female, huge]  \n",
       "6214                                                                                                                                                                                                                                                                                                                                                                                                                                                                                                                                                                                                                                                                                                                [early, access, game, list, ing, good, game, kill, drive, war, free]  \n",
       "148                                                                                                                                                                                                                                                                                                                                                                                                                                                                                                                                                                                                               [let, summarize, experience, far, advisory, spooky, scale, system, spooky, safe, alert, spooky, nearby, kind, imminent, danger, s, spooky, look, late, spooky, inside]  \n",
       "4349                                                                                                                                                                                                                                                                                                                                                                                                                                                                                                               [oh, board, oh, deck, particular, like, play, board, like, law, normal, destiny, board, game, somewhat, canon, good, olden, card, o, think, need, earn, stay, afloat, deck, slot, taste, tasted, oh, want, crushed, looking, play, casual, card, game, brave, tablet]  \n",
       "11133                                                                                                                                                                                                                                                                                                                                                                                                                                                                                                                                                  [early, access, fun, hearthstone, hold, attention, wanting, better, magic, gathering, game, got, game, system, mechanic, reminiscent, way, better, client, streamlined, fast, fun, highly, recommend, game, new, seasoned, alike]  \n",
       "6054                                                                                                                                                                                                                                                                                                                                                                                                                                                                                                                                                                                                                                                              [wrong, game, fact, hard, grasp, need, drift, order, simpler, realistic, game, said, great, game, experienced, flight]  \n",
       "5628                                                                                                                                                                                                                                                                                                                                                                                                                                                                                                                                                                                                                                                                          [play, real, version, play, rush, light, expect, destroy, enemy, heavy, horrible, idea, horrible, company]  \n",
       "118                                                                                                                                                                                                                                                                                                                                                                                                                                                                                                                                                                        [recently, spooky, house, word, mouth, hearing, free, fast, wait, sound, broken, making, frightening, thing, going, press, key, game, simple, considering, press, past, title, screen, obviously, mess, code]  \n",
       "16465                                                                                                                                                                                                                                                                                                                                                    [start, game, think, ugh, dumb, m, hold, feeling, game, excellent, break, weapon, great, model, detail, enhance, memory, learn, different, basic, field, strip, click, go, mistake, weapon, come, myriad, link, manufacturer, clip, al, going, add, promise, point, quick, slipshod, way, addition, maybe, bag, oh, good, job, company, tiny, overlook, matrix, fair, pay, advance, better, advance, reasonable, manner, kudos]  \n",
       "16748                                                                                                                                                                                                                                                                                                                                                                                                                                                                                                                                                                                                                                                                                                                      [game, stupid, play, tutorial, play, random, opponent, dirty]  \n",
       "81                                                                                                                                                                                                                                                                                                                                                                                                                                                                                                                                                                                                                                                [early, access, game, easily, terrifying, game, seen, shut, game, talking, deer, god, wow, game, horror, genre, find, secret, message]  \n",
       "14593                                                                                                                                                                                                                                                                                                                      [product, received, access, game, epic, loot, thing, good, flak, cannon, skill, nither, dose, launcher, shotgun, boring, somebody, like, great, game, better, come, colored, like, real, money, tech, tree, great, crap, ton, craft, craft, s, bad, little, money, stuff, game, boring, wanting, play, painful, great, lose, getting, crap, hope, game, piece, crap, like, money, open, crate, able, buy, premium, great, game, bring, old, time, whan, game]  \n",
       "12279  [early, access, game, default, run, core, mouse, smoothing, vertical, camera, horizontal, camera, single, class, turn, q, e, turning, camera, right, berserker, inexplicably, d, camera, locked, mouse, important, set, bit, loot, roll, mouse, completely, camera, bid, item, middle, fighting, bos, jarring, transition, got, time, single, skill, description, run, translate, time, point, idea, ability, main, ability, little, white, invalid, level, game, welcome, chat, censorship, intense, word, mage, apparently, lewd, tell, meet, hour, hour, ho, accidentally, server, message, ironically, restrictive, chat, filter, se, cause, half, playtime, spent, staring, server, queue, horrible, cash, grab, seen, coming, game, unplayable, current, state, play, want]  \n",
       "7529                                                                                                                                                                                                                                                                                                                                                                                                                                                                                                                                                     [super, fun, game, fun, building, fighting, hard, grinding, hard, stop, start, past, day, basically, lag, simulator, worse, game, especially, think, computer, definitely, recommend, trove, free, play, game, spending, money]  \n",
       "16374                                                                                                                                                                                                                                                                                                                                                                                                                                                                                                                                                                                                                                                                       [love, game, love, taking, care, basic, cleaning, pop, game, disassembly, cleaning, highly, game, gun, like]  \n",
       "5373                                                                                                                                                                                                                                                                                                                                                                                                                                                       [somewhat, fun, issue, game, boot, neck, face, tutorial, tutorial, game, let, play, liking, option, basically, game, click, continue, button, battle, click, continue, buy, help, got, ta, buy, tank, country, upgrade, gun, tough, sell, important, thing, probably, need, let, buy, shop, time, battle, game, comic, video]  \n",
       "3178                                                                                                                                                                                                                                                                                                                                                                                                                                                                                                                       [describe, bad, game, spend, time, grinding, tank, tech, tree, find, tank, worst, tech, tree, pen, ha, joke, waste, time, want, enjoy, game, spend, money, grind, m, enjoy, making, rage, game, mechanic, game, work, terrible, tank, work, tech, tree, cent]  "
      ]
     },
     "execution_count": 16,
     "metadata": {},
     "output_type": "execute_result"
    }
   ],
   "source": [
    "df['ProcessTokens'] = list_of_process_tokens    \n",
    "df.sample(20)"
   ]
  },
  {
   "cell_type": "code",
   "execution_count": 17,
   "id": "0122b2a4-f5ef-4f5c-8428-b285415e8a7e",
   "metadata": {},
   "outputs": [],
   "source": [
    "#JUST FOR FUN :)\n",
    "#most common words for each category (user_suggestion=1 OR user_suggestion=0)\n",
    "\n",
    "def words_frequency(data, rating_col, token_col, rating_nr):\n",
    "    all_rating_tokens = []\n",
    "    tokens = list(data[data[rating_col] == rating_nr][token_col])\n",
    "    for i in tokens:\n",
    "        for j in i:\n",
    "            all_rating_tokens.append(j)\n",
    "                \n",
    "    freq = nltk.FreqDist(all_rating_tokens)\n",
    "    print(freq.most_common()[0:20])\n",
    "    freq.plot(10, cumulative=False)\n",
    "    return freq, all_rating_tokens"
   ]
  },
  {
   "cell_type": "code",
   "execution_count": 18,
   "id": "6f89dfc6-7b9c-4b54-b247-5109a0f04363",
   "metadata": {},
   "outputs": [
    {
     "name": "stdout",
     "output_type": "stream",
     "text": [
      "[('game', 28458), ('like', 7237), ('play', 6765), ('good', 4889), ('time', 4615), ('fun', 4397), ('early', 4005), ('access', 3939), ('free', 3795), ('nope', 3235), ('great', 3005), ('lot', 2629), ('people', 2616), ('new', 2556), ('want', 2130), ('need', 2113), ('better', 1960), ('best', 1903), ('way', 1868), ('try', 1643)]\n"
     ]
    },
    {
     "data": {
      "image/png": "[encoded data removed]",
      "text/plain": [
       "<Figure size 640x480 with 1 Axes>"
      ]
     },
     "metadata": {},
     "output_type": "display_data"
    }
   ],
   "source": [
    "freq, all_rating_tokens = words_frequency(df, 'user_suggestion', 'ProcessTokens', 1)"
   ]
  },
  {
   "cell_type": "code",
   "execution_count": 19,
   "id": "497e3b40-7d81-45f3-a118-ebfbb911bb81",
   "metadata": {},
   "outputs": [
    {
     "name": "stdout",
     "output_type": "stream",
     "text": [
      "[('game', 23714), ('play', 5105), ('like', 4795), ('time', 4427), ('good', 3012), ('access', 2963), ('early', 2915), ('money', 2892), ('fun', 2566), ('pay', 2379), ('new', 2264), ('want', 2099), ('people', 2095), ('way', 1685), ('free', 1644), ('bad', 1559), ('need', 1553), ('buy', 1530), ('better', 1513), ('lot', 1345)]\n"
     ]
    },
    {
     "data": {
      "image/png": "[encoded data removed]",
      "text/plain": [
       "<Figure size 640x480 with 1 Axes>"
      ]
     },
     "metadata": {},
     "output_type": "display_data"
    }
   ],
   "source": [
    "freq, all_rating_tokens = words_frequency(df, 'user_suggestion', 'ProcessTokens', 0)"
   ]
  },
  {
   "cell_type": "code",
   "execution_count": 20,
   "id": "86e0f2c2",
   "metadata": {
    "scrolled": true
   },
   "outputs": [],
   "source": [
    "#Converting the datatype of processtokens fromm list to string, so that our vectorization works right.\n",
    "df['ProcessTokens'] = df['ProcessTokens'].astype(\"string\")"
   ]
  },
  {
   "cell_type": "code",
   "execution_count": 21,
   "id": "fd9183de",
   "metadata": {},
   "outputs": [
    {
     "name": "stdout",
     "output_type": "stream",
     "text": [
      "(13995, 4)\n",
      "(13995,)\n",
      "(1749, 4)\n",
      "(1749,)\n",
      "(1750, 4)\n",
      "(1750,)\n"
     ]
    },
    {
     "data": {
      "text/plain": [
       "(None, None)"
      ]
     },
     "execution_count": 21,
     "metadata": {},
     "output_type": "execute_result"
    }
   ],
   "source": [
    "# train test split before normalization\n",
    "from sklearn.model_selection import train_test_split\n",
    "\n",
    "X = df.drop(columns=['user_suggestion','review_id', 'year']).copy()\n",
    "y = df['user_suggestion']\n",
    "\n",
    "X_train, X_rem, y_train, y_rem = train_test_split(X, y, train_size=0.8)\n",
    "\n",
    "X_valid, X_test, y_valid, y_test = train_test_split(X_rem, y_rem, test_size=0.5)\n",
    "\n",
    "print(X_train.shape), print(y_train.shape)\n",
    "print(X_valid.shape), print(y_valid.shape)\n",
    "print(X_test.shape), print(y_test.shape)"
   ]
  },
  {
   "cell_type": "code",
   "execution_count": 29,
   "id": "3483537f",
   "metadata": {},
   "outputs": [
    {
     "name": "stdout",
     "output_type": "stream",
     "text": [
      "[[False False False False]\n",
      " [False False False False]\n",
      " [False False False False]\n",
      " ...\n",
      " [False False False False]\n",
      " [False False False False]\n",
      " [False False False False]]\n",
      "[False False False ... False False False]\n"
     ]
    }
   ],
   "source": [
    "#Check for NaN-Values\n",
    "print(pd.isna(X_train).values)\n",
    "print(pd.isna(y_train).values)"
   ]
  },
  {
   "cell_type": "code",
   "execution_count": 30,
   "id": "1ff490cc-3296-4c27-8560-dcb54f42838e",
   "metadata": {},
   "outputs": [],
   "source": [
    "#define text vectorizers (I used two different ones, later we can decide which one we should continue with)\n",
    "count_vectorizer = CountVectorizer()\n",
    "tfidf_vectorizer = TfidfVectorizer()"
   ]
  },
  {
   "cell_type": "code",
   "execution_count": 43,
   "id": "76438feb",
   "metadata": {},
   "outputs": [
    {
     "name": "stderr",
     "output_type": "stream",
     "text": [
      "/Users/soumyankar/.pyenv/versions/miniconda3-latest/lib/python3.9/site-packages/sklearn/utils/deprecation.py:87: FutureWarning: Function get_feature_names is deprecated; get_feature_names is deprecated in 1.0 and will be removed in 1.2. Please use get_feature_names_out instead.\n",
      "  warnings.warn(msg, category=FutureWarning)\n"
     ]
    }
   ],
   "source": [
    "#text vectorization with count_vectorizer\n",
    "#vectorization on train_dataset\n",
    "np.set_printoptions(threshold=sys.maxsize)\n",
    "def create_vectorized_dataset_count(data):\n",
    "    list_of_count_vectors = []\n",
    "    data = data.tolist() # converting to a list\n",
    "    count_vector = count_vectorizer.fit_transform(data)\n",
    "    count_array = count_vector.toarray()\n",
    "#     Uncomment the two lines below to see the count vector with feature names\n",
    "#     probably might also need to remove print truncation to see the whole thing.\n",
    "    dftemp = pd.DataFrame(data=count_array,columns = count_vectorizer.get_feature_names())\n",
    "    #return count_array # this is the 2d\n",
    "    return count_vector\n",
    "\n",
    "count_vector = create_vectorized_dataset_count(X_train['ProcessTokens']) # this becomes our count vectorization vector.\n",
    "# we can use thhis to train our model.\n"
   ]
  },
  {
   "cell_type": "code",
   "execution_count": null,
   "id": "647c83bc",
   "metadata": {
    "scrolled": true
   },
   "outputs": [],
   "source": []
  },
  {
   "cell_type": "code",
   "execution_count": 47,
   "id": "e8f4b007",
   "metadata": {},
   "outputs": [
    {
     "name": "stdout",
     "output_type": "stream",
     "text": [
      "(13995, 12716)\n"
     ]
    }
   ],
   "source": [
    "#text vectorization with tfidf_vectorizer\n",
    "#vectorization on train_dataset\n",
    "def create_vectorized_dataset_tfidf(data):\n",
    "    data = data.tolist()\n",
    "    tfidf_vector = tfidf_vectorizer.fit_transform(data)\n",
    "    tfidf_array = tfidf_vector.toarray()\n",
    "    # prinnting non-zero colummns\n",
    "    # dftemp = pd.DataFrame(data=tfidf_array, columns=tfidf_vectorizer.get_feature_names())\n",
    "    # print(dftemp)\n",
    "    #return tfidf_array\n",
    "    return tfidf_vector\n",
    "\n",
    "tfidf_vector = create_vectorized_dataset_tfidf(X_train['ProcessTokens'])\n",
    "\n",
    "print(tfidf_vector.shape)\n",
    "#df.head(1)"
   ]
  },
  {
   "cell_type": "markdown",
   "id": "6b0ff8c3-1f0f-46ee-bebe-deef16a3beaf",
   "metadata": {},
   "source": [
    "NOTE: use either Count_Vector or TF-IDF_Vectors column as the input for ML models\n",
    "\n",
    "Next steps: \n",
    "1. define different ML models to work with\n",
    "2. split the dataset (either Count_Vector or TF-IDF_Vectors) into training and testing data\n",
    "3. fit the training data to the models\n",
    "4. make predictions\n",
    "\n",
    "Further steps:\n",
    "\n",
    "5. evaluate each model using different evaluation methods (use the testing dataset for this)"
   ]
  },
  {
   "cell_type": "code",
   "execution_count": 49,
   "id": "092efcfb",
   "metadata": {},
   "outputs": [
    {
     "name": "stdout",
     "output_type": "stream",
     "text": [
      "n_samples: 1750, n_features: 12716\n"
     ]
    }
   ],
   "source": [
    "#transform count test data\n",
    "\n",
    "test_count_vector = count_vectorizer.transform(X_test['ProcessTokens'])\n",
    "print(\"n_samples: %d, n_features: %d\" % test_count_vector.shape)"
   ]
  },
  {
   "cell_type": "code",
   "execution_count": 41,
   "id": "dd7f0a89",
   "metadata": {},
   "outputs": [
    {
     "name": "stdout",
     "output_type": "stream",
     "text": [
      "n_samples: 1750, n_features: 12686\n"
     ]
    }
   ],
   "source": [
    "#transform tfidf test data\n",
    "\n",
    "test_tfidf_vector = tfidf_vectorizer.transform(X_test['ProcessTokens'])\n",
    "print(\"n_samples: %d, n_features: %d\" % test_tfidf_vector.shape)"
   ]
  },
  {
   "cell_type": "code",
   "execution_count": 56,
   "id": "57253233-3da0-4666-989d-1e89dc1eb729",
   "metadata": {},
   "outputs": [
    {
     "name": "stdout",
     "output_type": "stream",
     "text": [
      "Multinomial Naive Bayes model accuracy(in %): 81.82857142857142\n"
     ]
    }
   ],
   "source": [
    "#Naive Bayes with count vector\n",
    "\n",
    "from sklearn import metrics\n",
    "from sklearn.naive_bayes import MultinomialNB\n",
    "\n",
    "naive_bayes_classifier = MultinomialNB()\n",
    "naive_bayes_classifier.fit(count_vector, y_train)\n",
    "\n",
    "y_prediction = naive_bayes_classifier.predict(test_count_vector)\n",
    "\n",
    "print(\"Multinomial Naive Bayes model accuracy(in %):\", metrics.accuracy_score(y_test, y_prediction)*100)"
   ]
  },
  {
   "cell_type": "code",
   "execution_count": 57,
   "id": "d07028fc",
   "metadata": {},
   "outputs": [
    {
     "name": "stdout",
     "output_type": "stream",
     "text": [
      "kNN model accuracy(in %): 63.08571428571429\n"
     ]
    }
   ],
   "source": [
    "# Knn\n",
    "from sklearn.neighbors import KNeighborsClassifier\n",
    "knn = KNeighborsClassifier(n_neighbors=7)\n",
    "knn_clf = knn.fit(count_vector, y_train)\n",
    "knn_y_pred = knn_clf.predict(test_count_vector)\n",
    "\n",
    "\n",
    "print(\"kNN model accuracy(in %):\", metrics.accuracy_score(y_test, knn_y_pred)*100)\n"
   ]
  },
  {
   "cell_type": "code",
   "execution_count": 59,
   "id": "742c7bb3",
   "metadata": {},
   "outputs": [
    {
     "name": "stdout",
     "output_type": "stream",
     "text": [
      "LR model accuracy(in %): 81.82857142857142\n"
     ]
    },
    {
     "name": "stderr",
     "output_type": "stream",
     "text": [
      "/Users/soumyankar/.pyenv/versions/miniconda3-latest/lib/python3.9/site-packages/sklearn/linear_model/_logistic.py:444: ConvergenceWarning: lbfgs failed to converge (status=1):\n",
      "STOP: TOTAL NO. of ITERATIONS REACHED LIMIT.\n",
      "\n",
      "Increase the number of iterations (max_iter) or scale the data as shown in:\n",
      "    https://scikit-learn.org/stable/modules/preprocessing.html\n",
      "Please also refer to the documentation for alternative solver options:\n",
      "    https://scikit-learn.org/stable/modules/linear_model.html#logistic-regression\n",
      "  n_iter_i = _check_optimize_result(\n"
     ]
    }
   ],
   "source": [
    "# lr\n",
    "from sklearn.linear_model import LogisticRegression\n",
    "lr_clf = LogisticRegression()\n",
    "lr_clf.fit(count_vector, y_train)\n",
    "lr_y_pred = lr_clf.predict(test_count_vector)\n",
    "\n",
    "\n",
    "print(\"LR model accuracy(in %):\", metrics.accuracy_score(y_test, lr_y_pred)*100)"
   ]
  },
  {
   "cell_type": "code",
   "execution_count": 60,
   "id": "1d57ede3",
   "metadata": {},
   "outputs": [
    {
     "name": "stdout",
     "output_type": "stream",
     "text": [
      "Accuracy :  0.8182857142857143\n"
     ]
    }
   ],
   "source": [
    "from sklearn.metrics import confusion_matrix\n",
    "cm = confusion_matrix(y_test, lr_y_pred)\n",
    "from sklearn.metrics import accuracy_score \n",
    "print (\"Accuracy : \", accuracy_score(y_test, lr_y_pred))"
   ]
  },
  {
   "cell_type": "code",
   "execution_count": 66,
   "id": "160d5985",
   "metadata": {},
   "outputs": [
    {
     "data": {
      "image/png": "[encoded data removed]",
      "text/plain": [
       "<Figure size 640x480 with 2 Axes>"
      ]
     },
     "metadata": {},
     "output_type": "display_data"
    }
   ],
   "source": [
    "# printing confusion matrix\n",
    "from sklearn.metrics import ConfusionMatrixDisplay\n",
    "disp = ConfusionMatrixDisplay(confusion_matrix=cm,display_labels=clf.classes_)\n",
    "disp.plot()\n",
    "plt.show()"
   ]
  }
 ],
 "metadata": {
  "kernelspec": {
   "display_name": "Python 3 (ipykernel)",
   "language": "python",
   "name": "python3"
  },
  "language_info": {
   "codemirror_mode": {
    "name": "ipython",
    "version": 3
   },
   "file_extension": ".py",
   "mimetype": "text/x-python",
   "name": "python",
   "nbconvert_exporter": "python",
   "pygments_lexer": "ipython3",
   "version": "3.9.12"
  }
 },
 "nbformat": 4,
 "nbformat_minor": 5
}
