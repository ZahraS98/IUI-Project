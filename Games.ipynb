{
 "cells": [
  {
   "cell_type": "code",
   "execution_count": 1,
   "id": "45b06cf9-aa4d-45e0-a1d0-f85cf56e331a",
   "metadata": {},
   "outputs": [
    {
     "name": "stderr",
     "output_type": "stream",
     "text": [
      "[nltk_data] Downloading package stopwords to\n",
      "[nltk_data]     /Users/soumyankar/nltk_data...\n",
      "[nltk_data]   Package stopwords is already up-to-date!\n"
     ]
    }
   ],
   "source": [
    "#import necessary libraries\n",
    "import pandas as pd\n",
    "import nltk\n",
    "import sys # needed this for certain print options during debugging\n",
    "import numpy as np #lmao why did we not have this before\n",
    "from nltk.tokenize import word_tokenize\n",
    "nltk.download('stopwords')\n",
    "from nltk.corpus import stopwords\n",
    "import string\n",
    "from nltk.stem import WordNetLemmatizer\n",
    "from sklearn.feature_extraction.text import TfidfVectorizer\n",
    "from sklearn.feature_extraction.text import CountVectorizer\n",
    "import matplotlib.pyplot as plt"
   ]
  },
  {
   "cell_type": "code",
   "execution_count": 2,
   "id": "c3c3e8e2-7579-4ca0-949d-a7a336abdd4a",
   "metadata": {},
   "outputs": [
    {
     "data": {
      "text/html": [
       "<div>\n",
       "<style scoped>\n",
       "    .dataframe tbody tr th:only-of-type {\n",
       "        vertical-align: middle;\n",
       "    }\n",
       "\n",
       "    .dataframe tbody tr th {\n",
       "        vertical-align: top;\n",
       "    }\n",
       "\n",
       "    .dataframe thead th {\n",
       "        text-align: right;\n",
       "    }\n",
       "</style>\n",
       "<table border=\"1\" class=\"dataframe\">\n",
       "  <thead>\n",
       "    <tr style=\"text-align: right;\">\n",
       "      <th></th>\n",
       "      <th>review_id</th>\n",
       "      <th>title</th>\n",
       "      <th>tags</th>\n",
       "      <th>year</th>\n",
       "      <th>user_review</th>\n",
       "      <th>user_suggestion</th>\n",
       "      <th>url</th>\n",
       "    </tr>\n",
       "  </thead>\n",
       "  <tbody>\n",
       "    <tr>\n",
       "      <th>0</th>\n",
       "      <td>1</td>\n",
       "      <td>Spooky's Jump Scare Mansion</td>\n",
       "      <td>['Action', 'Adventure', 'Free to Play', 'Indie']</td>\n",
       "      <td>2016.0</td>\n",
       "      <td>I'm scared and hearing creepy voices.  So I'll pause for a moment and write a review while I wait for my heart beat to return to atleast somewhat calmer times.  This game is adorable and creepy like my happy tree friends but with the graphics sceme of my childhood (but more bubble and 'clean').  Hello 1990's.What charactes there are (that isnot trying to kill me) were likable and a bit odd.  I did do a few noob things though, such as:Oh look a class room full of ghosts from dead children, lets shine my flashlight on them and stand there staring at them..Or, hmm creepy music, I'll turn around and see if I can see what's chasing me.Never before in a game have I been this afraid of finding a locked door.</td>\n",
       "      <td>1</td>\n",
       "      <td>https://www.youtube.com/watch?v=48NzbFQebxg</td>\n",
       "    </tr>\n",
       "    <tr>\n",
       "      <th>1</th>\n",
       "      <td>2</td>\n",
       "      <td>Spooky's Jump Scare Mansion</td>\n",
       "      <td>['Action', 'Adventure', 'Free to Play', 'Indie']</td>\n",
       "      <td>2016.0</td>\n",
       "      <td>Best game, more better than Sam Pepper's YouTube account. 10/10What you'll need to play:A computerSome extra pants.Pros:Scary as hell.Fun.Adventure.Spooky.Did I forgot to mention that its scary as hell?You'll get more pants/briefs in your wardrobe.Time consuming if you're bored.Cons:Buying pants/briefs. You haven't downloaded it yet.</td>\n",
       "      <td>1</td>\n",
       "      <td>https://www.youtube.com/watch?v=48NzbFQebxg</td>\n",
       "    </tr>\n",
       "  </tbody>\n",
       "</table>\n",
       "</div>"
      ],
      "text/plain": [
       "   review_id                        title  \\\n",
       "0          1  Spooky's Jump Scare Mansion   \n",
       "1          2  Spooky's Jump Scare Mansion   \n",
       "\n",
       "                                               tags    year  \\\n",
       "0  ['Action', 'Adventure', 'Free to Play', 'Indie']  2016.0   \n",
       "1  ['Action', 'Adventure', 'Free to Play', 'Indie']  2016.0   \n",
       "\n",
       "                                                                                                                                                                                                                                                                                                                                                                                                                                                                                                                                                                                                                                                                                                                              user_review  \\\n",
       "0  I'm scared and hearing creepy voices.  So I'll pause for a moment and write a review while I wait for my heart beat to return to atleast somewhat calmer times.  This game is adorable and creepy like my happy tree friends but with the graphics sceme of my childhood (but more bubble and 'clean').  Hello 1990's.What charactes there are (that isnot trying to kill me) were likable and a bit odd.  I did do a few noob things though, such as:Oh look a class room full of ghosts from dead children, lets shine my flashlight on them and stand there staring at them..Or, hmm creepy music, I'll turn around and see if I can see what's chasing me.Never before in a game have I been this afraid of finding a locked door.   \n",
       "1                                                                                                                                                                                                                                                                                                                                                                                         Best game, more better than Sam Pepper's YouTube account. 10/10What you'll need to play:A computerSome extra pants.Pros:Scary as hell.Fun.Adventure.Spooky.Did I forgot to mention that its scary as hell?You'll get more pants/briefs in your wardrobe.Time consuming if you're bored.Cons:Buying pants/briefs. You haven't downloaded it yet.   \n",
       "\n",
       "   user_suggestion                                          url  \n",
       "0                1  https://www.youtube.com/watch?v=48NzbFQebxg  \n",
       "1                1  https://www.youtube.com/watch?v=48NzbFQebxg  "
      ]
     },
     "execution_count": 2,
     "metadata": {},
     "output_type": "execute_result"
    }
   ],
   "source": [
    "#load the dataset\n",
    "pd.set_option('display.max_colwidth', None)\n",
    "data = pd.read_csv('final_dataset.csv')\n",
    "data.head(2)"
   ]
  },
  {
   "cell_type": "code",
   "execution_count": 3,
   "id": "18ef51d8-5e40-4451-b434-2ecb4c899020",
   "metadata": {},
   "outputs": [
    {
     "data": {
      "text/plain": [
       "(17494, 7)"
      ]
     },
     "execution_count": 3,
     "metadata": {},
     "output_type": "execute_result"
    }
   ],
   "source": [
    "#dataset facts\n",
    "data.shape"
   ]
  },
  {
   "cell_type": "code",
   "execution_count": 4,
   "id": "a67e2a74-b520-4a97-97da-6392446bcbc9",
   "metadata": {
    "scrolled": true
   },
   "outputs": [
    {
     "data": {
      "text/plain": [
       "1    9968\n",
       "0    7526\n",
       "Name: user_suggestion, dtype: int64"
      ]
     },
     "execution_count": 4,
     "metadata": {},
     "output_type": "execute_result"
    }
   ],
   "source": [
    "#dataset facts\n",
    "data['user_suggestion'].value_counts()"
   ]
  },
  {
   "cell_type": "code",
   "execution_count": 5,
   "id": "216643b0-e7cd-49ac-b0cb-708cac9ba2cf",
   "metadata": {},
   "outputs": [
    {
     "data": {
      "text/plain": [
       "44"
      ]
     },
     "execution_count": 5,
     "metadata": {},
     "output_type": "execute_result"
    }
   ],
   "source": [
    "#dataset facts\n",
    "data['title'].nunique()"
   ]
  },
  {
   "cell_type": "code",
   "execution_count": 6,
   "id": "8f97e907",
   "metadata": {},
   "outputs": [
    {
     "data": {
      "text/plain": [
       "array([\"Spooky's Jump Scare Mansion\", 'Sakura Clicker', 'WARMODE',\n",
       "       'Fractured Space', 'Dota 2', 'Path of Exile', 'War Thunder',\n",
       "       'Ring of Elysium', 'Team Fortress 2', 'Yu-Gi-Oh! Duel Links',\n",
       "       'SMITE®', 'Brawlhalla', 'World of Tanks Blitz',\n",
       "       'DCS World Steam Edition', 'Heroes & Generals',\n",
       "       'The Elder Scrolls®: Legends™', 'Trove', 'Neverwinter',\n",
       "       'Realm Royale', 'PlanetSide 2', 'Realm of the Mad God', 'Elsword',\n",
       "       'theHunter Classic', 'Eternal Card Game', 'Black Squad',\n",
       "       'Freestyle 2: Street Basketball', 'Bless Online',\n",
       "       'RaceRoom Racing Experience', 'Fallout Shelter',\n",
       "       'Tactical Monsters Rumble Arena', 'Creativerse', 'Dreadnought',\n",
       "       'Infestation: The New Z', 'Shop Heroes', 'Robocraft',\n",
       "       'Business Tour - Board Game with Online Multiplayer',\n",
       "       'Crusaders of the Lost Idols', 'AdventureQuest 3D',\n",
       "       'Realm Grinder', 'World of Guns: Gun Disassembly',\n",
       "       'Bloons TD Battles', 'Cuisine Royale', 'School of Dragons',\n",
       "       'EverQuest II'], dtype=object)"
      ]
     },
     "execution_count": 6,
     "metadata": {},
     "output_type": "execute_result"
    }
   ],
   "source": [
    "# Adding tags to the games here\n",
    "data['title'].unique()"
   ]
  },
  {
   "cell_type": "code",
   "execution_count": 7,
   "id": "ce20d5d0",
   "metadata": {},
   "outputs": [
    {
     "name": "stderr",
     "output_type": "stream",
     "text": [
      "2023-02-04 14:37:56.655320: I tensorflow/core/platform/cpu_feature_guard.cc:193] This TensorFlow binary is optimized with oneAPI Deep Neural Network Library (oneDNN) to use the following CPU instructions in performance-critical operations:  AVX2 FMA\n",
      "To enable them in other operations, rebuild TensorFlow with the appropriate compiler flags.\n"
     ]
    }
   ],
   "source": [
    "# Data processing for removing stop words, lemmatization and stemmming, and english-only.\n",
    "# Importing all relevant libraries and functions here\n",
    "import spacy #load spacy\n",
    "from sklearn.pipeline import Pipeline # pipelining pre-processing\n",
    "from spacy.lang.en import English\n",
    "nlp = spacy.load(\"en_core_web_sm\")\n",
    "tokenizer = nlp.tokenizer"
   ]
  },
  {
   "cell_type": "code",
   "execution_count": 8,
   "id": "0bedf52d-4146-4ae7-828b-107e3c7828ab",
   "metadata": {},
   "outputs": [
    {
     "data": {
      "text/html": [
       "<div>\n",
       "<style scoped>\n",
       "    .dataframe tbody tr th:only-of-type {\n",
       "        vertical-align: middle;\n",
       "    }\n",
       "\n",
       "    .dataframe tbody tr th {\n",
       "        vertical-align: top;\n",
       "    }\n",
       "\n",
       "    .dataframe thead th {\n",
       "        text-align: right;\n",
       "    }\n",
       "</style>\n",
       "<table border=\"1\" class=\"dataframe\">\n",
       "  <thead>\n",
       "    <tr style=\"text-align: right;\">\n",
       "      <th></th>\n",
       "      <th>review_id</th>\n",
       "      <th>title</th>\n",
       "      <th>tags</th>\n",
       "      <th>year</th>\n",
       "      <th>user_review</th>\n",
       "      <th>user_suggestion</th>\n",
       "      <th>url</th>\n",
       "      <th>Tokens</th>\n",
       "    </tr>\n",
       "  </thead>\n",
       "  <tbody>\n",
       "    <tr>\n",
       "      <th>0</th>\n",
       "      <td>1</td>\n",
       "      <td>Spooky's Jump Scare Mansion</td>\n",
       "      <td>['Action', 'Adventure', 'Free to Play', 'Indie']</td>\n",
       "      <td>2016.0</td>\n",
       "      <td>I'm scared and hearing creepy voices.  So I'll pause for a moment and write a review while I wait for my heart beat to return to atleast somewhat calmer times.  This game is adorable and creepy like my happy tree friends but with the graphics sceme of my childhood (but more bubble and 'clean').  Hello 1990's.What charactes there are (that isnot trying to kill me) were likable and a bit odd.  I did do a few noob things though, such as:Oh look a class room full of ghosts from dead children, lets shine my flashlight on them and stand there staring at them..Or, hmm creepy music, I'll turn around and see if I can see what's chasing me.Never before in a game have I been this afraid of finding a locked door.</td>\n",
       "      <td>1</td>\n",
       "      <td>https://www.youtube.com/watch?v=48NzbFQebxg</td>\n",
       "      <td>[I, 'm, scared, and, hearing, creepy, voices, .,  , So, I, 'll, pause, for, a, moment, and, write, a, review, while, I, wait, for, my, heart, beat, to, return, to, atleast, somewhat, calmer, times, .,  , This, game, is, adorable, and, creepy, like, my, happy, tree, friends, but, with, the, graphics, sceme, of, my, childhood, (, but, more, bubble, and, ', clean, ', ), .,  , Hello, 1990's, ., What, charactes, there, are, (, that, isnot, trying, to, kill, me, ), were, likable, and, a, bit, odd, .,  , I, did, do, a, few, noob, things, though, ,, such, as, ...]</td>\n",
       "    </tr>\n",
       "  </tbody>\n",
       "</table>\n",
       "</div>"
      ],
      "text/plain": [
       "   review_id                        title  \\\n",
       "0          1  Spooky's Jump Scare Mansion   \n",
       "\n",
       "                                               tags    year  \\\n",
       "0  ['Action', 'Adventure', 'Free to Play', 'Indie']  2016.0   \n",
       "\n",
       "                                                                                                                                                                                                                                                                                                                                                                                                                                                                                                                                                                                                                                                                                                                              user_review  \\\n",
       "0  I'm scared and hearing creepy voices.  So I'll pause for a moment and write a review while I wait for my heart beat to return to atleast somewhat calmer times.  This game is adorable and creepy like my happy tree friends but with the graphics sceme of my childhood (but more bubble and 'clean').  Hello 1990's.What charactes there are (that isnot trying to kill me) were likable and a bit odd.  I did do a few noob things though, such as:Oh look a class room full of ghosts from dead children, lets shine my flashlight on them and stand there staring at them..Or, hmm creepy music, I'll turn around and see if I can see what's chasing me.Never before in a game have I been this afraid of finding a locked door.   \n",
       "\n",
       "   user_suggestion                                          url  \\\n",
       "0                1  https://www.youtube.com/watch?v=48NzbFQebxg   \n",
       "\n",
       "                                                                                                                                                                                                                                                                                                                                                                                                                                                                                                                                                                               Tokens  \n",
       "0  [I, 'm, scared, and, hearing, creepy, voices, .,  , So, I, 'll, pause, for, a, moment, and, write, a, review, while, I, wait, for, my, heart, beat, to, return, to, atleast, somewhat, calmer, times, .,  , This, game, is, adorable, and, creepy, like, my, happy, tree, friends, but, with, the, graphics, sceme, of, my, childhood, (, but, more, bubble, and, ', clean, ', ), .,  , Hello, 1990's, ., What, charactes, there, are, (, that, isnot, trying, to, kill, me, ), were, likable, and, a, bit, odd, .,  , I, did, do, a, few, noob, things, though, ,, such, as, ...]  "
      ]
     },
     "execution_count": 8,
     "metadata": {},
     "output_type": "execute_result"
    }
   ],
   "source": [
    "#tokenization\n",
    "def create_tokenized_dataset(data):\n",
    "    tokens_list = []\n",
    "\n",
    "    for j in data['user_review']:\n",
    "#         tokens_list.append(word_tokenize(j))\n",
    "        spacy_tokens = [token.orth_ for token in tokenizer(j)]\n",
    "        tokens_list.append(spacy_tokens)\n",
    "    data['Tokens'] = tokens_list   \n",
    "    return data\n",
    "\n",
    "df = create_tokenized_dataset(data)\n",
    "df.head(1)"
   ]
  },
  {
   "cell_type": "code",
   "execution_count": 9,
   "id": "33f6d3a4-41b1-4c48-80eb-5a65b3434371",
   "metadata": {},
   "outputs": [],
   "source": [
    "#define lemmatizer\n",
    "lemmatizer = WordNetLemmatizer()"
   ]
  },
  {
   "cell_type": "code",
   "execution_count": 10,
   "id": "c10c7d2f-c6f6-4f31-b4ec-546831a1d6f0",
   "metadata": {},
   "outputs": [],
   "source": [
    "#define stopwords\n",
    "stopWords = set(stopwords.words('english'))\n",
    "custom_stop = [\"'m\", \"'ll\", \"'s\", \"'re\", \"n't\", \"'ve\"]\n",
    "stop_words = set(list(stopWords) + custom_stop)"
   ]
  },
  {
   "cell_type": "code",
   "execution_count": 11,
   "id": "2a6017c0-5425-4ee7-a0ef-990aacbbe53d",
   "metadata": {},
   "outputs": [],
   "source": [
    "#define punctuation\n",
    "custom_punc = [\"``\", \"''\", \"--\", \"...\",\"♥\"]\n",
    "punctuation = set(list(string.punctuation) + custom_punc)"
   ]
  },
  {
   "cell_type": "code",
   "execution_count": 12,
   "id": "85a32684",
   "metadata": {},
   "outputs": [
    {
     "name": "stderr",
     "output_type": "stream",
     "text": [
      "[nltk_data] Downloading package words to\n",
      "[nltk_data]     /Users/soumyankar/nltk_data...\n",
      "[nltk_data]   Package words is already up-to-date!\n"
     ]
    }
   ],
   "source": [
    "# nltk for removing english words\n",
    "nltk.download('words')\n",
    "words = set(nltk.corpus.words.words())"
   ]
  },
  {
   "cell_type": "code",
   "execution_count": 13,
   "id": "26bab3cb-67f6-4f86-b89a-05770e444aed",
   "metadata": {},
   "outputs": [],
   "source": [
    "#data preprocessing: define functions\n",
    "\n",
    "# created a function to deal with that pesky steam heart emoticon\n",
    "# print(ord('♥'))\n",
    "def remove_steam_heart(tokens):\n",
    "    for token in tokens:\n",
    "        if len(token) == 1:\n",
    "            if(ord(token) == 9829): # 9829 is the unicode for the heart emoticon\n",
    "                tokens.remove(token)\n",
    "    return tokens\n",
    "\n",
    "#lower case\n",
    "def lower_case(tokens):\n",
    "    tokens = [token.lower() for token in tokens]\n",
    "    return tokens\n",
    "\n",
    "#remove stopwords\n",
    "def remove_stopwords(tokens):\n",
    "#     tokens = [token for token in tokens if token not in stop_words]\n",
    "# Using the spacy stop words set instead of the english stop words\n",
    "    tokens = [token for token in tokens if token not in nlp.Defaults.stop_words]\n",
    "    return tokens\n",
    "\n",
    "#remove digits\n",
    "def remove_digits(tokens):\n",
    "    for token in tokens:\n",
    "        if token.isdigit():\n",
    "            tokens.remove(token)\n",
    "    return tokens\n",
    "\n",
    "#remove punctuation\n",
    "def remove_punctuation(tokens):\n",
    "    tokens = [token for token in tokens if token not in punctuation]\n",
    "    return tokens\n",
    "\n",
    "#lemmatization\n",
    "def lemmatize_words(tokens):\n",
    "    for token in range(len(tokens)):\n",
    "        tokens[token] = lemmatizer.lemmatize(tokens[token])\n",
    "    return tokens\n",
    "\n",
    "# Using nltk to word corpus to remove non-english words\n",
    "# this method seemed cheaper and easier than spacy? maybe lol\n",
    "def remove_non_english(tokens):\n",
    "    tokens = [token for token in tokens if token in words]\n",
    "    return tokens"
   ]
  },
  {
   "cell_type": "code",
   "execution_count": 14,
   "id": "ffa539c8-bfd8-4f92-a4de-c424ccfa2bee",
   "metadata": {},
   "outputs": [],
   "source": [
    "#data preprocessing function\n",
    "def data_preprocess(tokens):\n",
    "    new_tokens = lower_case(tokens)\n",
    "    new_tokens = remove_steam_heart(new_tokens)\n",
    "    new_tokens = remove_non_english(new_tokens)\n",
    "    new_tokens = remove_stopwords(new_tokens)\n",
    "    new_tokens = remove_digits(new_tokens)\n",
    "    new_tokens = remove_punctuation(new_tokens)\n",
    "    new_tokens = lemmatize_words(new_tokens)\n",
    "    return new_tokens\n",
    "    \n",
    "list_of_process_tokens = []\n",
    "for i in df['Tokens']:\n",
    "    list_of_process_tokens.append(data_preprocess(i))"
   ]
  },
  {
   "cell_type": "code",
   "execution_count": 15,
   "id": "49d5edc9-7ed6-4532-ba11-f0fc99eb7d1b",
   "metadata": {},
   "outputs": [
    {
     "data": {
      "text/html": [
       "<div>\n",
       "<style scoped>\n",
       "    .dataframe tbody tr th:only-of-type {\n",
       "        vertical-align: middle;\n",
       "    }\n",
       "\n",
       "    .dataframe tbody tr th {\n",
       "        vertical-align: top;\n",
       "    }\n",
       "\n",
       "    .dataframe thead th {\n",
       "        text-align: right;\n",
       "    }\n",
       "</style>\n",
       "<table border=\"1\" class=\"dataframe\">\n",
       "  <thead>\n",
       "    <tr style=\"text-align: right;\">\n",
       "      <th></th>\n",
       "      <th>review_id</th>\n",
       "      <th>title</th>\n",
       "      <th>tags</th>\n",
       "      <th>year</th>\n",
       "      <th>user_review</th>\n",
       "      <th>user_suggestion</th>\n",
       "      <th>url</th>\n",
       "      <th>Tokens</th>\n",
       "      <th>ProcessTokens</th>\n",
       "    </tr>\n",
       "  </thead>\n",
       "  <tbody>\n",
       "    <tr>\n",
       "      <th>7816</th>\n",
       "      <td>10826</td>\n",
       "      <td>Trove</td>\n",
       "      <td>['Action', 'Adventure', 'Casual', 'Free to Play', 'Massively Multiplayer', 'RPG']</td>\n",
       "      <td>2016.0</td>\n",
       "      <td>One of my favorite steam games to play as of right now. This game brings me back to when Lego Universe existed, and it has a very similar feeling to it. Lots of classes, fair play, some minor tweaking needed here and there, but overall, great game.</td>\n",
       "      <td>1</td>\n",
       "      <td>https://www.youtube.com/watch?v=ns1i_2SzeGE</td>\n",
       "      <td>[One, of, my, favorite, steam, games, to, play, as, of, right, now, ., This, game, brings, me, back, to, when, Lego, Universe, existed, ,, and, it, has, a, very, similar, feeling, to, it, ., Lots, of, classes, ,, fair, play, ,, some, minor, tweaking, needed, here, and, there, ,, but, overall, ,, great, game, .]</td>\n",
       "      <td>[favorite, steam, play, right, game, universe, similar, feeling, lot, class, fair, play, minor, overall, great, game]</td>\n",
       "    </tr>\n",
       "    <tr>\n",
       "      <th>1529</th>\n",
       "      <td>1530</td>\n",
       "      <td>Fractured Space</td>\n",
       "      <td>['Action', 'Indie', 'Early Access']</td>\n",
       "      <td>2016.0</td>\n",
       "      <td>Early Access ReviewI play this game infrequently, and I enjoy it very much whenever I do play it. This is one of the best free to play games I have ever played, and if you haven't played it yet, you need to.</td>\n",
       "      <td>1</td>\n",
       "      <td>https://www.youtube.com/watch?v=MgKVV4pZBWo</td>\n",
       "      <td>[Early, Access, ReviewI, play, this, game, infrequently, ,, and, I, enjoy, it, very, much, whenever, I, do, play, it, ., This, is, one, of, the, best, free, to, play, games, I, have, ever, played, ,, and, if, you, have, n't, played, it, yet, ,, you, need, to, .]</td>\n",
       "      <td>[early, access, play, game, infrequently, enjoy, play, best, free, play, need]</td>\n",
       "    </tr>\n",
       "    <tr>\n",
       "      <th>14970</th>\n",
       "      <td>22081</td>\n",
       "      <td>Robocraft</td>\n",
       "      <td>['Action', 'Free to Play', 'Indie', 'Massively Multiplayer', 'RPG', 'Simulation']</td>\n",
       "      <td>2016.0</td>\n",
       "      <td>Early Access ReviewThis used to be my favirote game. I was excited for the meta, and it was great at first then came update after update, screw up after screw up and I couldn\\'t figure out anything. The level system, the blocks, the guns, everything fundamentally changed and it stripped away everything even remotely enjoyable about the game. This game has great potential, but the devs preetty much ran it into the ground for money. I would play this game, PAY for it if it brought back everything to the first stage of the meta, with plenty of customization, a good level system, good gamemodes, and room to grow. Long story short, the devs had something good, something great and ruined it. I\\'m sorry to say that I would NOT reccomend this game.</td>\n",
       "      <td>0</td>\n",
       "      <td>https://www.youtube.com/watch?v=JGr1Em2Ip-c</td>\n",
       "      <td>[Early, Access, ReviewThis, used, to, be, my, favirote, game, ., I, was, excited, for, the, meta, ,, and, it, was, great, at, first, then, came, update, after, update, ,, screw, up, after, screw, up, and, I, couldn\\'t, figure, out, anything, ., The, level, system, ,, the, blocks, ,, the, guns, ,, everything, fundamentally, changed, and, it, stripped, away, everything, even, remotely, enjoyable, about, the, game, ., This, game, has, great, potential, ,, but, the, devs, preetty, much, ran, it, into, the, ground, for, money, ., I, would, play, this, game, ,, PAY, for, it, if, it, brought, back, everything, to, ...]</td>\n",
       "      <td>[early, access, game, excited, meta, great, came, update, update, screw, screw, figure, level, system, fundamentally, stripped, away, remotely, enjoyable, game, game, great, potential, ran, ground, money, play, game, pay, brought, stage, meta, plenty, good, level, system, good, room, grow, long, story, short, good, great, ruined, sorry, game]</td>\n",
       "    </tr>\n",
       "    <tr>\n",
       "      <th>4165</th>\n",
       "      <td>5561</td>\n",
       "      <td>Yu-Gi-Oh! Duel Links</td>\n",
       "      <td>['Free to Play', 'Strategy']</td>\n",
       "      <td>2018.0</td>\n",
       "      <td>This game is very beginner friendly and easy to pick up. I had never played yugioh before and this game was my first experience playing it. You start off with a decent deck (it isn't the best but for learning purposes, its pretty good) with a well known monster of your choice, Blue-Eyes White Dragon or Dark Magician. The gacha mechanic for gettting new cards is great and guarentees rare cards if you're patient enough to use enough gems on it. There is always an event occuring which keeps gameplay fresh. It's an overall great game. Through the game I've come to know and love the whole cast of characters and cards. I would reccomend to new players as well as experienced players.</td>\n",
       "      <td>1</td>\n",
       "      <td>https://www.youtube.com/watch?v=9HughEwmdDo</td>\n",
       "      <td>[This, game, is, very, beginner, friendly, and, easy, to, pick, up, ., I, had, never, played, yugioh, before, and, this, game, was, my, first, experience, playing, it, ., You, start, off, with, a, decent, deck, (, it, is, n't, the, best, but, for, learning, purposes, ,, its, pretty, good, ), with, a, well, known, monster, of, your, choice, ,, Blue, -, Eyes, White, Dragon, or, Dark, Magician, ., The, gacha, mechanic, for, gettting, new, cards, is, great, and, guarentees, rare, cards, if, you, 're, patient, enough, to, use, enough, gems, on, it, ., There, is, always, an, event, occuring, which, ...]</td>\n",
       "      <td>[game, beginner, friendly, easy, pick, game, experience, start, decent, deck, best, learning, pretty, good, known, monster, choice, blue, white, dragon, dark, magician, mechanic, new, great, rare, patient, use, event, fresh, overall, great, game, game, come, know, love, cast, new, experienced]</td>\n",
       "    </tr>\n",
       "    <tr>\n",
       "      <th>2608</th>\n",
       "      <td>3072</td>\n",
       "      <td>War Thunder</td>\n",
       "      <td>['Action', 'Free to Play', 'Massively Multiplayer', 'Simulation']</td>\n",
       "      <td>2014.0</td>\n",
       "      <td>Overall it's a good game, not pay to win. But after 1.37 patch, matchmaking isn't history authentic anymore, and new unlocking system making this game hard to open new aircrafts\\tanks (way below limit where you still can get fun). Grind, grind grind. They need to double the exp points(including crew exp) to make this game any interesting to play without premium. On other side premium is too expensive for an average player. I still playing it only because i've got a friends to play with and i've opened almost all USSR and USA crafts before 1.37 was released.So, at current state of matchmaking, prices for premium, and amount of experience point you need to unlock.I don't recommend this game. Maybe check it later, if only they will change their minds about all greedy decisions they made last half year.</td>\n",
       "      <td>0</td>\n",
       "      <td>https://www.youtube.com/watch?v=pzgPXOw2plI</td>\n",
       "      <td>[Overall, it, 's, a, good, game, ,, not, pay, to, win, ., But, after, 1.37, patch, ,, matchmaking, is, n't, history, authentic, anymore, ,, and, new, unlocking, system, making, this, game, hard, to, open, new, aircrafts\\tanks, (, way, below, limit, where, you, still, can, get, fun, ), ., Grind, ,, grind, grind, ., They, need, to, double, the, exp, points(including, crew, exp, ), to, make, this, game, any, interesting, to, play, without, premium, ., On, other, side, premium, is, too, expensive, for, an, average, player, ., I, still, playing, it, only, because, i, 've, got, a, friends, to, play, with, ...]</td>\n",
       "      <td>[overall, good, game, pay, win, patch, matchmaking, history, authentic, new, unlocking, system, making, game, hard, open, new, way, limit, fun, grind, grind, grind, need, double, crew, game, interesting, play, premium, premium, expensive, average, player, got, play, current, state, matchmaking, premium, experience, point, need, unlock, recommend, game, maybe, check, later, change, greedy, half, year]</td>\n",
       "    </tr>\n",
       "    <tr>\n",
       "      <th>2935</th>\n",
       "      <td>3399</td>\n",
       "      <td>War Thunder</td>\n",
       "      <td>['Action', 'Free to Play', 'Massively Multiplayer', 'Simulation']</td>\n",
       "      <td>2018.0</td>\n",
       "      <td>War Thunder was a game I enjoyed for many years, I made many friends playing this game and had great times. But these past couple years the game has been deteriorating rapidly, Gaijin has been neglecting what the community wants and needs. They have been implementing more and more premium vehicles into the game (which I am not necessarily against) but by doing so they have been letting new players get to the higher tiers, they have gone against their old saying of not letting people buy in to tier 5 instead of earning it. Worst of all, Gaijin has recently mocked their own community with the FPE &amp; Parts debacle. Gaijin has consistently failed to mend damage with the community, and instead are seeking profits rather than a healthy game. While I do understand that the whole business is to make money, it is sad to see a game that the company once seemed they loved and had passion for is now another money making sham. If you want to play this game, go ahead, I imagine you will enjoy tier 1 and 2 but it is not worth putting your money in to, it is not worth putting a lot of energy and love in to.</td>\n",
       "      <td>0</td>\n",
       "      <td>https://www.youtube.com/watch?v=pzgPXOw2plI</td>\n",
       "      <td>[War, Thunder, was, a, game, I, enjoyed, for, many, years, ,, I, made, many, friends, playing, this, game, and, had, great, times, ., But, these, past, couple, years, the, game, has, been, deteriorating, rapidly, ,, Gaijin, has, been, neglecting, what, the, community, wants, and, needs, ., They, have, been, implementing, more, and, more, premium, vehicles, into, the, game, (, which, I, am, not, necessarily, against, ), but, by, doing, so, they, have, been, letting, new, players, get, to, the, higher, tiers, ,, they, have, gone, against, their, old, saying, of, not, letting, people, buy, in, to, tier, 5, instead, of, ...]</td>\n",
       "      <td>[war, thunder, game, game, great, time, past, couple, game, rapidly, community, need, premium, game, necessarily, new, higher, gone, old, saying, people, buy, tier, instead, earning, worst, recently, community, debacle, consistently, mend, damage, community, instead, seeking, healthy, game, understand, business, money, sad, game, company, passion, money, making, sham, want, play, game, ahead, imagine, enjoy, tier, worth, money, worth, lot, energy, love]</td>\n",
       "    </tr>\n",
       "    <tr>\n",
       "      <th>3344</th>\n",
       "      <td>3808</td>\n",
       "      <td>Ring of Elysium</td>\n",
       "      <td>['Action', 'Free to Play', 'Massively Multiplayer']</td>\n",
       "      <td>2018.0</td>\n",
       "      <td>Early Access Reviewfunny to think that a free to play can be so much more responsive, pretty (graphically speaking), and better developed all around than a game like pubg (which might not be saying much considering pubg is a piece of garbage). Anyways, this should hold out until blackout releases, and hey♥♥♥♥♥holes. its FREE</td>\n",
       "      <td>1</td>\n",
       "      <td>https://www.youtube.com/watch?v=XMwBox8FITU</td>\n",
       "      <td>[Early, Access, Reviewfunny, to, think, that, a, free, to, play, can, be, so, much, more, responsive, ,, pretty, (, graphically, speaking, ), ,, and, better, developed, all, around, than, a, game, like, pubg, (, which, might, not, be, saying, much, considering, pubg, is, a, piece, of, garbage, ), ., Anyways, ,, this, should, hold, out, until, blackout, releases, ,, and, hey, ♥, ♥, ♥, ♥, ♥, holes, ., its, FREE]</td>\n",
       "      <td>[early, access, think, free, play, responsive, pretty, graphically, speaking, better, game, like, saying, considering, piece, garbage, anyways, hold, blackout, hey, free]</td>\n",
       "    </tr>\n",
       "    <tr>\n",
       "      <th>17427</th>\n",
       "      <td>25473</td>\n",
       "      <td>EverQuest II</td>\n",
       "      <td>['Free to Play', 'Massively Multiplayer', 'RPG']</td>\n",
       "      <td>2016.0</td>\n",
       "      <td>Played this game back in 2004 on release. Saw it on steam under daybreak instead of SOE and gave it a try with it being free to play which it is. Levelup much easier and with dungeon/group finder it is quick to hop in and do something fun. Just working on a character from 1 to max or where you need to buy a pass/subscription which is only actually needed for the end game material. With as much fun as I've had when I get to that point I will get the extra pass. I wish more people would play this because it is the most content and fun filled free to play game I have found on steam. Have a friend to get to level 20 with and then the game really gets going. Still fun, and for someone new like the friends I play this with the game has plenty of tips and shows the new things going on and how to play. If anything this is at least worth a try. It's free for countless hours if you do end up enjoying it.</td>\n",
       "      <td>1</td>\n",
       "      <td>https://www.youtube.com/watch?v=93md7bdITqA</td>\n",
       "      <td>[Played, this, game, back, in, 2004, on, release, ., Saw, it, on, steam, under, daybreak, instead, of, SOE, and, gave, it, a, try, with, it, being, free, to, play, which, it, is, ., Levelup, much, easier, and, with, dungeon, /, group, finder, it, is, quick, to, hop, in, and, do, something, fun, ., Just, working, on, a, character, from, 1, to, max, or, where, you, need, to, buy, a, pass, /, subscription, which, is, only, actually, needed, for, the, end, game, material, ., With, as, much, fun, as, I, 've, had, when, I, get, to, that, point, I, will, get, ...]</td>\n",
       "      <td>[game, release, saw, steam, daybreak, instead, soe, gave, try, free, play, easier, dungeon, group, finder, quick, hop, fun, working, character, need, buy, pas, subscription, actually, end, game, material, fun, point, extra, pas, wish, people, play, content, fun, filled, free, play, game, found, steam, friend, level, game, going, fun, new, like, play, game, plenty, new, going, play, worth, try, free, countless, end, enjoying]</td>\n",
       "    </tr>\n",
       "    <tr>\n",
       "      <th>10483</th>\n",
       "      <td>15891</td>\n",
       "      <td>theHunter Classic</td>\n",
       "      <td>['Action', 'Adventure', 'Free to Play', 'Simulation', 'Sports']</td>\n",
       "      <td>2015.0</td>\n",
       "      <td>This is a game that looks good by this page but has an overwhelming amount of microtransactions and a really unwelcoming community where you need to be a paid member to create a multiplayer map and you are able to password lock games but many dont and will just kick you after you spend five minutes loading in.</td>\n",
       "      <td>0</td>\n",
       "      <td>https://www.youtube.com/watch?v=BcjS2G66XuE</td>\n",
       "      <td>[This, is, a, game, that, looks, good, by, this, page, but, has, an, overwhelming, amount, of, microtransactions, and, a, really, unwelcoming, community, where, you, need, to, be, a, paid, member, to, create, a, multiplayer, map, and, you, are, able, to, password, lock, games, but, many, do, nt, and, will, just, kick, you, after, you, spend, five, minutes, loading, in, .]</td>\n",
       "      <td>[game, good, page, overwhelming, community, need, member, create, map, able, password, lock, kick, spend, loading]</td>\n",
       "    </tr>\n",
       "    <tr>\n",
       "      <th>3623</th>\n",
       "      <td>4087</td>\n",
       "      <td>Team Fortress 2</td>\n",
       "      <td>['Action', 'Free to Play']</td>\n",
       "      <td>2016.0</td>\n",
       "      <td>Before the Meet your Match update, this would be an extremely positive review. the gameplay is balanced, its fun, and best of all, it's free. but thanks to the meet your match update, this game is unplayable. and i dont mean its really bad, i mean you literally cannot play. I spent 20 minutes in the queue for a casual game. and for some reason there is a leavers penalty for a casual game. do not waste your time on this game like I have.</td>\n",
       "      <td>0</td>\n",
       "      <td>https://www.youtube.com/watch?v=N7ZafWA2jd8</td>\n",
       "      <td>[Before, the, Meet, your, Match, update, ,, this, would, be, an, extremely, positive, review, ., the, gameplay, is, balanced, ,, its, fun, ,, and, best, of, all, ,, it, 's, free, ., but, thanks, to, the, meet, your, match, update, ,, this, game, is, unplayable, ., and, i, do, nt, mean, its, really, bad, ,, i, mean, you, literally, can, not, play, ., I, spent, 20, minutes, in, the, queue, for, a, casual, game, ., and, for, some, reason, there, is, a, leavers, penalty, for, a, casual, game, ., do, not, waste, your, time, on, this, game, like, I, have, ...]</td>\n",
       "      <td>[meet, match, update, extremely, positive, review, balanced, fun, best, free, thanks, meet, match, update, game, unplayable, mean, bad, mean, literally, play, spent, queue, casual, game, reason, penalty, casual, game, waste, time, game, like]</td>\n",
       "    </tr>\n",
       "    <tr>\n",
       "      <th>2485</th>\n",
       "      <td>2949</td>\n",
       "      <td>War Thunder</td>\n",
       "      <td>['Action', 'Free to Play', 'Massively Multiplayer', 'Simulation']</td>\n",
       "      <td>2016.0</td>\n",
       "      <td>Well , i have few hours at that game  but at the first 2 min i realised that the game doesent  worth anything, it is a waste of time and space at the disck the graphics are horrible at medium and at the ultra are just livable 1. Not realistic gameplay 2. bad representation of the urban place 3. Pay TO Win 4. incomprehensible menu 5. Noob players 6. You need lot of time to unlock good tanks ( i am not speaking for the PzKw IV ) 7. medium tanks at this game are horrible 8. No realistic range of  the tank ( frome the one side of the map you can destroy a tank that is at the other side )  Thats all , i would not recommend that game</td>\n",
       "      <td>0</td>\n",
       "      <td>https://www.youtube.com/watch?v=pzgPXOw2plI</td>\n",
       "      <td>[Well, ,, i, have, few, hours, at, that, game,  , but, at, the, first, 2, min, i, realised, that, the, game, doesent,  , worth, anything, ,, it, is, a, waste, of, time, and, space, at, the, disck, the, graphics, are, horrible, at, medium, and, at, the, ultra, are, just, livable, 1, ., Not, realistic, gameplay, 2, ., bad, representation, of, the, urban, place, 3, ., Pay, TO, Win, 4, ., incomprehensible, menu, 5, ., Noob, players, 6, ., You, need, lot, of, time, to, unlock, good, tanks, (, i, am, not, speaking, for, the, PzKw, IV, ), 7, ., medium, ...]</td>\n",
       "      <td>[game, min, game, worth, waste, time, space, graphic, horrible, medium, ultra, livable, realistic, bad, representation, urban, place, pay, win, incomprehensible, menu, need, lot, time, unlock, good, speaking, medium, game, horrible, realistic, range, tank, map, destroy, tank, s, recommend, game]</td>\n",
       "    </tr>\n",
       "    <tr>\n",
       "      <th>5005</th>\n",
       "      <td>6930</td>\n",
       "      <td>Brawlhalla</td>\n",
       "      <td>['Action', 'Free to Play', 'Indie']</td>\n",
       "      <td>2017.0</td>\n",
       "      <td>Early Access ReviewAt the first you will think that it is very easy But later you will know how much it is hard  and who each legend have a special power and special way to play I am really enjoying  playing this game and i hope that i will reach the highest rank At the end It's a great game  you should try it</td>\n",
       "      <td>1</td>\n",
       "      <td>https://www.youtube.com/watch?v=fnd71bqiiW0</td>\n",
       "      <td>[Early, Access, ReviewAt, the, first, you, will, think, that, it, is, very, easy, But, later, you, will, know, how, much, it, is, hard,  , and, who, each, legend, have, a, special, power, and, special, way, to, play, I, am, really, enjoying,  , playing, this, game, and, i, hope, that, i, will, reach, the, highest, rank, At, the, end, It, 's, a, great, game,  , you, should, try, it]</td>\n",
       "      <td>[early, access, think, easy, later, know, hard, legend, special, power, special, way, play, enjoying, game, hope, reach, highest, rank, end, great, game, try]</td>\n",
       "    </tr>\n",
       "    <tr>\n",
       "      <th>9127</th>\n",
       "      <td>12137</td>\n",
       "      <td>PlanetSide 2</td>\n",
       "      <td>['Action', 'Free to Play', 'Massively Multiplayer']</td>\n",
       "      <td>2013.0</td>\n",
       "      <td>If your pc is beefy enough, you should really check this game out! It's got massive scale battles over 3 continents, gorgeous graphics, rock solid gameplay and a great in-depth skill tree! You can either go infantry and shoot people up close, or decimate the competition by jumping in one of the awesome land or air vehicles. Fight your battle, your way.My tip for new players? Go medic or engineer for quick skillpoint farming, and enjoy! Also be sure to use your microphone, it really helps (though it's not required).</td>\n",
       "      <td>1</td>\n",
       "      <td>https://www.youtube.com/watch?v=dUWlwLXwsCk</td>\n",
       "      <td>[If, your, pc, is, beefy, enough, ,, you, should, really, check, this, game, out, !, It, 's, got, massive, scale, battles, over, 3, continents, ,, gorgeous, graphics, ,, rock, solid, gameplay, and, a, great, in, -, depth, skill, tree, !, You, can, either, go, infantry, and, shoot, people, up, close, ,, or, decimate, the, competition, by, jumping, in, one, of, the, awesome, land, or, air, vehicles, ., Fight, your, battle, ,, your, way, ., My, tip, for, new, players, ?, Go, medic, or, engineer, for, quick, skillpoint, farming, ,, and, enjoy, !, Also, be, sure, to, use, your, microphone, ,, ...]</td>\n",
       "      <td>[beefy, check, game, got, massive, scale, gorgeous, graphic, rock, solid, great, depth, skill, tree, infantry, shoot, people, close, decimate, competition, awesome, land, air, fight, battle, way, tip, new, medic, engineer, quick, farming, enjoy, sure, use, microphone]</td>\n",
       "    </tr>\n",
       "    <tr>\n",
       "      <th>3050</th>\n",
       "      <td>3514</td>\n",
       "      <td>War Thunder</td>\n",
       "      <td>['Action', 'Free to Play', 'Massively Multiplayer', 'Simulation']</td>\n",
       "      <td>2015.0</td>\n",
       "      <td>I wouldn't have recommended War Thunder before the latest changes because the game is unbalanced in many areas. Some will find ways around it or just enjoyed the incredible vehicle models. But now Gaijin's answer to an unbalanced system is to make it worse.They admitted there was a problem with balance, they made small steps to fix it (such as moving the IS3 so it could no longer fight Panthers and Pershings). But with the 23/9/15 patch they brought the IS3 back so it could face Panthers and Pershings, as well as bringing back every single top tier tank down the same way.1960s Cold War vehicles are now matched against Tiger 2s, IS2s and M26s. Tanks like the Maus and T-10M are absolutely destroying entire teams-worth of players BY THEMSELVES. This whole review hasn't even touched on the mess that is endgame plane content either, with Tempest prop planes getting eaten alive by MiG15s and 1944-era Me262s fighting the cream of the crop from the Korean War the F86 Sabre and MiG15bis.These changes do have an effect on the low tiers but they are less noticeable than the devastating, game-breaking blow that has been dealt to mid-high tier gameplay. I was excited, I was happy, I almost had my M47 Patton. But the game is broken.Given Gaijin's track record it will take at least 3 months to touch on the subject again, and no guarantee to fix it.AVOID.</td>\n",
       "      <td>0</td>\n",
       "      <td>https://www.youtube.com/watch?v=pzgPXOw2plI</td>\n",
       "      <td>[I, would, n't, have, recommended, War, Thunder, before, the, latest, changes, because, the, game, is, unbalanced, in, many, areas, ., Some, will, find, ways, around, it, or, just, enjoyed, the, incredible, vehicle, models, ., But, now, Gaijin, 's, answer, to, an, unbalanced, system, is, to, make, it, worse, ., They, admitted, there, was, a, problem, with, balance, ,, they, made, small, steps, to, fix, it, (, such, as, moving, the, IS3, so, it, could, no, longer, fight, Panthers, and, Pershings, ), ., But, with, the, 23/9/15, patch, they, brought, the, IS3, back, so, it, could, face, Panthers, and, Pershings, ,, ...]</td>\n",
       "      <td>[war, thunder, latest, game, unbalanced, find, way, incredible, vehicle, answer, unbalanced, system, worse, admitted, problem, balance, small, fix, moving, longer, fight, patch, brought, face, single, tier, tank, cold, war, tiger, like, m, absolutely, entire, worth, review, touched, mess, plane, content, tempest, prop, getting, eaten, alive, era, fighting, cream, crop, war, effect, low, noticeable, devastating, game, breaking, blow, dealt, mid, high, tier, excited, happy, game, broken, given, track, record, touch, subject, guarantee, fix, avoid]</td>\n",
       "    </tr>\n",
       "    <tr>\n",
       "      <th>13982</th>\n",
       "      <td>19926</td>\n",
       "      <td>Infestation: The New Z</td>\n",
       "      <td>['Action', 'Free to Play', 'Indie', 'Massively Multiplayer', 'RPG']</td>\n",
       "      <td>2016.0</td>\n",
       "      <td>First things First - don't be fooled - this is just WarZ / Infestation: Survivor Stories...Exact same names for cities... exact same graphics... exact same assets... models... it's nearly all the same... Even the UI in the menu is the same - minor tweeks here and there, but overall? probably only about a 10% change on what was here before...Now... let's remember... WarZ was removed from being sold on Steam - for fraud, essentially.With that said... if you loved Infestation Survivor Stories, I'm sure you'll enjoy this - but this game is still complete garbage.  Sergey and his crew, will always, and forever be, a cash and grab group.  They can say, all the way, until they're blue in the face that this is a different company, or whatever - it's the exact same game.  With the exact same GC/P2W model...  I'm going to feel very sorry for whoever drops cash on this...And look how many people are streaming this right now... next to nobody ... the game is still clunky, still garbage, AND, I already found H*cks online for it - so I mean, whatever their \"MLG\" Anti-Hack is... it's crap, still... it's a joke</td>\n",
       "      <td>0</td>\n",
       "      <td>https://www.youtube.com/watch?v=dErPnLleThk</td>\n",
       "      <td>[First, things, First, -, do, n't, be, fooled, -, this, is, just, WarZ, /, Infestation, :, Survivor, Stories, ..., Exact, same, names, for, cities, ..., exact, same, graphics, ..., exact, same, assets, ..., models, ..., it, 's, nearly, all, the, same, ..., Even, the, UI, in, the, menu, is, the, same, -, minor, tweeks, here, and, there, ,, but, overall, ?, probably, only, about, a, 10, %, change, on, what, was, here, before, ..., Now, ..., let, 's, remember, ..., WarZ, was, removed, from, being, sold, on, Steam, -, for, fraud, ,, essentially, ., With, that, said, ..., if, you, ...]</td>\n",
       "      <td>[infestation, survivor, exact, exact, graphic, exact, asset, nearly, menu, minor, overall, probably, change, let, remember, removed, sold, steam, fraud, essentially, said, infestation, survivor, sure, enjoy, game, complete, garbage, crew, forever, cash, grab, group, way, blue, face, different, company, exact, game, exact, model, going, feel, sorry, cash, look, people, streaming, right, game, garbage, found, mean, anti, hack, crap, joke]</td>\n",
       "    </tr>\n",
       "    <tr>\n",
       "      <th>14827</th>\n",
       "      <td>21938</td>\n",
       "      <td>Robocraft</td>\n",
       "      <td>['Action', 'Free to Play', 'Indie', 'Massively Multiplayer', 'RPG', 'Simulation']</td>\n",
       "      <td>2016.0</td>\n",
       "      <td>Product received for freeEarly Access Reviewafter the recent update all obtainable robot parts come from crates which is purely chance. I got a legendary (yellow) weapon from a rusted crate and I've never gotten above a blue from gold or higher crates. It's bull. parts don't sell for enough to make obtaining things in a reasonable amount of time remotely possible. I started playing with a lvl 88 promo-code and Luckily I had lots of good stuff from this patch, but for new players it will take them months of nonstop play every day to get anythin good and its unbalanced as hell.</td>\n",
       "      <td>0</td>\n",
       "      <td>https://www.youtube.com/watch?v=JGr1Em2Ip-c</td>\n",
       "      <td>[Product, received, for, freeEarly, Access, Reviewafter, the, recent, update, all, obtainable, robot, parts, come, from, crates, which, is, purely, chance, ., I, got, a, legendary, (, yellow, ), weapon, from, a, rusted, crate, and, I, 've, never, gotten, above, a, blue, from, gold, or, higher, crates, ., It, 's, bull, ., parts, do, n't, sell, for, enough, to, make, obtaining, things, in, a, reasonable, amount, of, time, remotely, possible, ., I, started, playing, with, a, lvl, 88, promo, -, code, and, Luckily, I, had, lots, of, good, stuff, from, this, patch, ,, but, for, new, players, it, will, take, them, ...]</td>\n",
       "      <td>[product, received, access, recent, update, obtainable, robot, come, purely, chance, got, legendary, yellow, weapon, crate, gotten, blue, gold, higher, bull, sell, reasonable, time, remotely, possible, code, luckily, lot, good, stuff, patch, new, nonstop, play, day, good, unbalanced, hell]</td>\n",
       "    </tr>\n",
       "    <tr>\n",
       "      <th>3372</th>\n",
       "      <td>3836</td>\n",
       "      <td>Ring of Elysium</td>\n",
       "      <td>['Action', 'Free to Play', 'Massively Multiplayer']</td>\n",
       "      <td>2018.0</td>\n",
       "      <td>Early Access ReviewEver played PUBG to the point where you want to snack on some Tide Pods? This game won't give you that sensation becausethis game is actually good. Pros:-loot is spread evenly-don't have to load in and hope you can find a spot-waits for everyone to loasd in before spots can be selected-unique use of 3 starter packs #gliderOP-attachments aren't rare, same as ammo-smooth gameplay with pretty good graphics-bullets don't hit the ground right as they leave your gun-up to 4 players can win-voice chat isn't full of toxic 11 year oldsCons:-you aren't playing this yet</td>\n",
       "      <td>1</td>\n",
       "      <td>https://www.youtube.com/watch?v=XMwBox8FITU</td>\n",
       "      <td>[Early, Access, ReviewEver, played, PUBG, to, the, point, where, you, want, to, snack, on, some, Tide, Pods, ?, This, game, wo, n't, give, you, that, sensation, becausethis, game, is, actually, good, ., Pros:-loot, is, spread, evenly, -, don't, have, to, load, in, and, hope, you, can, find, a, spot, -, waits, for, everyone, to, loasd, in, before, spots, can, be, selected, -, unique, use, of, 3, starter, packs, #, gliderOP, -, attachments, are, n't, rare, ,, same, as, ammo, -, smooth, gameplay, with, pretty, good, graphics, -, bullets, do, n't, hit, the, ground, right, as, they, leave, your, gun, -, ...]</td>\n",
       "      <td>[early, access, point, want, snack, tide, game, wo, sensation, game, actually, good, spread, evenly, load, hope, find, spot, selected, unique, use, starter, rare, ammo, smooth, pretty, good, graphic, hit, ground, right, leave, gun, win, voice, chat, toxic, year]</td>\n",
       "    </tr>\n",
       "    <tr>\n",
       "      <th>2162</th>\n",
       "      <td>2626</td>\n",
       "      <td>Path of Exile</td>\n",
       "      <td>['Action', 'Adventure', 'Free to Play', 'Indie', 'Massively Multiplayer', 'RPG']</td>\n",
       "      <td>2014.0</td>\n",
       "      <td>Worst FPS I've ever played. 10/10Edit: I noticed this review recieved a lot of attention for some reason. In all seriousness, Path of Exile is a fantastic ARPG with some of the best character custimization options in the entire gaming industry. With the removal of desync, I can proudly say this is easily the best ARPG on the market and given its extremely ethical business model and excellent game developers, there is no reason any fan of rpgs or arpgs alike shouldn't atleast give this game a try.</td>\n",
       "      <td>1</td>\n",
       "      <td>https://www.youtube.com/watch?v=brZT-Qdg8TY</td>\n",
       "      <td>[Worst, FPS, I, 've, ever, played, ., 10/10Edit, :, I, noticed, this, review, recieved, a, lot, of, attention, for, some, reason, ., In, all, seriousness, ,, Path, of, Exile, is, a, fantastic, ARPG, with, some, of, the, best, character, custimization, options, in, the, entire, gaming, industry, ., With, the, removal, of, desync, ,, I, can, proudly, say, this, is, easily, the, best, ARPG, on, the, market, and, given, its, extremely, ethical, business, model, and, excellent, game, developers, ,, there, is, no, reason, any, fan, of, rpgs, or, arpgs, alike, should, n't, atleast, give, this, game, a, try, .]</td>\n",
       "      <td>[worst, review, lot, attention, reason, seriousness, path, exile, fantastic, best, character, entire, gaming, industry, removal, proudly, easily, best, market, given, extremely, ethical, business, model, excellent, game, reason, fan, alike, game, try]</td>\n",
       "    </tr>\n",
       "    <tr>\n",
       "      <th>8770</th>\n",
       "      <td>11780</td>\n",
       "      <td>Realm Royale</td>\n",
       "      <td>['Action', 'Free to Play', 'Early Access']</td>\n",
       "      <td>2018.0</td>\n",
       "      <td>Early Access ReviewIf you're looking for a good free Battle Royale game, this is worth a try. It's still very early and is still missing a lot, but what is already available is definitely worth playing. While I wasn't a fan of my first game due to lack of real explanation of what anything is, a few more games in and I'm starting to get the hang of things. Setting this in a more MMO/WoW setting is a nice change, but the biggest difference between this and every other similar game I've played is the classes and abilities. While you do still spend your time figuring out where to drop and looking for loot, you can take the loot you don't like, discard it for shards, and use those shards to craft items at forges located around the map. Everyone having a mount can speed up movement quite a bit, but doesn't make the map feel any smaller when you do it. The downsides right now to me are when you are near a fight, everything is fine, but if you aren't, you can sometimes see gunshots and explosions in the distance but don't hear any sound at all. I also haven't heard any footsteps from other players unless they were on a mount, which cuts down on situational awareness. The lack of proper descriptions on things, especially abilities, can make things really confusing, but it's not too hard to figure out. I'm also waiting for more personality to be added. Running around as a chicken after you've been downed is cute and different, but lack of customization on characters, armor not really showing on people when you see them, and no emotes makes it feel a bit soulless, but I'm positive that stuff will be added in later.Definitely worth a try and I'm looking forward to seeing how it does. It's nice to have a more fantasy themed BR where I don't have to worry about building. Fortnite and PUBG are fine, but this kind of fills the hole that Radical Heights left in my heart.</td>\n",
       "      <td>1</td>\n",
       "      <td>https://www.youtube.com/watch?v=A276htNwAMo</td>\n",
       "      <td>[Early, Access, ReviewIf, you, 're, looking, for, a, good, free, Battle, Royale, game, ,, this, is, worth, a, try, ., It, 's, still, very, early, and, is, still, missing, a, lot, ,, but, what, is, already, available, is, definitely, worth, playing, ., While, I, was, n't, a, fan, of, my, first, game, due, to, lack, of, real, explanation, of, what, anything, is, ,, a, few, more, games, in, and, I, 'm, starting, to, get, the, hang, of, things, ., Setting, this, in, a, more, MMO, /, WoW, setting, is, a, nice, change, ,, but, the, biggest, difference, between, this, and, ...]</td>\n",
       "      <td>[early, access, looking, good, free, battle, royale, game, worth, try, early, missing, lot, available, definitely, worth, fan, game, lack, real, explanation, starting, setting, wow, setting, nice, change, biggest, difference, similar, game, class, spend, time, drop, looking, loot, loot, like, discard, use, craft, map, mount, speed, movement, bit, map, feel, smaller, right, near, fight, fine, distance, hear, sound, mount, situational, awareness, lack, proper, especially, hard, figure, waiting, personality, added, running, chicken, cute, different, lack, armor, showing, people, feel, bit, soulless, positive, stuff, added, later, definitely, worth, try, looking, forward, seeing, nice, fantasy, worry, building, fine, kind, hole, radical, left, heart]</td>\n",
       "    </tr>\n",
       "    <tr>\n",
       "      <th>9404</th>\n",
       "      <td>12988</td>\n",
       "      <td>Realm of the Mad God</td>\n",
       "      <td>['Action', 'Free to Play', 'Indie', 'Massively Multiplayer', 'RPG']</td>\n",
       "      <td>2014.0</td>\n",
       "      <td>Don't be fooled by 68 hours, My main account most likley has several hundred hours of gameplay. This game offers so much, but it's rather difficult to get into, while being incredibly easy to get in to. Starting the game and exploring is fun and you can do it from day one, at first glance it's a fun game, but nothing you'd spent much time on. Now If you look past that, there is actually so much. The leveling system isn't what determines a character. Maxed stats are. In game \"potions\" are used as a sort of currency in the trading economy, along with gear and other items. These potions are obtained by defeating difficult enemies and completeing certain dungeons.  To problem is, getting this far takes practice, detrmination and grit. Death is inevitable, dont let it set you back. Learning how to rebound from deaths becomes an integral feature as you make characters that are more and more powerful. Even the most powerful characters who have all 8 stats maxed are prone to quick deaths, the game in unforgiving, and requires skill, but offers much in return for those who deliver.</td>\n",
       "      <td>1</td>\n",
       "      <td>https://www.youtube.com/watch?v=lloiQ7Fu6Ao</td>\n",
       "      <td>[Do, n't, be, fooled, by, 68, hours, ,, My, main, account, most, likley, has, several, hundred, hours, of, gameplay, ., This, game, offers, so, much, ,, but, it, 's, rather, difficult, to, get, into, ,, while, being, incredibly, easy, to, get, in, to, ., Starting, the, game, and, exploring, is, fun, and, you, can, do, it, from, day, one, ,, at, first, glance, it, 's, a, fun, game, ,, but, nothing, you, 'd, spent, much, time, on, ., Now, If, you, look, past, that, ,, there, is, actually, so, much, ., The, leveling, system, is, n't, what, determines, a, character, ...]</td>\n",
       "      <td>[main, account, game, difficult, incredibly, easy, starting, game, exploring, fun, day, glance, fun, game, spent, time, look, past, actually, leveling, system, character, game, sort, currency, trading, economy, gear, difficult, certain, problem, getting, far, practice, grit, death, inevitable, let, set, learning, rebound, integral, feature, powerful, powerful, prone, quick, game, unforgiving, skill, return, deliver]</td>\n",
       "    </tr>\n",
       "  </tbody>\n",
       "</table>\n",
       "</div>"
      ],
      "text/plain": [
       "       review_id                   title  \\\n",
       "7816       10826                   Trove   \n",
       "1529        1530         Fractured Space   \n",
       "14970      22081               Robocraft   \n",
       "4165        5561    Yu-Gi-Oh! Duel Links   \n",
       "2608        3072             War Thunder   \n",
       "2935        3399             War Thunder   \n",
       "3344        3808         Ring of Elysium   \n",
       "17427      25473            EverQuest II   \n",
       "10483      15891       theHunter Classic   \n",
       "3623        4087         Team Fortress 2   \n",
       "2485        2949             War Thunder   \n",
       "5005        6930              Brawlhalla   \n",
       "9127       12137            PlanetSide 2   \n",
       "3050        3514             War Thunder   \n",
       "13982      19926  Infestation: The New Z   \n",
       "14827      21938               Robocraft   \n",
       "3372        3836         Ring of Elysium   \n",
       "2162        2626           Path of Exile   \n",
       "8770       11780            Realm Royale   \n",
       "9404       12988    Realm of the Mad God   \n",
       "\n",
       "                                                                                    tags  \\\n",
       "7816   ['Action', 'Adventure', 'Casual', 'Free to Play', 'Massively Multiplayer', 'RPG']   \n",
       "1529                                                 ['Action', 'Indie', 'Early Access']   \n",
       "14970  ['Action', 'Free to Play', 'Indie', 'Massively Multiplayer', 'RPG', 'Simulation']   \n",
       "4165                                                        ['Free to Play', 'Strategy']   \n",
       "2608                   ['Action', 'Free to Play', 'Massively Multiplayer', 'Simulation']   \n",
       "2935                   ['Action', 'Free to Play', 'Massively Multiplayer', 'Simulation']   \n",
       "3344                                 ['Action', 'Free to Play', 'Massively Multiplayer']   \n",
       "17427                                   ['Free to Play', 'Massively Multiplayer', 'RPG']   \n",
       "10483                    ['Action', 'Adventure', 'Free to Play', 'Simulation', 'Sports']   \n",
       "3623                                                          ['Action', 'Free to Play']   \n",
       "2485                   ['Action', 'Free to Play', 'Massively Multiplayer', 'Simulation']   \n",
       "5005                                                 ['Action', 'Free to Play', 'Indie']   \n",
       "9127                                 ['Action', 'Free to Play', 'Massively Multiplayer']   \n",
       "3050                   ['Action', 'Free to Play', 'Massively Multiplayer', 'Simulation']   \n",
       "13982                ['Action', 'Free to Play', 'Indie', 'Massively Multiplayer', 'RPG']   \n",
       "14827  ['Action', 'Free to Play', 'Indie', 'Massively Multiplayer', 'RPG', 'Simulation']   \n",
       "3372                                 ['Action', 'Free to Play', 'Massively Multiplayer']   \n",
       "2162    ['Action', 'Adventure', 'Free to Play', 'Indie', 'Massively Multiplayer', 'RPG']   \n",
       "8770                                          ['Action', 'Free to Play', 'Early Access']   \n",
       "9404                 ['Action', 'Free to Play', 'Indie', 'Massively Multiplayer', 'RPG']   \n",
       "\n",
       "         year  \\\n",
       "7816   2016.0   \n",
       "1529   2016.0   \n",
       "14970  2016.0   \n",
       "4165   2018.0   \n",
       "2608   2014.0   \n",
       "2935   2018.0   \n",
       "3344   2018.0   \n",
       "17427  2016.0   \n",
       "10483  2015.0   \n",
       "3623   2016.0   \n",
       "2485   2016.0   \n",
       "5005   2017.0   \n",
       "9127   2013.0   \n",
       "3050   2015.0   \n",
       "13982  2016.0   \n",
       "14827  2016.0   \n",
       "3372   2018.0   \n",
       "2162   2014.0   \n",
       "8770   2018.0   \n",
       "9404   2014.0   \n",
       "\n",
       "                                                                                                                                                                                                                                                                                                                                                                                                                                                                                                                                                                                                                                                                                                                                                                                                                                                                                                                                                                                                                                                                                                                                                                                                                                                                                                                                                                                                                                                                                                                                                                                                                                                                                                                                                                                                                                                                                                                                                          user_review  \\\n",
       "7816                                                                                                                                                                                                                                                                                                                                                                                                                                                                                                                                                                                                                                                                                                                                                                                                                                                                                                                                                                                                                                                                                                                                                                                                                                                                                                                                                                                                                                                                                                                                                                                                                                                                                                         One of my favorite steam games to play as of right now. This game brings me back to when Lego Universe existed, and it has a very similar feeling to it. Lots of classes, fair play, some minor tweaking needed here and there, but overall, great game.   \n",
       "1529                                                                                                                                                                                                                                                                                                                                                                                                                                                                                                                                                                                                                                                                                                                                                                                                                                                                                                                                                                                                                                                                                                                                                                                                                                                                                                                                                                                                                                                                                                                                                                                                                                                                                                                                                  Early Access ReviewI play this game infrequently, and I enjoy it very much whenever I do play it. This is one of the best free to play games I have ever played, and if you haven't played it yet, you need to.   \n",
       "14970                                                                                                                                                                                                                                                                                                                                                                                                                                                                                                                                                                                                                                                                                                                                                                                                                                                                                                                                                                                                                                                                                                                                                                                  Early Access ReviewThis used to be my favirote game. I was excited for the meta, and it was great at first then came update after update, screw up after screw up and I couldn\\'t figure out anything. The level system, the blocks, the guns, everything fundamentally changed and it stripped away everything even remotely enjoyable about the game. This game has great potential, but the devs preetty much ran it into the ground for money. I would play this game, PAY for it if it brought back everything to the first stage of the meta, with plenty of customization, a good level system, good gamemodes, and room to grow. Long story short, the devs had something good, something great and ruined it. I\\'m sorry to say that I would NOT reccomend this game.   \n",
       "4165                                                                                                                                                                                                                                                                                                                                                                                                                                                                                                                                                                                                                                                                                                                                                                                                                                                                                                                                                                                                                                                                                                                                                                                                                                                    This game is very beginner friendly and easy to pick up. I had never played yugioh before and this game was my first experience playing it. You start off with a decent deck (it isn't the best but for learning purposes, its pretty good) with a well known monster of your choice, Blue-Eyes White Dragon or Dark Magician. The gacha mechanic for gettting new cards is great and guarentees rare cards if you're patient enough to use enough gems on it. There is always an event occuring which keeps gameplay fresh. It's an overall great game. Through the game I've come to know and love the whole cast of characters and cards. I would reccomend to new players as well as experienced players.   \n",
       "2608                                                                                                                                                                                                                                                                                                                                                                                                                                                                                                                                                                                                                                                                                                                                                                                                                                                                                                                                                                                                                                                                                                                       Overall it's a good game, not pay to win. But after 1.37 patch, matchmaking isn't history authentic anymore, and new unlocking system making this game hard to open new aircrafts\\tanks (way below limit where you still can get fun). Grind, grind grind. They need to double the exp points(including crew exp) to make this game any interesting to play without premium. On other side premium is too expensive for an average player. I still playing it only because i've got a friends to play with and i've opened almost all USSR and USA crafts before 1.37 was released.So, at current state of matchmaking, prices for premium, and amount of experience point you need to unlock.I don't recommend this game. Maybe check it later, if only they will change their minds about all greedy decisions they made last half year.   \n",
       "2935                                                                                                                                                                                                                                                                                                                                                                                                                                                                                                                                                                                                                                                                                                                                                                                                              War Thunder was a game I enjoyed for many years, I made many friends playing this game and had great times. But these past couple years the game has been deteriorating rapidly, Gaijin has been neglecting what the community wants and needs. They have been implementing more and more premium vehicles into the game (which I am not necessarily against) but by doing so they have been letting new players get to the higher tiers, they have gone against their old saying of not letting people buy in to tier 5 instead of earning it. Worst of all, Gaijin has recently mocked their own community with the FPE & Parts debacle. Gaijin has consistently failed to mend damage with the community, and instead are seeking profits rather than a healthy game. While I do understand that the whole business is to make money, it is sad to see a game that the company once seemed they loved and had passion for is now another money making sham. If you want to play this game, go ahead, I imagine you will enjoy tier 1 and 2 but it is not worth putting your money in to, it is not worth putting a lot of energy and love in to.   \n",
       "3344                                                                                                                                                                                                                                                                                                                                                                                                                                                                                                                                                                                                                                                                                                                                                                                                                                                                                                                                                                                                                                                                                                                                                                                                                                                                                                                                                                                                                                                                                                                                                                                                                           Early Access Reviewfunny to think that a free to play can be so much more responsive, pretty (graphically speaking), and better developed all around than a game like pubg (which might not be saying much considering pubg is a piece of garbage). Anyways, this should hold out until blackout releases, and hey♥♥♥♥♥holes. its FREE   \n",
       "17427                                                                                                                                                                                                                                                                                                                                                                                                                                                                                                                                                                                                                                                                                                                                                                                                                                                                                                                                                                                                                     Played this game back in 2004 on release. Saw it on steam under daybreak instead of SOE and gave it a try with it being free to play which it is. Levelup much easier and with dungeon/group finder it is quick to hop in and do something fun. Just working on a character from 1 to max or where you need to buy a pass/subscription which is only actually needed for the end game material. With as much fun as I've had when I get to that point I will get the extra pass. I wish more people would play this because it is the most content and fun filled free to play game I have found on steam. Have a friend to get to level 20 with and then the game really gets going. Still fun, and for someone new like the friends I play this with the game has plenty of tips and shows the new things going on and how to play. If anything this is at least worth a try. It's free for countless hours if you do end up enjoying it.   \n",
       "10483                                                                                                                                                                                                                                                                                                                                                                                                                                                                                                                                                                                                                                                                                                                                                                                                                                                                                                                                                                                                                                                                                                                                                                                                                                                                                                                                                                                                                                                                                                                                                                                                                                         This is a game that looks good by this page but has an overwhelming amount of microtransactions and a really unwelcoming community where you need to be a paid member to create a multiplayer map and you are able to password lock games but many dont and will just kick you after you spend five minutes loading in.   \n",
       "3623                                                                                                                                                                                                                                                                                                                                                                                                                                                                                                                                                                                                                                                                                                                                                                                                                                                                                                                                                                                                                                                                                                                                                                                                                                                                                                                                                                                                                                                                                                         Before the Meet your Match update, this would be an extremely positive review. the gameplay is balanced, its fun, and best of all, it's free. but thanks to the meet your match update, this game is unplayable. and i dont mean its really bad, i mean you literally cannot play. I spent 20 minutes in the queue for a casual game. and for some reason there is a leavers penalty for a casual game. do not waste your time on this game like I have.   \n",
       "2485                                                                                                                                                                                                                                                                                                                                                                                                                                                                                                                                                                                                                                                                                                                                                                                                                                                                                                                                                                                                                                                                                                                                                                                                                                                                                                    Well , i have few hours at that game  but at the first 2 min i realised that the game doesent  worth anything, it is a waste of time and space at the disck the graphics are horrible at medium and at the ultra are just livable 1. Not realistic gameplay 2. bad representation of the urban place 3. Pay TO Win 4. incomprehensible menu 5. Noob players 6. You need lot of time to unlock good tanks ( i am not speaking for the PzKw IV ) 7. medium tanks at this game are horrible 8. No realistic range of  the tank ( frome the one side of the map you can destroy a tank that is at the other side )  Thats all , i would not recommend that game     \n",
       "5005                                                                                                                                                                                                                                                                                                                                                                                                                                                                                                                                                                                                                                                                                                                                                                                                                                                                                                                                                                                                                                                                                                                                                                                                                                                                                                                                                                                                                                                                                                                                                                                                                                          Early Access ReviewAt the first you will think that it is very easy But later you will know how much it is hard  and who each legend have a special power and special way to play I am really enjoying  playing this game and i hope that i will reach the highest rank At the end It's a great game  you should try it   \n",
       "9127                                                                                                                                                                                                                                                                                                                                                                                                                                                                                                                                                                                                                                                                                                                                                                                                                                                                                                                                                                                                                                                                                                                                                                                                                                                                                                                                                                                                                         If your pc is beefy enough, you should really check this game out! It's got massive scale battles over 3 continents, gorgeous graphics, rock solid gameplay and a great in-depth skill tree! You can either go infantry and shoot people up close, or decimate the competition by jumping in one of the awesome land or air vehicles. Fight your battle, your way.My tip for new players? Go medic or engineer for quick skillpoint farming, and enjoy! Also be sure to use your microphone, it really helps (though it's not required).   \n",
       "3050                                                                                                                                                                                                                                                                                                                                                                                                                                                                                                                                                I wouldn't have recommended War Thunder before the latest changes because the game is unbalanced in many areas. Some will find ways around it or just enjoyed the incredible vehicle models. But now Gaijin's answer to an unbalanced system is to make it worse.They admitted there was a problem with balance, they made small steps to fix it (such as moving the IS3 so it could no longer fight Panthers and Pershings). But with the 23/9/15 patch they brought the IS3 back so it could face Panthers and Pershings, as well as bringing back every single top tier tank down the same way.1960s Cold War vehicles are now matched against Tiger 2s, IS2s and M26s. Tanks like the Maus and T-10M are absolutely destroying entire teams-worth of players BY THEMSELVES. This whole review hasn't even touched on the mess that is endgame plane content either, with Tempest prop planes getting eaten alive by MiG15s and 1944-era Me262s fighting the cream of the crop from the Korean War the F86 Sabre and MiG15bis.These changes do have an effect on the low tiers but they are less noticeable than the devastating, game-breaking blow that has been dealt to mid-high tier gameplay. I was excited, I was happy, I almost had my M47 Patton. But the game is broken.Given Gaijin's track record it will take at least 3 months to touch on the subject again, and no guarantee to fix it.AVOID.   \n",
       "13982                                                                                                                                                                                                                                                                                                                                                                                                                                                                                                                                                                                                                                                                                                                                                                                                        First things First - don't be fooled - this is just WarZ / Infestation: Survivor Stories...Exact same names for cities... exact same graphics... exact same assets... models... it's nearly all the same... Even the UI in the menu is the same - minor tweeks here and there, but overall? probably only about a 10% change on what was here before...Now... let's remember... WarZ was removed from being sold on Steam - for fraud, essentially.With that said... if you loved Infestation Survivor Stories, I'm sure you'll enjoy this - but this game is still complete garbage.  Sergey and his crew, will always, and forever be, a cash and grab group.  They can say, all the way, until they're blue in the face that this is a different company, or whatever - it's the exact same game.  With the exact same GC/P2W model...  I'm going to feel very sorry for whoever drops cash on this...And look how many people are streaming this right now... next to nobody ... the game is still clunky, still garbage, AND, I already found H*cks online for it - so I mean, whatever their \"MLG\" Anti-Hack is... it's crap, still... it's a joke   \n",
       "14827                                                                                                                                                                                                                                                                                                                                                                                                                                                                                                                                                                                                                                                                                                                                                                                                                                                                                                                                                                                                                                                                                                                                                                                                                                                                                                                                                          Product received for freeEarly Access Reviewafter the recent update all obtainable robot parts come from crates which is purely chance. I got a legendary (yellow) weapon from a rusted crate and I've never gotten above a blue from gold or higher crates. It's bull. parts don't sell for enough to make obtaining things in a reasonable amount of time remotely possible. I started playing with a lvl 88 promo-code and Luckily I had lots of good stuff from this patch, but for new players it will take them months of nonstop play every day to get anythin good and its unbalanced as hell.   \n",
       "3372                                                                                                                                                                                                                                                                                                                                                                                                                                                                                                                                                                                                                                                                                                                                                                                                                                                                                                                                                                                                                                                                                                                                                                                                                                                                                                                                                         Early Access ReviewEver played PUBG to the point where you want to snack on some Tide Pods? This game won't give you that sensation becausethis game is actually good. Pros:-loot is spread evenly-don't have to load in and hope you can find a spot-waits for everyone to loasd in before spots can be selected-unique use of 3 starter packs #gliderOP-attachments aren't rare, same as ammo-smooth gameplay with pretty good graphics-bullets don't hit the ground right as they leave your gun-up to 4 players can win-voice chat isn't full of toxic 11 year oldsCons:-you aren't playing this yet   \n",
       "2162                                                                                                                                                                                                                                                                                                                                                                                                                                                                                                                                                                                                                                                                                                                                                                                                                                                                                                                                                                                                                                                                                                                                                                                                                                                                                                                                                                                                                                            Worst FPS I've ever played. 10/10Edit: I noticed this review recieved a lot of attention for some reason. In all seriousness, Path of Exile is a fantastic ARPG with some of the best character custimization options in the entire gaming industry. With the removal of desync, I can proudly say this is easily the best ARPG on the market and given its extremely ethical business model and excellent game developers, there is no reason any fan of rpgs or arpgs alike shouldn't atleast give this game a try.   \n",
       "8770   Early Access ReviewIf you're looking for a good free Battle Royale game, this is worth a try. It's still very early and is still missing a lot, but what is already available is definitely worth playing. While I wasn't a fan of my first game due to lack of real explanation of what anything is, a few more games in and I'm starting to get the hang of things. Setting this in a more MMO/WoW setting is a nice change, but the biggest difference between this and every other similar game I've played is the classes and abilities. While you do still spend your time figuring out where to drop and looking for loot, you can take the loot you don't like, discard it for shards, and use those shards to craft items at forges located around the map. Everyone having a mount can speed up movement quite a bit, but doesn't make the map feel any smaller when you do it. The downsides right now to me are when you are near a fight, everything is fine, but if you aren't, you can sometimes see gunshots and explosions in the distance but don't hear any sound at all. I also haven't heard any footsteps from other players unless they were on a mount, which cuts down on situational awareness. The lack of proper descriptions on things, especially abilities, can make things really confusing, but it's not too hard to figure out. I'm also waiting for more personality to be added. Running around as a chicken after you've been downed is cute and different, but lack of customization on characters, armor not really showing on people when you see them, and no emotes makes it feel a bit soulless, but I'm positive that stuff will be added in later.Definitely worth a try and I'm looking forward to seeing how it does. It's nice to have a more fantasy themed BR where I don't have to worry about building. Fortnite and PUBG are fine, but this kind of fills the hole that Radical Heights left in my heart.   \n",
       "9404                                                                                                                                                                                                                                                                                                                                                                                                                                                                                                                                                                                                                                                                                                                                                                                                                                Don't be fooled by 68 hours, My main account most likley has several hundred hours of gameplay. This game offers so much, but it's rather difficult to get into, while being incredibly easy to get in to. Starting the game and exploring is fun and you can do it from day one, at first glance it's a fun game, but nothing you'd spent much time on. Now If you look past that, there is actually so much. The leveling system isn't what determines a character. Maxed stats are. In game \"potions\" are used as a sort of currency in the trading economy, along with gear and other items. These potions are obtained by defeating difficult enemies and completeing certain dungeons.  To problem is, getting this far takes practice, detrmination and grit. Death is inevitable, dont let it set you back. Learning how to rebound from deaths becomes an integral feature as you make characters that are more and more powerful. Even the most powerful characters who have all 8 stats maxed are prone to quick deaths, the game in unforgiving, and requires skill, but offers much in return for those who deliver.   \n",
       "\n",
       "       user_suggestion                                          url  \\\n",
       "7816                 1  https://www.youtube.com/watch?v=ns1i_2SzeGE   \n",
       "1529                 1  https://www.youtube.com/watch?v=MgKVV4pZBWo   \n",
       "14970                0  https://www.youtube.com/watch?v=JGr1Em2Ip-c   \n",
       "4165                 1  https://www.youtube.com/watch?v=9HughEwmdDo   \n",
       "2608                 0  https://www.youtube.com/watch?v=pzgPXOw2plI   \n",
       "2935                 0  https://www.youtube.com/watch?v=pzgPXOw2plI   \n",
       "3344                 1  https://www.youtube.com/watch?v=XMwBox8FITU   \n",
       "17427                1  https://www.youtube.com/watch?v=93md7bdITqA   \n",
       "10483                0  https://www.youtube.com/watch?v=BcjS2G66XuE   \n",
       "3623                 0  https://www.youtube.com/watch?v=N7ZafWA2jd8   \n",
       "2485                 0  https://www.youtube.com/watch?v=pzgPXOw2plI   \n",
       "5005                 1  https://www.youtube.com/watch?v=fnd71bqiiW0   \n",
       "9127                 1  https://www.youtube.com/watch?v=dUWlwLXwsCk   \n",
       "3050                 0  https://www.youtube.com/watch?v=pzgPXOw2plI   \n",
       "13982                0  https://www.youtube.com/watch?v=dErPnLleThk   \n",
       "14827                0  https://www.youtube.com/watch?v=JGr1Em2Ip-c   \n",
       "3372                 1  https://www.youtube.com/watch?v=XMwBox8FITU   \n",
       "2162                 1  https://www.youtube.com/watch?v=brZT-Qdg8TY   \n",
       "8770                 1  https://www.youtube.com/watch?v=A276htNwAMo   \n",
       "9404                 1  https://www.youtube.com/watch?v=lloiQ7Fu6Ao   \n",
       "\n",
       "                                                                                                                                                                                                                                                                                                                                                                                                                                                                                                                                                                                                                                                     Tokens  \\\n",
       "7816                                                                                                                                                                                                                                                                                                                               [One, of, my, favorite, steam, games, to, play, as, of, right, now, ., This, game, brings, me, back, to, when, Lego, Universe, existed, ,, and, it, has, a, very, similar, feeling, to, it, ., Lots, of, classes, ,, fair, play, ,, some, minor, tweaking, needed, here, and, there, ,, but, overall, ,, great, game, .]   \n",
       "1529                                                                                                                                                                                                                                                                                                                                                                                 [Early, Access, ReviewI, play, this, game, infrequently, ,, and, I, enjoy, it, very, much, whenever, I, do, play, it, ., This, is, one, of, the, best, free, to, play, games, I, have, ever, played, ,, and, if, you, have, n't, played, it, yet, ,, you, need, to, .]   \n",
       "14970           [Early, Access, ReviewThis, used, to, be, my, favirote, game, ., I, was, excited, for, the, meta, ,, and, it, was, great, at, first, then, came, update, after, update, ,, screw, up, after, screw, up, and, I, couldn\\'t, figure, out, anything, ., The, level, system, ,, the, blocks, ,, the, guns, ,, everything, fundamentally, changed, and, it, stripped, away, everything, even, remotely, enjoyable, about, the, game, ., This, game, has, great, potential, ,, but, the, devs, preetty, much, ran, it, into, the, ground, for, money, ., I, would, play, this, game, ,, PAY, for, it, if, it, brought, back, everything, to, ...]   \n",
       "4165                           [This, game, is, very, beginner, friendly, and, easy, to, pick, up, ., I, had, never, played, yugioh, before, and, this, game, was, my, first, experience, playing, it, ., You, start, off, with, a, decent, deck, (, it, is, n't, the, best, but, for, learning, purposes, ,, its, pretty, good, ), with, a, well, known, monster, of, your, choice, ,, Blue, -, Eyes, White, Dragon, or, Dark, Magician, ., The, gacha, mechanic, for, gettting, new, cards, is, great, and, guarentees, rare, cards, if, you, 're, patient, enough, to, use, enough, gems, on, it, ., There, is, always, an, event, occuring, which, ...]   \n",
       "2608                    [Overall, it, 's, a, good, game, ,, not, pay, to, win, ., But, after, 1.37, patch, ,, matchmaking, is, n't, history, authentic, anymore, ,, and, new, unlocking, system, making, this, game, hard, to, open, new, aircrafts\\tanks, (, way, below, limit, where, you, still, can, get, fun, ), ., Grind, ,, grind, grind, ., They, need, to, double, the, exp, points(including, crew, exp, ), to, make, this, game, any, interesting, to, play, without, premium, ., On, other, side, premium, is, too, expensive, for, an, average, player, ., I, still, playing, it, only, because, i, 've, got, a, friends, to, play, with, ...]   \n",
       "2935   [War, Thunder, was, a, game, I, enjoyed, for, many, years, ,, I, made, many, friends, playing, this, game, and, had, great, times, ., But, these, past, couple, years, the, game, has, been, deteriorating, rapidly, ,, Gaijin, has, been, neglecting, what, the, community, wants, and, needs, ., They, have, been, implementing, more, and, more, premium, vehicles, into, the, game, (, which, I, am, not, necessarily, against, ), but, by, doing, so, they, have, been, letting, new, players, get, to, the, higher, tiers, ,, they, have, gone, against, their, old, saying, of, not, letting, people, buy, in, to, tier, 5, instead, of, ...]   \n",
       "3344                                                                                                                                                                                                                          [Early, Access, Reviewfunny, to, think, that, a, free, to, play, can, be, so, much, more, responsive, ,, pretty, (, graphically, speaking, ), ,, and, better, developed, all, around, than, a, game, like, pubg, (, which, might, not, be, saying, much, considering, pubg, is, a, piece, of, garbage, ), ., Anyways, ,, this, should, hold, out, until, blackout, releases, ,, and, hey, ♥, ♥, ♥, ♥, ♥, holes, ., its, FREE]   \n",
       "17427                                                                   [Played, this, game, back, in, 2004, on, release, ., Saw, it, on, steam, under, daybreak, instead, of, SOE, and, gave, it, a, try, with, it, being, free, to, play, which, it, is, ., Levelup, much, easier, and, with, dungeon, /, group, finder, it, is, quick, to, hop, in, and, do, something, fun, ., Just, working, on, a, character, from, 1, to, max, or, where, you, need, to, buy, a, pass, /, subscription, which, is, only, actually, needed, for, the, end, game, material, ., With, as, much, fun, as, I, 've, had, when, I, get, to, that, point, I, will, get, ...]   \n",
       "10483                                                                                                                                                                                                                                                                [This, is, a, game, that, looks, good, by, this, page, but, has, an, overwhelming, amount, of, microtransactions, and, a, really, unwelcoming, community, where, you, need, to, be, a, paid, member, to, create, a, multiplayer, map, and, you, are, able, to, password, lock, games, but, many, do, nt, and, will, just, kick, you, after, you, spend, five, minutes, loading, in, .]   \n",
       "3623                                                                       [Before, the, Meet, your, Match, update, ,, this, would, be, an, extremely, positive, review, ., the, gameplay, is, balanced, ,, its, fun, ,, and, best, of, all, ,, it, 's, free, ., but, thanks, to, the, meet, your, match, update, ,, this, game, is, unplayable, ., and, i, do, nt, mean, its, really, bad, ,, i, mean, you, literally, can, not, play, ., I, spent, 20, minutes, in, the, queue, for, a, casual, game, ., and, for, some, reason, there, is, a, leavers, penalty, for, a, casual, game, ., do, not, waste, your, time, on, this, game, like, I, have, ...]   \n",
       "2485                                                                           [Well, ,, i, have, few, hours, at, that, game,  , but, at, the, first, 2, min, i, realised, that, the, game, doesent,  , worth, anything, ,, it, is, a, waste, of, time, and, space, at, the, disck, the, graphics, are, horrible, at, medium, and, at, the, ultra, are, just, livable, 1, ., Not, realistic, gameplay, 2, ., bad, representation, of, the, urban, place, 3, ., Pay, TO, Win, 4, ., incomprehensible, menu, 5, ., Noob, players, 6, ., You, need, lot, of, time, to, unlock, good, tanks, (, i, am, not, speaking, for, the, PzKw, IV, ), 7, ., medium, ...]   \n",
       "5005                                                                                                                                                                                                                                                       [Early, Access, ReviewAt, the, first, you, will, think, that, it, is, very, easy, But, later, you, will, know, how, much, it, is, hard,  , and, who, each, legend, have, a, special, power, and, special, way, to, play, I, am, really, enjoying,  , playing, this, game, and, i, hope, that, i, will, reach, the, highest, rank, At, the, end, It, 's, a, great, game,  , you, should, try, it]   \n",
       "9127                                [If, your, pc, is, beefy, enough, ,, you, should, really, check, this, game, out, !, It, 's, got, massive, scale, battles, over, 3, continents, ,, gorgeous, graphics, ,, rock, solid, gameplay, and, a, great, in, -, depth, skill, tree, !, You, can, either, go, infantry, and, shoot, people, up, close, ,, or, decimate, the, competition, by, jumping, in, one, of, the, awesome, land, or, air, vehicles, ., Fight, your, battle, ,, your, way, ., My, tip, for, new, players, ?, Go, medic, or, engineer, for, quick, skillpoint, farming, ,, and, enjoy, !, Also, be, sure, to, use, your, microphone, ,, ...]   \n",
       "3050       [I, would, n't, have, recommended, War, Thunder, before, the, latest, changes, because, the, game, is, unbalanced, in, many, areas, ., Some, will, find, ways, around, it, or, just, enjoyed, the, incredible, vehicle, models, ., But, now, Gaijin, 's, answer, to, an, unbalanced, system, is, to, make, it, worse, ., They, admitted, there, was, a, problem, with, balance, ,, they, made, small, steps, to, fix, it, (, such, as, moving, the, IS3, so, it, could, no, longer, fight, Panthers, and, Pershings, ), ., But, with, the, 23/9/15, patch, they, brought, the, IS3, back, so, it, could, face, Panthers, and, Pershings, ,, ...]   \n",
       "13982                                           [First, things, First, -, do, n't, be, fooled, -, this, is, just, WarZ, /, Infestation, :, Survivor, Stories, ..., Exact, same, names, for, cities, ..., exact, same, graphics, ..., exact, same, assets, ..., models, ..., it, 's, nearly, all, the, same, ..., Even, the, UI, in, the, menu, is, the, same, -, minor, tweeks, here, and, there, ,, but, overall, ?, probably, only, about, a, 10, %, change, on, what, was, here, before, ..., Now, ..., let, 's, remember, ..., WarZ, was, removed, from, being, sold, on, Steam, -, for, fraud, ,, essentially, ., With, that, said, ..., if, you, ...]   \n",
       "14827           [Product, received, for, freeEarly, Access, Reviewafter, the, recent, update, all, obtainable, robot, parts, come, from, crates, which, is, purely, chance, ., I, got, a, legendary, (, yellow, ), weapon, from, a, rusted, crate, and, I, 've, never, gotten, above, a, blue, from, gold, or, higher, crates, ., It, 's, bull, ., parts, do, n't, sell, for, enough, to, make, obtaining, things, in, a, reasonable, amount, of, time, remotely, possible, ., I, started, playing, with, a, lvl, 88, promo, -, code, and, Luckily, I, had, lots, of, good, stuff, from, this, patch, ,, but, for, new, players, it, will, take, them, ...]   \n",
       "3372                     [Early, Access, ReviewEver, played, PUBG, to, the, point, where, you, want, to, snack, on, some, Tide, Pods, ?, This, game, wo, n't, give, you, that, sensation, becausethis, game, is, actually, good, ., Pros:-loot, is, spread, evenly, -, don't, have, to, load, in, and, hope, you, can, find, a, spot, -, waits, for, everyone, to, loasd, in, before, spots, can, be, selected, -, unique, use, of, 3, starter, packs, #, gliderOP, -, attachments, are, n't, rare, ,, same, as, ammo, -, smooth, gameplay, with, pretty, good, graphics, -, bullets, do, n't, hit, the, ground, right, as, they, leave, your, gun, -, ...]   \n",
       "2162                     [Worst, FPS, I, 've, ever, played, ., 10/10Edit, :, I, noticed, this, review, recieved, a, lot, of, attention, for, some, reason, ., In, all, seriousness, ,, Path, of, Exile, is, a, fantastic, ARPG, with, some, of, the, best, character, custimization, options, in, the, entire, gaming, industry, ., With, the, removal, of, desync, ,, I, can, proudly, say, this, is, easily, the, best, ARPG, on, the, market, and, given, its, extremely, ethical, business, model, and, excellent, game, developers, ,, there, is, no, reason, any, fan, of, rpgs, or, arpgs, alike, should, n't, atleast, give, this, game, a, try, .]   \n",
       "8770                                                      [Early, Access, ReviewIf, you, 're, looking, for, a, good, free, Battle, Royale, game, ,, this, is, worth, a, try, ., It, 's, still, very, early, and, is, still, missing, a, lot, ,, but, what, is, already, available, is, definitely, worth, playing, ., While, I, was, n't, a, fan, of, my, first, game, due, to, lack, of, real, explanation, of, what, anything, is, ,, a, few, more, games, in, and, I, 'm, starting, to, get, the, hang, of, things, ., Setting, this, in, a, more, MMO, /, WoW, setting, is, a, nice, change, ,, but, the, biggest, difference, between, this, and, ...]   \n",
       "9404                                                          [Do, n't, be, fooled, by, 68, hours, ,, My, main, account, most, likley, has, several, hundred, hours, of, gameplay, ., This, game, offers, so, much, ,, but, it, 's, rather, difficult, to, get, into, ,, while, being, incredibly, easy, to, get, in, to, ., Starting, the, game, and, exploring, is, fun, and, you, can, do, it, from, day, one, ,, at, first, glance, it, 's, a, fun, game, ,, but, nothing, you, 'd, spent, much, time, on, ., Now, If, you, look, past, that, ,, there, is, actually, so, much, ., The, leveling, system, is, n't, what, determines, a, character, ...]   \n",
       "\n",
       "                                                                                                                                                                                                                                                                                                                                                                                                                                                                                                                                                                                                                                                                                                                                                                              ProcessTokens  \n",
       "7816                                                                                                                                                                                                                                                                                                                                                                                                                                                                                                                                                                                                                                                                  [favorite, steam, play, right, game, universe, similar, feeling, lot, class, fair, play, minor, overall, great, game]  \n",
       "1529                                                                                                                                                                                                                                                                                                                                                                                                                                                                                                                                                                                                                                                                                                         [early, access, play, game, infrequently, enjoy, play, best, free, play, need]  \n",
       "14970                                                                                                                                                                                                                                                                                                                                                                                                                              [early, access, game, excited, meta, great, came, update, update, screw, screw, figure, level, system, fundamentally, stripped, away, remotely, enjoyable, game, game, great, potential, ran, ground, money, play, game, pay, brought, stage, meta, plenty, good, level, system, good, room, grow, long, story, short, good, great, ruined, sorry, game]  \n",
       "4165                                                                                                                                                                                                                                                                                                                                                                                                                                                                                 [game, beginner, friendly, easy, pick, game, experience, start, decent, deck, best, learning, pretty, good, known, monster, choice, blue, white, dragon, dark, magician, mechanic, new, great, rare, patient, use, event, fresh, overall, great, game, game, come, know, love, cast, new, experienced]  \n",
       "2608                                                                                                                                                                                                                                                                                                                                                                    [overall, good, game, pay, win, patch, matchmaking, history, authentic, new, unlocking, system, making, game, hard, open, new, way, limit, fun, grind, grind, grind, need, double, crew, game, interesting, play, premium, premium, expensive, average, player, got, play, current, state, matchmaking, premium, experience, point, need, unlock, recommend, game, maybe, check, later, change, greedy, half, year]  \n",
       "2935                                                                                                                                                                                                                                                                                                              [war, thunder, game, game, great, time, past, couple, game, rapidly, community, need, premium, game, necessarily, new, higher, gone, old, saying, people, buy, tier, instead, earning, worst, recently, community, debacle, consistently, mend, damage, community, instead, seeking, healthy, game, understand, business, money, sad, game, company, passion, money, making, sham, want, play, game, ahead, imagine, enjoy, tier, worth, money, worth, lot, energy, love]  \n",
       "3344                                                                                                                                                                                                                                                                                                                                                                                                                                                                                                                                                                                                             [early, access, think, free, play, responsive, pretty, graphically, speaking, better, game, like, saying, considering, piece, garbage, anyways, hold, blackout, hey, free]  \n",
       "17427                                                                                                                                                                                                                                                                                                                                          [game, release, saw, steam, daybreak, instead, soe, gave, try, free, play, easier, dungeon, group, finder, quick, hop, fun, working, character, need, buy, pas, subscription, actually, end, game, material, fun, point, extra, pas, wish, people, play, content, fun, filled, free, play, game, found, steam, friend, level, game, going, fun, new, like, play, game, plenty, new, going, play, worth, try, free, countless, end, enjoying]  \n",
       "10483                                                                                                                                                                                                                                                                                                                                                                                                                                                                                                                                                                                                                                                                    [game, good, page, overwhelming, community, need, member, create, map, able, password, lock, kick, spend, loading]  \n",
       "3623                                                                                                                                                                                                                                                                                                                                                                                                                                                                                                                                     [meet, match, update, extremely, positive, review, balanced, fun, best, free, thanks, meet, match, update, game, unplayable, mean, bad, mean, literally, play, spent, queue, casual, game, reason, penalty, casual, game, waste, time, game, like]  \n",
       "2485                                                                                                                                                                                                                                                                                                                                                                                                                                                                               [game, min, game, worth, waste, time, space, graphic, horrible, medium, ultra, livable, realistic, bad, representation, urban, place, pay, win, incomprehensible, menu, need, lot, time, unlock, good, speaking, medium, game, horrible, realistic, range, tank, map, destroy, tank, s, recommend, game]  \n",
       "5005                                                                                                                                                                                                                                                                                                                                                                                                                                                                                                                                                                                                                         [early, access, think, easy, later, know, hard, legend, special, power, special, way, play, enjoying, game, hope, reach, highest, rank, end, great, game, try]  \n",
       "9127                                                                                                                                                                                                                                                                                                                                                                                                                                                                                                           [beefy, check, game, got, massive, scale, gorgeous, graphic, rock, solid, great, depth, skill, tree, infantry, shoot, people, close, decimate, competition, awesome, land, air, fight, battle, way, tip, new, medic, engineer, quick, farming, enjoy, sure, use, microphone]  \n",
       "3050                                                                                                                                                                                                                [war, thunder, latest, game, unbalanced, find, way, incredible, vehicle, answer, unbalanced, system, worse, admitted, problem, balance, small, fix, moving, longer, fight, patch, brought, face, single, tier, tank, cold, war, tiger, like, m, absolutely, entire, worth, review, touched, mess, plane, content, tempest, prop, getting, eaten, alive, era, fighting, cream, crop, war, effect, low, noticeable, devastating, game, breaking, blow, dealt, mid, high, tier, excited, happy, game, broken, given, track, record, touch, subject, guarantee, fix, avoid]  \n",
       "13982                                                                                                                                                                                                                                                                                                                              [infestation, survivor, exact, exact, graphic, exact, asset, nearly, menu, minor, overall, probably, change, let, remember, removed, sold, steam, fraud, essentially, said, infestation, survivor, sure, enjoy, game, complete, garbage, crew, forever, cash, grab, group, way, blue, face, different, company, exact, game, exact, model, going, feel, sorry, cash, look, people, streaming, right, game, garbage, found, mean, anti, hack, crap, joke]  \n",
       "14827                                                                                                                                                                                                                                                                                                                                                                                                                                                                                    [product, received, access, recent, update, obtainable, robot, come, purely, chance, got, legendary, yellow, weapon, crate, gotten, blue, gold, higher, bull, sell, reasonable, time, remotely, possible, code, luckily, lot, good, stuff, patch, new, nonstop, play, day, good, unbalanced, hell]  \n",
       "3372                                                                                                                                                                                                                                                                                                                                                                                                                                                                                                                 [early, access, point, want, snack, tide, game, wo, sensation, game, actually, good, spread, evenly, load, hope, find, spot, selected, unique, use, starter, rare, ammo, smooth, pretty, good, graphic, hit, ground, right, leave, gun, win, voice, chat, toxic, year]  \n",
       "2162                                                                                                                                                                                                                                                                                                                                                                                                                                                                                                                            [worst, review, lot, attention, reason, seriousness, path, exile, fantastic, best, character, entire, gaming, industry, removal, proudly, easily, best, market, given, extremely, ethical, business, model, excellent, game, reason, fan, alike, game, try]  \n",
       "8770   [early, access, looking, good, free, battle, royale, game, worth, try, early, missing, lot, available, definitely, worth, fan, game, lack, real, explanation, starting, setting, wow, setting, nice, change, biggest, difference, similar, game, class, spend, time, drop, looking, loot, loot, like, discard, use, craft, map, mount, speed, movement, bit, map, feel, smaller, right, near, fight, fine, distance, hear, sound, mount, situational, awareness, lack, proper, especially, hard, figure, waiting, personality, added, running, chicken, cute, different, lack, armor, showing, people, feel, bit, soulless, positive, stuff, added, later, definitely, worth, try, looking, forward, seeing, nice, fantasy, worry, building, fine, kind, hole, radical, left, heart]  \n",
       "9404                                                                                                                                                                                                                                                                                                                                                    [main, account, game, difficult, incredibly, easy, starting, game, exploring, fun, day, glance, fun, game, spent, time, look, past, actually, leveling, system, character, game, sort, currency, trading, economy, gear, difficult, certain, problem, getting, far, practice, grit, death, inevitable, let, set, learning, rebound, integral, feature, powerful, powerful, prone, quick, game, unforgiving, skill, return, deliver]  "
      ]
     },
     "execution_count": 15,
     "metadata": {},
     "output_type": "execute_result"
    }
   ],
   "source": [
    "df['ProcessTokens'] = list_of_process_tokens    \n",
    "df.sample(20)"
   ]
  },
  {
   "cell_type": "code",
   "execution_count": 16,
   "id": "0122b2a4-f5ef-4f5c-8428-b285415e8a7e",
   "metadata": {},
   "outputs": [],
   "source": [
    "#JUST FOR FUN :)\n",
    "#most common words for each category (user_suggestion=1 OR user_suggestion=0)\n",
    "\n",
    "def words_frequency(data, rating_col, token_col, rating_nr):\n",
    "    all_rating_tokens = []\n",
    "    tokens = list(data[data[rating_col] == rating_nr][token_col])\n",
    "    for i in tokens:\n",
    "        for j in i:\n",
    "            all_rating_tokens.append(j)\n",
    "                \n",
    "    freq = nltk.FreqDist(all_rating_tokens)\n",
    "    print(freq.most_common()[0:20])\n",
    "    freq.plot(10, cumulative=False)\n",
    "    return freq, all_rating_tokens"
   ]
  },
  {
   "cell_type": "code",
   "execution_count": 17,
   "id": "6f89dfc6-7b9c-4b54-b247-5109a0f04363",
   "metadata": {},
   "outputs": [
    {
     "name": "stdout",
     "output_type": "stream",
     "text": [
      "[('game', 28458), ('like', 7237), ('play', 6765), ('good', 4889), ('time', 4615), ('fun', 4397), ('early', 4005), ('access', 3939), ('free', 3795), ('nope', 3235), ('great', 3005), ('lot', 2629), ('people', 2616), ('new', 2556), ('want', 2130), ('need', 2113), ('better', 1960), ('best', 1903), ('way', 1868), ('try', 1643)]\n"
     ]
    },
    {
     "data": {
      "image/png": "[encoded data removed]",
      "text/plain": [
       "<Figure size 640x480 with 1 Axes>"
      ]
     },
     "metadata": {},
     "output_type": "display_data"
    }
   ],
   "source": [
    "freq, all_rating_tokens = words_frequency(df, 'user_suggestion', 'ProcessTokens', 1)"
   ]
  },
  {
   "cell_type": "code",
   "execution_count": 18,
   "id": "497e3b40-7d81-45f3-a118-ebfbb911bb81",
   "metadata": {},
   "outputs": [
    {
     "name": "stdout",
     "output_type": "stream",
     "text": [
      "[('game', 23714), ('play', 5105), ('like', 4795), ('time', 4427), ('good', 3012), ('access', 2963), ('early', 2915), ('money', 2892), ('fun', 2566), ('pay', 2379), ('new', 2264), ('want', 2099), ('people', 2095), ('way', 1685), ('free', 1644), ('bad', 1559), ('need', 1553), ('buy', 1530), ('better', 1513), ('lot', 1345)]\n"
     ]
    },
    {
     "data": {
      "image/png": "[encoded data removed]",
      "text/plain": [
       "<Figure size 640x480 with 1 Axes>"
      ]
     },
     "metadata": {},
     "output_type": "display_data"
    }
   ],
   "source": [
    "freq, all_rating_tokens = words_frequency(df, 'user_suggestion', 'ProcessTokens', 0)"
   ]
  },
  {
   "cell_type": "code",
   "execution_count": 19,
   "id": "86e0f2c2",
   "metadata": {
    "scrolled": true
   },
   "outputs": [],
   "source": [
    "#Converting the datatype of processtokens fromm list to string, so that our vectorization works right.\n",
    "df['ProcessTokens'] = df['ProcessTokens'].astype(\"string\")"
   ]
  },
  {
   "cell_type": "code",
   "execution_count": 20,
   "id": "fd9183de",
   "metadata": {},
   "outputs": [
    {
     "name": "stdout",
     "output_type": "stream",
     "text": [
      "(13995, 6)\n",
      "(13995,)\n",
      "(1749, 6)\n",
      "(1749,)\n",
      "(1750, 6)\n",
      "(1750,)\n"
     ]
    },
    {
     "data": {
      "text/plain": [
       "(None, None)"
      ]
     },
     "execution_count": 20,
     "metadata": {},
     "output_type": "execute_result"
    }
   ],
   "source": [
    "# train test split before normalization\n",
    "from sklearn.model_selection import train_test_split\n",
    "\n",
    "X = df.drop(columns=['user_suggestion','review_id', 'year']).copy()\n",
    "y = df['user_suggestion']\n",
    "\n",
    "X_train, X_rem, y_train, y_rem = train_test_split(X, y, train_size=0.8)\n",
    "\n",
    "X_valid, X_test, y_valid, y_test = train_test_split(X_rem, y_rem, test_size=0.5)\n",
    "\n",
    "print(X_train.shape), print(y_train.shape)\n",
    "print(X_valid.shape), print(y_valid.shape)\n",
    "print(X_test.shape), print(y_test.shape)"
   ]
  },
  {
   "cell_type": "code",
   "execution_count": 21,
   "id": "3483537f",
   "metadata": {},
   "outputs": [
    {
     "name": "stdout",
     "output_type": "stream",
     "text": [
      "[[False False False False False False]\n",
      " [False False False False False False]\n",
      " [False False False False False False]\n",
      " ...\n",
      " [False False False False False False]\n",
      " [False False False False False False]\n",
      " [False False False False False False]]\n",
      "[False False False ... False False False]\n"
     ]
    }
   ],
   "source": [
    "#Check for NaN-Values\n",
    "print(pd.isna(X_train).values)\n",
    "print(pd.isna(y_train).values)"
   ]
  },
  {
   "cell_type": "code",
   "execution_count": 22,
   "id": "1ff490cc-3296-4c27-8560-dcb54f42838e",
   "metadata": {},
   "outputs": [],
   "source": [
    "#define text vectorizers (I used two different ones, later we can decide which one we should continue with)\n",
    "count_vectorizer = CountVectorizer()\n",
    "tfidf_vectorizer = TfidfVectorizer()"
   ]
  },
  {
   "cell_type": "code",
   "execution_count": 23,
   "id": "76438feb",
   "metadata": {},
   "outputs": [
    {
     "name": "stderr",
     "output_type": "stream",
     "text": [
      "/Users/soumyankar/.pyenv/versions/miniconda3-latest/lib/python3.9/site-packages/sklearn/utils/deprecation.py:87: FutureWarning: Function get_feature_names is deprecated; get_feature_names is deprecated in 1.0 and will be removed in 1.2. Please use get_feature_names_out instead.\n",
      "  warnings.warn(msg, category=FutureWarning)\n"
     ]
    }
   ],
   "source": [
    "#text vectorization with count_vectorizer\n",
    "#vectorization on train_dataset\n",
    "np.set_printoptions(threshold=sys.maxsize)\n",
    "def create_vectorized_dataset_count(data):\n",
    "    list_of_count_vectors = []\n",
    "    data = data.tolist() # converting to a list\n",
    "    count_vector = count_vectorizer.fit_transform(data)\n",
    "    count_array = count_vector.toarray()\n",
    "#     Uncomment the two lines below to see the count vector with feature names\n",
    "#     probably might also need to remove print truncation to see the whole thing.\n",
    "    dftemp = pd.DataFrame(data=count_array,columns = count_vectorizer.get_feature_names())\n",
    "    #return count_array # this is the 2d\n",
    "    return count_vector\n",
    "\n",
    "count_vector = create_vectorized_dataset_count(X_train['ProcessTokens']) # this becomes our count vectorization vector.\n",
    "# we can use thhis to train our model.\n"
   ]
  },
  {
   "cell_type": "code",
   "execution_count": null,
   "id": "647c83bc",
   "metadata": {
    "scrolled": true
   },
   "outputs": [],
   "source": []
  },
  {
   "cell_type": "code",
   "execution_count": 24,
   "id": "e8f4b007",
   "metadata": {},
   "outputs": [
    {
     "name": "stdout",
     "output_type": "stream",
     "text": [
      "(13995, 12733)\n"
     ]
    }
   ],
   "source": [
    "#text vectorization with tfidf_vectorizer\n",
    "#vectorization on train_dataset\n",
    "def create_vectorized_dataset_tfidf(data):\n",
    "    data = data.tolist()\n",
    "    tfidf_vector = tfidf_vectorizer.fit_transform(data)\n",
    "    tfidf_array = tfidf_vector.toarray()\n",
    "    # prinnting non-zero colummns\n",
    "    # dftemp = pd.DataFrame(data=tfidf_array, columns=tfidf_vectorizer.get_feature_names())\n",
    "    # print(dftemp)\n",
    "    #return tfidf_array\n",
    "    return tfidf_vector\n",
    "\n",
    "tfidf_vector = create_vectorized_dataset_tfidf(X_train['ProcessTokens'])\n",
    "\n",
    "print(tfidf_vector.shape)\n",
    "#df.head(1)"
   ]
  },
  {
   "cell_type": "markdown",
   "id": "6b0ff8c3-1f0f-46ee-bebe-deef16a3beaf",
   "metadata": {},
   "source": [
    "NOTE: use either Count_Vector or TF-IDF_Vectors column as the input for ML models\n",
    "\n",
    "Next steps: \n",
    "1. define different ML models to work with\n",
    "2. split the dataset (either Count_Vector or TF-IDF_Vectors) into training and testing data\n",
    "3. fit the training data to the models\n",
    "4. make predictions\n",
    "\n",
    "Further steps:\n",
    "\n",
    "5. evaluate each model using different evaluation methods (use the testing dataset for this)"
   ]
  },
  {
   "cell_type": "code",
   "execution_count": 25,
   "id": "092efcfb",
   "metadata": {},
   "outputs": [
    {
     "name": "stdout",
     "output_type": "stream",
     "text": [
      "n_samples: 1750, n_features: 12733\n"
     ]
    }
   ],
   "source": [
    "#transform count test data\n",
    "\n",
    "test_count_vector = count_vectorizer.transform(X_test['ProcessTokens'])\n",
    "print(\"n_samples: %d, n_features: %d\" % test_count_vector.shape)"
   ]
  },
  {
   "cell_type": "code",
   "execution_count": 26,
   "id": "dd7f0a89",
   "metadata": {},
   "outputs": [
    {
     "name": "stdout",
     "output_type": "stream",
     "text": [
      "n_samples: 1750, n_features: 12733\n"
     ]
    }
   ],
   "source": [
    "#transform tfidf test data\n",
    "\n",
    "test_tfidf_vector = tfidf_vectorizer.transform(X_test['ProcessTokens'])\n",
    "print(\"n_samples: %d, n_features: %d\" % test_tfidf_vector.shape)"
   ]
  },
  {
   "cell_type": "code",
   "execution_count": 27,
   "id": "57253233-3da0-4666-989d-1e89dc1eb729",
   "metadata": {},
   "outputs": [
    {
     "name": "stdout",
     "output_type": "stream",
     "text": [
      "Multinomial Naive Bayes model accuracy(in %): 82.57142857142857\n"
     ]
    }
   ],
   "source": [
    "#Naive Bayes with count vector\n",
    "\n",
    "from sklearn import metrics\n",
    "from sklearn.naive_bayes import MultinomialNB\n",
    "\n",
    "naive_bayes_classifier = MultinomialNB()\n",
    "naive_bayes_classifier.fit(count_vector, y_train)\n",
    "\n",
    "y_prediction = naive_bayes_classifier.predict(test_count_vector)\n",
    "\n",
    "print(\"Multinomial Naive Bayes model accuracy(in %):\", metrics.accuracy_score(y_test, y_prediction)*100)"
   ]
  },
  {
   "cell_type": "code",
   "execution_count": 28,
   "id": "d07028fc",
   "metadata": {},
   "outputs": [
    {
     "name": "stdout",
     "output_type": "stream",
     "text": [
      "kNN model accuracy(in %): 62.228571428571435\n"
     ]
    }
   ],
   "source": [
    "# Knn\n",
    "from sklearn.neighbors import KNeighborsClassifier\n",
    "knn = KNeighborsClassifier(n_neighbors=7)\n",
    "knn_clf = knn.fit(count_vector, y_train)\n",
    "knn_y_pred = knn_clf.predict(test_count_vector)\n",
    "\n",
    "\n",
    "print(\"kNN model accuracy(in %):\", metrics.accuracy_score(y_test, knn_y_pred)*100)\n"
   ]
  },
  {
   "cell_type": "code",
   "execution_count": 29,
   "id": "742c7bb3",
   "metadata": {},
   "outputs": [
    {
     "name": "stdout",
     "output_type": "stream",
     "text": [
      "LR model accuracy(in %): 82.17142857142858\n"
     ]
    },
    {
     "name": "stderr",
     "output_type": "stream",
     "text": [
      "/Users/soumyankar/.pyenv/versions/miniconda3-latest/lib/python3.9/site-packages/sklearn/linear_model/_logistic.py:444: ConvergenceWarning: lbfgs failed to converge (status=1):\n",
      "STOP: TOTAL NO. of ITERATIONS REACHED LIMIT.\n",
      "\n",
      "Increase the number of iterations (max_iter) or scale the data as shown in:\n",
      "    https://scikit-learn.org/stable/modules/preprocessing.html\n",
      "Please also refer to the documentation for alternative solver options:\n",
      "    https://scikit-learn.org/stable/modules/linear_model.html#logistic-regression\n",
      "  n_iter_i = _check_optimize_result(\n"
     ]
    }
   ],
   "source": [
    "# lr\n",
    "from sklearn.linear_model import LogisticRegression\n",
    "lr_clf = LogisticRegression()\n",
    "lr_clf.fit(count_vector, y_train)\n",
    "lr_y_pred = lr_clf.predict(test_count_vector)\n",
    "\n",
    "\n",
    "print(\"LR model accuracy(in %):\", metrics.accuracy_score(y_test, lr_y_pred)*100)"
   ]
  },
  {
   "cell_type": "code",
   "execution_count": 30,
   "id": "1d57ede3",
   "metadata": {},
   "outputs": [
    {
     "name": "stdout",
     "output_type": "stream",
     "text": [
      "Accuracy :  0.8217142857142857\n"
     ]
    }
   ],
   "source": [
    "from sklearn.metrics import confusion_matrix\n",
    "cm = confusion_matrix(y_test, lr_y_pred)\n",
    "from sklearn.metrics import accuracy_score \n",
    "print (\"Accuracy : \", accuracy_score(y_test, lr_y_pred))"
   ]
  },
  {
   "cell_type": "code",
   "execution_count": 31,
   "id": "160d5985",
   "metadata": {},
   "outputs": [
    {
     "data": {
      "image/png": "[encoded data removed]",
      "text/plain": [
       "<Figure size 640x480 with 2 Axes>"
      ]
     },
     "metadata": {},
     "output_type": "display_data"
    }
   ],
   "source": [
    "# printing confusion matrix\n",
    "from sklearn.metrics import ConfusionMatrixDisplay\n",
    "disp = ConfusionMatrixDisplay(confusion_matrix=cm,display_labels=lr_clf.classes_)\n",
    "disp.plot()\n",
    "plt.show()"
   ]
  }
 ],
 "metadata": {
  "kernelspec": {
   "display_name": "Python 3 (ipykernel)",
   "language": "python",
   "name": "python3"
  },
  "language_info": {
   "codemirror_mode": {
    "name": "ipython",
    "version": 3
   },
   "file_extension": ".py",
   "mimetype": "text/x-python",
   "name": "python",
   "nbconvert_exporter": "python",
   "pygments_lexer": "ipython3",
   "version": "3.9.12"
  }
 },
 "nbformat": 4,
 "nbformat_minor": 5
}
