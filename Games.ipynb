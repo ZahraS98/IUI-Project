{
 "cells": [
  {
   "cell_type": "code",
   "execution_count": 148,
   "id": "45b06cf9-aa4d-45e0-a1d0-f85cf56e331a",
   "metadata": {},
   "outputs": [
    {
     "name": "stderr",
     "output_type": "stream",
     "text": [
      "[nltk_data] Downloading package stopwords to\n",
      "[nltk_data]     /Users/soumyankar/nltk_data...\n",
      "[nltk_data]   Package stopwords is already up-to-date!\n"
     ]
    }
   ],
   "source": [
    "#import necessary libraries\n",
    "import pandas as pd\n",
    "import nltk\n",
    "import sys # needed this for certain print options during debugging\n",
    "import numpy as np #lmao why did we not have this before\n",
    "from nltk.tokenize import word_tokenize\n",
    "nltk.download('stopwords')\n",
    "from nltk.corpus import stopwords\n",
    "import string\n",
    "from nltk.stem import WordNetLemmatizer\n",
    "from sklearn.feature_extraction.text import TfidfVectorizer\n",
    "from sklearn.feature_extraction.text import CountVectorizer"
   ]
  },
  {
   "cell_type": "code",
   "execution_count": 2,
   "id": "c3c3e8e2-7579-4ca0-949d-a7a336abdd4a",
   "metadata": {},
   "outputs": [
    {
     "data": {
      "text/html": [
       "<div>\n",
       "<style scoped>\n",
       "    .dataframe tbody tr th:only-of-type {\n",
       "        vertical-align: middle;\n",
       "    }\n",
       "\n",
       "    .dataframe tbody tr th {\n",
       "        vertical-align: top;\n",
       "    }\n",
       "\n",
       "    .dataframe thead th {\n",
       "        text-align: right;\n",
       "    }\n",
       "</style>\n",
       "<table border=\"1\" class=\"dataframe\">\n",
       "  <thead>\n",
       "    <tr style=\"text-align: right;\">\n",
       "      <th></th>\n",
       "      <th>review_id</th>\n",
       "      <th>title</th>\n",
       "      <th>year</th>\n",
       "      <th>user_review</th>\n",
       "      <th>user_suggestion</th>\n",
       "    </tr>\n",
       "  </thead>\n",
       "  <tbody>\n",
       "    <tr>\n",
       "      <th>0</th>\n",
       "      <td>1</td>\n",
       "      <td>Spooky's Jump Scare Mansion</td>\n",
       "      <td>2016.0</td>\n",
       "      <td>I'm scared and hearing creepy voices.  So I'll pause for a moment and write a review while I wait for my heart beat to return to atleast somewhat calmer times.  This game is adorable and creepy like my happy tree friends but with the graphics sceme of my childhood (but more bubble and 'clean').  Hello 1990's.What charactes there are (that isnot trying to kill me) were likable and a bit odd.  I did do a few noob things though, such as:Oh look a class room full of ghosts from dead children, lets shine my flashlight on them and stand there staring at them..Or, hmm creepy music, I'll turn around and see if I can see what's chasing me.Never before in a game have I been this afraid of finding a locked door.</td>\n",
       "      <td>1</td>\n",
       "    </tr>\n",
       "    <tr>\n",
       "      <th>1</th>\n",
       "      <td>2</td>\n",
       "      <td>Spooky's Jump Scare Mansion</td>\n",
       "      <td>2016.0</td>\n",
       "      <td>Best game, more better than Sam Pepper's YouTube account. 10/10What you'll need to play:A computerSome extra pants.Pros:Scary as hell.Fun.Adventure.Spooky.Did I forgot to mention that its scary as hell?You'll get more pants/briefs in your wardrobe.Time consuming if you're bored.Cons:Buying pants/briefs. You haven't downloaded it yet.</td>\n",
       "      <td>1</td>\n",
       "    </tr>\n",
       "  </tbody>\n",
       "</table>\n",
       "</div>"
      ],
      "text/plain": [
       "   review_id                        title    year  \\\n",
       "0          1  Spooky's Jump Scare Mansion  2016.0   \n",
       "1          2  Spooky's Jump Scare Mansion  2016.0   \n",
       "\n",
       "                                                                                                                                                                                                                                                                                                                                                                                                                                                                                                                                                                                                                                                                                                                              user_review  \\\n",
       "0  I'm scared and hearing creepy voices.  So I'll pause for a moment and write a review while I wait for my heart beat to return to atleast somewhat calmer times.  This game is adorable and creepy like my happy tree friends but with the graphics sceme of my childhood (but more bubble and 'clean').  Hello 1990's.What charactes there are (that isnot trying to kill me) were likable and a bit odd.  I did do a few noob things though, such as:Oh look a class room full of ghosts from dead children, lets shine my flashlight on them and stand there staring at them..Or, hmm creepy music, I'll turn around and see if I can see what's chasing me.Never before in a game have I been this afraid of finding a locked door.   \n",
       "1                                                                                                                                                                                                                                                                                                                                                                                         Best game, more better than Sam Pepper's YouTube account. 10/10What you'll need to play:A computerSome extra pants.Pros:Scary as hell.Fun.Adventure.Spooky.Did I forgot to mention that its scary as hell?You'll get more pants/briefs in your wardrobe.Time consuming if you're bored.Cons:Buying pants/briefs. You haven't downloaded it yet.   \n",
       "\n",
       "   user_suggestion  \n",
       "0                1  \n",
       "1                1  "
      ]
     },
     "execution_count": 2,
     "metadata": {},
     "output_type": "execute_result"
    }
   ],
   "source": [
    "#load the dataset\n",
    "pd.set_option('display.max_colwidth', None)\n",
    "data = pd.read_csv('Steam Game Review.csv')\n",
    "data.head(2)"
   ]
  },
  {
   "cell_type": "code",
   "execution_count": 3,
   "id": "18ef51d8-5e40-4451-b434-2ecb4c899020",
   "metadata": {},
   "outputs": [
    {
     "data": {
      "text/plain": [
       "(17494, 5)"
      ]
     },
     "execution_count": 3,
     "metadata": {},
     "output_type": "execute_result"
    }
   ],
   "source": [
    "#dataset facts\n",
    "data.shape"
   ]
  },
  {
   "cell_type": "code",
   "execution_count": 4,
   "id": "a67e2a74-b520-4a97-97da-6392446bcbc9",
   "metadata": {},
   "outputs": [
    {
     "data": {
      "text/plain": [
       "1    9968\n",
       "0    7526\n",
       "Name: user_suggestion, dtype: int64"
      ]
     },
     "execution_count": 4,
     "metadata": {},
     "output_type": "execute_result"
    }
   ],
   "source": [
    "#dataset facts\n",
    "data['user_suggestion'].value_counts()"
   ]
  },
  {
   "cell_type": "code",
   "execution_count": 5,
   "id": "216643b0-e7cd-49ac-b0cb-708cac9ba2cf",
   "metadata": {},
   "outputs": [
    {
     "data": {
      "text/plain": [
       "44"
      ]
     },
     "execution_count": 5,
     "metadata": {},
     "output_type": "execute_result"
    }
   ],
   "source": [
    "#dataset facts\n",
    "data['title'].nunique()"
   ]
  },
  {
   "cell_type": "code",
   "execution_count": 20,
   "id": "ce20d5d0",
   "metadata": {},
   "outputs": [],
   "source": [
    "# Data processing for removing stop words, lemmatization and stemmming, and english-only.\n",
    "# Importing all relevant libraries and functions here\n",
    "import spacy #load spacy\n",
    "from sklearn.pipeline import Pipeline # pipelining pre-processing\n",
    "from spacy.lang.en import English\n",
    "nlp = spacy.load(\"en_core_web_sm\")\n",
    "tokenizer = nlp.tokenizer"
   ]
  },
  {
   "cell_type": "code",
   "execution_count": 21,
   "id": "0bedf52d-4146-4ae7-828b-107e3c7828ab",
   "metadata": {},
   "outputs": [
    {
     "data": {
      "text/html": [
       "<div>\n",
       "<style scoped>\n",
       "    .dataframe tbody tr th:only-of-type {\n",
       "        vertical-align: middle;\n",
       "    }\n",
       "\n",
       "    .dataframe tbody tr th {\n",
       "        vertical-align: top;\n",
       "    }\n",
       "\n",
       "    .dataframe thead th {\n",
       "        text-align: right;\n",
       "    }\n",
       "</style>\n",
       "<table border=\"1\" class=\"dataframe\">\n",
       "  <thead>\n",
       "    <tr style=\"text-align: right;\">\n",
       "      <th></th>\n",
       "      <th>review_id</th>\n",
       "      <th>title</th>\n",
       "      <th>year</th>\n",
       "      <th>user_review</th>\n",
       "      <th>user_suggestion</th>\n",
       "      <th>Tokens</th>\n",
       "      <th>ProcessTokens</th>\n",
       "    </tr>\n",
       "  </thead>\n",
       "  <tbody>\n",
       "    <tr>\n",
       "      <th>0</th>\n",
       "      <td>1</td>\n",
       "      <td>Spooky's Jump Scare Mansion</td>\n",
       "      <td>2016.0</td>\n",
       "      <td>I'm scared and hearing creepy voices.  So I'll pause for a moment and write a review while I wait for my heart beat to return to atleast somewhat calmer times.  This game is adorable and creepy like my happy tree friends but with the graphics sceme of my childhood (but more bubble and 'clean').  Hello 1990's.What charactes there are (that isnot trying to kill me) were likable and a bit odd.  I did do a few noob things though, such as:Oh look a class room full of ghosts from dead children, lets shine my flashlight on them and stand there staring at them..Or, hmm creepy music, I'll turn around and see if I can see what's chasing me.Never before in a game have I been this afraid of finding a locked door.</td>\n",
       "      <td>1</td>\n",
       "      <td>[I, 'm, scared, and, hearing, creepy, voices, .,  , So, I, 'll, pause, for, a, moment, and, write, a, review, while, I, wait, for, my, heart, beat, to, return, to, atleast, somewhat, calmer, times, .,  , This, game, is, adorable, and, creepy, like, my, happy, tree, friends, but, with, the, graphics, sceme, of, my, childhood, (, but, more, bubble, and, ', clean, ', ), .,  , Hello, 1990's, ., What, charactes, there, are, (, that, isnot, trying, to, kill, me, ), were, likable, and, a, bit, odd, .,  , I, did, do, a, few, noob, things, though, ,, such, as, ...]</td>\n",
       "      <td>[scared, hearing, creepy, voice, pause, moment, write, review, wait, heart, beat, return, atleast, somewhat, calmer, time, game, adorable, creepy, like, happy, tree, friend, graphic, sceme, childhood, bubble, 'clean, hello, 1990's.what, charactes, isnot, trying, kill, likable, bit, odd, noob, thing, though, oh, look, class, room, full, ghost, dead, child, let, shine, flashlight, stand, staring, .., hmm, creepy, music, turn, around, see, see, chasing, me.never, game, afraid, finding, locked, door]</td>\n",
       "    </tr>\n",
       "  </tbody>\n",
       "</table>\n",
       "</div>"
      ],
      "text/plain": [
       "   review_id                        title    year  \\\n",
       "0          1  Spooky's Jump Scare Mansion  2016.0   \n",
       "\n",
       "                                                                                                                                                                                                                                                                                                                                                                                                                                                                                                                                                                                                                                                                                                                              user_review  \\\n",
       "0  I'm scared and hearing creepy voices.  So I'll pause for a moment and write a review while I wait for my heart beat to return to atleast somewhat calmer times.  This game is adorable and creepy like my happy tree friends but with the graphics sceme of my childhood (but more bubble and 'clean').  Hello 1990's.What charactes there are (that isnot trying to kill me) were likable and a bit odd.  I did do a few noob things though, such as:Oh look a class room full of ghosts from dead children, lets shine my flashlight on them and stand there staring at them..Or, hmm creepy music, I'll turn around and see if I can see what's chasing me.Never before in a game have I been this afraid of finding a locked door.   \n",
       "\n",
       "   user_suggestion  \\\n",
       "0                1   \n",
       "\n",
       "                                                                                                                                                                                                                                                                                                                                                                                                                                                                                                                                                                               Tokens  \\\n",
       "0  [I, 'm, scared, and, hearing, creepy, voices, .,  , So, I, 'll, pause, for, a, moment, and, write, a, review, while, I, wait, for, my, heart, beat, to, return, to, atleast, somewhat, calmer, times, .,  , This, game, is, adorable, and, creepy, like, my, happy, tree, friends, but, with, the, graphics, sceme, of, my, childhood, (, but, more, bubble, and, ', clean, ', ), .,  , Hello, 1990's, ., What, charactes, there, are, (, that, isnot, trying, to, kill, me, ), were, likable, and, a, bit, odd, .,  , I, did, do, a, few, noob, things, though, ,, such, as, ...]   \n",
       "\n",
       "                                                                                                                                                                                                                                                                                                                                                                                                                                                                                                           ProcessTokens  \n",
       "0  [scared, hearing, creepy, voice, pause, moment, write, review, wait, heart, beat, return, atleast, somewhat, calmer, time, game, adorable, creepy, like, happy, tree, friend, graphic, sceme, childhood, bubble, 'clean, hello, 1990's.what, charactes, isnot, trying, kill, likable, bit, odd, noob, thing, though, oh, look, class, room, full, ghost, dead, child, let, shine, flashlight, stand, staring, .., hmm, creepy, music, turn, around, see, see, chasing, me.never, game, afraid, finding, locked, door]  "
      ]
     },
     "execution_count": 21,
     "metadata": {},
     "output_type": "execute_result"
    }
   ],
   "source": [
    "#tokenization\n",
    "def create_tokenized_dataset(data):\n",
    "    tokens_list = []\n",
    "\n",
    "    for j in data['user_review']:\n",
    "#         tokens_list.append(word_tokenize(j))\n",
    "        spacy_tokens = [token.orth_ for token in tokenizer(j)]\n",
    "        tokens_list.append(spacy_tokens)\n",
    "    data['Tokens'] = tokens_list   \n",
    "    return data\n",
    "\n",
    "df = create_tokenized_dataset(data)\n",
    "df.head(1)"
   ]
  },
  {
   "cell_type": "code",
   "execution_count": 22,
   "id": "33f6d3a4-41b1-4c48-80eb-5a65b3434371",
   "metadata": {},
   "outputs": [],
   "source": [
    "#define lemmatizer\n",
    "lemmatizer = WordNetLemmatizer()"
   ]
  },
  {
   "cell_type": "code",
   "execution_count": 23,
   "id": "c10c7d2f-c6f6-4f31-b4ec-546831a1d6f0",
   "metadata": {},
   "outputs": [],
   "source": [
    "#define stopwords\n",
    "stopWords = set(stopwords.words('english'))\n",
    "custom_stop = [\"'m\", \"'ll\", \"'s\", \"'re\", \"n't\", \"'ve\"]\n",
    "stop_words = set(list(stopWords) + custom_stop)"
   ]
  },
  {
   "cell_type": "code",
   "execution_count": 57,
   "id": "2a6017c0-5425-4ee7-a0ef-990aacbbe53d",
   "metadata": {},
   "outputs": [],
   "source": [
    "#define punctuation\n",
    "custom_punc = [\"``\", \"''\", \"--\", \"...\",\"♥\"]\n",
    "punctuation = set(list(string.punctuation) + custom_punc)"
   ]
  },
  {
   "cell_type": "code",
   "execution_count": 62,
   "id": "85a32684",
   "metadata": {},
   "outputs": [
    {
     "name": "stdout",
     "output_type": "stream",
     "text": [
      "9829\n"
     ]
    },
    {
     "name": "stderr",
     "output_type": "stream",
     "text": [
      "[nltk_data] Downloading package words to\n",
      "[nltk_data]     /Users/soumyankar/nltk_data...\n",
      "[nltk_data]   Package words is already up-to-date!\n"
     ]
    }
   ],
   "source": [
    "# nltk for removing english words\n",
    "nltk.download('words')\n",
    "words = set(nltk.corpus.words.words())"
   ]
  },
  {
   "cell_type": "code",
   "execution_count": 86,
   "id": "26bab3cb-67f6-4f86-b89a-05770e444aed",
   "metadata": {},
   "outputs": [],
   "source": [
    "#data preprocessing: define functions\n",
    "\n",
    "# created a function to deal with that pesky steam heart emoticon\n",
    "# print(ord('♥'))\n",
    "def remove_steam_heart(tokens):\n",
    "    for token in tokens:\n",
    "        if len(token) == 1:\n",
    "            if(ord(token) == 9829): # 9829 is the unicode for the heart emoticon\n",
    "                tokens.remove(token)\n",
    "    return tokens\n",
    "\n",
    "#lower case\n",
    "def lower_case(tokens):\n",
    "    tokens = [token.lower() for token in tokens]\n",
    "    return tokens\n",
    "\n",
    "#remove stopwords\n",
    "def remove_stopwords(tokens):\n",
    "#     tokens = [token for token in tokens if token not in stop_words]\n",
    "# Using the spacy stop words set instead of the english stop words\n",
    "    tokens = [token for token in tokens if token not in nlp.Defaults.stop_words]\n",
    "    return tokens\n",
    "\n",
    "#remove digits\n",
    "def remove_digits(tokens):\n",
    "    for token in tokens:\n",
    "        if token.isdigit():\n",
    "            tokens.remove(token)\n",
    "    return tokens\n",
    "\n",
    "#remove punctuation\n",
    "def remove_punctuation(tokens):\n",
    "    tokens = [token for token in tokens if token not in punctuation]\n",
    "    return tokens\n",
    "\n",
    "#lemmatization\n",
    "def lemmatize_words(tokens):\n",
    "    for token in range(len(tokens)):\n",
    "        tokens[token] = lemmatizer.lemmatize(tokens[token])\n",
    "    return tokens\n",
    "\n",
    "# Using nltk to word corpus to remove non-english words\n",
    "# this method seemed cheaper and easier than spacy? maybe lol\n",
    "def remove_non_english(tokens):\n",
    "    tokens = [token for token in tokens if token in words]\n",
    "    return tokens"
   ]
  },
  {
   "cell_type": "code",
   "execution_count": 87,
   "id": "ffa539c8-bfd8-4f92-a4de-c424ccfa2bee",
   "metadata": {},
   "outputs": [],
   "source": [
    "#data preprocessing function\n",
    "def data_preprocess(tokens):\n",
    "    new_tokens = lower_case(tokens)\n",
    "    new_tokens = remove_steam_heart(new_tokens)\n",
    "    new_tokens = remove_non_english(new_tokens)\n",
    "    new_tokens = remove_stopwords(new_tokens)\n",
    "    new_tokens = remove_digits(new_tokens)\n",
    "    new_tokens = remove_punctuation(new_tokens)\n",
    "    new_tokens = lemmatize_words(new_tokens)\n",
    "    return new_tokens\n",
    "    \n",
    "list_of_process_tokens = []\n",
    "for i in df['Tokens']:\n",
    "    list_of_process_tokens.append(data_preprocess(i))"
   ]
  },
  {
   "cell_type": "code",
   "execution_count": 88,
   "id": "49d5edc9-7ed6-4532-ba11-f0fc99eb7d1b",
   "metadata": {},
   "outputs": [
    {
     "data": {
      "text/html": [
       "<div>\n",
       "<style scoped>\n",
       "    .dataframe tbody tr th:only-of-type {\n",
       "        vertical-align: middle;\n",
       "    }\n",
       "\n",
       "    .dataframe tbody tr th {\n",
       "        vertical-align: top;\n",
       "    }\n",
       "\n",
       "    .dataframe thead th {\n",
       "        text-align: right;\n",
       "    }\n",
       "</style>\n",
       "<table border=\"1\" class=\"dataframe\">\n",
       "  <thead>\n",
       "    <tr style=\"text-align: right;\">\n",
       "      <th></th>\n",
       "      <th>review_id</th>\n",
       "      <th>title</th>\n",
       "      <th>year</th>\n",
       "      <th>user_review</th>\n",
       "      <th>user_suggestion</th>\n",
       "      <th>Tokens</th>\n",
       "      <th>ProcessTokens</th>\n",
       "    </tr>\n",
       "  </thead>\n",
       "  <tbody>\n",
       "    <tr>\n",
       "      <th>16605</th>\n",
       "      <td>24574</td>\n",
       "      <td>Bloons TD Battles</td>\n",
       "      <td>2018.0</td>\n",
       "      <td>Counted six microtransactions simultaneously, excluding 66% of the tower upgrades(fun ones are locked for every singel tower) which you might get one day, but until then, the p2w opponent have a tower(p2w only) that shoots at your health bar sooo... rip me ever geting the most basic banana farm  T-Tpay up , or have a broken experience.</td>\n",
       "      <td>0</td>\n",
       "      <td>[Counted, six, microtransactions, simultaneously, ,, excluding, 66, %, of, the, tower, upgrades(fun, ones, are, locked, for, every, singel, tower, ), which, you, might, get, one, day, ,, but, until, then, ,, the, p2w, opponent, have, a, tower(p2w, only, ), that, shoots, at, your, health, bar, sooo, ..., rip, me, ever, geting, the, most, basic, banana, farm,  , T, -, Tpay, up, ,, or, have, a, broken, experience, .]</td>\n",
       "      <td>[simultaneously, excluding, tower, locked, tower, day, opponent, health, bar, rip, basic, banana, farm, t, broken, experience]</td>\n",
       "    </tr>\n",
       "    <tr>\n",
       "      <th>8942</th>\n",
       "      <td>11952</td>\n",
       "      <td>PlanetSide 2</td>\n",
       "      <td>2013.0</td>\n",
       "      <td>Oh, Planetside 2. How glorious you are. Massive 2,000 player servers, spread across 3 different continents and across 3 warring factions, oh glory be.Being a F2P game (free to play), you don't have a reason to at least not try the game out. That is if your computer can handle it. Previously, the game was extremely poorly optimized for AMD CPU's, and t hat has recently changed. Where i was once getting 12 frames in large Biodome fights, I'm now giving it 45 bonus points.Now, the game is an infantry-vehicular combat game. The 3 factions fight over different facilities across each continent that provide different passive boosts to weapon and item costs and resource gains. Every time you purchase a grenade for your soldier, you use infantry resources, same goes with C4, personal med-kits and the highly useful and badass MAX suits. Vehicles take the apropriate resources as well and depending upon what you attach to it, cost more.Now, the three factions are all similar yet very different, both aesthetically and performance wise. the New Conglomerate have slower firing more powerful older type weapons while the Vannu Sovereignty have laser weapons with perfect accuracy, no bullet drop but dow low damage. Each faction has a shared few vehicles and their own fighter plane, heavy tank and different weapons for each shared vehicle as well.Now, Planetside 2 is a free-to-play title, but don't let that scare you away. Most games have a pay-to-win model to be more precise, whre as long as you just dump money into the game, you will have much improved gear over others, and this is why most F2P games fail, but not PS2. The only thing real money is good for in PS2 is purchasing a subscription which gives you an allowence of 500 SC (station cash) per month and an XP and Cert bonus. Certs are what is used to unlock weapons and attachments while SC is used to purchase weapons skipping the arning of certs as well as customization options such as camos, helmets, and emblems on your soldier and vehicles.YOu can not buy certs outright, which is where the balancing is. Each weapoin can be moddified heavily with weapoin attatchments which alter their performance drastically from 1x red dot sights to 20x sniper rifle scopes or silencers or weapon grips. It all depends. These are purchased using certs. You earn 1 cert per 1000 xp in game. While the weapon may be bought with SC and skip the 1000 cert price point, the attachments must be earned through play.I know this review is all over the place, but if you like FPS's on a massive scale, skip that Battlefield 4 64 player nonsense and jump right inot an amazing free game, Planetside 2.</td>\n",
       "      <td>1</td>\n",
       "      <td>[Oh, ,, Planetside, 2, ., How, glorious, you, are, ., Massive, 2,000, player, servers, ,, spread, across, 3, different, continents, and, across, 3, warring, factions, ,, oh, glory, be, ., Being, a, F2P, game, (, free, to, play, ), ,, you, do, n't, have, a, reason, to, at, least, not, try, the, game, out, ., That, is, if, your, computer, can, handle, it, ., Previously, ,, the, game, was, extremely, poorly, optimized, for, AMD, CPU, 's, ,, and, t, hat, has, recently, changed, ., Where, i, was, once, getting, 12, frames, in, large, Biodome, fights, ,, I, 'm, now, giving, ...]</td>\n",
       "      <td>[oh, glorious, massive, player, spread, different, oh, glory, game, free, play, reason, try, game, computer, handle, previously, game, extremely, poorly, t, hat, recently, getting, large, giving, bonus, game, infantry, vehicular, combat, game, fight, different, continent, provide, different, passive, weapon, item, resource, gain, time, purchase, grenade, soldier, use, infantry, go, personal, highly, useful, depending, attach, cost, similar, different, aesthetically, performance, wise, new, conglomerate, firing, powerful, older, type, sovereignty, laser, perfect, accuracy, bullet, drop, dow, low, damage, faction, fighter, plane, heavy, tank, different, vehicle, free, play, title, let, scare, away, pay, win, model, precise, long, dump, money, game, gear, fail, thing, real, ...]</td>\n",
       "    </tr>\n",
       "    <tr>\n",
       "      <th>10716</th>\n",
       "      <td>16213</td>\n",
       "      <td>Eternal Card Game</td>\n",
       "      <td>2018.0</td>\n",
       "      <td>Early Access ReviewOne of the best games out there right now. Similar to magic the gathering in a lot of ways but much more accessible and usable online. Tutorial isn't great but once you're over that hump it's fast to get into the game and build some cool decks.</td>\n",
       "      <td>1</td>\n",
       "      <td>[Early, Access, ReviewOne, of, the, best, games, out, there, right, now, ., Similar, to, magic, the, gathering, in, a, lot, of, ways, but, much, more, accessible, and, usable, online, ., Tutorial, is, n't, great, but, once, you, 're, over, that, hump, it, 's, fast, to, get, into, the, game, and, build, some, cool, decks, .]</td>\n",
       "      <td>[early, access, best, right, similar, magic, gathering, lot, way, accessible, usable, tutorial, great, hump, fast, game, build, cool]</td>\n",
       "    </tr>\n",
       "    <tr>\n",
       "      <th>9843</th>\n",
       "      <td>13427</td>\n",
       "      <td>Elsword</td>\n",
       "      <td>2015.0</td>\n",
       "      <td>This game sucks♥♥♥♥♥ There is too much salty people, the community is♥♥♥♥♥ and you don't need skill once you have all the gear that they put into this game. This game is garbage, i said it a million times, and i wont hesitate to say it again. It sucks. The dungeons and first games are great, giving you a purpose of how good the game feels, then you meet the community, and PVP system. Once again. This game sucks♥♥♥♥♥ If you rage easily, do not play this game. That is all.</td>\n",
       "      <td>0</td>\n",
       "      <td>[This, game, sucks, ♥, ♥, ♥, ♥, ♥, There, is, too, much, salty, people, ,, the, community, is, ♥, ♥, ♥, ♥, ♥, and, you, do, n't, need, skill, once, you, have, all, the, gear, that, they, put, into, this, game, ., This, game, is, garbage, ,, i, said, it, a, million, times, ,, and, i, wo, nt, hesitate, to, say, it, again, ., It, sucks, ., The, dungeons, and, first, games, are, great, ,, giving, you, a, purpose, of, how, good, the, game, feels, ,, then, you, meet, the, community, ,, and, PVP, system, ., Once, again, ., This, ...]</td>\n",
       "      <td>[game, salty, people, community, need, skill, gear, game, game, garbage, said, million, time, wo, hesitate, great, giving, purpose, good, game, meet, community, system, game, rage, easily, play, game]</td>\n",
       "    </tr>\n",
       "    <tr>\n",
       "      <th>12374</th>\n",
       "      <td>17871</td>\n",
       "      <td>Bless Online</td>\n",
       "      <td>2018.0</td>\n",
       "      <td>Early Access ReviewThe game is total garbage and i suggest everyone to stay away from it. After 200h spend in game hoping for something good my expectation were totaly ruined by last patch and poor commucation by NEOWIZ, these guys have no idea what they are doing and what the game needs. Instead of fixing stuff they are ruining more and more. I can't stand this anymore. The game is GARBAGE, the company is GARGBAGE. I am out of here. I can't bealiave i actually paid money for this unfinished product and before someone tell you its Early Access, trust me the current condition will stays the same even after years. The game population went from 50k to 5k players in a week. I don't suggest the game to anyone, better spend your 30 USD/EURO for tetris, its much more fun.</td>\n",
       "      <td>0</td>\n",
       "      <td>[Early, Access, ReviewThe, game, is, total, garbage, and, i, suggest, everyone, to, stay, away, from, it, ., After, 200h, spend, in, game, hoping, for, something, good, my, expectation, were, totaly, ruined, by, last, patch, and, poor, commucation, by, NEOWIZ, ,, these, guys, have, no, idea, what, they, are, doing, and, what, the, game, needs, ., Instead, of, fixing, stuff, they, are, ruining, more, and, more, ., I, ca, n't, stand, this, anymore, ., The, game, is, GARBAGE, ,, the, company, is, GARGBAGE, ., I, am, out, of, here, ., I, ca, n't, bealiave, i, actually, paid, money, for, this, unfinished, ...]</td>\n",
       "      <td>[early, access, game, total, garbage, suggest, stay, away, spend, game, good, expectation, ruined, patch, poor, idea, game, need, instead, fixing, stuff, stand, game, garbage, company, actually, money, unfinished, product, tell, early, access, trust, current, condition, stay, game, population, went, week, suggest, game, better, spend, fun]</td>\n",
       "    </tr>\n",
       "    <tr>\n",
       "      <th>8418</th>\n",
       "      <td>11428</td>\n",
       "      <td>Neverwinter</td>\n",
       "      <td>2017.0</td>\n",
       "      <td>There's way too much game here to be able to write a comprehensive review, so I'm just going to go with a simple list of pros and cons:Cons:-Instanced, very instanced.-Character customization is \"eh.\"-World feels static, NPCs are forgettable.-Cash shop is a little steep, certain upgrades (IE companions) REQUIRE cash investment to advance beyond a certain point.-Bank / Inventory space is very small (though a couple dollars will remedy that).-Story is disjointed and bland.-Game doesn't explain it's systems very well, campaigns are cryptic (I actually still don't get exactly what they are).-Item upgrade system is positively dumpster.Pros:-Graphically the game looks good enough.-Combat is super fun, daily system / skills feel really good.-PVP is quite good, though there is f-all for balance.-The cash shop doesn't feel required for the most part. I invested $20 once, wound up with a fast mount, heirloom weapons, and bunch of cash shop currency (to buy bags etc). Also did premium for a month, that gives you a loot crate key and some silver bars (a special currency) daily, which is pretty good.-It's free to play (you won't feel the cash shop draw for at least 20-30 hours).All in all, if you're eyeballing it, give it a shot. Once you get to the point where the cash shop starts feeling necessary, either invest or don't EZPZ.</td>\n",
       "      <td>1</td>\n",
       "      <td>[There, 's, way, too, much, game, here, to, be, able, to, write, a, comprehensive, review, ,, so, I, 'm, just, going, to, go, with, a, simple, list, of, pros, and, cons, :, Cons:-Instanced, ,, very, instanced.-Character, customization, is, \", eh, ., \"-World, feels, static, ,, NPCs, are, forgettable.-Cash, shop, is, a, little, steep, ,, certain, upgrades, (, IE, companions, ), REQUIRE, cash, investment, to, advance, beyond, a, certain, point.-Bank, /, Inventory, space, is, very, small, (, though, a, couple, dollars, will, remedy, that).-Story, is, disjointed, and, bland.-Game, does, n't, explain, it, 's, systems, very, well, ,, campaigns, are, cryptic, (, ...]</td>\n",
       "      <td>[way, game, able, write, comprehensive, review, going, simple, list, eh, static, shop, little, steep, certain, ie, require, cash, investment, advance, certain, inventory, space, small, couple, remedy, disjointed, explain, cryptic, actually, exactly, upgrade, system, positively, game, good, super, fun, daily, system, feel, good, f, cash, shop, feel, wound, fast, mount, heirloom, bunch, cash, shop, currency, buy, premium, month, loot, crate, key, silver, special, currency, daily, pretty, free, play, wo, feel, cash, shop, draw, shot, point, cash, shop, feeling, necessary, invest]</td>\n",
       "    </tr>\n",
       "    <tr>\n",
       "      <th>8979</th>\n",
       "      <td>11989</td>\n",
       "      <td>PlanetSide 2</td>\n",
       "      <td>2013.0</td>\n",
       "      <td>+Its free+Epic moments that you won't see in any other game+Apart from PS1, its really the only MMOFPS out there+Once you're in a platoon, its just so much fun+Graphics are good for a free game this size+We're talking about pvpvp 2000 server folks+Tanks, planes, it all just feels so good+Solid gunplay+The PS2 guys really do listen to the community+Its free-Not that optimised (although they're working on that while posting it on youtube)-You'll feel lost the first hours-Not a lonewolf friendly game (lets just keep it at that)-Not the best netcode (although you can't have that with a game like this, that in mind its actually pretty good)-Although its not pay2win, grinding guns is.. well, a real grindfest (some more than others)-No fish A.I. :(Its a really good game when you take the time to get into a big group, and take the time to understand the game, a game i would've gladly paid â‚¬60 for... oh wait..ITS FREE PEOPLE!With group of friends 9.5/10On your own 6/10, its still possible, and it still has its moments, but its really not the same#TooLongToRead #DatGrammar#hashtag</td>\n",
       "      <td>1</td>\n",
       "      <td>[+, Its, free+Epic, moments, that, you, wo, n't, see, in, any, other, game+Apart, from, PS1, ,, its, really, the, only, MMOFPS, out, there+Once, you, 're, in, a, platoon, ,, its, just, so, much, fun+Graphics, are, good, for, a, free, game, this, size+We're, talking, about, pvpvp, 2000, server, folks+Tanks, ,, planes, ,, it, all, just, feels, so, good+Solid, gunplay+The, PS2, guys, really, do, listen, to, the, community+Its, free, -, Not, that, optimised, (, although, they, 're, working, on, that, while, posting, it, on, youtube)-You'll, feel, lost, the, first, hours, -, Not, a, lonewolf, friendly, game, (, lets, just, keep, it, at, ...]</td>\n",
       "      <td>[wo, platoon, good, free, game, talking, server, listen, free, working, posting, feel, lost, friendly, game, best, game, like, mind, actually, pretty, grinding, real, fish, good, game, time, big, group, time, understand, game, game, gladly, oh, wait, free, group, possible]</td>\n",
       "    </tr>\n",
       "    <tr>\n",
       "      <th>13452</th>\n",
       "      <td>19396</td>\n",
       "      <td>Creativerse</td>\n",
       "      <td>2017.0</td>\n",
       "      <td>Complicated, in-depth building game. Deeper and more intimidating than Minecraft. Resource management is a large neccessity. This game makes you WORK for your equipment!Plus, a vast majority is available for FREE!</td>\n",
       "      <td>1</td>\n",
       "      <td>[Complicated, ,, in, -, depth, building, game, ., Deeper, and, more, intimidating, than, Minecraft, ., Resource, management, is, a, large, neccessity, ., This, game, makes, you, WORK, for, your, equipment!Plus, ,, a, vast, majority, is, available, for, FREE, !]</td>\n",
       "      <td>[complicated, depth, building, game, resource, management, large, game, work, vast, majority, available, free]</td>\n",
       "    </tr>\n",
       "    <tr>\n",
       "      <th>2509</th>\n",
       "      <td>2973</td>\n",
       "      <td>War Thunder</td>\n",
       "      <td>2018.0</td>\n",
       "      <td>This used to be my one of my topthree games hands down, but the game stopped being fun, becauseinstead of a militaray aircraft and armor simulator it's become a economics simulator. The ingame economy is broken, prevents youform playing if close to top tier vehicles without pumping in boatloads of realworld currency, and in addition to this, instead of atttempting to alleviate the gameplay or in game economy issues, the developers simply continue to nerf rewards, and add higher and higher tier vehicles which aren't even feasible to obtain or maintain in game.</td>\n",
       "      <td>0</td>\n",
       "      <td>[This, used, to, be, my, one, of, my, topthree, games, hands, down, ,, but, the, game, stopped, being, fun, ,, becauseinstead, of, a, militaray, aircraft, and, armor, simulator, it, 's, become, a, economics, simulator, ., The, ingame, economy, is, broken, ,, prevents, youform, playing, if, close, to, top, tier, vehicles, without, pumping, in, boatloads, of, realworld, currency, ,, and, in, addition, to, this, ,, instead, of, atttempting, to, alleviate, the, gameplay, or, in, game, economy, issues, ,, the, developers, simply, continue, to, nerf, rewards, ,, and, add, higher, and, higher, tier, vehicles, which, are, n't, even, feasible, to, obtain, or, ...]</td>\n",
       "      <td>[game, stopped, fun, aircraft, armor, simulator, economics, simulator, economy, broken, close, tier, currency, addition, instead, alleviate, game, economy, simply, continue, add, higher, higher, tier, feasible, obtain, maintain, game]</td>\n",
       "    </tr>\n",
       "    <tr>\n",
       "      <th>5583</th>\n",
       "      <td>7508</td>\n",
       "      <td>World of Tanks Blitz</td>\n",
       "      <td>2017.0</td>\n",
       "      <td>It's a good game, but people get too salty too fast. It's considered camping if you use a TD for it's actual purpose. And half the time when some event comes along, people just buy the tanks and don't work for them. And the people that work for them, get cut off when the event ends. To top it off, some people act like they control the entire team, so when they die, it's everyone else's fault (Give or Take). It's better just playing World Of Tanks instead of this. It's fun, but sometimes it's just ♥♥♥♥♥♥♥t.</td>\n",
       "      <td>1</td>\n",
       "      <td>[It, 's, a, good, game, ,, but, people, get, too, salty, too, fast, ., It, 's, considered, camping, if, you, use, a, TD, for, it, 's, actual, purpose, ., And, half, the, time, when, some, event, comes, along, ,, people, just, buy, the, tanks, and, do, n't, work, for, them, ., And, the, people, that, work, for, them, ,, get, cut, off, when, the, event, ends, ., To, top, it, off, ,, some, people, act, like, they, control, the, entire, team, ,, so, when, they, die, ,, it, 's, everyone, else, 's, fault, (, Give, or, Take, ), ., It, ...]</td>\n",
       "      <td>[good, game, people, salty, fast, considered, use, actual, purpose, half, time, event, come, people, buy, work, people, work, cut, event, people, act, like, control, entire, team, die, fault, better, world, instead, fun]</td>\n",
       "    </tr>\n",
       "    <tr>\n",
       "      <th>6719</th>\n",
       "      <td>9094</td>\n",
       "      <td>Heroes &amp; Generals</td>\n",
       "      <td>2015.0</td>\n",
       "      <td>Early Access ReviewIn the beginning it was like the 2nd to call of duty, but then the dev's thought that putting a price tag on everything would make more people play it. Needless to say, the idea backfired on them.</td>\n",
       "      <td>0</td>\n",
       "      <td>[Early, Access, ReviewIn, the, beginning, it, was, like, the, 2nd, to, call, of, duty, ,, but, then, the, dev, 's, thought, that, putting, a, price, tag, on, everything, would, make, more, people, play, it, ., Needless, to, say, ,, the, idea, backfired, on, them, .]</td>\n",
       "      <td>[early, access, beginning, like, duty, dev, thought, price, tag, people, play, needle, idea]</td>\n",
       "    </tr>\n",
       "    <tr>\n",
       "      <th>12622</th>\n",
       "      <td>18119</td>\n",
       "      <td>RaceRoom Racing Experience</td>\n",
       "      <td>2015.0</td>\n",
       "      <td>Warning. Requires Bull&amp;&amp;&amp;&amp; Additional Acount. Do not download. I want my F&amp;&amp;&amp;&amp;&amp;&amp; time back.I couldn't even play the game. It asks for your city. I closed the registration browser and when I decided, i'll try again, USER NAME AND EMAIL HAS BEEN TAKENSo you save info even though an account hasn't been created?Worst game ever Negative ten out of positive ten. Once you see this review, EXIT IMMEDIATLY, TELL EVERYONE ITS A BAD GAME</td>\n",
       "      <td>0</td>\n",
       "      <td>[Warning, ., Requires, Bull, &amp;, &amp;, &amp;, &amp;, Additional, Acount, ., Do, not, download, ., I, want, my, F, &amp;, &amp;, &amp;, &amp;, &amp;, &amp;, time, back, ., I, could, n't, even, play, the, game, ., It, asks, for, your, city, ., I, closed, the, registration, browser, and, when, I, decided, ,, i, 'll, try, again, ,, USER, NAME, AND, EMAIL, HAS, BEEN, TAKENSo, you, save, info, even, though, an, account, has, n't, been, created?Worst, game, ever, Negative, ten, out, of, positive, ten, ., Once, you, see, this, review, ,, EXIT, IMMEDIATLY, ,, TELL, EVERYONE, ITS, A, BAD, GAME,  ]</td>\n",
       "      <td>[warning, bull, additional, want, f, time, play, game, city, closed, registration, browser, decided, try, user, save, account, game, negative, positive, review, exit, tell, bad, game]</td>\n",
       "    </tr>\n",
       "    <tr>\n",
       "      <th>13207</th>\n",
       "      <td>19014</td>\n",
       "      <td>Fallout Shelter</td>\n",
       "      <td>2017.0</td>\n",
       "      <td>Product received for free +  About 100+ hours of fun. Simple but incredible. +  Plenty of quests for you to complete +  It's basically FREE!No negatives here.A  charming  little game you can spend many an hour playing. A fan will likely be tempted to reinstall his/her favourite chapter of the series. I couldn't resist reinstalling Fallout 3, personally.If you've yet to experience the awesome world of Fallout. . . Well, this game right here  might  just be your stepping stone into one helluva adventure.What more can I say?        10/10</td>\n",
       "      <td>1</td>\n",
       "      <td>[Product, received, for, free, +,  , About, 100, +, hours, of, fun, ., Simple, but, incredible, ., +,  , Plenty, of, quests, for, you, to, complete, +,  , It, 's, basically, FREE!No, negatives, here, ., A,  , charming,  , little, game, you, can, spend, many, an, hour, playing, ., A, fan, will, likely, be, tempted, to, reinstall, his, /, her, favourite, chapter, of, the, series, ., I, could, n't, resist, reinstalling, Fallout, 3, ,, personally, ., If, you, 've, yet, to, experience, the, awesome, world, of, Fallout, ., ., ., Well, ,, this, game, right, here,  , might,  , just, ...]</td>\n",
       "      <td>[product, received, free, fun, simple, incredible, plenty, complete, basically, charming, little, game, spend, hour, fan, likely, reinstall, chapter, series, resist, personally, experience, awesome, world, game, right, stepping, stone, adventure]</td>\n",
       "    </tr>\n",
       "    <tr>\n",
       "      <th>11649</th>\n",
       "      <td>17146</td>\n",
       "      <td>Freestyle 2: Street Basketball</td>\n",
       "      <td>2017.0</td>\n",
       "      <td>Game starts.4 minutes left, we're down 0-9.Joe: \"You guys are noobs you're not worth my time.\"Joe stands at top of the key and stops playing.Me and teammate play 2v3 for the next 3 minutes.1 minute left, we're down 24-26.Joe starts playing again.I'm a shooting guard with 3 pointers maxed out, so I know what must be done at this point.15 seconds left, down by 2, they pass me the rock.10 Seconds left, I run to the half court line, defended by 2 people.Joe: Pass!5 seconds left, both of my teammates are wide open.Joe: Pass!3 Seconds left, one defender dives in for a steal and barely misses.Joe: Pass!Me: \"Kobe\"Shoot fade away jumper from half court.The ball eats the rim like groceries.We lose.Joe: WDF (WTF) We coulda won!Me: What I do wrong?Joe: YOU TOOK A HALF COURT SHOT WHEN WE WERE OPEN.Me;  I said \"Kobe\" before I shot it shoulda went in.(I literally said \"Kobe\" in game chat)Joe leaves group.trollface.jpg</td>\n",
       "      <td>1</td>\n",
       "      <td>[Game, starts.4, minutes, left, ,, we, 're, down, 0, -, 9.Joe, :, \", You, guys, are, noobs, you, 're, not, worth, my, time, ., \"Joe, stands, at, top, of, the, key, and, stops, playing, ., Me, and, teammate, play, 2v3, for, the, next, 3, minutes.1, minute, left, ,, we, 're, down, 24, -, 26.Joe, starts, playing, again, ., I'm, a, shooting, guard, with, 3, pointers, maxed, out, ,, so, I, know, what, must, be, done, at, this, point.15, seconds, left, ,, down, by, 2, ,, they, pass, me, the, rock.10, Seconds, left, ,, I, run, to, the, half, court, line, ...]</td>\n",
       "      <td>[game, left, worth, time, key, teammate, play, minute, left, shooting, guard, know, left, pas, left, run, half, court, line, people, joe, left, wide, open, joe, left, defender, steal, barely, joe, fade, away, jumper, half, court, ball, eats, rim, like, lose, joe, took, half, court, shot, said, shot, went, literally, said, game, leaf]</td>\n",
       "    </tr>\n",
       "    <tr>\n",
       "      <th>9299</th>\n",
       "      <td>12309</td>\n",
       "      <td>PlanetSide 2</td>\n",
       "      <td>2018.0</td>\n",
       "      <td>After years of playing this game, (since 2012) i have finally grown some interest in writing this review, and i want to start by saying: \"IF YOU HAVEN'T PLAYED THIS GAME ALREADY, JUST DO DO IT! It's a free game and it's unique, you won't find similar experience, it is intense, it is heavy combat, it shreds your pc in half because of so much happening at the same time and has people using their mics with battlecry and warsongs.You will die A LOT, it's the Dark Souls of MMO, you will die but yet, you will feel happy because of so much fighting.Take your time to enjoy the game, don't try to rush things and get bored quickly.Don't base your opinion on the game on others, play it, and you will discover for sure that there is still great potential in a 6 year old game.It's the only game that can hook me up for an entire day of battle.Also, findind a good outfit is A MUST HAVE for 100% enjoyement inside the game, and also to have someone to teach you things.Planetside2 has a lot of problems, but those problems don't take the light out of the game.Go out there and fight for Auraxis!Ricardo23*</td>\n",
       "      <td>1</td>\n",
       "      <td>[After, years, of, playing, this, game, ,, (, since, 2012, ), i, have, finally, grown, some, interest, in, writing, this, review, ,, and, i, want, to, start, by, saying, :, \", IF, YOU, HAVEN'T, PLAYED, THIS, GAME, ALREADY, ,, JUST, DO, DO, IT, !, It, 's, a, free, game, and, it, 's, unique, ,, you, wo, n't, find, similar, experience, ,, it, is, intense, ,, it, is, heavy, combat, ,, it, shreds, your, pc, in, half, because, of, so, much, happening, at, the, same, time, and, has, people, using, their, mics, with, battlecry, and, warsongs, ., You, will, die, A, ...]</td>\n",
       "      <td>[game, finally, grown, interest, writing, review, want, start, saying, game, free, game, unique, wo, find, similar, experience, intense, heavy, combat, half, happening, time, people, die, lot, dark, die, feel, happy, fighting, time, enjoy, game, try, rush, quickly, base, opinion, game, play, discover, sure, great, potential, year, old, game, game, hook, entire, day, battle, good, outfit, inside, game, teach, lot, light, game, fight]</td>\n",
       "    </tr>\n",
       "    <tr>\n",
       "      <th>6594</th>\n",
       "      <td>8969</td>\n",
       "      <td>Heroes &amp; Generals</td>\n",
       "      <td>2015.0</td>\n",
       "      <td>Early Access ReviewIt's a free to play game, so I expect some grind, but the grind in this game is outrageous.  I've played plenty of other F2P games that really drew me in, and made me want to spend my money.  This game is not like that.Example:The bazooka unlocks at a fairly low level, there are tanks everywhere, and no-one shoots them. Why?  Each bazooka round costs 1/6 of the credits (in game currency) I typically make in a match, and it takes 3 hits to kill most tanks.  This means, If I try to help out my team and destroy that tank that's been shelling us for 5 minutes, assuming perfect aim, it's going to cost me half of what I make that match.</td>\n",
       "      <td>0</td>\n",
       "      <td>[Early, Access, ReviewIt, 's, a, free, to, play, game, ,, so, I, expect, some, grind, ,, but, the, grind, in, this, game, is, outrageous, .,  , I, 've, played, plenty, of, other, F2P, games, that, really, drew, me, in, ,, and, made, me, want, to, spend, my, money, .,  , This, game, is, not, like, that, ., Example, :, The, bazooka, unlocks, at, a, fairly, low, level, ,, there, are, tanks, everywhere, ,, and, no, -, one, shoots, them, ., Why, ?,  , Each, bazooka, round, costs, 1/6, of, the, credits, (, in, game, currency, ), I, typically, make, in, ...]</td>\n",
       "      <td>[early, access, free, play, game, expect, grind, grind, game, outrageous, plenty, drew, want, spend, money, game, like, example, bazooka, fairly, low, level, bazooka, round, game, currency, typically, match, kill, try, help, team, destroy, tank, shelling, assuming, perfect, aim, going, cost, half, match]</td>\n",
       "    </tr>\n",
       "    <tr>\n",
       "      <th>5719</th>\n",
       "      <td>8094</td>\n",
       "      <td>DCS World Steam Edition</td>\n",
       "      <td>NaN</td>\n",
       "      <td>the time of writing this review, I have roughly 620 hours logged into DCS. I confess that I own nearly all of the modules. I play DCS primarily for the SINGLE player experience, not the multiplayer one. This is due to the netcode that DCS has - it's rather garbage for multiplayer. However, multiplayer issue aside, DCS is one of the best aviation simulations to date. Yes, the modules (prop planes jet planes, helicopters, several maps, and one *mostly* unpolished/unloved land vehicle module) are expensive - but they are nearly always stunning in their level of detail, and the quality of the experience almost always leaves this particular aviation enthusiast in a sense of awe. I recommend this game to any aviation enthusiast who has the following: A lot of patience and time to research the module they want to learn, a powerful computer, and a HOTAS (Hands On Throttle And Stick) setup. Having TrackIR/TrackHat greatly improves the experience.</td>\n",
       "      <td>1</td>\n",
       "      <td>[the, time, of, writing, this, review, ,, I, have, roughly, 620, hours, logged, into, DCS, ., I, confess, that, I, own, nearly, all, of, the, modules, ., I, play, DCS, primarily, for, the, SINGLE, player, experience, ,, not, the, multiplayer, one, ., This, is, due, to, the, netcode, that, DCS, has, -, it, 's, rather, garbage, for, multiplayer, ., However, ,, multiplayer, issue, aside, ,, DCS, is, one, of, the, best, aviation, simulations, to, date, ., Yes, ,, the, modules, (, prop, planes, jet, planes, ,, helicopters, ,, several, maps, ,, and, one, *, mostly, *, unpolished, /, unloved, land, ...]</td>\n",
       "      <td>[time, writing, review, roughly, logged, confess, nearly, play, primarily, single, player, experience, garbage, issue, aside, best, aviation, date, yes, prop, jet, unpolished, unloved, land, vehicle, module, expensive, nearly, stunning, level, detail, quality, experience, leaf, particular, aviation, enthusiast, sense, awe, recommend, game, aviation, enthusiast, following, lot, patience, time, research, module, want, learn, powerful, computer, throttle, stick, setup, greatly, experience]</td>\n",
       "    </tr>\n",
       "    <tr>\n",
       "      <th>14173</th>\n",
       "      <td>20117</td>\n",
       "      <td>Infestation: The New Z</td>\n",
       "      <td>2017.0</td>\n",
       "      <td>This game is horrid. I don't even need to list the reasons why it's so bad.To name one off the top of my head, the spawns are pre set, and when you spawn you'll likely meet your death to somebody camping on a hill nearby your spawn location.</td>\n",
       "      <td>0</td>\n",
       "      <td>[This, game, is, horrid, ., I, do, n't, even, need, to, list, the, reasons, why, it, 's, so, bad, ., To, name, one, off, the, top, of, my, head, ,, the, spawns, are, pre, set, ,, and, when, you, spawn, you, 'll, likely, meet, your, death, to, somebody, camping, on, a, hill, nearby, your, spawn, location, .]</td>\n",
       "      <td>[game, horrid, need, list, bad, head, set, spawn, likely, meet, death, somebody, hill, nearby, spawn, location]</td>\n",
       "    </tr>\n",
       "    <tr>\n",
       "      <th>1786</th>\n",
       "      <td>2250</td>\n",
       "      <td>Dota 2</td>\n",
       "      <td>2016.0</td>\n",
       "      <td>Dota was my favorite in the last 7-8 years. Till the 7.00.Now i want to install WC3 and play dota1 again. I guess that is my only chance to get the \"dota feeling\" again. It is not dota since 7.00. They should change it's name.RIP DOTA</td>\n",
       "      <td>0</td>\n",
       "      <td>[Dota, was, my, favorite, in, the, last, 7, -, 8, years, ., Till, the, 7.00.Now, i, want, to, install, WC3, and, play, dota1, again, ., I, guess, that, is, my, only, chance, to, get, the, \", dota, feeling, \", again, ., It, is, not, dota, since, 7.00, ., They, should, change, it, 's, name, ., RIP, DOTA]</td>\n",
       "      <td>[favorite, till, want, install, play, guess, chance, feeling, change, rip]</td>\n",
       "    </tr>\n",
       "    <tr>\n",
       "      <th>5680</th>\n",
       "      <td>8055</td>\n",
       "      <td>DCS World Steam Edition</td>\n",
       "      <td>2016.0</td>\n",
       "      <td>If you're into combat flight simulators look no further. DCS offers a chance to step into a legendry aircraft with unparalleled precision and accuracy true to its original design. Granted you may be reading a book for about a month until you're at a minimum proficiency with the aircraft but the payoff is worth it. The sense of achievement that you get when you learn any of these aircraft is amazing as it's not just a case of pumping the throttle to maximum to take off like other plane games. The future is very bright for this simulator as it is ever growing with more developers creating different aircraft for different theatres of war i.e. WWII / Korea / 80's/ Modern.</td>\n",
       "      <td>1</td>\n",
       "      <td>[If, you, 're, into, combat, flight, simulators, look, no, further, ., DCS, offers, a, chance, to, step, into, a, legendry, aircraft, with, unparalleled, precision, and, accuracy, true, to, its, original, design, ., Granted, you, may, be, reading, a, book, for, about, a, month, until, you, 're, at, a, minimum, proficiency, with, the, aircraft, but, the, payoff, is, worth, it, ., The, sense, of, achievement, that, you, get, when, you, learn, any, of, these, aircraft, is, amazing, as, it, 's, not, just, a, case, of, pumping, the, throttle, to, maximum, to, take, off, like, other, plane, games, ., The, future, is, ...]</td>\n",
       "      <td>[combat, flight, look, chance, step, legendry, aircraft, unparalleled, precision, accuracy, true, original, design, reading, book, month, minimum, proficiency, aircraft, payoff, worth, sense, achievement, learn, aircraft, amazing, case, throttle, maximum, like, plane, future, bright, simulator, growing, different, aircraft, different, war, modern]</td>\n",
       "    </tr>\n",
       "  </tbody>\n",
       "</table>\n",
       "</div>"
      ],
      "text/plain": [
       "       review_id                           title    year  \\\n",
       "16605      24574               Bloons TD Battles  2018.0   \n",
       "8942       11952                    PlanetSide 2  2013.0   \n",
       "10716      16213               Eternal Card Game  2018.0   \n",
       "9843       13427                         Elsword  2015.0   \n",
       "12374      17871                    Bless Online  2018.0   \n",
       "8418       11428                     Neverwinter  2017.0   \n",
       "8979       11989                    PlanetSide 2  2013.0   \n",
       "13452      19396                     Creativerse  2017.0   \n",
       "2509        2973                     War Thunder  2018.0   \n",
       "5583        7508            World of Tanks Blitz  2017.0   \n",
       "6719        9094               Heroes & Generals  2015.0   \n",
       "12622      18119      RaceRoom Racing Experience  2015.0   \n",
       "13207      19014                 Fallout Shelter  2017.0   \n",
       "11649      17146  Freestyle 2: Street Basketball  2017.0   \n",
       "9299       12309                    PlanetSide 2  2018.0   \n",
       "6594        8969               Heroes & Generals  2015.0   \n",
       "5719        8094         DCS World Steam Edition     NaN   \n",
       "14173      20117          Infestation: The New Z  2017.0   \n",
       "1786        2250                          Dota 2  2016.0   \n",
       "5680        8055         DCS World Steam Edition  2016.0   \n",
       "\n",
       "                                                                                                                                                                                                                                                                                                                                                                                                                                                                                                                                                                                                                                                                                                                                                                                                                                                                                                                                                                                                                                                                                                                                                                                                                                                                                                                                                                                                                                                                                                                                                                                                                                                                                                                                                                                                                                                                                                                                                                                                                                                                                                                                                                                                                                                                                                                                                                                                                                                                                                                                                                                                                                                                                                                                                          user_review  \\\n",
       "16605                                                                                                                                                                                                                                                                                                                                                                                                                                                                                                                                                                                                                                                                                                                                                                                                                                                                                                                                                                                                                                                                                                                                                                                                                                                                                                                                                                                                                                                                                                                                                                                                                                                                                                                                                                                                                                                                                                                                                                                                                                                                                                                                                                                                                                                                                                                                                                                                               Counted six microtransactions simultaneously, excluding 66% of the tower upgrades(fun ones are locked for every singel tower) which you might get one day, but until then, the p2w opponent have a tower(p2w only) that shoots at your health bar sooo... rip me ever geting the most basic banana farm  T-Tpay up , or have a broken experience.   \n",
       "8942   Oh, Planetside 2. How glorious you are. Massive 2,000 player servers, spread across 3 different continents and across 3 warring factions, oh glory be.Being a F2P game (free to play), you don't have a reason to at least not try the game out. That is if your computer can handle it. Previously, the game was extremely poorly optimized for AMD CPU's, and t hat has recently changed. Where i was once getting 12 frames in large Biodome fights, I'm now giving it 45 bonus points.Now, the game is an infantry-vehicular combat game. The 3 factions fight over different facilities across each continent that provide different passive boosts to weapon and item costs and resource gains. Every time you purchase a grenade for your soldier, you use infantry resources, same goes with C4, personal med-kits and the highly useful and badass MAX suits. Vehicles take the apropriate resources as well and depending upon what you attach to it, cost more.Now, the three factions are all similar yet very different, both aesthetically and performance wise. the New Conglomerate have slower firing more powerful older type weapons while the Vannu Sovereignty have laser weapons with perfect accuracy, no bullet drop but dow low damage. Each faction has a shared few vehicles and their own fighter plane, heavy tank and different weapons for each shared vehicle as well.Now, Planetside 2 is a free-to-play title, but don't let that scare you away. Most games have a pay-to-win model to be more precise, whre as long as you just dump money into the game, you will have much improved gear over others, and this is why most F2P games fail, but not PS2. The only thing real money is good for in PS2 is purchasing a subscription which gives you an allowence of 500 SC (station cash) per month and an XP and Cert bonus. Certs are what is used to unlock weapons and attachments while SC is used to purchase weapons skipping the arning of certs as well as customization options such as camos, helmets, and emblems on your soldier and vehicles.YOu can not buy certs outright, which is where the balancing is. Each weapoin can be moddified heavily with weapoin attatchments which alter their performance drastically from 1x red dot sights to 20x sniper rifle scopes or silencers or weapon grips. It all depends. These are purchased using certs. You earn 1 cert per 1000 xp in game. While the weapon may be bought with SC and skip the 1000 cert price point, the attachments must be earned through play.I know this review is all over the place, but if you like FPS's on a massive scale, skip that Battlefield 4 64 player nonsense and jump right inot an amazing free game, Planetside 2.    \n",
       "10716                                                                                                                                                                                                                                                                                                                                                                                                                                                                                                                                                                                                                                                                                                                                                                                                                                                                                                                                                                                                                                                                                                                                                                                                                                                                                                                                                                                                                                                                                                                                                                                                                                                                                                                                                                                                                                                                                                                                                                                                                                                                                                                                                                                                                                                                                                                                                                                                                                                                                         Early Access ReviewOne of the best games out there right now. Similar to magic the gathering in a lot of ways but much more accessible and usable online. Tutorial isn't great but once you're over that hump it's fast to get into the game and build some cool decks.   \n",
       "9843                                                                                                                                                                                                                                                                                                                                                                                                                                                                                                                                                                                                                                                                                                                                                                                                                                                                                                                                                                                                                                                                                                                                                                                                                                                                                                                                                                                                                                                                                                                                                                                                                                                                                                                                                                                                                                                                                                                                                                                                                                                                                                                                                                                                                                                                      This game sucks♥♥♥♥♥ There is too much salty people, the community is♥♥♥♥♥ and you don't need skill once you have all the gear that they put into this game. This game is garbage, i said it a million times, and i wont hesitate to say it again. It sucks. The dungeons and first games are great, giving you a purpose of how good the game feels, then you meet the community, and PVP system. Once again. This game sucks♥♥♥♥♥ If you rage easily, do not play this game. That is all.   \n",
       "12374                                                                                                                                                                                                                                                                                                                                                                                                                                                                                                                                                                                                                                                                                                                                                                                                                                                                                                                                                                                                                                                                                                                                                                                                                                                                                                                                                                                                                                                                                                                                                                                                                                                                                                                                                                                                                                                                                                                                                       Early Access ReviewThe game is total garbage and i suggest everyone to stay away from it. After 200h spend in game hoping for something good my expectation were totaly ruined by last patch and poor commucation by NEOWIZ, these guys have no idea what they are doing and what the game needs. Instead of fixing stuff they are ruining more and more. I can't stand this anymore. The game is GARBAGE, the company is GARGBAGE. I am out of here. I can't bealiave i actually paid money for this unfinished product and before someone tell you its Early Access, trust me the current condition will stays the same even after years. The game population went from 50k to 5k players in a week. I don't suggest the game to anyone, better spend your 30 USD/EURO for tetris, its much more fun.     \n",
       "8418                                                                                                                                                                                                                                                                                                                                                                                                                                                                                                                                                                                                                                                                                                                                                                                                                                                                                                                                                                                                                                                                                                                                                                                                                                                                                                                                                                        There's way too much game here to be able to write a comprehensive review, so I'm just going to go with a simple list of pros and cons:Cons:-Instanced, very instanced.-Character customization is \"eh.\"-World feels static, NPCs are forgettable.-Cash shop is a little steep, certain upgrades (IE companions) REQUIRE cash investment to advance beyond a certain point.-Bank / Inventory space is very small (though a couple dollars will remedy that).-Story is disjointed and bland.-Game doesn't explain it's systems very well, campaigns are cryptic (I actually still don't get exactly what they are).-Item upgrade system is positively dumpster.Pros:-Graphically the game looks good enough.-Combat is super fun, daily system / skills feel really good.-PVP is quite good, though there is f-all for balance.-The cash shop doesn't feel required for the most part. I invested $20 once, wound up with a fast mount, heirloom weapons, and bunch of cash shop currency (to buy bags etc). Also did premium for a month, that gives you a loot crate key and some silver bars (a special currency) daily, which is pretty good.-It's free to play (you won't feel the cash shop draw for at least 20-30 hours).All in all, if you're eyeballing it, give it a shot. Once you get to the point where the cash shop starts feeling necessary, either invest or don't EZPZ.   \n",
       "8979                                                                                                                                                                                                                                                                                                                                                                                                                                                                                                                                                                                                                                                                                                                                                                                                                                                                                                                                                                                                                                                                                                                                                                                                                                                                                                                                                                                                                                                                                                                                                                                                                                +Its free+Epic moments that you won't see in any other game+Apart from PS1, its really the only MMOFPS out there+Once you're in a platoon, its just so much fun+Graphics are good for a free game this size+We're talking about pvpvp 2000 server folks+Tanks, planes, it all just feels so good+Solid gunplay+The PS2 guys really do listen to the community+Its free-Not that optimised (although they're working on that while posting it on youtube)-You'll feel lost the first hours-Not a lonewolf friendly game (lets just keep it at that)-Not the best netcode (although you can't have that with a game like this, that in mind its actually pretty good)-Although its not pay2win, grinding guns is.. well, a real grindfest (some more than others)-No fish A.I. :(Its a really good game when you take the time to get into a big group, and take the time to understand the game, a game i would've gladly paid â‚¬60 for... oh wait..ITS FREE PEOPLE!With group of friends 9.5/10On your own 6/10, its still possible, and it still has its moments, but its really not the same#TooLongToRead #DatGrammar#hashtag   \n",
       "13452                                                                                                                                                                                                                                                                                                                                                                                                                                                                                                                                                                                                                                                                                                                                                                                                                                                                                                                                                                                                                                                                                                                                                                                                                                                                                                                                                                                                                                                                                                                                                                                                                                                                                                                                                                                                                                                                                                                                                                                                                                                                                                                                                                                                                                                                                                                                                                                                                                                                                                                                           Complicated, in-depth building game. Deeper and more intimidating than Minecraft. Resource management is a large neccessity. This game makes you WORK for your equipment!Plus, a vast majority is available for FREE!   \n",
       "2509                                                                                                                                                                                                                                                                                                                                                                                                                                                                                                                                                                                                                                                                                                                                                                                                                                                                                                                                                                                                                                                                                                                                                                                                                                                                                                                                                                                                                                                                                                                                                                                                                                                                                                                                                                                                                                                                                                                                                                                                                                                                                                                                                                            This used to be my one of my topthree games hands down, but the game stopped being fun, becauseinstead of a militaray aircraft and armor simulator it's become a economics simulator. The ingame economy is broken, prevents youform playing if close to top tier vehicles without pumping in boatloads of realworld currency, and in addition to this, instead of atttempting to alleviate the gameplay or in game economy issues, the developers simply continue to nerf rewards, and add higher and higher tier vehicles which aren't even feasible to obtain or maintain in game.   \n",
       "5583                                                                                                                                                                                                                                                                                                                                                                                                                                                                                                                                                                                                                                                                                                                                                                                                                                                                                                                                                                                                                                                                                                                                                                                                                                                                                                                                                                                                                                                                                                                                                                                                                                                                                                                                                                                                                                                                                                                                                                                                                                                                                                                                                                                                                                  It's a good game, but people get too salty too fast. It's considered camping if you use a TD for it's actual purpose. And half the time when some event comes along, people just buy the tanks and don't work for them. And the people that work for them, get cut off when the event ends. To top it off, some people act like they control the entire team, so when they die, it's everyone else's fault (Give or Take). It's better just playing World Of Tanks instead of this. It's fun, but sometimes it's just ♥♥♥♥♥♥♥t.   \n",
       "6719                                                                                                                                                                                                                                                                                                                                                                                                                                                                                                                                                                                                                                                                                                                                                                                                                                                                                                                                                                                                                                                                                                                                                                                                                                                                                                                                                                                                                                                                                                                                                                                                                                                                                                                                                                                                                                                                                                                                                                                                                                                                                                                                                                                                                                                                                                                                                                                                                                                                                                                                          Early Access ReviewIn the beginning it was like the 2nd to call of duty, but then the dev's thought that putting a price tag on everything would make more people play it. Needless to say, the idea backfired on them.   \n",
       "12622                                                                                                                                                                                                                                                                                                                                                                                                                                                                                                                                                                                                                                                                                                                                                                                                                                                                                                                                                                                                                                                                                                                                                                                                                                                                                                                                                                                                                                                                                                                                                                                                                                                                                                                                                                                                                                                                                                                                                                                                                                                                                                                                                                                                                                                                                                                Warning. Requires Bull&&&& Additional Acount. Do not download. I want my F&&&&&& time back.I couldn't even play the game. It asks for your city. I closed the registration browser and when I decided, i'll try again, USER NAME AND EMAIL HAS BEEN TAKENSo you save info even though an account hasn't been created?Worst game ever Negative ten out of positive ten. Once you see this review, EXIT IMMEDIATLY, TELL EVERYONE ITS A BAD GAME     \n",
       "13207                                                                                                                                                                                                                                                                                                                                                                                                                                                                                                                                                                                                                                                                                                                                                                                                                                                                                                                                                                                                                                                                                                                                                                                                                                                                                                                                                                                                                                                                                                                                                                                                                                                                                                                                                                                                                                                                                                                                                                                                                                                                                                                                                                                                  Product received for free +  About 100+ hours of fun. Simple but incredible. +  Plenty of quests for you to complete +  It's basically FREE!No negatives here.A  charming  little game you can spend many an hour playing. A fan will likely be tempted to reinstall his/her favourite chapter of the series. I couldn't resist reinstalling Fallout 3, personally.If you've yet to experience the awesome world of Fallout. . . Well, this game right here  might  just be your stepping stone into one helluva adventure.What more can I say?        10/10     \n",
       "11649                                                                                                                                                                                                                                                                                                                                                                                                                                                                                                                                                                                                                                                                                                                                                                                                                                                                                                                                                                                                                                                                                                                                                                                                                                                                                                                                                                                                                                                                                                                                                                                                                                                                                                                                                                                                            Game starts.4 minutes left, we're down 0-9.Joe: \"You guys are noobs you're not worth my time.\"Joe stands at top of the key and stops playing.Me and teammate play 2v3 for the next 3 minutes.1 minute left, we're down 24-26.Joe starts playing again.I'm a shooting guard with 3 pointers maxed out, so I know what must be done at this point.15 seconds left, down by 2, they pass me the rock.10 Seconds left, I run to the half court line, defended by 2 people.Joe: Pass!5 seconds left, both of my teammates are wide open.Joe: Pass!3 Seconds left, one defender dives in for a steal and barely misses.Joe: Pass!Me: \"Kobe\"Shoot fade away jumper from half court.The ball eats the rim like groceries.We lose.Joe: WDF (WTF) We coulda won!Me: What I do wrong?Joe: YOU TOOK A HALF COURT SHOT WHEN WE WERE OPEN.Me;  I said \"Kobe\" before I shot it shoulda went in.(I literally said \"Kobe\" in game chat)Joe leaves group.trollface.jpg   \n",
       "9299                                                                                                                                                                                                                                                                                                                                                                                                                                                                                                                                                                                                                                                                                                                                                                                                                                                                                                                                                                                                                                                                                                                                                                                                                                                                                                                                                                                                                                                                                                                                                                                                                    After years of playing this game, (since 2012) i have finally grown some interest in writing this review, and i want to start by saying: \"IF YOU HAVEN'T PLAYED THIS GAME ALREADY, JUST DO DO IT! It's a free game and it's unique, you won't find similar experience, it is intense, it is heavy combat, it shreds your pc in half because of so much happening at the same time and has people using their mics with battlecry and warsongs.You will die A LOT, it's the Dark Souls of MMO, you will die but yet, you will feel happy because of so much fighting.Take your time to enjoy the game, don't try to rush things and get bored quickly.Don't base your opinion on the game on others, play it, and you will discover for sure that there is still great potential in a 6 year old game.It's the only game that can hook me up for an entire day of battle.Also, findind a good outfit is A MUST HAVE for 100% enjoyement inside the game, and also to have someone to teach you things.Planetside2 has a lot of problems, but those problems don't take the light out of the game.Go out there and fight for Auraxis!Ricardo23*   \n",
       "6594                                                                                                                                                                                                                                                                                                                                                                                                                                                                                                                                                                                                                                                                                                                                                                                                                                                                                                                                                                                                                                                                                                                                                                                                                                                                                                                                                                                                                                                                                                                                                                                                                                                                                                                                                                                                                                                                                                                                                                                                                                                                                Early Access ReviewIt's a free to play game, so I expect some grind, but the grind in this game is outrageous.  I've played plenty of other F2P games that really drew me in, and made me want to spend my money.  This game is not like that.Example:The bazooka unlocks at a fairly low level, there are tanks everywhere, and no-one shoots them. Why?  Each bazooka round costs 1/6 of the credits (in game currency) I typically make in a match, and it takes 3 hits to kill most tanks.  This means, If I try to help out my team and destroy that tank that's been shelling us for 5 minutes, assuming perfect aim, it's going to cost me half of what I make that match.   \n",
       "5719                                                                                                                                                                                                                                                                                                                                                                                                                                                                                                                                                                                                                                                                                                                                                                                                                                                                                                                                                                                                                                                                                                                                                                                                                                                                                                                                                                                                                                                                                                                                                                                                                                                                                                                                                                          the time of writing this review, I have roughly 620 hours logged into DCS. I confess that I own nearly all of the modules. I play DCS primarily for the SINGLE player experience, not the multiplayer one. This is due to the netcode that DCS has - it's rather garbage for multiplayer. However, multiplayer issue aside, DCS is one of the best aviation simulations to date. Yes, the modules (prop planes jet planes, helicopters, several maps, and one *mostly* unpolished/unloved land vehicle module) are expensive - but they are nearly always stunning in their level of detail, and the quality of the experience almost always leaves this particular aviation enthusiast in a sense of awe. I recommend this game to any aviation enthusiast who has the following: A lot of patience and time to research the module they want to learn, a powerful computer, and a HOTAS (Hands On Throttle And Stick) setup. Having TrackIR/TrackHat greatly improves the experience.   \n",
       "14173                                                                                                                                                                                                                                                                                                                                                                                                                                                                                                                                                                                                                                                                                                                                                                                                                                                                                                                                                                                                                                                                                                                                                                                                                                                                                                                                                                                                                                                                                                                                                                                                                                                                                                                                                                                                                                                                                                                                                                                                                                                                                                                                                                                                                                                                                                                                                                                                                                                                                                               This game is horrid. I don't even need to list the reasons why it's so bad.To name one off the top of my head, the spawns are pre set, and when you spawn you'll likely meet your death to somebody camping on a hill nearby your spawn location.   \n",
       "1786                                                                                                                                                                                                                                                                                                                                                                                                                                                                                                                                                                                                                                                                                                                                                                                                                                                                                                                                                                                                                                                                                                                                                                                                                                                                                                                                                                                                                                                                                                                                                                                                                                                                                                                                                                                                                                                                                                                                                                                                                                                                                                                                                                                                                                                                                                                                                                                                                                                                                                                       Dota was my favorite in the last 7-8 years. Till the 7.00.Now i want to install WC3 and play dota1 again. I guess that is my only chance to get the \"dota feeling\" again. It is not dota since 7.00. They should change it's name.RIP DOTA   \n",
       "5680                                                                                                                                                                                                                                                                                                                                                                                                                                                                                                                                                                                                                                                                                                                                                                                                                                                                                                                                                                                                                                                                                                                                                                                                                                                                                                                                                                                                                                                                                                                                                                                                                                                                                                                                                                                                                                                                                                                                                                                                                                                             If you're into combat flight simulators look no further. DCS offers a chance to step into a legendry aircraft with unparalleled precision and accuracy true to its original design. Granted you may be reading a book for about a month until you're at a minimum proficiency with the aircraft but the payoff is worth it. The sense of achievement that you get when you learn any of these aircraft is amazing as it's not just a case of pumping the throttle to maximum to take off like other plane games. The future is very bright for this simulator as it is ever growing with more developers creating different aircraft for different theatres of war i.e. WWII / Korea / 80's/ Modern.   \n",
       "\n",
       "       user_suggestion  \\\n",
       "16605                0   \n",
       "8942                 1   \n",
       "10716                1   \n",
       "9843                 0   \n",
       "12374                0   \n",
       "8418                 1   \n",
       "8979                 1   \n",
       "13452                1   \n",
       "2509                 0   \n",
       "5583                 1   \n",
       "6719                 0   \n",
       "12622                0   \n",
       "13207                1   \n",
       "11649                1   \n",
       "9299                 1   \n",
       "6594                 0   \n",
       "5719                 1   \n",
       "14173                0   \n",
       "1786                 0   \n",
       "5680                 1   \n",
       "\n",
       "                                                                                                                                                                                                                                                                                                                                                                                                                                                                                                                                                                                                                                                                                            Tokens  \\\n",
       "16605                                                                                                                                                                                                                                                            [Counted, six, microtransactions, simultaneously, ,, excluding, 66, %, of, the, tower, upgrades(fun, ones, are, locked, for, every, singel, tower, ), which, you, might, get, one, day, ,, but, until, then, ,, the, p2w, opponent, have, a, tower(p2w, only, ), that, shoots, at, your, health, bar, sooo, ..., rip, me, ever, geting, the, most, basic, banana, farm,  , T, -, Tpay, up, ,, or, have, a, broken, experience, .]   \n",
       "8942                                                                                           [Oh, ,, Planetside, 2, ., How, glorious, you, are, ., Massive, 2,000, player, servers, ,, spread, across, 3, different, continents, and, across, 3, warring, factions, ,, oh, glory, be, ., Being, a, F2P, game, (, free, to, play, ), ,, you, do, n't, have, a, reason, to, at, least, not, try, the, game, out, ., That, is, if, your, computer, can, handle, it, ., Previously, ,, the, game, was, extremely, poorly, optimized, for, AMD, CPU, 's, ,, and, t, hat, has, recently, changed, ., Where, i, was, once, getting, 12, frames, in, large, Biodome, fights, ,, I, 'm, now, giving, ...]   \n",
       "10716                                                                                                                                                                                                                                                                                                                                                        [Early, Access, ReviewOne, of, the, best, games, out, there, right, now, ., Similar, to, magic, the, gathering, in, a, lot, of, ways, but, much, more, accessible, and, usable, online, ., Tutorial, is, n't, great, but, once, you, 're, over, that, hump, it, 's, fast, to, get, into, the, game, and, build, some, cool, decks, .]   \n",
       "9843                                                                                                                                          [This, game, sucks, ♥, ♥, ♥, ♥, ♥, There, is, too, much, salty, people, ,, the, community, is, ♥, ♥, ♥, ♥, ♥, and, you, do, n't, need, skill, once, you, have, all, the, gear, that, they, put, into, this, game, ., This, game, is, garbage, ,, i, said, it, a, million, times, ,, and, i, wo, nt, hesitate, to, say, it, again, ., It, sucks, ., The, dungeons, and, first, games, are, great, ,, giving, you, a, purpose, of, how, good, the, game, feels, ,, then, you, meet, the, community, ,, and, PVP, system, ., Once, again, ., This, ...]   \n",
       "12374                                                         [Early, Access, ReviewThe, game, is, total, garbage, and, i, suggest, everyone, to, stay, away, from, it, ., After, 200h, spend, in, game, hoping, for, something, good, my, expectation, were, totaly, ruined, by, last, patch, and, poor, commucation, by, NEOWIZ, ,, these, guys, have, no, idea, what, they, are, doing, and, what, the, game, needs, ., Instead, of, fixing, stuff, they, are, ruining, more, and, more, ., I, ca, n't, stand, this, anymore, ., The, game, is, GARBAGE, ,, the, company, is, GARGBAGE, ., I, am, out, of, here, ., I, ca, n't, bealiave, i, actually, paid, money, for, this, unfinished, ...]   \n",
       "8418   [There, 's, way, too, much, game, here, to, be, able, to, write, a, comprehensive, review, ,, so, I, 'm, just, going, to, go, with, a, simple, list, of, pros, and, cons, :, Cons:-Instanced, ,, very, instanced.-Character, customization, is, \", eh, ., \"-World, feels, static, ,, NPCs, are, forgettable.-Cash, shop, is, a, little, steep, ,, certain, upgrades, (, IE, companions, ), REQUIRE, cash, investment, to, advance, beyond, a, certain, point.-Bank, /, Inventory, space, is, very, small, (, though, a, couple, dollars, will, remedy, that).-Story, is, disjointed, and, bland.-Game, does, n't, explain, it, 's, systems, very, well, ,, campaigns, are, cryptic, (, ...]   \n",
       "8979                          [+, Its, free+Epic, moments, that, you, wo, n't, see, in, any, other, game+Apart, from, PS1, ,, its, really, the, only, MMOFPS, out, there+Once, you, 're, in, a, platoon, ,, its, just, so, much, fun+Graphics, are, good, for, a, free, game, this, size+We're, talking, about, pvpvp, 2000, server, folks+Tanks, ,, planes, ,, it, all, just, feels, so, good+Solid, gunplay+The, PS2, guys, really, do, listen, to, the, community+Its, free, -, Not, that, optimised, (, although, they, 're, working, on, that, while, posting, it, on, youtube)-You'll, feel, lost, the, first, hours, -, Not, a, lonewolf, friendly, game, (, lets, just, keep, it, at, ...]   \n",
       "13452                                                                                                                                                                                                                                                                                                                                                                                                                        [Complicated, ,, in, -, depth, building, game, ., Deeper, and, more, intimidating, than, Minecraft, ., Resource, management, is, a, large, neccessity, ., This, game, makes, you, WORK, for, your, equipment!Plus, ,, a, vast, majority, is, available, for, FREE, !]   \n",
       "2509       [This, used, to, be, my, one, of, my, topthree, games, hands, down, ,, but, the, game, stopped, being, fun, ,, becauseinstead, of, a, militaray, aircraft, and, armor, simulator, it, 's, become, a, economics, simulator, ., The, ingame, economy, is, broken, ,, prevents, youform, playing, if, close, to, top, tier, vehicles, without, pumping, in, boatloads, of, realworld, currency, ,, and, in, addition, to, this, ,, instead, of, atttempting, to, alleviate, the, gameplay, or, in, game, economy, issues, ,, the, developers, simply, continue, to, nerf, rewards, ,, and, add, higher, and, higher, tier, vehicles, which, are, n't, even, feasible, to, obtain, or, ...]   \n",
       "5583                                                                                                                                    [It, 's, a, good, game, ,, but, people, get, too, salty, too, fast, ., It, 's, considered, camping, if, you, use, a, TD, for, it, 's, actual, purpose, ., And, half, the, time, when, some, event, comes, along, ,, people, just, buy, the, tanks, and, do, n't, work, for, them, ., And, the, people, that, work, for, them, ,, get, cut, off, when, the, event, ends, ., To, top, it, off, ,, some, people, act, like, they, control, the, entire, team, ,, so, when, they, die, ,, it, 's, everyone, else, 's, fault, (, Give, or, Take, ), ., It, ...]   \n",
       "6719                                                                                                                                                                                                                                                                                                                                                                                                                    [Early, Access, ReviewIn, the, beginning, it, was, like, the, 2nd, to, call, of, duty, ,, but, then, the, dev, 's, thought, that, putting, a, price, tag, on, everything, would, make, more, people, play, it, ., Needless, to, say, ,, the, idea, backfired, on, them, .]   \n",
       "12622                                                                                                               [Warning, ., Requires, Bull, &, &, &, &, Additional, Acount, ., Do, not, download, ., I, want, my, F, &, &, &, &, &, &, time, back, ., I, could, n't, even, play, the, game, ., It, asks, for, your, city, ., I, closed, the, registration, browser, and, when, I, decided, ,, i, 'll, try, again, ,, USER, NAME, AND, EMAIL, HAS, BEEN, TAKENSo, you, save, info, even, though, an, account, has, n't, been, created?Worst, game, ever, Negative, ten, out, of, positive, ten, ., Once, you, see, this, review, ,, EXIT, IMMEDIATLY, ,, TELL, EVERYONE, ITS, A, BAD, GAME,  ]   \n",
       "13207                                                                                   [Product, received, for, free, +,  , About, 100, +, hours, of, fun, ., Simple, but, incredible, ., +,  , Plenty, of, quests, for, you, to, complete, +,  , It, 's, basically, FREE!No, negatives, here, ., A,  , charming,  , little, game, you, can, spend, many, an, hour, playing, ., A, fan, will, likely, be, tempted, to, reinstall, his, /, her, favourite, chapter, of, the, series, ., I, could, n't, resist, reinstalling, Fallout, 3, ,, personally, ., If, you, 've, yet, to, experience, the, awesome, world, of, Fallout, ., ., ., Well, ,, this, game, right, here,  , might,  , just, ...]   \n",
       "11649                                                                                                               [Game, starts.4, minutes, left, ,, we, 're, down, 0, -, 9.Joe, :, \", You, guys, are, noobs, you, 're, not, worth, my, time, ., \"Joe, stands, at, top, of, the, key, and, stops, playing, ., Me, and, teammate, play, 2v3, for, the, next, 3, minutes.1, minute, left, ,, we, 're, down, 24, -, 26.Joe, starts, playing, again, ., I'm, a, shooting, guard, with, 3, pointers, maxed, out, ,, so, I, know, what, must, be, done, at, this, point.15, seconds, left, ,, down, by, 2, ,, they, pass, me, the, rock.10, Seconds, left, ,, I, run, to, the, half, court, line, ...]   \n",
       "9299                                                                                                       [After, years, of, playing, this, game, ,, (, since, 2012, ), i, have, finally, grown, some, interest, in, writing, this, review, ,, and, i, want, to, start, by, saying, :, \", IF, YOU, HAVEN'T, PLAYED, THIS, GAME, ALREADY, ,, JUST, DO, DO, IT, !, It, 's, a, free, game, and, it, 's, unique, ,, you, wo, n't, find, similar, experience, ,, it, is, intense, ,, it, is, heavy, combat, ,, it, shreds, your, pc, in, half, because, of, so, much, happening, at, the, same, time, and, has, people, using, their, mics, with, battlecry, and, warsongs, ., You, will, die, A, ...]   \n",
       "6594                                                                                                                 [Early, Access, ReviewIt, 's, a, free, to, play, game, ,, so, I, expect, some, grind, ,, but, the, grind, in, this, game, is, outrageous, .,  , I, 've, played, plenty, of, other, F2P, games, that, really, drew, me, in, ,, and, made, me, want, to, spend, my, money, .,  , This, game, is, not, like, that, ., Example, :, The, bazooka, unlocks, at, a, fairly, low, level, ,, there, are, tanks, everywhere, ,, and, no, -, one, shoots, them, ., Why, ?,  , Each, bazooka, round, costs, 1/6, of, the, credits, (, in, game, currency, ), I, typically, make, in, ...]   \n",
       "5719                                                                   [the, time, of, writing, this, review, ,, I, have, roughly, 620, hours, logged, into, DCS, ., I, confess, that, I, own, nearly, all, of, the, modules, ., I, play, DCS, primarily, for, the, SINGLE, player, experience, ,, not, the, multiplayer, one, ., This, is, due, to, the, netcode, that, DCS, has, -, it, 's, rather, garbage, for, multiplayer, ., However, ,, multiplayer, issue, aside, ,, DCS, is, one, of, the, best, aviation, simulations, to, date, ., Yes, ,, the, modules, (, prop, planes, jet, planes, ,, helicopters, ,, several, maps, ,, and, one, *, mostly, *, unpolished, /, unloved, land, ...]   \n",
       "14173                                                                                                                                                                                                                                                                                                                                                                         [This, game, is, horrid, ., I, do, n't, even, need, to, list, the, reasons, why, it, 's, so, bad, ., To, name, one, off, the, top, of, my, head, ,, the, spawns, are, pre, set, ,, and, when, you, spawn, you, 'll, likely, meet, your, death, to, somebody, camping, on, a, hill, nearby, your, spawn, location, .]   \n",
       "1786                                                                                                                                                                                                                                                                                                                                                                               [Dota, was, my, favorite, in, the, last, 7, -, 8, years, ., Till, the, 7.00.Now, i, want, to, install, WC3, and, play, dota1, again, ., I, guess, that, is, my, only, chance, to, get, the, \", dota, feeling, \", again, ., It, is, not, dota, since, 7.00, ., They, should, change, it, 's, name, ., RIP, DOTA]   \n",
       "5680                                               [If, you, 're, into, combat, flight, simulators, look, no, further, ., DCS, offers, a, chance, to, step, into, a, legendry, aircraft, with, unparalleled, precision, and, accuracy, true, to, its, original, design, ., Granted, you, may, be, reading, a, book, for, about, a, month, until, you, 're, at, a, minimum, proficiency, with, the, aircraft, but, the, payoff, is, worth, it, ., The, sense, of, achievement, that, you, get, when, you, learn, any, of, these, aircraft, is, amazing, as, it, 's, not, just, a, case, of, pumping, the, throttle, to, maximum, to, take, off, like, other, plane, games, ., The, future, is, ...]   \n",
       "\n",
       "                                                                                                                                                                                                                                                                                                                                                                                                                                                                                                                                                                                                                                                                                                                                                                                                            ProcessTokens  \n",
       "16605                                                                                                                                                                                                                                                                                                                                                                                                                                                                                                                                                                                                                                                                                      [simultaneously, excluding, tower, locked, tower, day, opponent, health, bar, rip, basic, banana, farm, t, broken, experience]  \n",
       "8942   [oh, glorious, massive, player, spread, different, oh, glory, game, free, play, reason, try, game, computer, handle, previously, game, extremely, poorly, t, hat, recently, getting, large, giving, bonus, game, infantry, vehicular, combat, game, fight, different, continent, provide, different, passive, weapon, item, resource, gain, time, purchase, grenade, soldier, use, infantry, go, personal, highly, useful, depending, attach, cost, similar, different, aesthetically, performance, wise, new, conglomerate, firing, powerful, older, type, sovereignty, laser, perfect, accuracy, bullet, drop, dow, low, damage, faction, fighter, plane, heavy, tank, different, vehicle, free, play, title, let, scare, away, pay, win, model, precise, long, dump, money, game, gear, fail, thing, real, ...]  \n",
       "10716                                                                                                                                                                                                                                                                                                                                                                                                                                                                                                                                                                                                                                                                               [early, access, best, right, similar, magic, gathering, lot, way, accessible, usable, tutorial, great, hump, fast, game, build, cool]  \n",
       "9843                                                                                                                                                                                                                                                                                                                                                                                                                                                                                                                                                                                                             [game, salty, people, community, need, skill, gear, game, game, garbage, said, million, time, wo, hesitate, great, giving, purpose, good, game, meet, community, system, game, rage, easily, play, game]  \n",
       "12374                                                                                                                                                                                                                                                                                                                                                                                                                                                               [early, access, game, total, garbage, suggest, stay, away, spend, game, good, expectation, ruined, patch, poor, idea, game, need, instead, fixing, stuff, stand, game, garbage, company, actually, money, unfinished, product, tell, early, access, trust, current, condition, stay, game, population, went, week, suggest, game, better, spend, fun]  \n",
       "8418                                                                                                                                                                                                              [way, game, able, write, comprehensive, review, going, simple, list, eh, static, shop, little, steep, certain, ie, require, cash, investment, advance, certain, inventory, space, small, couple, remedy, disjointed, explain, cryptic, actually, exactly, upgrade, system, positively, game, good, super, fun, daily, system, feel, good, f, cash, shop, feel, wound, fast, mount, heirloom, bunch, cash, shop, currency, buy, premium, month, loot, crate, key, silver, special, currency, daily, pretty, free, play, wo, feel, cash, shop, draw, shot, point, cash, shop, feeling, necessary, invest]  \n",
       "8979                                                                                                                                                                                                                                                                                                                                                                                                                                                                                                                                    [wo, platoon, good, free, game, talking, server, listen, free, working, posting, feel, lost, friendly, game, best, game, like, mind, actually, pretty, grinding, real, fish, good, game, time, big, group, time, understand, game, game, gladly, oh, wait, free, group, possible]  \n",
       "13452                                                                                                                                                                                                                                                                                                                                                                                                                                                                                                                                                                                                                                                                                                      [complicated, depth, building, game, resource, management, large, game, work, vast, majority, available, free]  \n",
       "2509                                                                                                                                                                                                                                                                                                                                                                                                                                                                                                                                                                           [game, stopped, fun, aircraft, armor, simulator, economics, simulator, economy, broken, close, tier, currency, addition, instead, alleviate, game, economy, simply, continue, add, higher, higher, tier, feasible, obtain, maintain, game]  \n",
       "5583                                                                                                                                                                                                                                                                                                                                                                                                                                                                                                                                                                                         [good, game, people, salty, fast, considered, use, actual, purpose, half, time, event, come, people, buy, work, people, work, cut, event, people, act, like, control, entire, team, die, fault, better, world, instead, fun]  \n",
       "6719                                                                                                                                                                                                                                                                                                                                                                                                                                                                                                                                                                                                                                                                                                                         [early, access, beginning, like, duty, dev, thought, price, tag, people, play, needle, idea]  \n",
       "12622                                                                                                                                                                                                                                                                                                                                                                                                                                                                                                                                                                                                                             [warning, bull, additional, want, f, time, play, game, city, closed, registration, browser, decided, try, user, save, account, game, negative, positive, review, exit, tell, bad, game]  \n",
       "13207                                                                                                                                                                                                                                                                                                                                                                                                                                                                                                                                                              [product, received, free, fun, simple, incredible, plenty, complete, basically, charming, little, game, spend, hour, fan, likely, reinstall, chapter, series, resist, personally, experience, awesome, world, game, right, stepping, stone, adventure]  \n",
       "11649                                                                                                                                                                                                                                                                                                                                                                                                                                                                     [game, left, worth, time, key, teammate, play, minute, left, shooting, guard, know, left, pas, left, run, half, court, line, people, joe, left, wide, open, joe, left, defender, steal, barely, joe, fade, away, jumper, half, court, ball, eats, rim, like, lose, joe, took, half, court, shot, said, shot, went, literally, said, game, leaf]  \n",
       "9299                                                                                                                                                                                                                                                                                                                                                                 [game, finally, grown, interest, writing, review, want, start, saying, game, free, game, unique, wo, find, similar, experience, intense, heavy, combat, half, happening, time, people, die, lot, dark, die, feel, happy, fighting, time, enjoy, game, try, rush, quickly, base, opinion, game, play, discover, sure, great, potential, year, old, game, game, hook, entire, day, battle, good, outfit, inside, game, teach, lot, light, game, fight]  \n",
       "6594                                                                                                                                                                                                                                                                                                                                                                                                                                                                                                    [early, access, free, play, game, expect, grind, grind, game, outrageous, plenty, drew, want, spend, money, game, like, example, bazooka, fairly, low, level, bazooka, round, game, currency, typically, match, kill, try, help, team, destroy, tank, shelling, assuming, perfect, aim, going, cost, half, match]  \n",
       "5719                                                                                                                                                                                                                                                                                                          [time, writing, review, roughly, logged, confess, nearly, play, primarily, single, player, experience, garbage, issue, aside, best, aviation, date, yes, prop, jet, unpolished, unloved, land, vehicle, module, expensive, nearly, stunning, level, detail, quality, experience, leaf, particular, aviation, enthusiast, sense, awe, recommend, game, aviation, enthusiast, following, lot, patience, time, research, module, want, learn, powerful, computer, throttle, stick, setup, greatly, experience]  \n",
       "14173                                                                                                                                                                                                                                                                                                                                                                                                                                                                                                                                                                                                                                                                                                     [game, horrid, need, list, bad, head, set, spawn, likely, meet, death, somebody, hill, nearby, spawn, location]  \n",
       "1786                                                                                                                                                                                                                                                                                                                                                                                                                                                                                                                                                                                                                                                                                                                                           [favorite, till, want, install, play, guess, chance, feeling, change, rip]  \n",
       "5680                                                                                                                                                                                                                                                                                                                                                                                                                                                        [combat, flight, look, chance, step, legendry, aircraft, unparalleled, precision, accuracy, true, original, design, reading, book, month, minimum, proficiency, aircraft, payoff, worth, sense, achievement, learn, aircraft, amazing, case, throttle, maximum, like, plane, future, bright, simulator, growing, different, aircraft, different, war, modern]  "
      ]
     },
     "execution_count": 88,
     "metadata": {},
     "output_type": "execute_result"
    }
   ],
   "source": [
    "df['ProcessTokens'] = list_of_process_tokens    \n",
    "df.sample(20)"
   ]
  },
  {
   "cell_type": "code",
   "execution_count": 89,
   "id": "0122b2a4-f5ef-4f5c-8428-b285415e8a7e",
   "metadata": {},
   "outputs": [],
   "source": [
    "#JUST FOR FUN :)\n",
    "#most common words for each category (user_suggestion=1 OR user_suggestion=0)\n",
    "\n",
    "def words_frequency(data, rating_col, token_col, rating_nr):\n",
    "    all_rating_tokens = []\n",
    "    tokens = list(data[data[rating_col] == rating_nr][token_col])\n",
    "    for i in tokens:\n",
    "        for j in i:\n",
    "            all_rating_tokens.append(j)\n",
    "                \n",
    "    freq = nltk.FreqDist(all_rating_tokens)\n",
    "    print(freq.most_common()[0:20])\n",
    "    freq.plot(10, cumulative=False)\n",
    "    return freq, all_rating_tokens"
   ]
  },
  {
   "cell_type": "code",
   "execution_count": 14,
   "id": "6f89dfc6-7b9c-4b54-b247-5109a0f04363",
   "metadata": {},
   "outputs": [
    {
     "name": "stdout",
     "output_type": "stream",
     "text": [
      "[('game', 30920), ('like', 7249), ('play', 6682), ('get', 6296), ('good', 4580), ('time', 4416), ('fun', 4261), ('one', 4085), ('early', 3992), ('access', 3932), ('really', 3663), ('free', 3527), ('player', 3267), ('nope', 3235), ('great', 2938), ('make', 2881), ('would', 2840), ('playing', 2792), ('thing', 2707), ('even', 2689)]\n"
     ]
    },
    {
     "data": {
      "image/png": "[encoded data removed]",
      "text/plain": [
       "<Figure size 432x288 with 1 Axes>"
      ]
     },
     "metadata": {
      "needs_background": "light"
     },
     "output_type": "display_data"
    }
   ],
   "source": [
    "freq, all_rating_tokens = words_frequency(df, 'user_suggestion', 'ProcessTokens', 1)"
   ]
  },
  {
   "cell_type": "code",
   "execution_count": 90,
   "id": "497e3b40-7d81-45f3-a118-ebfbb911bb81",
   "metadata": {},
   "outputs": [
    {
     "name": "stdout",
     "output_type": "stream",
     "text": [
      "[('game', 23714), ('play', 5105), ('like', 4795), ('time', 4427), ('good', 3012), ('access', 2963), ('early', 2915), ('money', 2892), ('fun', 2566), ('pay', 2379), ('new', 2264), ('want', 2099), ('people', 2095), ('way', 1685), ('free', 1644), ('bad', 1559), ('need', 1553), ('buy', 1530), ('better', 1513), ('lot', 1345)]\n"
     ]
    },
    {
     "data": {
      "image/png": "[encoded data removed]",
      "text/plain": [
       "<Figure size 640x480 with 1 Axes>"
      ]
     },
     "metadata": {},
     "output_type": "display_data"
    }
   ],
   "source": [
    "freq, all_rating_tokens = words_frequency(df, 'user_suggestion', 'ProcessTokens', 0)"
   ]
  },
  {
   "cell_type": "code",
   "execution_count": 118,
   "id": "86e0f2c2",
   "metadata": {
    "scrolled": true
   },
   "outputs": [
    {
     "name": "stdout",
     "output_type": "stream",
     "text": [
      "<class 'str'>\n"
     ]
    }
   ],
   "source": [
    "#Converting thhe datatype of processtokens fromm list to string, so that our vectorization works right.\n",
    "df['ProcessTokens'] = df['ProcessTokens'].astype(\"string\")"
   ]
  },
  {
   "cell_type": "code",
   "execution_count": 114,
   "id": "1ff490cc-3296-4c27-8560-dcb54f42838e",
   "metadata": {},
   "outputs": [],
   "source": [
    "#define text vectorizers (I used two different ones, later we can decide which one we should continue with)\n",
    "count_vectorizer = CountVectorizer()\n",
    "tfidf_vectorizer = TfidfVectorizer()"
   ]
  },
  {
   "cell_type": "code",
   "execution_count": 154,
   "id": "76438feb",
   "metadata": {},
   "outputs": [],
   "source": [
    "#text vectorization with count_vectorizer\n",
    "def create_vectorized_dataset_count(data):\n",
    "    list_of_count_vectors = []\n",
    "    data = data.tolist() # converting to a list\n",
    "    count_vector = count_vectorizer.fit_transform(data)\n",
    "    count_array = count_vector.toarray()\n",
    "#     Uncomment the two lines below to see the count vector with feature names\n",
    "#     probably might also need to remove print truncation to see the hwole thhing.\n",
    "#     dftemp = pd.DataFrame(data=count_array,columns = count_vectorizer.get_feature_names())\n",
    "#     print(dftemp)\n",
    "    return count_array # this is the 2d \n",
    "\n",
    "count_vector = create_vectorized_dataset_count(df['ProcessTokens']) # this becomes our count vectorization vector.\n",
    "# we can use thhis to train our model.\n"
   ]
  },
  {
   "cell_type": "code",
   "execution_count": 158,
   "id": "e8f4b007",
   "metadata": {},
   "outputs": [
    {
     "name": "stdout",
     "output_type": "stream",
     "text": [
      "        aa  aback  abandon  abandoned  abdicate  abdication  abduct  \\\n",
      "0      0.0    0.0      0.0        0.0       0.0         0.0     0.0   \n",
      "1      0.0    0.0      0.0        0.0       0.0         0.0     0.0   \n",
      "2      0.0    0.0      0.0        0.0       0.0         0.0     0.0   \n",
      "3      0.0    0.0      0.0        0.0       0.0         0.0     0.0   \n",
      "4      0.0    0.0      0.0        0.0       0.0         0.0     0.0   \n",
      "...    ...    ...      ...        ...       ...         ...     ...   \n",
      "17489  0.0    0.0      0.0        0.0       0.0         0.0     0.0   \n",
      "17490  0.0    0.0      0.0        0.0       0.0         0.0     0.0   \n",
      "17491  0.0    0.0      0.0        0.0       0.0         0.0     0.0   \n",
      "17492  0.0    0.0      0.0        0.0       0.0         0.0     0.0   \n",
      "17493  0.0    0.0      0.0        0.0       0.0         0.0     0.0   \n",
      "\n",
      "       abduction  aberration  abhor  ...  zippy  zodiac  zombi  zombie  zone  \\\n",
      "0            0.0         0.0    0.0  ...    0.0     0.0    0.0     0.0   0.0   \n",
      "1            0.0         0.0    0.0  ...    0.0     0.0    0.0     0.0   0.0   \n",
      "2            0.0         0.0    0.0  ...    0.0     0.0    0.0     0.0   0.0   \n",
      "3            0.0         0.0    0.0  ...    0.0     0.0    0.0     0.0   0.0   \n",
      "4            0.0         0.0    0.0  ...    0.0     0.0    0.0     0.0   0.0   \n",
      "...          ...         ...    ...  ...    ...     ...    ...     ...   ...   \n",
      "17489        0.0         0.0    0.0  ...    0.0     0.0    0.0     0.0   0.0   \n",
      "17490        0.0         0.0    0.0  ...    0.0     0.0    0.0     0.0   0.0   \n",
      "17491        0.0         0.0    0.0  ...    0.0     0.0    0.0     0.0   0.0   \n",
      "17492        0.0         0.0    0.0  ...    0.0     0.0    0.0     0.0   0.0   \n",
      "17493        0.0         0.0    0.0  ...    0.0     0.0    0.0     0.0   0.0   \n",
      "\n",
      "       zoned  zoning  zoo  zoology  zoom  \n",
      "0        0.0     0.0  0.0      0.0   0.0  \n",
      "1        0.0     0.0  0.0      0.0   0.0  \n",
      "2        0.0     0.0  0.0      0.0   0.0  \n",
      "3        0.0     0.0  0.0      0.0   0.0  \n",
      "4        0.0     0.0  0.0      0.0   0.0  \n",
      "...      ...     ...  ...      ...   ...  \n",
      "17489    0.0     0.0  0.0      0.0   0.0  \n",
      "17490    0.0     0.0  0.0      0.0   0.0  \n",
      "17491    0.0     0.0  0.0      0.0   0.0  \n",
      "17492    0.0     0.0  0.0      0.0   0.0  \n",
      "17493    0.0     0.0  0.0      0.0   0.0  \n",
      "\n",
      "[17494 rows x 13599 columns]\n"
     ]
    },
    {
     "name": "stderr",
     "output_type": "stream",
     "text": [
      "/Users/soumyankar/.pyenv/versions/miniconda3-latest/lib/python3.9/site-packages/sklearn/utils/deprecation.py:87: FutureWarning: Function get_feature_names is deprecated; get_feature_names is deprecated in 1.0 and will be removed in 1.2. Please use get_feature_names_out instead.\n",
      "  warnings.warn(msg, category=FutureWarning)\n"
     ]
    }
   ],
   "source": [
    "#text vectorization with tfidf_vectorizer\n",
    "def create_vectorized_dataset_tfidf(data):\n",
    "    data = data.tolist()\n",
    "    tfidf_vector = tfidf_vectorizer.fit_transform(data)\n",
    "    tfidf_array = tfidf_vector.toarray()\n",
    "    dftemp = pd.DataFrame(data=tfidf_array, columns=tfidf_vectorizer.get_feature_names())\n",
    "    print(dftemp)\n",
    "    return tfidf_array\n",
    "\n",
    "tfidf_vector = create_vectorized_dataset_tfidf(df['ProcessTokens'])\n",
    "#df.head(1)"
   ]
  },
  {
   "cell_type": "markdown",
   "id": "6b0ff8c3-1f0f-46ee-bebe-deef16a3beaf",
   "metadata": {},
   "source": [
    "NOTE: use either Count_Vector or TF-IDF_Vectors column as the input for ML models\n",
    "\n",
    "Next steps: \n",
    "1. define differnet ML models to work with\n",
    "2. split the dataset (either Count_Vector or TF-IDF_Vectors) into training and testing data\n",
    "3. fit the training data to the models\n",
    "4. make predictions\n",
    "\n",
    "Futher steps:\n",
    "\n",
    "5. evaluate each model using different evaluation methods (use the testing dataset for this)"
   ]
  },
  {
   "cell_type": "code",
   "execution_count": null,
   "id": "57253233-3da0-4666-989d-1e89dc1eb729",
   "metadata": {},
   "outputs": [],
   "source": []
  }
 ],
 "metadata": {
  "kernelspec": {
   "display_name": "Python 3 (ipykernel)",
   "language": "python",
   "name": "python3"
  },
  "language_info": {
   "codemirror_mode": {
    "name": "ipython",
    "version": 3
   },
   "file_extension": ".py",
   "mimetype": "text/x-python",
   "name": "python",
   "nbconvert_exporter": "python",
   "pygments_lexer": "ipython3",
   "version": "3.9.12"
  }
 },
 "nbformat": 4,
 "nbformat_minor": 5
}
