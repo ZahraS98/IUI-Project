{
 "cells": [
  {
   "cell_type": "code",
   "execution_count": 1,
   "id": "45b06cf9-aa4d-45e0-a1d0-f85cf56e331a",
   "metadata": {},
   "outputs": [
    {
     "name": "stderr",
     "output_type": "stream",
     "text": [
      "[nltk_data] Downloading package stopwords to\n",
      "[nltk_data]     /Users/soumyankar/nltk_data...\n",
      "[nltk_data]   Package stopwords is already up-to-date!\n"
     ]
    }
   ],
   "source": [
    "#import necessary libraries\n",
    "import pandas as pd\n",
    "import nltk\n",
    "import sys # needed this for certain print options during debugging\n",
    "import numpy as np #lmao why did we not have this before\n",
    "from nltk.tokenize import word_tokenize\n",
    "nltk.download('stopwords')\n",
    "from nltk.corpus import stopwords\n",
    "import string\n",
    "from nltk.stem import WordNetLemmatizer\n",
    "from sklearn.feature_extraction.text import TfidfVectorizer\n",
    "from sklearn.feature_extraction.text import CountVectorizer\n",
    "import matplotlib.pyplot as plt"
   ]
  },
  {
   "cell_type": "code",
   "execution_count": 2,
   "id": "c3c3e8e2-7579-4ca0-949d-a7a336abdd4a",
   "metadata": {},
   "outputs": [
    {
     "data": {
      "text/html": [
       "<div>\n",
       "<style scoped>\n",
       "    .dataframe tbody tr th:only-of-type {\n",
       "        vertical-align: middle;\n",
       "    }\n",
       "\n",
       "    .dataframe tbody tr th {\n",
       "        vertical-align: top;\n",
       "    }\n",
       "\n",
       "    .dataframe thead th {\n",
       "        text-align: right;\n",
       "    }\n",
       "</style>\n",
       "<table border=\"1\" class=\"dataframe\">\n",
       "  <thead>\n",
       "    <tr style=\"text-align: right;\">\n",
       "      <th></th>\n",
       "      <th>review_id</th>\n",
       "      <th>title</th>\n",
       "      <th>year</th>\n",
       "      <th>user_review</th>\n",
       "      <th>user_suggestion</th>\n",
       "    </tr>\n",
       "  </thead>\n",
       "  <tbody>\n",
       "    <tr>\n",
       "      <th>0</th>\n",
       "      <td>1</td>\n",
       "      <td>Spooky's Jump Scare Mansion</td>\n",
       "      <td>2016.0</td>\n",
       "      <td>I'm scared and hearing creepy voices.  So I'll pause for a moment and write a review while I wait for my heart beat to return to atleast somewhat calmer times.  This game is adorable and creepy like my happy tree friends but with the graphics sceme of my childhood (but more bubble and 'clean').  Hello 1990's.What charactes there are (that isnot trying to kill me) were likable and a bit odd.  I did do a few noob things though, such as:Oh look a class room full of ghosts from dead children, lets shine my flashlight on them and stand there staring at them..Or, hmm creepy music, I'll turn around and see if I can see what's chasing me.Never before in a game have I been this afraid of finding a locked door.</td>\n",
       "      <td>1</td>\n",
       "    </tr>\n",
       "    <tr>\n",
       "      <th>1</th>\n",
       "      <td>2</td>\n",
       "      <td>Spooky's Jump Scare Mansion</td>\n",
       "      <td>2016.0</td>\n",
       "      <td>Best game, more better than Sam Pepper's YouTube account. 10/10What you'll need to play:A computerSome extra pants.Pros:Scary as hell.Fun.Adventure.Spooky.Did I forgot to mention that its scary as hell?You'll get more pants/briefs in your wardrobe.Time consuming if you're bored.Cons:Buying pants/briefs. You haven't downloaded it yet.</td>\n",
       "      <td>1</td>\n",
       "    </tr>\n",
       "  </tbody>\n",
       "</table>\n",
       "</div>"
      ],
      "text/plain": [
       "   review_id                        title    year  \\\n",
       "0          1  Spooky's Jump Scare Mansion  2016.0   \n",
       "1          2  Spooky's Jump Scare Mansion  2016.0   \n",
       "\n",
       "                                                                                                                                                                                                                                                                                                                                                                                                                                                                                                                                                                                                                                                                                                                              user_review  \\\n",
       "0  I'm scared and hearing creepy voices.  So I'll pause for a moment and write a review while I wait for my heart beat to return to atleast somewhat calmer times.  This game is adorable and creepy like my happy tree friends but with the graphics sceme of my childhood (but more bubble and 'clean').  Hello 1990's.What charactes there are (that isnot trying to kill me) were likable and a bit odd.  I did do a few noob things though, such as:Oh look a class room full of ghosts from dead children, lets shine my flashlight on them and stand there staring at them..Or, hmm creepy music, I'll turn around and see if I can see what's chasing me.Never before in a game have I been this afraid of finding a locked door.   \n",
       "1                                                                                                                                                                                                                                                                                                                                                                                         Best game, more better than Sam Pepper's YouTube account. 10/10What you'll need to play:A computerSome extra pants.Pros:Scary as hell.Fun.Adventure.Spooky.Did I forgot to mention that its scary as hell?You'll get more pants/briefs in your wardrobe.Time consuming if you're bored.Cons:Buying pants/briefs. You haven't downloaded it yet.   \n",
       "\n",
       "   user_suggestion  \n",
       "0                1  \n",
       "1                1  "
      ]
     },
     "execution_count": 2,
     "metadata": {},
     "output_type": "execute_result"
    }
   ],
   "source": [
    "#load the dataset\n",
    "pd.set_option('display.max_colwidth', None)\n",
    "data = pd.read_csv('data/Steam Game Review.csv')\n",
    "# inserting a new column called tags\n",
    "#data.insert(2, 'tags', '')\n",
    "data.head(2)\n"
   ]
  },
  {
   "cell_type": "code",
   "execution_count": 3,
   "id": "4983ff55",
   "metadata": {},
   "outputs": [
    {
     "name": "stdout",
     "output_type": "stream",
     "text": [
      "['appid', 'name', 'short_description', 'developer', 'publisher', 'genre', 'tags', 'type', 'categories', 'owners', 'positive', 'negative', 'price', 'initialprice', 'discount', 'ccu', 'languages', 'platforms', 'release_date', 'required_age', 'website', 'header_image']\n",
      "     appid            name  \\\n",
      "0       10  Counter-Strike   \n",
      "1  1000000       ASCENXION   \n",
      "\n",
      "                                                                                                                                                                                                                                                                                                             short_description  \\\n",
      "0  Play the world's number 1 online action game. Engage in an incredibly realistic brand of terrorist warfare in this wildly popular team-based game. Ally with teammates to complete strategic missions. Take out enemy sites. Rescue hostages. Your role affects your team's success. Your team's success affects your role.   \n",
      "1                                               ASCENXION is a 2D shoot 'em up game where you explore the field to progress. Players must overcome puzzles, traps, elite units, boss fights, and other various obstacles while navigating the field. Grow stronger through rewards earned, to uncover the truth of this world.   \n",
      "\n",
      "                developer                 publisher                     genre  \\\n",
      "0                   Valve                     Valve                    Action   \n",
      "1  IndigoBlue Game Studio  PsychoFlux Entertainment  Action, Adventure, Indie   \n",
      "\n",
      "                                                                                                                                                                                                                                                                                                                                                                               tags  \\\n",
      "0                   {'Action': 5426, 'FPS': 4831, 'Multiplayer': 3392, 'Shooter': 3353, 'Classic': 2784, 'Team-Based': 1864, 'First-Person': 1707, 'Competitive': 1607, 'Tactical': 1344, 'e-sports': 1192, '1990's': 1191, 'PvP': 881, 'Old School': 769, 'Military': 632, 'Strategy': 614, 'Survival': 304, 'Score Attack': 289, '1980s': 266, 'Assassin': 227, 'Nostalgia': 131}   \n",
      "1  {'Shoot 'Em Up': 186, 'Metroidvania': 181, 'Bullet Hell': 179, 'Side Scroller': 175, 'Twin Stick Shooter': 170, 'Difficult': 161, '2D': 159, 'Shooter': 159, 'Controller': 148, 'Action': 138, 'Minimalist': 136, 'Colorful': 124, 'Abstract': 111, 'Robots': 100, 'Atmospheric': 88, 'Adventure': 73, 'Singleplayer': 71, 'Indie': 69, 'GameMaker': 51, 'Great Soundtrack': 38}   \n",
      "\n",
      "   type  \\\n",
      "0  game   \n",
      "1  game   \n",
      "\n",
      "                                                                           categories  \\\n",
      "0  [Multi-player, Valve Anti-Cheat enabled, Online PvP, Shared/Split Screen PvP, PvP]   \n",
      "1        [Single-player, Partial Controller Support, Steam Achievements, Steam Cloud]   \n",
      "\n",
      "                     owners  ... price initialprice discount    ccu  \\\n",
      "0  10,000,000 .. 20,000,000  ...   999          999        0  13990   \n",
      "1               0 .. 20,000  ...   999          999        0      0   \n",
      "\n",
      "                                                                                            languages  \\\n",
      "0  English, French, German, Italian, Spanish - Spain, Simplified Chinese, Traditional Chinese, Korean   \n",
      "1                                                                 English, Korean, Simplified Chinese   \n",
      "\n",
      "                                         platforms release_date required_age  \\\n",
      "0    {'windows': True, 'mac': True, 'linux': True}    2000/11/1            0   \n",
      "1  {'windows': True, 'mac': False, 'linux': False}   2021/05/14            0   \n",
      "\n",
      "  website  \\\n",
      "0           \n",
      "1           \n",
      "\n",
      "                                                                    header_image  \n",
      "0       https://cdn.akamai.steamstatic.com/steam/apps/10/header.jpg?t=1666823513  \n",
      "1  https://cdn.akamai.steamstatic.com/steam/apps/1000000/header.jpg?t=1655723048  \n",
      "\n",
      "[2 rows x 22 columns]\n"
     ]
    }
   ],
   "source": [
    "# import new data set\n",
    "steam_2022 = pd.read_json('data/steam_games.json')\n",
    "steam_2022 = steam_2022.T.reset_index()\n",
    "steam_2022.drop(\"index\", axis=1, inplace=True)\n",
    "steam_cols=steam_2022.columns.to_list()\n",
    "print(steam_cols)\n",
    "print(steam_2022.head(2))"
   ]
  },
  {
   "cell_type": "code",
   "execution_count": 4,
   "id": "18ef51d8-5e40-4451-b434-2ecb4c899020",
   "metadata": {},
   "outputs": [
    {
     "data": {
      "text/plain": [
       "(17494, 5)"
      ]
     },
     "execution_count": 4,
     "metadata": {},
     "output_type": "execute_result"
    }
   ],
   "source": [
    "#dataset facts\n",
    "data.shape"
   ]
  },
  {
   "cell_type": "code",
   "execution_count": 5,
   "id": "a67e2a74-b520-4a97-97da-6392446bcbc9",
   "metadata": {},
   "outputs": [
    {
     "data": {
      "text/plain": [
       "1    9968\n",
       "0    7526\n",
       "Name: user_suggestion, dtype: int64"
      ]
     },
     "execution_count": 5,
     "metadata": {},
     "output_type": "execute_result"
    }
   ],
   "source": [
    "#dataset facts\n",
    "data['user_suggestion'].value_counts()"
   ]
  },
  {
   "cell_type": "code",
   "execution_count": 6,
   "id": "216643b0-e7cd-49ac-b0cb-708cac9ba2cf",
   "metadata": {},
   "outputs": [
    {
     "data": {
      "text/plain": [
       "44"
      ]
     },
     "execution_count": 6,
     "metadata": {},
     "output_type": "execute_result"
    }
   ],
   "source": [
    "#dataset facts\n",
    "data['title'].nunique()"
   ]
  },
  {
   "cell_type": "code",
   "execution_count": 7,
   "id": "8f97e907",
   "metadata": {},
   "outputs": [
    {
     "data": {
      "text/plain": [
       "array([\"Spooky's Jump Scare Mansion\", 'Sakura Clicker', 'WARMODE',\n",
       "       'Fractured Space', 'Dota 2', 'Path of Exile', 'War Thunder',\n",
       "       'Ring of Elysium', 'Team Fortress 2', 'Yu-Gi-Oh! Duel Links',\n",
       "       'SMITE®', 'Brawlhalla', 'World of Tanks Blitz',\n",
       "       'DCS World Steam Edition', 'Heroes & Generals',\n",
       "       'The Elder Scrolls®: Legends™', 'Trove', 'Neverwinter',\n",
       "       'Realm Royale', 'PlanetSide 2', 'Realm of the Mad God', 'Elsword',\n",
       "       'theHunter Classic', 'Eternal Card Game', 'Black Squad',\n",
       "       'Freestyle 2: Street Basketball', 'Bless Online',\n",
       "       'RaceRoom Racing Experience', 'Fallout Shelter',\n",
       "       'Tactical Monsters Rumble Arena', 'Creativerse', 'Dreadnought',\n",
       "       'Infestation: The New Z', 'Shop Heroes', 'Robocraft',\n",
       "       'Business Tour - Board Game with Online Multiplayer',\n",
       "       'Crusaders of the Lost Idols', 'AdventureQuest 3D',\n",
       "       'Realm Grinder', 'World of Guns: Gun Disassembly',\n",
       "       'Bloons TD Battles', 'Cuisine Royale', 'School of Dragons',\n",
       "       'EverQuest II'], dtype=object)"
      ]
     },
     "execution_count": 7,
     "metadata": {},
     "output_type": "execute_result"
    }
   ],
   "source": [
    "# Adding tags to the games here\n",
    "data['title'].unique()"
   ]
  },
  {
   "cell_type": "code",
   "execution_count": 8,
   "id": "a7af6f3b",
   "metadata": {},
   "outputs": [],
   "source": [
    "# Now that we have about 44 games in unique, we will iterate through the dataset and add tags to them manually.\n",
    "# Oh, this will be a pain in the ass I think xdd\n",
    "\n",
    "# Now we'll iterate through the rows and start adding tags based on the 'title' column\n",
    "tags_cols = []\n",
    "for index, row in data.iterrows():\n",
    "    if(row['title'] == \"Spooky's Jump Scare Mansion\"):\n",
    "        tags_cols.append(['Action', 'Adventure', 'Free to Play', 'Indie'])\n",
    "    if(row['title'] == \"Sakura Clicker\"):\n",
    "        tags_cols.append(['Casual', 'Free to Play', 'Indie'])\n",
    "    if(row['title'] == \"WARMODE\"):\n",
    "        tags_cols.append(['Action', 'Free to Play'])\n",
    "    if(row['title'] == \"Fractured Space\"):\n",
    "        tags_cols.append(['Action', 'Indie', 'Early Access'])\n",
    "    if(row['title'] == \"Dota 2\"):\n",
    "        tags_cols.append(['Action', 'Free to Play', 'Strategy'])\n",
    "    if(row['title'] == \"Path of Exile\"):\n",
    "        tags_cols.append(['Action', 'Adventure', 'Free to Play', 'Indie', 'Massively Multiplayer', 'RPG'])\n",
    "    if(row['title'] == \"War Thunder\"):\n",
    "        tags_cols.append(['Action', 'Free to Play', 'Massively Multiplayer', 'Simulation'])\n",
    "    if(row['title'] == \"Ring of Elysium\"):\n",
    "        tags_cols.append(['Action', 'Free to Play', 'Massively Multiplayer'])\n",
    "    if(row['title'] == \"Team Fortress 2\"):\n",
    "        tags_cols.append(['Action', 'Free to Play'])\n",
    "    if(row['title'] == \"Yu-Gi-Oh! Duel Links\"):\n",
    "        tags_cols.append(['Free to Play', 'Strategy'])\n",
    "    if(row['title'] == \"SMITE®\"):\n",
    "        tags_cols.append(['Action', 'Free to Play'])\n",
    "    if(row['title'] == \"Brawlhalla\"):\n",
    "        tags_cols.append(['Action', 'Free to Play', 'Indie'])\n",
    "    if(row['title'] == \"World of Tanks Blitz\"):\n",
    "        tags_cols.append(['Action', 'Free to Play', 'Massively Multiplayer'])\n",
    "    if(row['title'] == \"DCS World Steam Edition\"):\n",
    "        tags_cols.append(['Free to Play', 'Simulation'])\n",
    "    if(row['title'] == \"Heroes & Generals\"):\n",
    "        tags_cols.append(['Action', 'Free to Play', 'Indie', 'Massively Multiplayer', 'Strategy'])\n",
    "    if(row['title'] == \"The Elder Scrolls®: Legends™\"):\n",
    "        tags_cols.append(['Free to Play'])\n",
    "    if(row['title'] == \"Trove\"):\n",
    "        tags_cols.append(['Action', 'Adventure', 'Casual', 'Free to Play', 'Massively Multiplayer', 'RPG'])\n",
    "    if(row['title'] == \"Neverwinter\"):\n",
    "        tags_cols.append(['Action', 'Adventure', 'Free to Play', 'Massively Multiplayer', 'RPG'])\n",
    "    if(row['title'] == \"Realm Royale\"):\n",
    "        tags_cols.append(['Action', 'Free to Play', 'Early Access'])\n",
    "    if(row['title'] == \"PlanetSide 2\"):\n",
    "        tags_cols.append(['Action', 'Free to Play', 'Massively Multiplayer'])\n",
    "    if(row['title'] == \"Realm of the Mad God\"):\n",
    "        tags_cols.append(['Action', 'Free to Play', 'Indie', 'Massively Multiplayer', 'RPG'])\n",
    "    if(row['title'] == \"Elsword\"):\n",
    "        tags_cols.append(['Action', 'Adventure', 'Casual', 'Free to Play', 'Massively Multiplayer', 'RPG'])\n",
    "    if(row['title'] == \"theHunter Classic\"):\n",
    "        tags_cols.append(['Action', 'Adventure', 'Free to Play', 'Simulation', 'Sports'])\n",
    "    if(row['title'] == \"Eternal Card Game\"):\n",
    "        tags_cols.append(['Casual', 'Free to Play', 'Massively Multiplayer', 'Strategy'])\n",
    "    if(row['title'] == \"Black Squad\"):\n",
    "        tags_cols.append(['Action', 'Free to Play'])\n",
    "    if(row['title'] == \"Freestyle 2: Street Basketball\"):\n",
    "        tags_cols.append(['Action, Casual', 'Free to Play', 'Massively Multiplayer', 'Sports'])\n",
    "    if(row['title'] == \"Bless Online\"):\n",
    "        tags_cols.append(['Action', 'Free to Play', 'Massively Multiplayer', 'RPG'])\n",
    "    if(row['title'] == \"RaceRoom Racing Experience\"):\n",
    "        tags_cols.append(['Free to Play', 'Racing', 'Simulation', 'Sports'])\n",
    "    if(row['title'] == \"Fallout Shelter\"):\n",
    "        tags_cols.append([' Free to Play', 'RPG', 'Simulation'])\n",
    "    if(row['title'] == \"Tactical Monsters Rumble Arena\"):\n",
    "        tags_cols.append(['Adventure', 'Free to Play', 'Indie', 'RPG', 'Strategy'])\n",
    "    if(row['title'] == \"Creativerse\"):\n",
    "        tags_cols.append(['Action', 'Adventure', 'Casual', 'Free to Play', 'Indie', 'Massively Multiplayer', 'RPG'])\n",
    "    if(row['title'] == \"Dreadnought\"):\n",
    "        tags_cols.append(['Action', 'Free to Play', 'Massively Multiplayer'])\n",
    "    if(row['title'] == \"Infestation: The New Z\"):\n",
    "        tags_cols.append(['Action', 'Free to Play', 'Indie', 'Massively Multiplayer', 'RPG'])\n",
    "    if(row['title'] == \"Shop Heroes\"):\n",
    "        tags_cols.append(['Role-playing game', 'Simulation Video Game', 'Free-to-play', 'Casual game', 'Massively Multiplayer', 'Strategy'])\n",
    "    if(row['title'] == \"Robocraft\"):\n",
    "        tags_cols.append(['Action', 'Free to Play', 'Indie', 'Massively Multiplayer', 'RPG', 'Simulation'])\n",
    "    if(row['title'] == \"Business Tour - Board Game with Online Multiplayer\"):\n",
    "        tags_cols.append(['Casual', 'Free to Play', 'Indie', 'Massively Multiplayer', 'Strategy'])\n",
    "    if(row['title'] == \"Crusaders of the Lost Idols\"):\n",
    "        tags_cols.append(['Casual', 'Free to Play', 'Indie'])\n",
    "    if(row['title'] == \"AdventureQuest 3D\"):\n",
    "        tags_cols.append(['Role-playing game', 'Free-to-play', 'Action game', 'Indie game', 'Casual game', 'Massively Multiplayer', 'Adventure'])\n",
    "    if(row['title'] == \"Realm Grinder\"):\n",
    "        tags_cols.append(['Free to Play', 'RPG', 'Strategy'])\n",
    "    if(row['title'] == \"World of Guns: Gun Disassembly\"):\n",
    "        tags_cols.append(['Free to Play', 'Indie', 'Simulation'])\n",
    "    if(row['title'] == \"Bloons TD Battles\"):\n",
    "        tags_cols.append(['Action', 'Free to Play', 'Strategy'])\n",
    "    if(row['title'] == \"Cuisine Royale\"):\n",
    "        tags_cols.append(['Action game', 'Free-to-play', 'Massively Multiplayer'])\n",
    "    if(row['title'] == \"School of Dragons\"):\n",
    "        tags_cols.append(['Adventure', 'Free to Play', 'Massively Multiplayer', 'RPG'])\n",
    "    if(row['title'] == \"EverQuest II\"):\n",
    "        tags_cols.append(['Free to Play', 'Massively Multiplayer', 'RPG'])"
   ]
  },
  {
   "cell_type": "code",
   "execution_count": 9,
   "id": "20881c40",
   "metadata": {},
   "outputs": [],
   "source": [
    "# Now that we have added all the tags to our games, it is time to append it to our dataset.\n",
    "data.insert(2, 'tags', tags_cols)\n",
    "# !!ATTENTION!!\n",
    "# You might run into an error here, `cannot insert tags, already exists`. However, that just means that you have run this code once before. \n",
    "# Dont stress, to make sure that things are working, just look at thhe sample of the data and you should see all the tags."
   ]
  },
  {
   "cell_type": "code",
   "execution_count": 10,
   "id": "ddbdd23f",
   "metadata": {},
   "outputs": [
    {
     "data": {
      "text/html": [
       "<div>\n",
       "<style scoped>\n",
       "    .dataframe tbody tr th:only-of-type {\n",
       "        vertical-align: middle;\n",
       "    }\n",
       "\n",
       "    .dataframe tbody tr th {\n",
       "        vertical-align: top;\n",
       "    }\n",
       "\n",
       "    .dataframe thead th {\n",
       "        text-align: right;\n",
       "    }\n",
       "</style>\n",
       "<table border=\"1\" class=\"dataframe\">\n",
       "  <thead>\n",
       "    <tr style=\"text-align: right;\">\n",
       "      <th></th>\n",
       "      <th>review_id</th>\n",
       "      <th>title</th>\n",
       "      <th>tags</th>\n",
       "      <th>year</th>\n",
       "      <th>user_review</th>\n",
       "      <th>user_suggestion</th>\n",
       "    </tr>\n",
       "  </thead>\n",
       "  <tbody>\n",
       "    <tr>\n",
       "      <th>1519</th>\n",
       "      <td>1520</td>\n",
       "      <td>Fractured Space</td>\n",
       "      <td>[Action, Indie, Early Access]</td>\n",
       "      <td>2016.0</td>\n",
       "      <td>Product received for freeEarly Access ReviewThis is a good strategy/action game where positioning and teamplay is very important, Good variety of Big ships and with the new update, more crewmembers which increases the effect of your own playstyle. Remember, maneuver is the key to succes when in combat.+Cheap+Replayable+Good looking+Devs and their developing work-Lots of grinding if you dont want to pay-Bugs here and there but mostly solid (early acces)-You have 3 factions and your money which you grind focuses only on the faction which you play with, i wish that the money would be universal between the factions.</td>\n",
       "      <td>1</td>\n",
       "    </tr>\n",
       "    <tr>\n",
       "      <th>13726</th>\n",
       "      <td>19670</td>\n",
       "      <td>Creativerse</td>\n",
       "      <td>[Action, Adventure, Casual, Free to Play, Indie, Massively Multiplayer, RPG]</td>\n",
       "      <td>2015.0</td>\n",
       "      <td>Early Access Review8/10!Very fun game!!!Pros:-Have to progress and learn as you go.-Alot of customization-Beautiful graphics-Great Multi-playerCons:-Monsters can be a little tough-Finding certain materials can be a challenge-Could have more of a tutorial for certain materials and how to find themOver all its an amazing game, downloaded it with my brother and friend, played 6 hours straight.It is now 4:14 am and i need to try and get some sleep.</td>\n",
       "      <td>1</td>\n",
       "    </tr>\n",
       "    <tr>\n",
       "      <th>9898</th>\n",
       "      <td>13482</td>\n",
       "      <td>Elsword</td>\n",
       "      <td>[Action, Adventure, Casual, Free to Play, Massively Multiplayer, RPG]</td>\n",
       "      <td>2016.0</td>\n",
       "      <td>BEST GAME EVER, PLEASE GET FOR THE LOVE OF GOD, IM GONNA RECOMMEND IN ALL MY GROUPS!!!!!!!! AND ALL YOU HATERS SAYING ALL THESE BAD THINGS, JUST TRY HARDER AT THE GAME, I GOT LVL 85 IN LITERALLY 1 WEEK!!!!!!!</td>\n",
       "      <td>1</td>\n",
       "    </tr>\n",
       "    <tr>\n",
       "      <th>947</th>\n",
       "      <td>948</td>\n",
       "      <td>Fractured Space</td>\n",
       "      <td>[Action, Indie, Early Access]</td>\n",
       "      <td>2015.0</td>\n",
       "      <td>Early Access ReviewThis game is not bad; It feels like an interstellar version of \"World of Warships\" with large amount of strategy element, but they need to optimize it even further, it's been a year since the launch, so I think this can be eliminated rather easily.All in all I'm willing to give it 9/10. -1 due to bad optimization/low FPS in the hanger; say, what can be better when you can actually fight with a member from the development company?</td>\n",
       "      <td>1</td>\n",
       "    </tr>\n",
       "    <tr>\n",
       "      <th>8414</th>\n",
       "      <td>11424</td>\n",
       "      <td>Neverwinter</td>\n",
       "      <td>[Action, Adventure, Free to Play, Massively Multiplayer, RPG]</td>\n",
       "      <td>2017.0</td>\n",
       "      <td>What kind of a D&amp;D game doesn't allow you to wield and use whatever the hell you feel like, regardless of character class? This killed the game for me...Although this one is superior to DDO in character customization aspects and by having mounts altogether, the lack of freedom you get because of class restrictions is just mind-boggling.</td>\n",
       "      <td>0</td>\n",
       "    </tr>\n",
       "  </tbody>\n",
       "</table>\n",
       "</div>"
      ],
      "text/plain": [
       "       review_id            title  \\\n",
       "1519        1520  Fractured Space   \n",
       "13726      19670      Creativerse   \n",
       "9898       13482          Elsword   \n",
       "947          948  Fractured Space   \n",
       "8414       11424      Neverwinter   \n",
       "\n",
       "                                                                               tags  \\\n",
       "1519                                                  [Action, Indie, Early Access]   \n",
       "13726  [Action, Adventure, Casual, Free to Play, Indie, Massively Multiplayer, RPG]   \n",
       "9898          [Action, Adventure, Casual, Free to Play, Massively Multiplayer, RPG]   \n",
       "947                                                   [Action, Indie, Early Access]   \n",
       "8414                  [Action, Adventure, Free to Play, Massively Multiplayer, RPG]   \n",
       "\n",
       "         year  \\\n",
       "1519   2016.0   \n",
       "13726  2015.0   \n",
       "9898   2016.0   \n",
       "947    2015.0   \n",
       "8414   2017.0   \n",
       "\n",
       "                                                                                                                                                                                                                                                                                                                                                                                                                                                                                                                                                                                                                                       user_review  \\\n",
       "1519   Product received for freeEarly Access ReviewThis is a good strategy/action game where positioning and teamplay is very important, Good variety of Big ships and with the new update, more crewmembers which increases the effect of your own playstyle. Remember, maneuver is the key to succes when in combat.+Cheap+Replayable+Good looking+Devs and their developing work-Lots of grinding if you dont want to pay-Bugs here and there but mostly solid (early acces)-You have 3 factions and your money which you grind focuses only on the faction which you play with, i wish that the money would be universal between the factions.   \n",
       "13726                                                                                                                                                                             Early Access Review8/10!Very fun game!!!Pros:-Have to progress and learn as you go.-Alot of customization-Beautiful graphics-Great Multi-playerCons:-Monsters can be a little tough-Finding certain materials can be a challenge-Could have more of a tutorial for certain materials and how to find themOver all its an amazing game, downloaded it with my brother and friend, played 6 hours straight.It is now 4:14 am and i need to try and get some sleep.   \n",
       "9898                                                                                                                                                                                                                                                                                                                                                                                                                              BEST GAME EVER, PLEASE GET FOR THE LOVE OF GOD, IM GONNA RECOMMEND IN ALL MY GROUPS!!!!!!!! AND ALL YOU HATERS SAYING ALL THESE BAD THINGS, JUST TRY HARDER AT THE GAME, I GOT LVL 85 IN LITERALLY 1 WEEK!!!!!!!   \n",
       "947                                                                                                                                                                           Early Access ReviewThis game is not bad; It feels like an interstellar version of \"World of Warships\" with large amount of strategy element, but they need to optimize it even further, it's been a year since the launch, so I think this can be eliminated rather easily.All in all I'm willing to give it 9/10. -1 due to bad optimization/low FPS in the hanger; say, what can be better when you can actually fight with a member from the development company?   \n",
       "8414                                                                                                                                                                                                                                                                                            What kind of a D&D game doesn't allow you to wield and use whatever the hell you feel like, regardless of character class? This killed the game for me...Although this one is superior to DDO in character customization aspects and by having mounts altogether, the lack of freedom you get because of class restrictions is just mind-boggling.   \n",
       "\n",
       "       user_suggestion  \n",
       "1519                 1  \n",
       "13726                1  \n",
       "9898                 1  \n",
       "947                  1  \n",
       "8414                 0  "
      ]
     },
     "execution_count": 10,
     "metadata": {},
     "output_type": "execute_result"
    }
   ],
   "source": [
    "# Now lets take a look at some of the random samples to see if it worked.\n",
    "data.sample(5)"
   ]
  },
  {
   "cell_type": "code",
   "execution_count": 11,
   "id": "ce20d5d0",
   "metadata": {},
   "outputs": [
    {
     "name": "stderr",
     "output_type": "stream",
     "text": [
      "2023-01-16 12:00:27.111946: I tensorflow/core/platform/cpu_feature_guard.cc:193] This TensorFlow binary is optimized with oneAPI Deep Neural Network Library (oneDNN) to use the following CPU instructions in performance-critical operations:  AVX2 FMA\n",
      "To enable them in other operations, rebuild TensorFlow with the appropriate compiler flags.\n"
     ]
    }
   ],
   "source": [
    "# Data processing for removing stop words, lemmatization and stemmming, and english-only.\n",
    "# Importing all relevant libraries and functions here\n",
    "import spacy #load spacy\n",
    "from sklearn.pipeline import Pipeline # pipelining pre-processing\n",
    "from spacy.lang.en import English\n",
    "nlp = spacy.load(\"en_core_web_sm\")\n",
    "tokenizer = nlp.tokenizer"
   ]
  },
  {
   "cell_type": "code",
   "execution_count": 12,
   "id": "0bedf52d-4146-4ae7-828b-107e3c7828ab",
   "metadata": {},
   "outputs": [
    {
     "data": {
      "text/html": [
       "<div>\n",
       "<style scoped>\n",
       "    .dataframe tbody tr th:only-of-type {\n",
       "        vertical-align: middle;\n",
       "    }\n",
       "\n",
       "    .dataframe tbody tr th {\n",
       "        vertical-align: top;\n",
       "    }\n",
       "\n",
       "    .dataframe thead th {\n",
       "        text-align: right;\n",
       "    }\n",
       "</style>\n",
       "<table border=\"1\" class=\"dataframe\">\n",
       "  <thead>\n",
       "    <tr style=\"text-align: right;\">\n",
       "      <th></th>\n",
       "      <th>review_id</th>\n",
       "      <th>title</th>\n",
       "      <th>tags</th>\n",
       "      <th>year</th>\n",
       "      <th>user_review</th>\n",
       "      <th>user_suggestion</th>\n",
       "      <th>Tokens</th>\n",
       "    </tr>\n",
       "  </thead>\n",
       "  <tbody>\n",
       "    <tr>\n",
       "      <th>0</th>\n",
       "      <td>1</td>\n",
       "      <td>Spooky's Jump Scare Mansion</td>\n",
       "      <td>[Action, Adventure, Free to Play, Indie]</td>\n",
       "      <td>2016.0</td>\n",
       "      <td>I'm scared and hearing creepy voices.  So I'll pause for a moment and write a review while I wait for my heart beat to return to atleast somewhat calmer times.  This game is adorable and creepy like my happy tree friends but with the graphics sceme of my childhood (but more bubble and 'clean').  Hello 1990's.What charactes there are (that isnot trying to kill me) were likable and a bit odd.  I did do a few noob things though, such as:Oh look a class room full of ghosts from dead children, lets shine my flashlight on them and stand there staring at them..Or, hmm creepy music, I'll turn around and see if I can see what's chasing me.Never before in a game have I been this afraid of finding a locked door.</td>\n",
       "      <td>1</td>\n",
       "      <td>[I, 'm, scared, and, hearing, creepy, voices, .,  , So, I, 'll, pause, for, a, moment, and, write, a, review, while, I, wait, for, my, heart, beat, to, return, to, atleast, somewhat, calmer, times, .,  , This, game, is, adorable, and, creepy, like, my, happy, tree, friends, but, with, the, graphics, sceme, of, my, childhood, (, but, more, bubble, and, ', clean, ', ), .,  , Hello, 1990's, ., What, charactes, there, are, (, that, isnot, trying, to, kill, me, ), were, likable, and, a, bit, odd, .,  , I, did, do, a, few, noob, things, though, ,, such, as, ...]</td>\n",
       "    </tr>\n",
       "  </tbody>\n",
       "</table>\n",
       "</div>"
      ],
      "text/plain": [
       "   review_id                        title  \\\n",
       "0          1  Spooky's Jump Scare Mansion   \n",
       "\n",
       "                                       tags    year  \\\n",
       "0  [Action, Adventure, Free to Play, Indie]  2016.0   \n",
       "\n",
       "                                                                                                                                                                                                                                                                                                                                                                                                                                                                                                                                                                                                                                                                                                                              user_review  \\\n",
       "0  I'm scared and hearing creepy voices.  So I'll pause for a moment and write a review while I wait for my heart beat to return to atleast somewhat calmer times.  This game is adorable and creepy like my happy tree friends but with the graphics sceme of my childhood (but more bubble and 'clean').  Hello 1990's.What charactes there are (that isnot trying to kill me) were likable and a bit odd.  I did do a few noob things though, such as:Oh look a class room full of ghosts from dead children, lets shine my flashlight on them and stand there staring at them..Or, hmm creepy music, I'll turn around and see if I can see what's chasing me.Never before in a game have I been this afraid of finding a locked door.   \n",
       "\n",
       "   user_suggestion  \\\n",
       "0                1   \n",
       "\n",
       "                                                                                                                                                                                                                                                                                                                                                                                                                                                                                                                                                                               Tokens  \n",
       "0  [I, 'm, scared, and, hearing, creepy, voices, .,  , So, I, 'll, pause, for, a, moment, and, write, a, review, while, I, wait, for, my, heart, beat, to, return, to, atleast, somewhat, calmer, times, .,  , This, game, is, adorable, and, creepy, like, my, happy, tree, friends, but, with, the, graphics, sceme, of, my, childhood, (, but, more, bubble, and, ', clean, ', ), .,  , Hello, 1990's, ., What, charactes, there, are, (, that, isnot, trying, to, kill, me, ), were, likable, and, a, bit, odd, .,  , I, did, do, a, few, noob, things, though, ,, such, as, ...]  "
      ]
     },
     "execution_count": 12,
     "metadata": {},
     "output_type": "execute_result"
    }
   ],
   "source": [
    "#tokenization\n",
    "def create_tokenized_dataset(data):\n",
    "    tokens_list = []\n",
    "\n",
    "    for j in data['user_review']:\n",
    "#         tokens_list.append(word_tokenize(j))\n",
    "        spacy_tokens = [token.orth_ for token in tokenizer(j)]\n",
    "        tokens_list.append(spacy_tokens)\n",
    "    data['Tokens'] = tokens_list   \n",
    "    return data\n",
    "\n",
    "df = create_tokenized_dataset(data)\n",
    "df.head(1)"
   ]
  },
  {
   "cell_type": "code",
   "execution_count": 13,
   "id": "33f6d3a4-41b1-4c48-80eb-5a65b3434371",
   "metadata": {},
   "outputs": [],
   "source": [
    "#define lemmatizer\n",
    "lemmatizer = WordNetLemmatizer()"
   ]
  },
  {
   "cell_type": "code",
   "execution_count": 14,
   "id": "c10c7d2f-c6f6-4f31-b4ec-546831a1d6f0",
   "metadata": {},
   "outputs": [],
   "source": [
    "#define stopwords\n",
    "stopWords = set(stopwords.words('english'))\n",
    "custom_stop = [\"'m\", \"'ll\", \"'s\", \"'re\", \"n't\", \"'ve\"]\n",
    "stop_words = set(list(stopWords) + custom_stop)"
   ]
  },
  {
   "cell_type": "code",
   "execution_count": 15,
   "id": "2a6017c0-5425-4ee7-a0ef-990aacbbe53d",
   "metadata": {},
   "outputs": [],
   "source": [
    "#define punctuation\n",
    "custom_punc = [\"``\", \"''\", \"--\", \"...\",\"♥\"]\n",
    "punctuation = set(list(string.punctuation) + custom_punc)"
   ]
  },
  {
   "cell_type": "code",
   "execution_count": 16,
   "id": "85a32684",
   "metadata": {},
   "outputs": [
    {
     "name": "stderr",
     "output_type": "stream",
     "text": [
      "[nltk_data] Downloading package words to\n",
      "[nltk_data]     /Users/soumyankar/nltk_data...\n",
      "[nltk_data]   Package words is already up-to-date!\n"
     ]
    }
   ],
   "source": [
    "# nltk for removing english words\n",
    "nltk.download('words')\n",
    "words = set(nltk.corpus.words.words())"
   ]
  },
  {
   "cell_type": "code",
   "execution_count": 17,
   "id": "26bab3cb-67f6-4f86-b89a-05770e444aed",
   "metadata": {},
   "outputs": [],
   "source": [
    "#data preprocessing: define functions\n",
    "\n",
    "# created a function to deal with that pesky steam heart emoticon\n",
    "# print(ord('♥'))\n",
    "def remove_steam_heart(tokens):\n",
    "    for token in tokens:\n",
    "        if len(token) == 1:\n",
    "            if(ord(token) == 9829): # 9829 is the unicode for the heart emoticon\n",
    "                tokens.remove(token)\n",
    "    return tokens\n",
    "\n",
    "#lower case\n",
    "def lower_case(tokens):\n",
    "    tokens = [token.lower() for token in tokens]\n",
    "    return tokens\n",
    "\n",
    "#remove stopwords\n",
    "def remove_stopwords(tokens):\n",
    "#     tokens = [token for token in tokens if token not in stop_words]\n",
    "# Using the spacy stop words set instead of the english stop words\n",
    "    tokens = [token for token in tokens if token not in nlp.Defaults.stop_words]\n",
    "    return tokens\n",
    "\n",
    "#remove digits\n",
    "def remove_digits(tokens):\n",
    "    for token in tokens:\n",
    "        if token.isdigit():\n",
    "            tokens.remove(token)\n",
    "    return tokens\n",
    "\n",
    "#remove punctuation\n",
    "def remove_punctuation(tokens):\n",
    "    tokens = [token for token in tokens if token not in punctuation]\n",
    "    return tokens\n",
    "\n",
    "#lemmatization\n",
    "def lemmatize_words(tokens):\n",
    "    for token in range(len(tokens)):\n",
    "        tokens[token] = lemmatizer.lemmatize(tokens[token])\n",
    "    return tokens\n",
    "\n",
    "# Using nltk to word corpus to remove non-english words\n",
    "# this method seemed cheaper and easier than spacy? maybe lol\n",
    "def remove_non_english(tokens):\n",
    "    tokens = [token for token in tokens if token in words]\n",
    "    return tokens"
   ]
  },
  {
   "cell_type": "code",
   "execution_count": 18,
   "id": "ffa539c8-bfd8-4f92-a4de-c424ccfa2bee",
   "metadata": {},
   "outputs": [],
   "source": [
    "#data preprocessing function\n",
    "def data_preprocess(tokens):\n",
    "    new_tokens = lower_case(tokens)\n",
    "    new_tokens = remove_steam_heart(new_tokens)\n",
    "    new_tokens = remove_non_english(new_tokens)\n",
    "    new_tokens = remove_stopwords(new_tokens)\n",
    "    new_tokens = remove_digits(new_tokens)\n",
    "    new_tokens = remove_punctuation(new_tokens)\n",
    "    new_tokens = lemmatize_words(new_tokens)\n",
    "    return new_tokens\n",
    "    \n",
    "list_of_process_tokens = []\n",
    "for i in df['Tokens']:\n",
    "    list_of_process_tokens.append(data_preprocess(i))"
   ]
  },
  {
   "cell_type": "code",
   "execution_count": 19,
   "id": "49d5edc9-7ed6-4532-ba11-f0fc99eb7d1b",
   "metadata": {},
   "outputs": [
    {
     "data": {
      "text/html": [
       "<div>\n",
       "<style scoped>\n",
       "    .dataframe tbody tr th:only-of-type {\n",
       "        vertical-align: middle;\n",
       "    }\n",
       "\n",
       "    .dataframe tbody tr th {\n",
       "        vertical-align: top;\n",
       "    }\n",
       "\n",
       "    .dataframe thead th {\n",
       "        text-align: right;\n",
       "    }\n",
       "</style>\n",
       "<table border=\"1\" class=\"dataframe\">\n",
       "  <thead>\n",
       "    <tr style=\"text-align: right;\">\n",
       "      <th></th>\n",
       "      <th>review_id</th>\n",
       "      <th>title</th>\n",
       "      <th>tags</th>\n",
       "      <th>year</th>\n",
       "      <th>user_review</th>\n",
       "      <th>user_suggestion</th>\n",
       "      <th>Tokens</th>\n",
       "      <th>ProcessTokens</th>\n",
       "    </tr>\n",
       "  </thead>\n",
       "  <tbody>\n",
       "    <tr>\n",
       "      <th>165</th>\n",
       "      <td>166</td>\n",
       "      <td>Spooky's Jump Scare Mansion</td>\n",
       "      <td>[Action, Adventure, Free to Play, Indie]</td>\n",
       "      <td>2015.0</td>\n",
       "      <td>Creepy as hell but fun, keeps you on your feet, nice small rooms yet some are just brutal. Also there is bug issue of accesing steam while in gameplay, think you could fix that? overall, great game</td>\n",
       "      <td>1</td>\n",
       "      <td>[Creepy, as, hell, but, fun, ,, keeps, you, on, your, feet, ,, nice, small, rooms, yet, some, are, just, brutal, ., Also, there, is, bug, issue, of, accesing, steam, while, in, gameplay, ,, think, you, could, fix, that, ?, overall, ,, great, game]</td>\n",
       "      <td>[creepy, hell, fun, nice, small, brutal, bug, issue, steam, think, fix, overall, great, game]</td>\n",
       "    </tr>\n",
       "    <tr>\n",
       "      <th>16340</th>\n",
       "      <td>24200</td>\n",
       "      <td>World of Guns: Gun Disassembly</td>\n",
       "      <td>[Free to Play, Indie, Simulation]</td>\n",
       "      <td>2016.0</td>\n",
       "      <td>Its an alright game in the start, but if your expecting to unlock alot of guns to work with youll basicly just stop playing after a couple of hours. Its either a grind your♥♥♥♥♥off on the same gun for ♥♥♥♥♥♥ EXP to finally unlock the next one. Or youll have to buy exp / packs to unlock em. I just cant be bothered with this horrible grinding and im not spending money on this since the mechanics is pretty whack. The shooting ranges are horrible along side with the controls so i just ended up deleting it instead.</td>\n",
       "      <td>0</td>\n",
       "      <td>[Its, an, alright, game, in, the, start, ,, but, if, your, expecting, to, unlock, alot, of, guns, to, work, with, you, ll, basicly, just, stop, playing, after, a, couple, of, hours, ., Its, either, a, grind, your, ♥, ♥, ♥, ♥, ♥, off, on, the, same, gun, for, ♥, ♥, ♥, ♥, ♥, ♥, EXP, to, finally, unlock, the, next, one, ., Or, you, ll, have, to, buy, exp, /, packs, to, unlock, em, ., I, just, ca, nt, be, bothered, with, this, horrible, grinding, and, i, m, not, spending, money, on, this, since, the, mechanics, is, pretty, whack, ., ...]</td>\n",
       "      <td>[alright, game, start, unlock, work, stop, couple, grind, gun, finally, unlock, buy, unlock, em, horrible, grinding, m, spending, money, mechanic, pretty, whack, shooting, horrible, ended, instead]</td>\n",
       "    </tr>\n",
       "    <tr>\n",
       "      <th>6284</th>\n",
       "      <td>8659</td>\n",
       "      <td>Heroes &amp; Generals</td>\n",
       "      <td>[Action, Free to Play, Indie, Massively Multiplayer, Strategy]</td>\n",
       "      <td>2014.0</td>\n",
       "      <td>Early Access ReviewSuper fun game, unlike other most recent released FPS games, this takes us back to an older time in the War, a more classic war experience. However, despite the brilliant idea, the fact that you have to spent RL money to purchase many upgrades and character boost, makes it unenjoyable. This should have a flat out price tag and allow everyone to enjoy ingame item upgrades with the ingame currancy, instead of RL money.</td>\n",
       "      <td>0</td>\n",
       "      <td>[Early, Access, ReviewSuper, fun, game, ,, unlike, other, most, recent, released, FPS, games, ,, this, takes, us, back, to, an, older, time, in, the, War, ,, a, more, classic, war, experience, ., However, ,, despite, the, brilliant, idea, ,, the, fact, that, you, have, to, spent, RL, money, to, purchase, many, upgrades, and, character, boost, ,, makes, it, unenjoyable, ., This, should, have, a, flat, out, price, tag, and, allow, everyone, to, enjoy, ingame, item, upgrades, with, the, ingame, currancy, ,, instead, of, RL, money, .]</td>\n",
       "      <td>[early, access, fun, game, unlike, recent, older, time, war, classic, war, experience, despite, brilliant, idea, fact, spent, money, purchase, character, boost, unenjoyable, flat, price, tag, allow, enjoy, item, instead, money]</td>\n",
       "    </tr>\n",
       "    <tr>\n",
       "      <th>13227</th>\n",
       "      <td>19034</td>\n",
       "      <td>Fallout Shelter</td>\n",
       "      <td>[ Free to Play, RPG, Simulation]</td>\n",
       "      <td>2017.0</td>\n",
       "      <td>A great game to play in the background while you're doing an assignment or playing another game....OR WAITING FOR PREMEIRE PRO TO RENDER!!!!It's a good time waster just don't expect much to happen</td>\n",
       "      <td>1</td>\n",
       "      <td>[A, great, game, to, play, in, the, background, while, you, 're, doing, an, assignment, or, playing, another, game, ...., OR, WAITING, FOR, PREMEIRE, PRO, TO, RENDER!!!!It, 's, a, good, time, waster, just, do, n't, expect, much, to, happen]</td>\n",
       "      <td>[great, game, play, background, assignment, game, waiting, pro, good, time, waster, expect, happen]</td>\n",
       "    </tr>\n",
       "    <tr>\n",
       "      <th>8441</th>\n",
       "      <td>11451</td>\n",
       "      <td>Neverwinter</td>\n",
       "      <td>[Action, Adventure, Free to Play, Massively Multiplayer, RPG]</td>\n",
       "      <td>2016.0</td>\n",
       "      <td>If you're using Windows 10 do not waste your time with this game. I have a 4 gig Radeon card on Windows 10 yet because these jackasses don't know what the ♥♥♥♥ they're doing on 'updates' every time I play ANYTHING from perfect world it tells me my card's drivers aren't current, even though I check on a weekly basis. Now that I'm using Windows 10 'testing' it won't even load the ♥♥♥♥ing game, the client crashes, and it would load fine yet keep complaining about the card on Windows 10 unactivated. Get your♥♥♥♥♥♥together Perfect World, and come into the 21st Century. I love the games, but if you can't even figure out that I've got current drivers because you stopped updating YOUR♥♥♥♥♥♥with Windows 8, stop making games. This is coming from someone who's played EVERYTHING they make, both before they owned it, and after, and I've always had this problem with OLD hardware, but only perfect world goes and does it on hardware that's maybe a month old.</td>\n",
       "      <td>0</td>\n",
       "      <td>[If, you, 're, using, Windows, 10, do, not, waste, your, time, with, this, game, ., I, have, a, 4, gig, Radeon, card, on, Windows, 10, yet, because, these, jackasses, do, n't, know, what, the, ♥, ♥, ♥, ♥, they, 're, doing, on, ', updates, ', every, time, I, play, ANYTHING, from, perfect, world, it, tells, me, my, card, 's, drivers, are, n't, current, ,, even, though, I, check, on, a, weekly, basis, ., Now, that, I, 'm, using, Windows, 10, ', testing, ', it, wo, n't, even, load, the, ♥, ♥, ♥, ♥, ing, game, ,, the, client, crashes, ,, ...]</td>\n",
       "      <td>[waste, time, game, gig, card, know, time, play, perfect, world, card, current, check, weekly, basis, testing, wo, load, ing, game, client, load, fine, card, unactivated, perfect, world, come, century, love, figure, got, current, stopped, stop, making, coming, problem, old, hardware, perfect, world, go, hardware, maybe, month, old]</td>\n",
       "    </tr>\n",
       "    <tr>\n",
       "      <th>15078</th>\n",
       "      <td>22189</td>\n",
       "      <td>Robocraft</td>\n",
       "      <td>[Action, Free to Play, Indie, Massively Multiplayer, RPG, Simulation]</td>\n",
       "      <td>2016.0</td>\n",
       "      <td>Early Access ReviewI have played tons of games on robocraft.  I have played this game since it was awarded indie game of the year, and might I say props to you for accomplishing that. That said, there are a few things that need to be taken into account:Balance: The game is EXTREMELY unbalanced, the auto lock on missiles are very hard to dodge and are expensive(more on this later) and now the timer has been dropped from taking 2.5 seconds to lock on, to 2 seconds. Not only is this devastating but the main weapons of the game: plasma cannons, and plasma lasers have taken some nerfs. Lasers have reduced fire rate and plasma cannons increase power consumption. This creates a huge divide from the premium users that paid money to get the missiles easily and the basic players who can only afford one laser of a high tier.End game rewards (and money issues in general):I consider myself to not be at the end game, but close to it. My weapons have gotten quite expensive as of late. To list off a few: Top laser disintegrator: 959,549  Plasma devastator: 1,107,169 Disc Shield: 10,876,430     Blink Module: 10,507,740 Aeroflak Cannon: 11,071,688 Lock-on Missile Launcher: 10,149,047Now, this list wouldn’t be too bad, if the payoff was about 60,000~, 80,000~ with premium users in the game. Now, understandably it is frustrating that the most I can get in a game is 110,000~ with a first win of the day bonus and premium users. So, all in all you are required to play approximately 126.86~ games to acquire 1 lock-on missile launcher, let me emphasis this ONE LOCK-ON MISSILE LAUNCHER, and in order to be any use to your team, you’re going to want to pack at least 2 of them, making the amount of games you need to play skyrocket to 252~. This is unbelievable and give NO incentive whatsoever to grind out the game for the RP. I can hear it now, how can I play this game if it takes so long to get something. Easy enough, you just have to pay real life money to obtain all of these weapons, problem solved. For translation it costs you 2,300GC for 1 missile launcher, that would approximate putting $2.50(and a little more to get 50 more GC) and to get two of them you need $5.00 for it. Doesn’t seem like a lot, but this is a “FREE TO PLAY GAME” Why then would you make the game free and then choose to make the game SUCH A HUGE GRIND that you cannot even begin to reach end game content without going past a pay wall or dedicating hours upon hours to a game.Additional premium content:On a side note, I have noticed that glass now costs GC to purchase, no RP method. The three principles upon which this game is built upon is “build, drive, fight” can you drive? Yes. Can you fight? Yes, now building on the other hand. Building has been limited in the terms of glass. Glass used to be a fun cool block that you can use in your vehicle to have, which is now gone, banished behind pay wall.Things they did well at: Fun and amazing gameplay Large variety of game modes to choose from Roboshop to help you get a ship if you suck at creativity Have more than 3 bays for free Testing area Gaining RP for testing your ship against bots (although it is minuscule)I will update my review as major parts of the game are tweaked, but at the moment if given the chance to rate the game at its current state, I would give it a 4/10. This game is below average, it can perform meh compared to most free-to-play Minecraft cube copy games. However, the game still needs LARGE improvements before it can be considered a game to play.</td>\n",
       "      <td>0</td>\n",
       "      <td>[Early, Access, ReviewI, have, played, tons, of, games, on, robocraft, .,  , I, have, played, this, game, since, it, was, awarded, indie, game, of, the, year, ,, and, might, I, say, props, to, you, for, accomplishing, that, ., That, said, ,, there, are, a, few, things, that, need, to, be, taken, into, account, :, Balance, :, The, game, is, EXTREMELY, unbalanced, ,, the, auto, lock, on, missiles, are, very, hard, to, dodge, and, are, expensive(more, on, this, later, ), and, now, the, timer, has, been, dropped, from, taking, 2.5, seconds, to, lock, on, ,, to, 2, seconds, ., Not, only, ...]</td>\n",
       "      <td>[early, access, game, game, year, prop, said, need, taken, account, balance, game, extremely, unbalanced, auto, lock, hard, dodge, later, timer, taking, lock, devastating, main, game, plasma, plasma, taken, reduced, fire, rate, plasma, increase, power, consumption, huge, divide, premium, money, easily, basic, afford, laser, high, tier, end, game, money, consider, end, game, close, gotten, expensive, late, list, laser, disintegrator, plasma, devastator, disc, shield, blink, module, cannon, lock, missile, launcher, list, bad, payoff, premium, game, understandably, game, win, day, bonus, premium, play, approximately, acquire, lock, missile, launcher, let, emphasis, lock, missile, launcher, order, use, team, going, want, pack, making, need, play, skyrocket, ...]</td>\n",
       "    </tr>\n",
       "    <tr>\n",
       "      <th>1255</th>\n",
       "      <td>1256</td>\n",
       "      <td>Fractured Space</td>\n",
       "      <td>[Action, Indie, Early Access]</td>\n",
       "      <td>2016.0</td>\n",
       "      <td>Hello everybody,First of all sorry for my bad englishif you like moba's like dota and Lol , Hon etc.    you will like Fractured Space ,game have a very good graphic engine works like charm (no problem detected till now , played almost 3 weeks (everyday) )  Fractured Space have alot off  different ships for roles like support ship , sniper , tank , dmg dealer etc. and lastnote from me ; Developers working like a crazy they are constantly updating the game , fixing bugs , adding new ships, new modes etc.  1 more lastnote :)                 this game is NOT PAY TO WIN ,  i will recommend this game for everybody ,Have Fun and Good Luck..</td>\n",
       "      <td>1</td>\n",
       "      <td>[Hello, everybody, ,, First, of, all, sorry, for, my, bad, englishif, you, like, moba, 's, like, dota, and, Lol, ,, Hon, etc, .,    , you, will, like, Fractured, Space, ,, game, have, a, very, good, graphic, engine, works, like, charm, (, no, problem, detected, till, now, ,, played, almost, 3, weeks, (, everyday, ), ),  , Fractured, Space, have, alot, off,  , different, ships, for, roles, like, support, ship, ,, sniper, ,, tank, ,, dmg, dealer, etc, ., and, lastnote, from, me, ;, Developers, working, like, a, crazy, they, are, constantly, updating, the, game, ,, fixing, bugs, ,, adding, new, ...]</td>\n",
       "      <td>[hello, everybody, sorry, bad, like, like, like, space, game, good, graphic, engine, work, like, charm, problem, till, everyday, space, different, like, support, ship, sniper, tank, dealer, working, like, crazy, constantly, game, fixing, new, new, game, pay, win, recommend, game, everybody, fun, good, luck]</td>\n",
       "    </tr>\n",
       "    <tr>\n",
       "      <th>916</th>\n",
       "      <td>917</td>\n",
       "      <td>Fractured Space</td>\n",
       "      <td>[Action, Indie, Early Access]</td>\n",
       "      <td>2018.0</td>\n",
       "      <td>Super fun game it's a lot like league of legends. The graphics are pretty intense so you should have a good card to run this without lag. The servers are amazing and this is probably my favorite free game on steam. :D</td>\n",
       "      <td>1</td>\n",
       "      <td>[Super, fun, game, it, 's, a, lot, like, league, of, legends, ., The, graphics, are, pretty, intense, so, you, should, have, a, good, card, to, run, this, without, lag, ., The, servers, are, amazing, and, this, is, probably, my, favorite, free, game, on, steam, ., :D]</td>\n",
       "      <td>[super, fun, game, lot, like, league, graphic, pretty, intense, good, card, run, lag, amazing, probably, favorite, free, game, steam]</td>\n",
       "    </tr>\n",
       "    <tr>\n",
       "      <th>12291</th>\n",
       "      <td>17788</td>\n",
       "      <td>Bless Online</td>\n",
       "      <td>[Action, Free to Play, Massively Multiplayer, RPG]</td>\n",
       "      <td>2018.0</td>\n",
       "      <td>Early Access ReviewDespite the long queues to get in and bad optimization. The class i was playing, Berzerker is really satisfying and the game so far is a lot of fun.As long as you dont mind the roughness of BETA i'd reccomend to try the game.</td>\n",
       "      <td>1</td>\n",
       "      <td>[Early, Access, ReviewDespite, the, long, queues, to, get, in, and, bad, optimization, ., The, class, i, was, playing, ,, Berzerker, is, really, satisfying, and, the, game, so, far, is, a, lot, of, fun, ., As, long, as, you, do, nt, mind, the, roughness, of, BETA, i, 'd, reccomend, to, try, the, game, .]</td>\n",
       "      <td>[early, access, long, bad, optimization, class, satisfying, game, far, lot, fun, long, mind, roughness, beta, try, game]</td>\n",
       "    </tr>\n",
       "    <tr>\n",
       "      <th>7801</th>\n",
       "      <td>10811</td>\n",
       "      <td>Trove</td>\n",
       "      <td>[Action, Adventure, Casual, Free to Play, Massively Multiplayer, RPG]</td>\n",
       "      <td>2016.0</td>\n",
       "      <td>LET ME EXPLAIN! I adore trove i've been playing it before it was even on steam. Personaly I love the game... but... The game can sometimes be a little TOO grindy and once level max is hit the way you level up from then on can be a tad tedious sometimes. If you love endless grinding go ahead! For those that don't maybe this game is not the one for you.</td>\n",
       "      <td>0</td>\n",
       "      <td>[LET, ME, EXPLAIN, !, I, adore, trove, i, 've, been, playing, it, before, it, was, even, on, steam, ., Personaly, I, love, the, game, ..., but, ..., The, game, can, sometimes, be, a, little, TOO, grindy, and, once, level, max, is, hit, the, way, you, level, up, from, then, on, can, be, a, tad, tedious, sometimes, ., If, you, love, endless, grinding, go, ahead, !, For, those, that, do, n't, maybe, this, game, is, not, the, one, for, you, .]</td>\n",
       "      <td>[let, explain, adore, trove, steam, love, game, game, little, level, hit, way, level, tad, tedious, love, endless, grinding, ahead, maybe, game]</td>\n",
       "    </tr>\n",
       "    <tr>\n",
       "      <th>2166</th>\n",
       "      <td>2630</td>\n",
       "      <td>Path of Exile</td>\n",
       "      <td>[Action, Adventure, Free to Play, Indie, Massively Multiplayer, RPG]</td>\n",
       "      <td>2018.0</td>\n",
       "      <td>Feels clunky, looks clunky. Has huge depth for hardcore min-max players but offers nothing for me that I cant get out of the other games in the genre. Cant argue on the price so go test it out yourself and see if its your cup of tea.</td>\n",
       "      <td>0</td>\n",
       "      <td>[Feels, clunky, ,, looks, clunky, ., Has, huge, depth, for, hardcore, min, -, max, players, but, offers, nothing, for, me, that, I, ca, nt, get, out, of, the, other, games, in, the, genre, ., Ca, nt, argue, on, the, price, so, go, test, it, out, yourself, and, see, if, its, your, cup, of, tea, .]</td>\n",
       "      <td>[huge, depth, min, genre, argue, price, test, cup, tea]</td>\n",
       "    </tr>\n",
       "    <tr>\n",
       "      <th>9492</th>\n",
       "      <td>13076</td>\n",
       "      <td>Realm of the Mad God</td>\n",
       "      <td>[Action, Free to Play, Indie, Massively Multiplayer, RPG]</td>\n",
       "      <td>2017.0</td>\n",
       "      <td>i liked everything:):):):):):):):):):):):):):):):):):):):):):):):):):):):):):):):):):):):):):):):):):):):):):):):):):):):):):):):):):):):):):):):):):):):):):):):):):):):):):):):):):):):):):):):):):):):):):):):):):):):):):):):):):):):):):):):):):):):):):):):):):):):):):):):):):):):):):):):):):):):):):):):):):):):):):):):):):):):):):):):):):):):):):):):):):):):):):):):):):):):):):):):):):):):):):):):):):):):):):):):):):):):):):):):):):):):):):):):):):):):):):):):):):):):):):):):):):):):):):):):):):):):):):):):):):):):):):):):):):):):):):):):):):):):):):):):):):):):):):):):):):):):):):):):):):):):):):):):):):):):):):):):):):):):):):):):):):):):):):):):):):):):):):):):):):):):):):):):):):):):):):):):):):):):):):):):):):):):):):):):):):):):):):):):):):):):):):):):):):):):):):):):):):):):):):):):):):):):):):):):):):):):):):):):):):):):):):):):):):):):):):):):):):):):):):):):):):):):):):):):):):):):):):):):):):):):):):):):):):):):):):):):):):):):):):):):):):):):):):):):):):):):):):):):):):):):):):):):):):):):):):):):):):):):):):):):):):):):):):):):):):):):):):):):):):):):):):):):):):):):):):):):):):):):):):):):):):):):):):):):):):):):):):):):):):):):):):):):):):):):):):):):):):):):):):):):):):):):):):):):):):):):):):):):):):):):):):):):):):):):):):):):):):):):):):):):):):):):):):):):):):):):):):):):):):):):):):):):):):):):):):):):):):):):):):):):):):):):):):):):):):):):):):):):):):):):):):):):):):):):):):):):):):):):):):):):):):):):):):):):):):):):):):):):):):):):):):):):):):):):):):):):):):):):):):):):):):):):):):):):):):):):):):):):):):):):):):):):):):):):):):):):):):):):):):):):):):):):):):):):):):):):):):):):):):):):):):):):):):):):):):):):):):):):):):):):):):):):):):):):):):):):):):):):):):):):):):):):):):):):):):):):):):):):):):):):):):):):):):):):):):):):):):):):):):):):):):):):):):):):):):):):):):):):):):):):):):):):):):):):):):):):):):):):):):):):):):):):):):):):):):):):):):):):):):):):):):):):):):):):):):):):):):):):):):):):):):):):):):):):):):):):):):):):):):):):):):):):):):):):):):):):):):):):):):):):):):):):):):):):):):):):):):):):):):):):):):):):):):):):):):):):):):):):):):):):):):):):):):):):):):):):):):):):):):):):):):):):):):):):):):):):):):):):):):):):):):):):):):):):):):):):):):):):):):):):):):):):):):):):):):):):):):):):):):):):):):):):):):):):):):):):):):):):):):):):):):):):):):):):):):):):):):):):):):):):):):):):):):):):):):):):):):):):):):):):):):):):):):):):):):):):):):):):):):):):):):):):):):):):):):):):):):):):):):):):):):):):):):):):):):):):):):):):):):):):):):):):):):):):):):):):):):):):):):):):):):):):):):):):):):):):):):):):):):):):):):):):):):):):):):):):):):):):):):):):):):):):):):):):):):):):):):):):):):):):):):):):):):):):):):):):):):):):):):):):):):):):):):):):):):):):):):):):):):):):):):):):):):):):):):):):):):):):):):):):):):):):):):):):):):):):):):):):):):):):):):):):):):):):):):):):):):):):):)</td>\n",
       "      <td>1</td>\n",
       "      <td>[i, liked, everything, :), :, ), :, ), :, ), :, ), :, ), :, ), :, ), :, ), :, ), :, ), :, ), :, ), :, ), :, ), :, ), :, ), :, ), :, ), :, ), :, ), :, ), :, ), :, ), :, ), :, ), :, ), :, ), :, ), :, ), :, ), :, ), :, ), :, ), :, ), :, ), :, ), :, ), :, ), :, ), :, ), :, ), :, ), :, ), :, ), :, ), :, ), :, ), :, ), ...]</td>\n",
       "      <td>[]</td>\n",
       "    </tr>\n",
       "    <tr>\n",
       "      <th>13504</th>\n",
       "      <td>19448</td>\n",
       "      <td>Creativerse</td>\n",
       "      <td>[Action, Adventure, Casual, Free to Play, Indie, Massively Multiplayer, RPG]</td>\n",
       "      <td>2017.0</td>\n",
       "      <td>I never write reviews and I never pay more than a couple bucks for a game. But this one deserves it. Addicting like minecraft- it is minecraft, but it runs much better on my old computer and has a lot of features I wanted in minecraft. Only down side is that it's not open source like minecraft so if you want mods and other items you have to purchase dlc. But still fun regardless. I hope the developers continue to refine the game features and add more.One thing I would really want is an offline mode.</td>\n",
       "      <td>1</td>\n",
       "      <td>[I, never, write, reviews, and, I, never, pay, more, than, a, couple, bucks, for, a, game, ., But, this, one, deserves, it, ., Addicting, like, minecraft-, it, is, minecraft, ,, but, it, runs, much, better, on, my, old, computer, and, has, a, lot, of, features, I, wanted, in, minecraft, ., Only, down, side, is, that, it, 's, not, open, source, like, minecraft, so, if, you, want, mods, and, other, items, you, have, to, purchase, dlc, ., But, still, fun, regardless, ., I, hope, the, developers, continue, to, refine, the, game, features, and, add, more, ., One, thing, I, would, really, ...]</td>\n",
       "      <td>[write, pay, couple, game, like, better, old, computer, lot, open, source, like, want, purchase, fun, regardless, hope, continue, refine, game, add, thing, want, mode]</td>\n",
       "    </tr>\n",
       "    <tr>\n",
       "      <th>9390</th>\n",
       "      <td>12974</td>\n",
       "      <td>Realm of the Mad God</td>\n",
       "      <td>[Action, Free to Play, Indie, Massively Multiplayer, RPG]</td>\n",
       "      <td>2015.0</td>\n",
       "      <td>Great game. The only thing is how real money is involed with most of the game. It kinda ruins the purpose of earning new weapons and armor when you can buy stuff Twice as good as everyone else.</td>\n",
       "      <td>1</td>\n",
       "      <td>[Great, game, ., The, only, thing, is, how, real, money, is, involed, with, most, of, the, game, ., It, kinda, ruins, the, purpose, of, earning, new, weapons, and, armor, when, you, can, buy, stuff, Twice, as, good, as, everyone, else, .]</td>\n",
       "      <td>[great, game, thing, real, money, game, purpose, earning, new, armor, buy, stuff, twice, good]</td>\n",
       "    </tr>\n",
       "    <tr>\n",
       "      <th>1685</th>\n",
       "      <td>2149</td>\n",
       "      <td>Dota 2</td>\n",
       "      <td>[Action, Free to Play, Strategy]</td>\n",
       "      <td>2016.0</td>\n",
       "      <td>since the 7.00 update this game has become a tragedy. Adding heroes that kill you in 4 hits and changing the original map is not how you improve things icefrog. I was a huge fan of this game, played it everyday, but now, i regret knowing of it's existence. pls change everything back, this is BS</td>\n",
       "      <td>0</td>\n",
       "      <td>[since, the, 7.00, update, this, game, has, become, a, tragedy, ., Adding, heroes, that, kill, you, in, 4, hits, and, changing, the, original, map, is, not, how, you, improve, things, icefrog, ., I, was, a, huge, fan, of, this, game, ,, played, it, everyday, ,, but, now, ,, i, regret, knowing, of, it, 's, existence, ., pls, change, everything, back, ,, this, is, BS]</td>\n",
       "      <td>[update, game, tragedy, kill, original, map, improve, huge, fan, game, everyday, regret, knowing, existence, change]</td>\n",
       "    </tr>\n",
       "    <tr>\n",
       "      <th>15566</th>\n",
       "      <td>23001</td>\n",
       "      <td>AdventureQuest 3D</td>\n",
       "      <td>[Role-playing game, Free-to-play, Action game, Indie game, Casual game, Massively Multiplayer, Adventure]</td>\n",
       "      <td>2017.0</td>\n",
       "      <td>Early Access ReviewPros:It's AQ FREAKING 3D!It's not too laggyNot p2w, yet...Cons:Not a lot of classes (compared to AQW)Long level up timeWeird camera angle (my preference)Overall:8/10 would play more when they add class and more ways to get EXP fast)</td>\n",
       "      <td>1</td>\n",
       "      <td>[Early, Access, ReviewPros, :, It, 's, AQ, FREAKING, 3D!It, 's, not, too, laggyNot, p2w, ,, yet, ..., Cons, :, Not, a, lot, of, classes, (, compared, to, AQW)Long, level, up, timeWeird, camera, angle, (, my, preference)Overall:8/10, would, play, more, when, they, add, class, and, more, ways, to, get, EXP, fast, )]</td>\n",
       "      <td>[early, access, lot, class, level, camera, angle, play, add, class, way, fast]</td>\n",
       "    </tr>\n",
       "    <tr>\n",
       "      <th>17292</th>\n",
       "      <td>25338</td>\n",
       "      <td>School of Dragons</td>\n",
       "      <td>[Adventure, Free to Play, Massively Multiplayer, RPG]</td>\n",
       "      <td>2015.0</td>\n",
       "      <td>See i think i would like this game, if i could â™¥â™¥â™¥â™¥ing play it.It spent an hr struggling to make a profile for me before i exhaustedly exited out. I attempted to start it up again today and it said \"download fail\"â™¥â™¥â™¥â™¥ this game. The character customization wasâ™¥â™¥â™¥â™¥â™¥â™¥anyways.</td>\n",
       "      <td>0</td>\n",
       "      <td>[See, i, think, i, would, like, this, game, ,, if, i, could, â, ™, ¥â, ™, ¥â, ™, ¥â, ™, ¥ing, play, it, ., It, spent, an, hr, struggling, to, make, a, profile, for, me, before, i, exhaustedly, exited, out, ., I, attempted, to, start, it, up, again, today, and, it, said, \", download, fail\"â, ™, ¥â, ™, ¥â, ™, ¥â, ™, ¥, this, game, ., The, character, customization, wasâ, ™, ¥â, ™, ¥â, ™, ¥â, ™, ¥â, ™, ¥â, ™, ¥anyways, .]</td>\n",
       "      <td>[think, like, game, play, spent, struggling, profile, exhaustedly, start, today, said, game, character]</td>\n",
       "    </tr>\n",
       "    <tr>\n",
       "      <th>15812</th>\n",
       "      <td>23247</td>\n",
       "      <td>AdventureQuest 3D</td>\n",
       "      <td>[Role-playing game, Free-to-play, Action game, Indie game, Casual game, Massively Multiplayer, Adventure]</td>\n",
       "      <td>2016.0</td>\n",
       "      <td>Early Access Reviewok let's try this again shall weso after seeing the graphics slider now it does more look like the AQ kind of style of graphics you knowit's real time combat similar to like AQW and other you stand there auto attacking and using your skills kind of gamesit does look like it can take you a while to craft gear though there really should almost be like a indifferent option if reviews or something because i would say it's about half reallybut because i have to give it a up or down i will give it a up just because it's free 2 play, it looks more styalized when you turn up the graphics(on the default it looks kinda like n64 graphics)and lastly anyone who wants to play a adventurequest kind of game</td>\n",
       "      <td>1</td>\n",
       "      <td>[Early, Access, Reviewok, let, 's, try, this, again, shall, weso, after, seeing, the, graphics, slider, now, it, does, more, look, like, the, AQ, kind, of, style, of, graphics, you, knowit, 's, real, time, combat, similar, to, like, AQW, and, other, you, stand, there, auto, attacking, and, using, your, skills, kind, of, gamesit, does, look, like, it, can, take, you, a, while, to, craft, gear, though, there, really, should, almost, be, like, a, indifferent, option, if, reviews, or, something, because, i, would, say, it, 's, about, half, reallybut, because, i, have, to, give, it, a, up, or, down, i, will, give, ...]</td>\n",
       "      <td>[early, access, let, try, shall, seeing, graphic, slider, look, like, kind, style, graphic, real, time, combat, similar, like, stand, auto, kind, look, like, craft, gear, like, indifferent, option, half, free, play, turn, default, like, lastly, play, kind, game]</td>\n",
       "    </tr>\n",
       "    <tr>\n",
       "      <th>11904</th>\n",
       "      <td>17401</td>\n",
       "      <td>Bless Online</td>\n",
       "      <td>[Action, Free to Play, Massively Multiplayer, RPG]</td>\n",
       "      <td>2018.0</td>\n",
       "      <td>Early Access ReviewFirst off, i have to admit, i was hyped for the game after reading myself into it and \"accepting\" the \"old\" model, tab target and instanced MMOs. But in the current state, rather wait for a moment. TL;DR included down below.The hype dropped along with the way the CMs handled the communication pre-launch, censoring is still ongoing.I will keep it as objective as i can be, knowing the past of the game. Obviously i ignore the typical launch issues. Those happen with every game, recently Dauntless.To the performance;But now to the game, it failed in multiple regions already, it is using Unreal Engine 3 (Released around 2006-2007?) and DirectX9 (Released along side of Windows XP) So you can imagine how the performance looks like.On an i7 8700k it barely utilizes 15% of my cores, most of it is on a single core eitherway. So Clockspeed &gt; Core count for this MMO. Towards the graphic card performance; The frametime jumps across 5ms-170ms on a GTX 970 @ 1440p, even though V-Sync is enabled. The FPS drops down towards the low 20s at times, even on lowest settings, while doing nothing but starring at a wall. Some people i talked to have worse issues, some have less. To the game itself:Unlike popular belief; this game is not Pay-To-Win yet. Lets hope the developers keep their word, unlike the developers of BDO that put pay to win elements into the game after a while. It plays like the typical 2005 F2P MMO you would expect. Rather stiff, tab target, themepark. The graphical side is obviously not on the highest note, as you can take out of the engine and directx version used. It offers an relatively open world with no in-between loading times, even though I would probably recommend using an SSD to prevent atleast some texture pop-ins or \"loading barriers\" once the pre-loaded area has been exited. The reworked combat is a hit or miss, you get a set of \"pre-made\" combos you can switch around with stances. Quite cool and switching up the rather dull tab target model. But the biggest issue i have encountered is the translation. Beside the performance and the UI, those are the biggest problems. The translation is horrible. And i mean it. The tutorial on some classes even tells people to put skills that dont exist into action bars. \"You are 4Level\" is also one of the funny translations. It is plain lazy.The UI:Playing on a 1440p screen, i am used to have small UI's, and i prefer those over big and clunky UI's anyway. But this game scales the UI to the size of my resolution. The Inventory alone is almost 1000 pixels in height. The UI is NOT customizeable. TL;DRI wouldnt recommend this game to anyone in its current state. There needs to be a lot of polishing and the developer needs to keep their promises of keeping this game free of \"Pay to win\". The performance is a mess. Mostly utilizing a single core on an i7 8700k.The UI is big, clunky and lacks userfeedback, it is not customizeable and may cause lags upon opening certain windows.The gameplay itself is pretty much the typical 2005 F2P MMO</td>\n",
       "      <td>0</td>\n",
       "      <td>[Early, Access, ReviewFirst, off, ,, i, have, to, admit, ,, i, was, hyped, for, the, game, after, reading, myself, into, it, and, \", accepting, \", the, \", old, \", model, ,, tab, target, and, instanced, MMOs, ., But, in, the, current, state, ,, rather, wait, for, a, moment, ., TL;DR, included, down, below, ., The, hype, dropped, along, with, the, way, the, CMs, handled, the, communication, pre, -, launch, ,, censoring, is, still, ongoing, ., I, will, keep, it, as, objective, as, i, can, be, ,, knowing, the, past, of, the, game, ., Obviously, i, ignore, the, typical, launch, issues, ...]</td>\n",
       "      <td>[early, access, admit, game, reading, old, model, tab, target, current, state, wait, moment, included, way, handled, communication, launch, ongoing, objective, knowing, past, game, obviously, ignore, typical, launch, happen, game, recently, dauntless, game, multiple, unreal, engine, imagine, performance, like, barely, single, core, core, count, graphic, card, performance, v, sync, low, time, starring, wall, people, worse, game, unlike, popular, belief, game, pay, win, hope, word, unlike, pay, win, game, like, typical, expect, stiff, tab, target, graphical, obviously, highest, note, engine, version, relatively, open, world, loading, time, probably, recommend, prevent, texture, pop, loading, loaded, area, reworked, combat, hit, miss, set, switch, cool, switching, ...]</td>\n",
       "    </tr>\n",
       "    <tr>\n",
       "      <th>245</th>\n",
       "      <td>246</td>\n",
       "      <td>Spooky's Jump Scare Mansion</td>\n",
       "      <td>[Action, Adventure, Free to Play, Indie]</td>\n",
       "      <td>2015.0</td>\n",
       "      <td>Early Access ReviewOMG! I love this game. The graphics are cute when they want to be, and scary when they need to be. I enjoy finding all the past horror game referances (resident evil, dino crisis, Silent hill, the atmosphere is excellent thanks to the music. id say the looping is some times a problem, but when the music stops it always makes me cringe with fear thinking something is goind to happen. My only problem is the sounds that play when the signs pop out, the are quite long and will continue into the next room kidna pulling me out.</td>\n",
       "      <td>1</td>\n",
       "      <td>[Early, Access, ReviewOMG, !, I, love, this, game, ., The, graphics, are, cute, when, they, want, to, be, ,, and, scary, when, they, need, to, be, ., I, enjoy, finding, all, the, past, horror, game, referances, (, resident, evil, ,, dino, crisis, ,, Silent, hill, ,, the, atmosphere, is, excellent, thanks, to, the, music, ., i, d, say, the, looping, is, some, times, a, problem, ,, but, when, the, music, stops, it, always, makes, me, cringe, with, fear, thinking, something, is, goind, to, happen, ., My, only, problem, is, the, sounds, that, play, when, the, signs, pop, out, ,, the, ...]</td>\n",
       "      <td>[early, access, love, game, graphic, cute, want, scary, need, enjoy, finding, past, horror, game, resident, evil, crisis, silent, hill, atmosphere, excellent, thanks, music, d, looping, time, problem, music, cringe, fear, thinking, happen, problem, play, pop, long, continue, room]</td>\n",
       "    </tr>\n",
       "  </tbody>\n",
       "</table>\n",
       "</div>"
      ],
      "text/plain": [
       "       review_id                           title  \\\n",
       "165          166     Spooky's Jump Scare Mansion   \n",
       "16340      24200  World of Guns: Gun Disassembly   \n",
       "6284        8659               Heroes & Generals   \n",
       "13227      19034                 Fallout Shelter   \n",
       "8441       11451                     Neverwinter   \n",
       "15078      22189                       Robocraft   \n",
       "1255        1256                 Fractured Space   \n",
       "916          917                 Fractured Space   \n",
       "12291      17788                    Bless Online   \n",
       "7801       10811                           Trove   \n",
       "2166        2630                   Path of Exile   \n",
       "9492       13076            Realm of the Mad God   \n",
       "13504      19448                     Creativerse   \n",
       "9390       12974            Realm of the Mad God   \n",
       "1685        2149                          Dota 2   \n",
       "15566      23001               AdventureQuest 3D   \n",
       "17292      25338               School of Dragons   \n",
       "15812      23247               AdventureQuest 3D   \n",
       "11904      17401                    Bless Online   \n",
       "245          246     Spooky's Jump Scare Mansion   \n",
       "\n",
       "                                                                                                            tags  \\\n",
       "165                                                                     [Action, Adventure, Free to Play, Indie]   \n",
       "16340                                                                          [Free to Play, Indie, Simulation]   \n",
       "6284                                              [Action, Free to Play, Indie, Massively Multiplayer, Strategy]   \n",
       "13227                                                                           [ Free to Play, RPG, Simulation]   \n",
       "8441                                               [Action, Adventure, Free to Play, Massively Multiplayer, RPG]   \n",
       "15078                                      [Action, Free to Play, Indie, Massively Multiplayer, RPG, Simulation]   \n",
       "1255                                                                               [Action, Indie, Early Access]   \n",
       "916                                                                                [Action, Indie, Early Access]   \n",
       "12291                                                         [Action, Free to Play, Massively Multiplayer, RPG]   \n",
       "7801                                       [Action, Adventure, Casual, Free to Play, Massively Multiplayer, RPG]   \n",
       "2166                                        [Action, Adventure, Free to Play, Indie, Massively Multiplayer, RPG]   \n",
       "9492                                                   [Action, Free to Play, Indie, Massively Multiplayer, RPG]   \n",
       "13504                               [Action, Adventure, Casual, Free to Play, Indie, Massively Multiplayer, RPG]   \n",
       "9390                                                   [Action, Free to Play, Indie, Massively Multiplayer, RPG]   \n",
       "1685                                                                            [Action, Free to Play, Strategy]   \n",
       "15566  [Role-playing game, Free-to-play, Action game, Indie game, Casual game, Massively Multiplayer, Adventure]   \n",
       "17292                                                      [Adventure, Free to Play, Massively Multiplayer, RPG]   \n",
       "15812  [Role-playing game, Free-to-play, Action game, Indie game, Casual game, Massively Multiplayer, Adventure]   \n",
       "11904                                                         [Action, Free to Play, Massively Multiplayer, RPG]   \n",
       "245                                                                     [Action, Adventure, Free to Play, Indie]   \n",
       "\n",
       "         year  \\\n",
       "165    2015.0   \n",
       "16340  2016.0   \n",
       "6284   2014.0   \n",
       "13227  2017.0   \n",
       "8441   2016.0   \n",
       "15078  2016.0   \n",
       "1255   2016.0   \n",
       "916    2018.0   \n",
       "12291  2018.0   \n",
       "7801   2016.0   \n",
       "2166   2018.0   \n",
       "9492   2017.0   \n",
       "13504  2017.0   \n",
       "9390   2015.0   \n",
       "1685   2016.0   \n",
       "15566  2017.0   \n",
       "17292  2015.0   \n",
       "15812  2016.0   \n",
       "11904  2018.0   \n",
       "245    2015.0   \n",
       "\n",
       "                                                                                                                                                                                                                                                                                                                                                                                                                                                                                                                                                                                                                                                                                                                                                                                                                                                                                                                                                                                                                                                                                                                                                                                                                                                                                                                                                                                                                                                                                                                                                                                                                                                                                                                                                                                                                                                                                                                                                                                                                                                                                                                                                                                                                                                                                                                                                                                                                                                                                                                                                                                                                                                                                                                                                                                                                                                                                                                                                                                                                                                                                                                                                                                                                                                                                                                                                                                                                                                                                                                                                                                                                                                               user_review  \\\n",
       "165                                                                                                                                                                                                                                                                                                                                                                                                                                                                                                                                                                                                                                                                                                                                                                                                                                                                                                                                                                                                                                                                                                                                                                                                                                                                                                                                                                                                                                                                                                                                                                                                                                                                                                                                                                                                                                                                                                                                                                                                                                                                                                                                                                                                                                                                                                                                                                                                                                                                                                                                                                                                                                                                                                                                                                                                                                                                                                                                                                                                                                                                                                                                                                                                                                                                                                                                                                                                                                                                  Creepy as hell but fun, keeps you on your feet, nice small rooms yet some are just brutal. Also there is bug issue of accesing steam while in gameplay, think you could fix that? overall, great game   \n",
       "16340                                                                                                                                                                                                                                                                                                                                                                                                                                                                                                                                                                                                                                                                                                                                                                                                                                                                                                                                                                                                                                                                                                                                                                                                                                                                                                                                                                                                                                                                                                                                                                                                                                                                                                                                                                                                                                                                                                                                                                                                                                                                                                                                                                                                                                                                                                                                                                                                                                                                                                                                                                                                                                                                                                                                                                                                                                                                                                                                                                                                                                                                                                                                  Its an alright game in the start, but if your expecting to unlock alot of guns to work with youll basicly just stop playing after a couple of hours. Its either a grind your♥♥♥♥♥off on the same gun for ♥♥♥♥♥♥ EXP to finally unlock the next one. Or youll have to buy exp / packs to unlock em. I just cant be bothered with this horrible grinding and im not spending money on this since the mechanics is pretty whack. The shooting ranges are horrible along side with the controls so i just ended up deleting it instead.   \n",
       "6284                                                                                                                                                                                                                                                                                                                                                                                                                                                                                                                                                                                                                                                                                                                                                                                                                                                                                                                                                                                                                                                                                                                                                                                                                                                                                                                                                                                                                                                                                                                                                                                                                                                                                                                                                                                                                                                                                                                                                                                                                                                                                                                                                                                                                                                                                                                                                                                                                                                                                                                                                                                                                                                                                                                                                                                                                                                                                                                                                                                                                                                                                                                                                                                                               Early Access ReviewSuper fun game, unlike other most recent released FPS games, this takes us back to an older time in the War, a more classic war experience. However, despite the brilliant idea, the fact that you have to spent RL money to purchase many upgrades and character boost, makes it unenjoyable. This should have a flat out price tag and allow everyone to enjoy ingame item upgrades with the ingame currancy, instead of RL money.   \n",
       "13227                                                                                                                                                                                                                                                                                                                                                                                                                                                                                                                                                                                                                                                                                                                                                                                                                                                                                                                                                                                                                                                                                                                                                                                                                                                                                                                                                                                                                                                                                                                                                                                                                                                                                                                                                                                                                                                                                                                                                                                                                                                                                                                                                                                                                                                                                                                                                                                                                                                                                                                                                                                                                                                                                                                                                                                                                                                                                                                                                                                                                                                                                                                                                                                                                                                                                                                                                                                                                                                                 A great game to play in the background while you're doing an assignment or playing another game....OR WAITING FOR PREMEIRE PRO TO RENDER!!!!It's a good time waster just don't expect much to happen   \n",
       "8441                                                                                                                                                                                                                                                                                                                                                                                                                                                                                                                                                                                                                                                                                                                                                                                                                                                                                                                                                                                                                                                                                                                                                                                                                                                                                                                                                                                                                                                                                                                                                                                                                                                                                                                                                                                                                                                                                                                                                                                                                                                                                                                                                                                                                                                                                                                                                                                                                                                                                                                                                                                                                                                                          If you're using Windows 10 do not waste your time with this game. I have a 4 gig Radeon card on Windows 10 yet because these jackasses don't know what the ♥♥♥♥ they're doing on 'updates' every time I play ANYTHING from perfect world it tells me my card's drivers aren't current, even though I check on a weekly basis. Now that I'm using Windows 10 'testing' it won't even load the ♥♥♥♥ing game, the client crashes, and it would load fine yet keep complaining about the card on Windows 10 unactivated. Get your♥♥♥♥♥♥together Perfect World, and come into the 21st Century. I love the games, but if you can't even figure out that I've got current drivers because you stopped updating YOUR♥♥♥♥♥♥with Windows 8, stop making games. This is coming from someone who's played EVERYTHING they make, both before they owned it, and after, and I've always had this problem with OLD hardware, but only perfect world goes and does it on hardware that's maybe a month old.   \n",
       "15078  Early Access ReviewI have played tons of games on robocraft.  I have played this game since it was awarded indie game of the year, and might I say props to you for accomplishing that. That said, there are a few things that need to be taken into account:Balance: The game is EXTREMELY unbalanced, the auto lock on missiles are very hard to dodge and are expensive(more on this later) and now the timer has been dropped from taking 2.5 seconds to lock on, to 2 seconds. Not only is this devastating but the main weapons of the game: plasma cannons, and plasma lasers have taken some nerfs. Lasers have reduced fire rate and plasma cannons increase power consumption. This creates a huge divide from the premium users that paid money to get the missiles easily and the basic players who can only afford one laser of a high tier.End game rewards (and money issues in general):I consider myself to not be at the end game, but close to it. My weapons have gotten quite expensive as of late. To list off a few: Top laser disintegrator: 959,549  Plasma devastator: 1,107,169 Disc Shield: 10,876,430     Blink Module: 10,507,740 Aeroflak Cannon: 11,071,688 Lock-on Missile Launcher: 10,149,047Now, this list wouldn’t be too bad, if the payoff was about 60,000~, 80,000~ with premium users in the game. Now, understandably it is frustrating that the most I can get in a game is 110,000~ with a first win of the day bonus and premium users. So, all in all you are required to play approximately 126.86~ games to acquire 1 lock-on missile launcher, let me emphasis this ONE LOCK-ON MISSILE LAUNCHER, and in order to be any use to your team, you’re going to want to pack at least 2 of them, making the amount of games you need to play skyrocket to 252~. This is unbelievable and give NO incentive whatsoever to grind out the game for the RP. I can hear it now, how can I play this game if it takes so long to get something. Easy enough, you just have to pay real life money to obtain all of these weapons, problem solved. For translation it costs you 2,300GC for 1 missile launcher, that would approximate putting $2.50(and a little more to get 50 more GC) and to get two of them you need $5.00 for it. Doesn’t seem like a lot, but this is a “FREE TO PLAY GAME” Why then would you make the game free and then choose to make the game SUCH A HUGE GRIND that you cannot even begin to reach end game content without going past a pay wall or dedicating hours upon hours to a game.Additional premium content:On a side note, I have noticed that glass now costs GC to purchase, no RP method. The three principles upon which this game is built upon is “build, drive, fight” can you drive? Yes. Can you fight? Yes, now building on the other hand. Building has been limited in the terms of glass. Glass used to be a fun cool block that you can use in your vehicle to have, which is now gone, banished behind pay wall.Things they did well at: Fun and amazing gameplay Large variety of game modes to choose from Roboshop to help you get a ship if you suck at creativity Have more than 3 bays for free Testing area Gaining RP for testing your ship against bots (although it is minuscule)I will update my review as major parts of the game are tweaked, but at the moment if given the chance to rate the game at its current state, I would give it a 4/10. This game is below average, it can perform meh compared to most free-to-play Minecraft cube copy games. However, the game still needs LARGE improvements before it can be considered a game to play.     \n",
       "1255                                                                                                                                                                                                                                                                                                                                                                                                                                                                                                                                                                                                                                                                                                                                                                                                                                                                                                                                                                                                                                                                                                                                                                                                                                                                                                                                                                                                                                                                                                                                                                                                                                                                                                                                                                                                                                                                                                                                                                                                                                                                                                                                                                                                                                                                                                                                                                                                                                                                                                                                                                                                                                                                                                                                                                                                                                                                                                                                                                                                     Hello everybody,First of all sorry for my bad englishif you like moba's like dota and Lol , Hon etc.    you will like Fractured Space ,game have a very good graphic engine works like charm (no problem detected till now , played almost 3 weeks (everyday) )  Fractured Space have alot off  different ships for roles like support ship , sniper , tank , dmg dealer etc. and lastnote from me ; Developers working like a crazy they are constantly updating the game , fixing bugs , adding new ships, new modes etc.  1 more lastnote :)                 this game is NOT PAY TO WIN ,  i will recommend this game for everybody ,Have Fun and Good Luck..   \n",
       "916                                                                                                                                                                                                                                                                                                                                                                                                                                                                                                                                                                                                                                                                                                                                                                                                                                                                                                                                                                                                                                                                                                                                                                                                                                                                                                                                                                                                                                                                                                                                                                                                                                                                                                                                                                                                                                                                                                                                                                                                                                                                                                                                                                                                                                                                                                                                                                                                                                                                                                                                                                                                                                                                                                                                                                                                                                                                                                                                                                                                                                                                                                                                                                                                                                                                                                                                                                                                                                              Super fun game it's a lot like league of legends. The graphics are pretty intense so you should have a good card to run this without lag. The servers are amazing and this is probably my favorite free game on steam. :D   \n",
       "12291                                                                                                                                                                                                                                                                                                                                                                                                                                                                                                                                                                                                                                                                                                                                                                                                                                                                                                                                                                                                                                                                                                                                                                                                                                                                                                                                                                                                                                                                                                                                                                                                                                                                                                                                                                                                                                                                                                                                                                                                                                                                                                                                                                                                                                                                                                                                                                                                                                                                                                                                                                                                                                                                                                                                                                                                                                                                                                                                                                                                                                                                                                                                                                                                                                                                                                                                                                                                                 Early Access ReviewDespite the long queues to get in and bad optimization. The class i was playing, Berzerker is really satisfying and the game so far is a lot of fun.As long as you dont mind the roughness of BETA i'd reccomend to try the game.   \n",
       "7801                                                                                                                                                                                                                                                                                                                                                                                                                                                                                                                                                                                                                                                                                                                                                                                                                                                                                                                                                                                                                                                                                                                                                                                                                                                                                                                                                                                                                                                                                                                                                                                                                                                                                                                                                                                                                                                                                                                                                                                                                                                                                                                                                                                                                                                                                                                                                                                                                                                                                                                                                                                                                                                                                                                                                                                                                                                                                                                                                                                                                                                                                                                                                                                                                                                                                                     LET ME EXPLAIN! I adore trove i've been playing it before it was even on steam. Personaly I love the game... but... The game can sometimes be a little TOO grindy and once level max is hit the way you level up from then on can be a tad tedious sometimes. If you love endless grinding go ahead! For those that don't maybe this game is not the one for you.   \n",
       "2166                                                                                                                                                                                                                                                                                                                                                                                                                                                                                                                                                                                                                                                                                                                                                                                                                                                                                                                                                                                                                                                                                                                                                                                                                                                                                                                                                                                                                                                                                                                                                                                                                                                                                                                                                                                                                                                                                                                                                                                                                                                                                                                                                                                                                                                                                                                                                                                                                                                                                                                                                                                                                                                                                                                                                                                                                                                                                                                                                                                                                                                                                                                                                                                                                                                                                                                                                                                                                             Feels clunky, looks clunky. Has huge depth for hardcore min-max players but offers nothing for me that I cant get out of the other games in the genre. Cant argue on the price so go test it out yourself and see if its your cup of tea.   \n",
       "9492                                                                                                                                                                                                                                                                                                                                                                                                                                                                                                                                                                                                                                                                          i liked everything:):):):):):):):):):):):):):):):):):):):):):):):):):):):):):):):):):):):):):):):):):):):):):):):):):):):):):):):):):):):):):):):):):):):):):):):):):):):):):):):):):):):):):):):):):):):):):):):):):):):):):):):):):):):):):):):):):):):):):):):):):):):):):):):):):):):):):):):):):):):):):):):):):):):):):):):):):):):):):):):):):):):):):):):):):):):):):):):):):):):):):):):):):):):):):):):):):):):):):):):):):):):):):):):):):):):):):):):):):):):):):):):):):):):):):):):):):):):):):):):):):):):):):):):):):):):):):):):):):):):):):):):):):):):):):):):):):):):):):):):):):):):):):):):):):):):):):):):):):):):):):):):):):):):):):):):):):):):):):):):):):):):):):):):):):):):):):):):):):):):):):):):):):):):):):):):):):):):):):):):):):):):):):):):):):):):):):):):):):):):):):):):):):):):):):):):):):):):):):):):):):):):):):):):):):):):):):):):):):):):):):):):):):):):):):):):):):):):):):):):):):):):):):):):):):):):):):):):):):):):):):):):):):):):):):):):):):):):):):):):):):):):):):):):):):):):):):):):):):):):):):):):):):):):):):):):):):):):):):):):):):):):):):):):):):):):):):):):):):):):):):):):):):):):):):):):):):):):):):):):):):):):):):):):):):):):):):):):):):):):):):):):):):):):):):):):):):):):):):):):):):):):):):):):):):):):):):):):):):):):):):):):):):):):):):):):):):):):):):):):):):):):):):):):):):):):):):):):):):):):):):):):):):):):):):):):):):):):):):):):):):):):):):):):):):):):):):):):):):):):):):):):):):):):):):):):):):):):):):):):):):):):):):):):):):):):):):):):):):):):):):):):):):):):):):):):):):):):):):):):):):):):):):):):):):):):):):):):):):):):):):):):):):):):):):):):):):):):):):):):):):):):):):):):):):):):):):):):):):):):):):):):):):):):):):):):):):):):):):):):):):):):):):):):):):):):):):):):):):):):):):):):):):):):):):):):):):):):):):):):):):):):):):):):):):):):):):):):):):):):):):):):):):):):):):):):):):):):):):):):):):):):):):):):):):):):):):):):):):):):):):):):):):):):):):):):):):):):):):):):):):):):):):):):):):):):):):):):):):):):):):):):):):):):):):):):):):):):):):):):):):):):):):):):):):):):):):):):):):):):):):):):):):):):):):):):):):):):):):):):):):):):):):):):):):):):):):):):):):):):):):):):):):):):):):):):):):):):):):):):):):):):):):):):):):):):):):):):):):):):):):):):):):):):):):):):):):):):):):):):):):):):):):):):):):):):):):):):):):):):):):):):):):):):):):):):):):):):):):):):):):):):):):):):):):):):):):):):):):):):):):):):):):):):):):):):):):):):):):):):):):):):):):):):):):):):):):):):):):):):):):):):):):):):):):):):):):):):):):):):):):):):):):):):):):):):):):):):):):):):):):):):):):):):):):):):):):):):):):):):):):):):):):):):):):):):):):):):):):):):):):):):):):):):):):):):):):):):):):):):):):):):):):):):):):):):):):):):):):):):):):):):):):):):):):):):):):):):):):):):):):):):):):):):):):):):):):):):):):):):):):):):):):):):):):):):):):):):):):):):):):):):):):):):):):):):):):):):):):):):):):):):):):):):):)   \n",
       "13504                                                                                                                                                                                                                                                                                                                                                                                                                                                                                                                                                                                                                                                                                                                                                                                                                                                                                                                                                                                                                                                                                                                                                                                                                                                                                                                                                                                                                                                                                                                                                                                                                                                                                                                                                                                                                                                                                                                                                                                                                                                                                                                                                                                                                                                                                                                                                                                                                                                                                                                                                                                                                                                                                                                                                                                                                                                                                                                                                                                                                                                                                                                                             I never write reviews and I never pay more than a couple bucks for a game. But this one deserves it. Addicting like minecraft- it is minecraft, but it runs much better on my old computer and has a lot of features I wanted in minecraft. Only down side is that it's not open source like minecraft so if you want mods and other items you have to purchase dlc. But still fun regardless. I hope the developers continue to refine the game features and add more.One thing I would really want is an offline mode.   \n",
       "9390                                                                                                                                                                                                                                                                                                                                                                                                                                                                                                                                                                                                                                                                                                                                                                                                                                                                                                                                                                                                                                                                                                                                                                                                                                                                                                                                                                                                                                                                                                                                                                                                                                                                                                                                                                                                                                                                                                                                                                                                                                                                                                                                                                                                                                                                                                                                                                                                                                                                                                                                                                                                                                                                                                                                                                                                                                                                                                                                                                                                                                                                                                                                                                                                                                                                                                                                                                                                                                                                     Great game. The only thing is how real money is involed with most of the game. It kinda ruins the purpose of earning new weapons and armor when you can buy stuff Twice as good as everyone else.   \n",
       "1685                                                                                                                                                                                                                                                                                                                                                                                                                                                                                                                                                                                                                                                                                                                                                                                                                                                                                                                                                                                                                                                                                                                                                                                                                                                                                                                                                                                                                                                                                                                                                                                                                                                                                                                                                                                                                                                                                                                                                                                                                                                                                                                                                                                                                                                                                                                                                                                                                                                                                                                                                                                                                                                                                                                                                                                                                                                                                                                                                                                                                                                                                                                                                                                                                                                                                                                                                               since the 7.00 update this game has become a tragedy. Adding heroes that kill you in 4 hits and changing the original map is not how you improve things icefrog. I was a huge fan of this game, played it everyday, but now, i regret knowing of it's existence. pls change everything back, this is BS   \n",
       "15566                                                                                                                                                                                                                                                                                                                                                                                                                                                                                                                                                                                                                                                                                                                                                                                                                                                                                                                                                                                                                                                                                                                                                                                                                                                                                                                                                                                                                                                                                                                                                                                                                                                                                                                                                                                                                                                                                                                                                                                                                                                                                                                                                                                                                                                                                                                                                                                                                                                                                                                                                                                                                                                                                                                                                                                                                                                                                                                                                                                                                                                                                                                                                                                                                                                                                                                                                                                                         Early Access ReviewPros:It's AQ FREAKING 3D!It's not too laggyNot p2w, yet...Cons:Not a lot of classes (compared to AQW)Long level up timeWeird camera angle (my preference)Overall:8/10 would play more when they add class and more ways to get EXP fast)    \n",
       "17292                                                                                                                                                                                                                                                                                                                                                                                                                                                                                                                                                                                                                                                                                                                                                                                                                                                                                                                                                                                                                                                                                                                                                                                                                                                                                                                                                                                                                                                                                                                                                                                                                                                                                                                                                                                                                                                                                                                                                                                                                                                                                                                                                                                                                                                                                                                                                                                                                                                                                                                                                                                                                                                                                                                                                                                                                                                                                                                                                                                                                                                                                                                                                                                                                                                                                                                                                       See i think i would like this game, if i could â™¥â™¥â™¥â™¥ing play it.It spent an hr struggling to make a profile for me before i exhaustedly exited out. I attempted to start it up again today and it said \"download fail\"â™¥â™¥â™¥â™¥ this game. The character customization wasâ™¥â™¥â™¥â™¥â™¥â™¥anyways.   \n",
       "15812                                                                                                                                                                                                                                                                                                                                                                                                                                                                                                                                                                                                                                                                                                                                                                                                                                                                                                                                                                                                                                                                                                                                                                                                                                                                                                                                                                                                                                                                                                                                                                                                                                                                                                                                                                                                                                                                                                                                                                                                                                                                                                                                                                                                                                                                                                                                                                                                                                                                                                                                                                                                                                                                                                                                                                                                                                                                                                                      Early Access Reviewok let's try this again shall weso after seeing the graphics slider now it does more look like the AQ kind of style of graphics you knowit's real time combat similar to like AQW and other you stand there auto attacking and using your skills kind of gamesit does look like it can take you a while to craft gear though there really should almost be like a indifferent option if reviews or something because i would say it's about half reallybut because i have to give it a up or down i will give it a up just because it's free 2 play, it looks more styalized when you turn up the graphics(on the default it looks kinda like n64 graphics)and lastly anyone who wants to play a adventurequest kind of game   \n",
       "11904                                                                                                                                                                                                                                                                                                                                                                                                                                                                                                  Early Access ReviewFirst off, i have to admit, i was hyped for the game after reading myself into it and \"accepting\" the \"old\" model, tab target and instanced MMOs. But in the current state, rather wait for a moment. TL;DR included down below.The hype dropped along with the way the CMs handled the communication pre-launch, censoring is still ongoing.I will keep it as objective as i can be, knowing the past of the game. Obviously i ignore the typical launch issues. Those happen with every game, recently Dauntless.To the performance;But now to the game, it failed in multiple regions already, it is using Unreal Engine 3 (Released around 2006-2007?) and DirectX9 (Released along side of Windows XP) So you can imagine how the performance looks like.On an i7 8700k it barely utilizes 15% of my cores, most of it is on a single core eitherway. So Clockspeed > Core count for this MMO. Towards the graphic card performance; The frametime jumps across 5ms-170ms on a GTX 970 @ 1440p, even though V-Sync is enabled. The FPS drops down towards the low 20s at times, even on lowest settings, while doing nothing but starring at a wall. Some people i talked to have worse issues, some have less. To the game itself:Unlike popular belief; this game is not Pay-To-Win yet. Lets hope the developers keep their word, unlike the developers of BDO that put pay to win elements into the game after a while. It plays like the typical 2005 F2P MMO you would expect. Rather stiff, tab target, themepark. The graphical side is obviously not on the highest note, as you can take out of the engine and directx version used. It offers an relatively open world with no in-between loading times, even though I would probably recommend using an SSD to prevent atleast some texture pop-ins or \"loading barriers\" once the pre-loaded area has been exited. The reworked combat is a hit or miss, you get a set of \"pre-made\" combos you can switch around with stances. Quite cool and switching up the rather dull tab target model. But the biggest issue i have encountered is the translation. Beside the performance and the UI, those are the biggest problems. The translation is horrible. And i mean it. The tutorial on some classes even tells people to put skills that dont exist into action bars. \"You are 4Level\" is also one of the funny translations. It is plain lazy.The UI:Playing on a 1440p screen, i am used to have small UI's, and i prefer those over big and clunky UI's anyway. But this game scales the UI to the size of my resolution. The Inventory alone is almost 1000 pixels in height. The UI is NOT customizeable. TL;DRI wouldnt recommend this game to anyone in its current state. There needs to be a lot of polishing and the developer needs to keep their promises of keeping this game free of \"Pay to win\". The performance is a mess. Mostly utilizing a single core on an i7 8700k.The UI is big, clunky and lacks userfeedback, it is not customizeable and may cause lags upon opening certain windows.The gameplay itself is pretty much the typical 2005 F2P MMO   \n",
       "245                                                                                                                                                                                                                                                                                                                                                                                                                                                                                                                                                                                                                                                                                                                                                                                                                                                                                                                                                                                                                                                                                                                                                                                                                                                                                                                                                                                                                                                                                                                                                                                                                                                                                                                                                                                                                                                                                                                                                                                                                                                                                                                                                                                                                                                                                                                                                                                                                                                                                                                                                                                                                                                                                                                                                                                                                                                                                                                                                                                                                                                                                                     Early Access ReviewOMG! I love this game. The graphics are cute when they want to be, and scary when they need to be. I enjoy finding all the past horror game referances (resident evil, dino crisis, Silent hill, the atmosphere is excellent thanks to the music. id say the looping is some times a problem, but when the music stops it always makes me cringe with fear thinking something is goind to happen. My only problem is the sounds that play when the signs pop out, the are quite long and will continue into the next room kidna pulling me out.   \n",
       "\n",
       "       user_suggestion  \\\n",
       "165                  1   \n",
       "16340                0   \n",
       "6284                 0   \n",
       "13227                1   \n",
       "8441                 0   \n",
       "15078                0   \n",
       "1255                 1   \n",
       "916                  1   \n",
       "12291                1   \n",
       "7801                 0   \n",
       "2166                 0   \n",
       "9492                 1   \n",
       "13504                1   \n",
       "9390                 1   \n",
       "1685                 0   \n",
       "15566                1   \n",
       "17292                0   \n",
       "15812                1   \n",
       "11904                0   \n",
       "245                  1   \n",
       "\n",
       "                                                                                                                                                                                                                                                                                                                                                                                                                                                                                                                                                                                                                                              Tokens  \\\n",
       "165                                                                                                                                                                                                                                                                                                                                                                                          [Creepy, as, hell, but, fun, ,, keeps, you, on, your, feet, ,, nice, small, rooms, yet, some, are, just, brutal, ., Also, there, is, bug, issue, of, accesing, steam, while, in, gameplay, ,, think, you, could, fix, that, ?, overall, ,, great, game]   \n",
       "16340                                                                                    [Its, an, alright, game, in, the, start, ,, but, if, your, expecting, to, unlock, alot, of, guns, to, work, with, you, ll, basicly, just, stop, playing, after, a, couple, of, hours, ., Its, either, a, grind, your, ♥, ♥, ♥, ♥, ♥, off, on, the, same, gun, for, ♥, ♥, ♥, ♥, ♥, ♥, EXP, to, finally, unlock, the, next, one, ., Or, you, ll, have, to, buy, exp, /, packs, to, unlock, em, ., I, just, ca, nt, be, bothered, with, this, horrible, grinding, and, i, m, not, spending, money, on, this, since, the, mechanics, is, pretty, whack, ., ...]   \n",
       "6284                                                                                        [Early, Access, ReviewSuper, fun, game, ,, unlike, other, most, recent, released, FPS, games, ,, this, takes, us, back, to, an, older, time, in, the, War, ,, a, more, classic, war, experience, ., However, ,, despite, the, brilliant, idea, ,, the, fact, that, you, have, to, spent, RL, money, to, purchase, many, upgrades, and, character, boost, ,, makes, it, unenjoyable, ., This, should, have, a, flat, out, price, tag, and, allow, everyone, to, enjoy, ingame, item, upgrades, with, the, ingame, currancy, ,, instead, of, RL, money, .]   \n",
       "13227                                                                                                                                                                                                                                                                                                                                                                                               [A, great, game, to, play, in, the, background, while, you, 're, doing, an, assignment, or, playing, another, game, ...., OR, WAITING, FOR, PREMEIRE, PRO, TO, RENDER!!!!It, 's, a, good, time, waster, just, do, n't, expect, much, to, happen]   \n",
       "8441                                                                                 [If, you, 're, using, Windows, 10, do, not, waste, your, time, with, this, game, ., I, have, a, 4, gig, Radeon, card, on, Windows, 10, yet, because, these, jackasses, do, n't, know, what, the, ♥, ♥, ♥, ♥, they, 're, doing, on, ', updates, ', every, time, I, play, ANYTHING, from, perfect, world, it, tells, me, my, card, 's, drivers, are, n't, current, ,, even, though, I, check, on, a, weekly, basis, ., Now, that, I, 'm, using, Windows, 10, ', testing, ', it, wo, n't, even, load, the, ♥, ♥, ♥, ♥, ing, game, ,, the, client, crashes, ,, ...]   \n",
       "15078                             [Early, Access, ReviewI, have, played, tons, of, games, on, robocraft, .,  , I, have, played, this, game, since, it, was, awarded, indie, game, of, the, year, ,, and, might, I, say, props, to, you, for, accomplishing, that, ., That, said, ,, there, are, a, few, things, that, need, to, be, taken, into, account, :, Balance, :, The, game, is, EXTREMELY, unbalanced, ,, the, auto, lock, on, missiles, are, very, hard, to, dodge, and, are, expensive(more, on, this, later, ), and, now, the, timer, has, been, dropped, from, taking, 2.5, seconds, to, lock, on, ,, to, 2, seconds, ., Not, only, ...]   \n",
       "1255                     [Hello, everybody, ,, First, of, all, sorry, for, my, bad, englishif, you, like, moba, 's, like, dota, and, Lol, ,, Hon, etc, .,    , you, will, like, Fractured, Space, ,, game, have, a, very, good, graphic, engine, works, like, charm, (, no, problem, detected, till, now, ,, played, almost, 3, weeks, (, everyday, ), ),  , Fractured, Space, have, alot, off,  , different, ships, for, roles, like, support, ship, ,, sniper, ,, tank, ,, dmg, dealer, etc, ., and, lastnote, from, me, ;, Developers, working, like, a, crazy, they, are, constantly, updating, the, game, ,, fixing, bugs, ,, adding, new, ...]   \n",
       "916                                                                                                                                                                                                                                                                                                                                                                     [Super, fun, game, it, 's, a, lot, like, league, of, legends, ., The, graphics, are, pretty, intense, so, you, should, have, a, good, card, to, run, this, without, lag, ., The, servers, are, amazing, and, this, is, probably, my, favorite, free, game, on, steam, ., :D]   \n",
       "12291                                                                                                                                                                                                                                                                                                                              [Early, Access, ReviewDespite, the, long, queues, to, get, in, and, bad, optimization, ., The, class, i, was, playing, ,, Berzerker, is, really, satisfying, and, the, game, so, far, is, a, lot, of, fun, ., As, long, as, you, do, nt, mind, the, roughness, of, BETA, i, 'd, reccomend, to, try, the, game, .]   \n",
       "7801                                                                                                                                                                                     [LET, ME, EXPLAIN, !, I, adore, trove, i, 've, been, playing, it, before, it, was, even, on, steam, ., Personaly, I, love, the, game, ..., but, ..., The, game, can, sometimes, be, a, little, TOO, grindy, and, once, level, max, is, hit, the, way, you, level, up, from, then, on, can, be, a, tad, tedious, sometimes, ., If, you, love, endless, grinding, go, ahead, !, For, those, that, do, n't, maybe, this, game, is, not, the, one, for, you, .]   \n",
       "2166                                                                                                                                                                                                                                                                                                                                       [Feels, clunky, ,, looks, clunky, ., Has, huge, depth, for, hardcore, min, -, max, players, but, offers, nothing, for, me, that, I, ca, nt, get, out, of, the, other, games, in, the, genre, ., Ca, nt, argue, on, the, price, so, go, test, it, out, yourself, and, see, if, its, your, cup, of, tea, .]   \n",
       "9492                                                                                                                                                                                                                                                                                                                 [i, liked, everything, :), :, ), :, ), :, ), :, ), :, ), :, ), :, ), :, ), :, ), :, ), :, ), :, ), :, ), :, ), :, ), :, ), :, ), :, ), :, ), :, ), :, ), :, ), :, ), :, ), :, ), :, ), :, ), :, ), :, ), :, ), :, ), :, ), :, ), :, ), :, ), :, ), :, ), :, ), :, ), :, ), :, ), :, ), :, ), :, ), :, ), :, ), :, ), :, ), ...]   \n",
       "13504                             [I, never, write, reviews, and, I, never, pay, more, than, a, couple, bucks, for, a, game, ., But, this, one, deserves, it, ., Addicting, like, minecraft-, it, is, minecraft, ,, but, it, runs, much, better, on, my, old, computer, and, has, a, lot, of, features, I, wanted, in, minecraft, ., Only, down, side, is, that, it, 's, not, open, source, like, minecraft, so, if, you, want, mods, and, other, items, you, have, to, purchase, dlc, ., But, still, fun, regardless, ., I, hope, the, developers, continue, to, refine, the, game, features, and, add, more, ., One, thing, I, would, really, ...]   \n",
       "9390                                                                                                                                                                                                                                                                                                                                                                                                  [Great, game, ., The, only, thing, is, how, real, money, is, involed, with, most, of, the, game, ., It, kinda, ruins, the, purpose, of, earning, new, weapons, and, armor, when, you, can, buy, stuff, Twice, as, good, as, everyone, else, .]   \n",
       "1685                                                                                                                                                                                                                                                                [since, the, 7.00, update, this, game, has, become, a, tragedy, ., Adding, heroes, that, kill, you, in, 4, hits, and, changing, the, original, map, is, not, how, you, improve, things, icefrog, ., I, was, a, huge, fan, of, this, game, ,, played, it, everyday, ,, but, now, ,, i, regret, knowing, of, it, 's, existence, ., pls, change, everything, back, ,, this, is, BS]   \n",
       "15566                                                                                                                                                                                                                                                                                                                    [Early, Access, ReviewPros, :, It, 's, AQ, FREAKING, 3D!It, 's, not, too, laggyNot, p2w, ,, yet, ..., Cons, :, Not, a, lot, of, classes, (, compared, to, AQW)Long, level, up, timeWeird, camera, angle, (, my, preference)Overall:8/10, would, play, more, when, they, add, class, and, more, ways, to, get, EXP, fast, )]   \n",
       "17292                                                                                                                                                                                                          [See, i, think, i, would, like, this, game, ,, if, i, could, â, ™, ¥â, ™, ¥â, ™, ¥â, ™, ¥ing, play, it, ., It, spent, an, hr, struggling, to, make, a, profile, for, me, before, i, exhaustedly, exited, out, ., I, attempted, to, start, it, up, again, today, and, it, said, \", download, fail\"â, ™, ¥â, ™, ¥â, ™, ¥â, ™, ¥, this, game, ., The, character, customization, wasâ, ™, ¥â, ™, ¥â, ™, ¥â, ™, ¥â, ™, ¥â, ™, ¥anyways, .]   \n",
       "15812  [Early, Access, Reviewok, let, 's, try, this, again, shall, weso, after, seeing, the, graphics, slider, now, it, does, more, look, like, the, AQ, kind, of, style, of, graphics, you, knowit, 's, real, time, combat, similar, to, like, AQW, and, other, you, stand, there, auto, attacking, and, using, your, skills, kind, of, gamesit, does, look, like, it, can, take, you, a, while, to, craft, gear, though, there, really, should, almost, be, like, a, indifferent, option, if, reviews, or, something, because, i, would, say, it, 's, about, half, reallybut, because, i, have, to, give, it, a, up, or, down, i, will, give, ...]   \n",
       "11904                               [Early, Access, ReviewFirst, off, ,, i, have, to, admit, ,, i, was, hyped, for, the, game, after, reading, myself, into, it, and, \", accepting, \", the, \", old, \", model, ,, tab, target, and, instanced, MMOs, ., But, in, the, current, state, ,, rather, wait, for, a, moment, ., TL;DR, included, down, below, ., The, hype, dropped, along, with, the, way, the, CMs, handled, the, communication, pre, -, launch, ,, censoring, is, still, ongoing, ., I, will, keep, it, as, objective, as, i, can, be, ,, knowing, the, past, of, the, game, ., Obviously, i, ignore, the, typical, launch, issues, ...]   \n",
       "245                                  [Early, Access, ReviewOMG, !, I, love, this, game, ., The, graphics, are, cute, when, they, want, to, be, ,, and, scary, when, they, need, to, be, ., I, enjoy, finding, all, the, past, horror, game, referances, (, resident, evil, ,, dino, crisis, ,, Silent, hill, ,, the, atmosphere, is, excellent, thanks, to, the, music, ., i, d, say, the, looping, is, some, times, a, problem, ,, but, when, the, music, stops, it, always, makes, me, cringe, with, fear, thinking, something, is, goind, to, happen, ., My, only, problem, is, the, sounds, that, play, when, the, signs, pop, out, ,, the, ...]   \n",
       "\n",
       "                                                                                                                                                                                                                                                                                                                                                                                                                                                                                                                                                                                                                                                                                                                                                                                                  ProcessTokens  \n",
       "165                                                                                                                                                                                                                                                                                                                                                                                                                                                                                                                                                                                                                                                                                                               [creepy, hell, fun, nice, small, brutal, bug, issue, steam, think, fix, overall, great, game]  \n",
       "16340                                                                                                                                                                                                                                                                                                                                                                                                                                                                                                                                                                                                     [alright, game, start, unlock, work, stop, couple, grind, gun, finally, unlock, buy, unlock, em, horrible, grinding, m, spending, money, mechanic, pretty, whack, shooting, horrible, ended, instead]  \n",
       "6284                                                                                                                                                                                                                                                                                                                                                                                                                                                                                                                                                                        [early, access, fun, game, unlike, recent, older, time, war, classic, war, experience, despite, brilliant, idea, fact, spent, money, purchase, character, boost, unenjoyable, flat, price, tag, allow, enjoy, item, instead, money]  \n",
       "13227                                                                                                                                                                                                                                                                                                                                                                                                                                                                                                                                                                                                                                                                                                       [great, game, play, background, assignment, game, waiting, pro, good, time, waster, expect, happen]  \n",
       "8441                                                                                                                                                                                                                                                                                                                                                                                                                                                              [waste, time, game, gig, card, know, time, play, perfect, world, card, current, check, weekly, basis, testing, wo, load, ing, game, client, load, fine, card, unactivated, perfect, world, come, century, love, figure, got, current, stopped, stop, making, coming, problem, old, hardware, perfect, world, go, hardware, maybe, month, old]  \n",
       "15078          [early, access, game, game, year, prop, said, need, taken, account, balance, game, extremely, unbalanced, auto, lock, hard, dodge, later, timer, taking, lock, devastating, main, game, plasma, plasma, taken, reduced, fire, rate, plasma, increase, power, consumption, huge, divide, premium, money, easily, basic, afford, laser, high, tier, end, game, money, consider, end, game, close, gotten, expensive, late, list, laser, disintegrator, plasma, devastator, disc, shield, blink, module, cannon, lock, missile, launcher, list, bad, payoff, premium, game, understandably, game, win, day, bonus, premium, play, approximately, acquire, lock, missile, launcher, let, emphasis, lock, missile, launcher, order, use, team, going, want, pack, making, need, play, skyrocket, ...]  \n",
       "1255                                                                                                                                                                                                                                                                                                                                                                                                                                                                                       [hello, everybody, sorry, bad, like, like, like, space, game, good, graphic, engine, work, like, charm, problem, till, everyday, space, different, like, support, ship, sniper, tank, dealer, working, like, crazy, constantly, game, fixing, new, new, game, pay, win, recommend, game, everybody, fun, good, luck]  \n",
       "916                                                                                                                                                                                                                                                                                                                                                                                                                                                                                                                                                                                                                                                                       [super, fun, game, lot, like, league, graphic, pretty, intense, good, card, run, lag, amazing, probably, favorite, free, game, steam]  \n",
       "12291                                                                                                                                                                                                                                                                                                                                                                                                                                                                                                                                                                                                                                                                                  [early, access, long, bad, optimization, class, satisfying, game, far, lot, fun, long, mind, roughness, beta, try, game]  \n",
       "7801                                                                                                                                                                                                                                                                                                                                                                                                                                                                                                                                                                                                                                                           [let, explain, adore, trove, steam, love, game, game, little, level, hit, way, level, tad, tedious, love, endless, grinding, ahead, maybe, game]  \n",
       "2166                                                                                                                                                                                                                                                                                                                                                                                                                                                                                                                                                                                                                                                                                                                                                    [huge, depth, min, genre, argue, price, test, cup, tea]  \n",
       "9492                                                                                                                                                                                                                                                                                                                                                                                                                                                                                                                                                                                                                                                                                                                                                                                                         []  \n",
       "13504                                                                                                                                                                                                                                                                                                                                                                                                                                                                                                                                                                                                                                   [write, pay, couple, game, like, better, old, computer, lot, open, source, like, want, purchase, fun, regardless, hope, continue, refine, game, add, thing, want, mode]  \n",
       "9390                                                                                                                                                                                                                                                                                                                                                                                                                                                                                                                                                                                                                                                                                                             [great, game, thing, real, money, game, purpose, earning, new, armor, buy, stuff, twice, good]  \n",
       "1685                                                                                                                                                                                                                                                                                                                                                                                                                                                                                                                                                                                                                                                                                       [update, game, tragedy, kill, original, map, improve, huge, fan, game, everyday, regret, knowing, existence, change]  \n",
       "15566                                                                                                                                                                                                                                                                                                                                                                                                                                                                                                                                                                                                                                                                                                                            [early, access, lot, class, level, camera, angle, play, add, class, way, fast]  \n",
       "17292                                                                                                                                                                                                                                                                                                                                                                                                                                                                                                                                                                                                                                                                                                   [think, like, game, play, spent, struggling, profile, exhaustedly, start, today, said, game, character]  \n",
       "15812                                                                                                                                                                                                                                                                                                                                                                                                                                                                                                                                    [early, access, let, try, shall, seeing, graphic, slider, look, like, kind, style, graphic, real, time, combat, similar, like, stand, auto, kind, look, like, craft, gear, like, indifferent, option, half, free, play, turn, default, like, lastly, play, kind, game]  \n",
       "11904  [early, access, admit, game, reading, old, model, tab, target, current, state, wait, moment, included, way, handled, communication, launch, ongoing, objective, knowing, past, game, obviously, ignore, typical, launch, happen, game, recently, dauntless, game, multiple, unreal, engine, imagine, performance, like, barely, single, core, core, count, graphic, card, performance, v, sync, low, time, starring, wall, people, worse, game, unlike, popular, belief, game, pay, win, hope, word, unlike, pay, win, game, like, typical, expect, stiff, tab, target, graphical, obviously, highest, note, engine, version, relatively, open, world, loading, time, probably, recommend, prevent, texture, pop, loading, loaded, area, reworked, combat, hit, miss, set, switch, cool, switching, ...]  \n",
       "245                                                                                                                                                                                                                                                                                                                                                                                                                                                                                                                   [early, access, love, game, graphic, cute, want, scary, need, enjoy, finding, past, horror, game, resident, evil, crisis, silent, hill, atmosphere, excellent, thanks, music, d, looping, time, problem, music, cringe, fear, thinking, happen, problem, play, pop, long, continue, room]  "
      ]
     },
     "execution_count": 19,
     "metadata": {},
     "output_type": "execute_result"
    }
   ],
   "source": [
    "df['ProcessTokens'] = list_of_process_tokens    \n",
    "df.sample(20)"
   ]
  },
  {
   "cell_type": "code",
   "execution_count": 20,
   "id": "0122b2a4-f5ef-4f5c-8428-b285415e8a7e",
   "metadata": {},
   "outputs": [],
   "source": [
    "#JUST FOR FUN :)\n",
    "#most common words for each category (user_suggestion=1 OR user_suggestion=0)\n",
    "\n",
    "def words_frequency(data, rating_col, token_col, rating_nr):\n",
    "    all_rating_tokens = []\n",
    "    tokens = list(data[data[rating_col] == rating_nr][token_col])\n",
    "    for i in tokens:\n",
    "        for j in i:\n",
    "            all_rating_tokens.append(j)\n",
    "                \n",
    "    freq = nltk.FreqDist(all_rating_tokens)\n",
    "    print(freq.most_common()[0:20])\n",
    "    freq.plot(10, cumulative=False)\n",
    "    return freq, all_rating_tokens"
   ]
  },
  {
   "cell_type": "code",
   "execution_count": 21,
   "id": "6f89dfc6-7b9c-4b54-b247-5109a0f04363",
   "metadata": {},
   "outputs": [
    {
     "name": "stdout",
     "output_type": "stream",
     "text": [
      "[('game', 28458), ('like', 7237), ('play', 6765), ('good', 4889), ('time', 4615), ('fun', 4397), ('early', 4005), ('access', 3939), ('free', 3795), ('nope', 3235), ('great', 3005), ('lot', 2629), ('people', 2616), ('new', 2556), ('want', 2130), ('need', 2113), ('better', 1960), ('best', 1903), ('way', 1868), ('try', 1643)]\n"
     ]
    },
    {
     "data": {
      "image/png": "[encoded data removed]",
      "text/plain": [
       "<Figure size 640x480 with 1 Axes>"
      ]
     },
     "metadata": {},
     "output_type": "display_data"
    }
   ],
   "source": [
    "freq, all_rating_tokens = words_frequency(df, 'user_suggestion', 'ProcessTokens', 1)"
   ]
  },
  {
   "cell_type": "code",
   "execution_count": 22,
   "id": "497e3b40-7d81-45f3-a118-ebfbb911bb81",
   "metadata": {},
   "outputs": [
    {
     "name": "stdout",
     "output_type": "stream",
     "text": [
      "[('game', 23714), ('play', 5105), ('like', 4795), ('time', 4427), ('good', 3012), ('access', 2963), ('early', 2915), ('money', 2892), ('fun', 2566), ('pay', 2379), ('new', 2264), ('want', 2099), ('people', 2095), ('way', 1685), ('free', 1644), ('bad', 1559), ('need', 1553), ('buy', 1530), ('better', 1513), ('lot', 1345)]\n"
     ]
    },
    {
     "data": {
      "image/png": "[encoded data removed]",
      "text/plain": [
       "<Figure size 640x480 with 1 Axes>"
      ]
     },
     "metadata": {},
     "output_type": "display_data"
    }
   ],
   "source": [
    "freq, all_rating_tokens = words_frequency(df, 'user_suggestion', 'ProcessTokens', 0)"
   ]
  },
  {
   "cell_type": "code",
   "execution_count": 23,
   "id": "86e0f2c2",
   "metadata": {
    "scrolled": true
   },
   "outputs": [],
   "source": [
    "#Converting the datatype of processtokens fromm list to string, so that our vectorization works right.\n",
    "df['ProcessTokens'] = df['ProcessTokens'].astype(\"string\")"
   ]
  },
  {
   "cell_type": "code",
   "execution_count": 24,
   "id": "fd9183de",
   "metadata": {},
   "outputs": [
    {
     "name": "stdout",
     "output_type": "stream",
     "text": [
      "(13995, 5)\n",
      "(13995,)\n",
      "(1749, 5)\n",
      "(1749,)\n",
      "(1750, 5)\n",
      "(1750,)\n"
     ]
    },
    {
     "data": {
      "text/plain": [
       "(None, None)"
      ]
     },
     "execution_count": 24,
     "metadata": {},
     "output_type": "execute_result"
    }
   ],
   "source": [
    "# train test split before normalization\n",
    "from sklearn.model_selection import train_test_split\n",
    "\n",
    "X = df.drop(columns=['user_suggestion','review_id', 'year']).copy()\n",
    "y = df['user_suggestion']\n",
    "\n",
    "X_train, X_rem, y_train, y_rem = train_test_split(X, y, train_size=0.8)\n",
    "\n",
    "X_valid, X_test, y_valid, y_test = train_test_split(X_rem, y_rem, test_size=0.5)\n",
    "\n",
    "print(X_train.shape), print(y_train.shape)\n",
    "print(X_valid.shape), print(y_valid.shape)\n",
    "print(X_test.shape), print(y_test.shape)"
   ]
  },
  {
   "cell_type": "code",
   "execution_count": 25,
   "id": "3483537f",
   "metadata": {},
   "outputs": [
    {
     "name": "stdout",
     "output_type": "stream",
     "text": [
      "[[False False False False False]\n",
      " [False False False False False]\n",
      " [False False False False False]\n",
      " ...\n",
      " [False False False False False]\n",
      " [False False False False False]\n",
      " [False False False False False]]\n",
      "[False False False ... False False False]\n"
     ]
    }
   ],
   "source": [
    "#Check for NaN-Values\n",
    "print(pd.isna(X_train).values)\n",
    "print(pd.isna(y_train).values)"
   ]
  },
  {
   "cell_type": "code",
   "execution_count": 26,
   "id": "1ff490cc-3296-4c27-8560-dcb54f42838e",
   "metadata": {},
   "outputs": [],
   "source": [
    "#define text vectorizers (I used two different ones, later we can decide which one we should continue with)\n",
    "count_vectorizer = CountVectorizer()\n",
    "tfidf_vectorizer = TfidfVectorizer()"
   ]
  },
  {
   "cell_type": "code",
   "execution_count": 27,
   "id": "76438feb",
   "metadata": {},
   "outputs": [
    {
     "name": "stderr",
     "output_type": "stream",
     "text": [
      "/Users/soumyankar/.pyenv/versions/miniconda3-latest/lib/python3.9/site-packages/sklearn/utils/deprecation.py:87: FutureWarning: Function get_feature_names is deprecated; get_feature_names is deprecated in 1.0 and will be removed in 1.2. Please use get_feature_names_out instead.\n",
      "  warnings.warn(msg, category=FutureWarning)\n"
     ]
    }
   ],
   "source": [
    "#text vectorization with count_vectorizer\n",
    "#vectorization on train_dataset\n",
    "np.set_printoptions(threshold=sys.maxsize)\n",
    "def create_vectorized_dataset_count(data):\n",
    "    list_of_count_vectors = []\n",
    "    data = data.tolist() # converting to a list\n",
    "    count_vector = count_vectorizer.fit_transform(data)\n",
    "    count_array = count_vector.toarray()\n",
    "#     Uncomment the two lines below to see the count vector with feature names\n",
    "#     probably might also need to remove print truncation to see the whole thing.\n",
    "    dftemp = pd.DataFrame(data=count_array,columns = count_vectorizer.get_feature_names())\n",
    "    #return count_array # this is the 2d\n",
    "    return count_vector\n",
    "\n",
    "count_vector = create_vectorized_dataset_count(X_train['ProcessTokens']) # this becomes our count vectorization vector.\n",
    "# we can use thhis to train our model.\n"
   ]
  },
  {
   "cell_type": "code",
   "execution_count": null,
   "id": "647c83bc",
   "metadata": {
    "scrolled": true
   },
   "outputs": [],
   "source": []
  },
  {
   "cell_type": "code",
   "execution_count": 28,
   "id": "e8f4b007",
   "metadata": {},
   "outputs": [
    {
     "name": "stdout",
     "output_type": "stream",
     "text": [
      "(13995, 12750)\n"
     ]
    }
   ],
   "source": [
    "#text vectorization with tfidf_vectorizer\n",
    "#vectorization on train_dataset\n",
    "def create_vectorized_dataset_tfidf(data):\n",
    "    data = data.tolist()\n",
    "    tfidf_vector = tfidf_vectorizer.fit_transform(data)\n",
    "    tfidf_array = tfidf_vector.toarray()\n",
    "    # prinnting non-zero colummns\n",
    "    # dftemp = pd.DataFrame(data=tfidf_array, columns=tfidf_vectorizer.get_feature_names())\n",
    "    # print(dftemp)\n",
    "    #return tfidf_array\n",
    "    return tfidf_vector\n",
    "\n",
    "tfidf_vector = create_vectorized_dataset_tfidf(X_train['ProcessTokens'])\n",
    "\n",
    "print(tfidf_vector.shape)\n",
    "#df.head(1)"
   ]
  },
  {
   "cell_type": "markdown",
   "id": "6b0ff8c3-1f0f-46ee-bebe-deef16a3beaf",
   "metadata": {},
   "source": [
    "NOTE: use either Count_Vector or TF-IDF_Vectors column as the input for ML models\n",
    "\n",
    "Next steps: \n",
    "1. define different ML models to work with\n",
    "2. split the dataset (either Count_Vector or TF-IDF_Vectors) into training and testing data\n",
    "3. fit the training data to the models\n",
    "4. make predictions\n",
    "\n",
    "Further steps:\n",
    "\n",
    "5. evaluate each model using different evaluation methods (use the testing dataset for this)"
   ]
  },
  {
   "cell_type": "code",
   "execution_count": 29,
   "id": "092efcfb",
   "metadata": {},
   "outputs": [
    {
     "name": "stdout",
     "output_type": "stream",
     "text": [
      "n_samples: 1750, n_features: 12750\n"
     ]
    }
   ],
   "source": [
    "#transform count test data\n",
    "\n",
    "test_count_vector = count_vectorizer.transform(X_test['ProcessTokens'])\n",
    "print(\"n_samples: %d, n_features: %d\" % test_count_vector.shape)"
   ]
  },
  {
   "cell_type": "code",
   "execution_count": 30,
   "id": "dd7f0a89",
   "metadata": {},
   "outputs": [
    {
     "name": "stdout",
     "output_type": "stream",
     "text": [
      "n_samples: 1750, n_features: 12750\n"
     ]
    }
   ],
   "source": [
    "#transform tfidf test data\n",
    "\n",
    "test_tfidf_vector = tfidf_vectorizer.transform(X_test['ProcessTokens'])\n",
    "print(\"n_samples: %d, n_features: %d\" % test_tfidf_vector.shape)"
   ]
  },
  {
   "cell_type": "code",
   "execution_count": 31,
   "id": "57253233-3da0-4666-989d-1e89dc1eb729",
   "metadata": {},
   "outputs": [
    {
     "name": "stdout",
     "output_type": "stream",
     "text": [
      "Multinomial Naive Bayes model accuracy(in %): 81.88571428571429\n"
     ]
    }
   ],
   "source": [
    "#Naive Bayes with count vector\n",
    "\n",
    "from sklearn import metrics\n",
    "from sklearn.naive_bayes import MultinomialNB\n",
    "\n",
    "naive_bayes_classifier = MultinomialNB()\n",
    "naive_bayes_classifier.fit(count_vector, y_train)\n",
    "\n",
    "y_prediction = naive_bayes_classifier.predict(test_count_vector)\n",
    "\n",
    "print(\"Multinomial Naive Bayes model accuracy(in %):\", metrics.accuracy_score(y_test, y_prediction)*100)"
   ]
  },
  {
   "cell_type": "code",
   "execution_count": 32,
   "id": "d07028fc",
   "metadata": {},
   "outputs": [
    {
     "name": "stdout",
     "output_type": "stream",
     "text": [
      "kNN model accuracy(in %): 61.25714285714285\n"
     ]
    }
   ],
   "source": [
    "# Knn\n",
    "from sklearn.neighbors import KNeighborsClassifier\n",
    "knn = KNeighborsClassifier(n_neighbors=7)\n",
    "knn_clf = knn.fit(count_vector, y_train)\n",
    "knn_y_pred = knn_clf.predict(test_count_vector)\n",
    "\n",
    "\n",
    "print(\"kNN model accuracy(in %):\", metrics.accuracy_score(y_test, knn_y_pred)*100)\n"
   ]
  },
  {
   "cell_type": "code",
   "execution_count": 33,
   "id": "742c7bb3",
   "metadata": {},
   "outputs": [
    {
     "name": "stdout",
     "output_type": "stream",
     "text": [
      "LR model accuracy(in %): 80.57142857142857\n"
     ]
    },
    {
     "name": "stderr",
     "output_type": "stream",
     "text": [
      "/Users/soumyankar/.pyenv/versions/miniconda3-latest/lib/python3.9/site-packages/sklearn/linear_model/_logistic.py:444: ConvergenceWarning: lbfgs failed to converge (status=1):\n",
      "STOP: TOTAL NO. of ITERATIONS REACHED LIMIT.\n",
      "\n",
      "Increase the number of iterations (max_iter) or scale the data as shown in:\n",
      "    https://scikit-learn.org/stable/modules/preprocessing.html\n",
      "Please also refer to the documentation for alternative solver options:\n",
      "    https://scikit-learn.org/stable/modules/linear_model.html#logistic-regression\n",
      "  n_iter_i = _check_optimize_result(\n"
     ]
    }
   ],
   "source": [
    "# lr\n",
    "from sklearn.linear_model import LogisticRegression\n",
    "lr_clf = LogisticRegression()\n",
    "lr_clf.fit(count_vector, y_train)\n",
    "lr_y_pred = lr_clf.predict(test_count_vector)\n",
    "\n",
    "\n",
    "print(\"LR model accuracy(in %):\", metrics.accuracy_score(y_test, lr_y_pred)*100)"
   ]
  },
  {
   "cell_type": "code",
   "execution_count": 34,
   "id": "1d57ede3",
   "metadata": {},
   "outputs": [
    {
     "name": "stdout",
     "output_type": "stream",
     "text": [
      "Accuracy :  0.8057142857142857\n"
     ]
    }
   ],
   "source": [
    "from sklearn.metrics import confusion_matrix\n",
    "cm = confusion_matrix(y_test, lr_y_pred)\n",
    "from sklearn.metrics import accuracy_score \n",
    "print (\"Accuracy : \", accuracy_score(y_test, lr_y_pred))"
   ]
  },
  {
   "cell_type": "code",
   "execution_count": 35,
   "id": "160d5985",
   "metadata": {},
   "outputs": [
    {
     "data": {
      "image/png": "[encoded data removed]",
      "text/plain": [
       "<Figure size 640x480 with 2 Axes>"
      ]
     },
     "metadata": {},
     "output_type": "display_data"
    }
   ],
   "source": [
    "# printing confusion matrix\n",
    "from sklearn.metrics import ConfusionMatrixDisplay\n",
    "disp = ConfusionMatrixDisplay(confusion_matrix=cm,display_labels=lr_clf.classes_)\n",
    "disp.plot()\n",
    "plt.show()"
   ]
  },
  {
   "cell_type": "code",
   "execution_count": null,
   "id": "4a4889ca",
   "metadata": {
    "pycharm": {
     "is_executing": true
    }
   },
   "outputs": [],
   "source": [
    "import sys\n",
    "print(sys.executable)\n"
   ]
  },
  {
   "cell_type": "code",
   "execution_count": null,
   "outputs": [],
   "source": [],
   "metadata": {
    "collapsed": false
   }
  }
 ],
 "metadata": {
  "kernelspec": {
   "display_name": "Python 3 (ipykernel)",
   "language": "python",
   "name": "python3"
  },
  "language_info": {
   "codemirror_mode": {
    "name": "ipython",
    "version": 3
   },
   "file_extension": ".py",
   "mimetype": "text/x-python",
   "name": "python",
   "nbconvert_exporter": "python",
   "pygments_lexer": "ipython3",
   "version": "3.9.12"
  }
 },
 "nbformat": 4,
 "nbformat_minor": 5
}
