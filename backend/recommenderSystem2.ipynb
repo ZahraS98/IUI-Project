{
 "cells": [
  {
   "cell_type": "code",
   "execution_count": 11,
   "id": "85734d1f",
   "metadata": {},
   "outputs": [],
   "source": [
    "#import necessary libraries\n",
    "import pandas as pd\n",
    "from ast import literal_eval\n",
    "from sklearn.feature_extraction.text import CountVectorizer\n",
    "from sklearn.metrics.pairwise import cosine_similarity\n",
    "from itertools import chain\n",
    "import time\n"
   ]
  },
  {
   "cell_type": "code",
   "execution_count": 12,
   "id": "b437a90f",
   "metadata": {
    "scrolled": true
   },
   "outputs": [
    {
     "data": {
      "text/html": [
       "<div>\n",
       "<style scoped>\n",
       "    .dataframe tbody tr th:only-of-type {\n",
       "        vertical-align: middle;\n",
       "    }\n",
       "\n",
       "    .dataframe tbody tr th {\n",
       "        vertical-align: top;\n",
       "    }\n",
       "\n",
       "    .dataframe thead th {\n",
       "        text-align: right;\n",
       "    }\n",
       "</style>\n",
       "<table border=\"1\" class=\"dataframe\">\n",
       "  <thead>\n",
       "    <tr style=\"text-align: right;\">\n",
       "      <th></th>\n",
       "      <th>review_id</th>\n",
       "      <th>title</th>\n",
       "      <th>tags</th>\n",
       "      <th>year</th>\n",
       "      <th>user_review</th>\n",
       "      <th>user_suggestion</th>\n",
       "      <th>url</th>\n",
       "      <th>Tokens</th>\n",
       "      <th>ProcessTokens</th>\n",
       "      <th>soup</th>\n",
       "    </tr>\n",
       "  </thead>\n",
       "  <tbody>\n",
       "    <tr>\n",
       "      <th>0</th>\n",
       "      <td>1</td>\n",
       "      <td>Spooky's Jump Scare Mansion</td>\n",
       "      <td>['Action', 'Adventure', 'Free to Play', 'Indie']</td>\n",
       "      <td>2016.0</td>\n",
       "      <td>I'm scared and hearing creepy voices.  So I'll pause for a moment and write a review while I wait for my heart beat to return to atleast somewhat calmer times.  This game is adorable and creepy like my happy tree friends but with the graphics sceme of my childhood (but more bubble and 'clean').  Hello 1990's.What charactes there are (that isnot trying to kill me) were likable and a bit odd.  I did do a few noob things though, such as:Oh look a class room full of ghosts from dead children, lets shine my flashlight on them and stand there staring at them..Or, hmm creepy music, I'll turn around and see if I can see what's chasing me.Never before in a game have I been this afraid of finding a locked door.</td>\n",
       "      <td>1</td>\n",
       "      <td>https://www.youtube.com/watch?v=48NzbFQebxg</td>\n",
       "      <td>['I', \"'m\", 'scared', 'and', 'hearing', 'creepy', 'voices', '.', ' ', 'So', 'I', \"'ll\", 'pause', 'for', 'a', 'moment', 'and', 'write', 'a', 'review', 'while', 'I', 'wait', 'for', 'my', 'heart', 'beat', 'to', 'return', 'to', 'atleast', 'somewhat', 'calmer', 'times', '.', ' ', 'This', 'game', 'is', 'adorable', 'and', 'creepy', 'like', 'my', 'happy', 'tree', 'friends', 'but', 'with', 'the', 'graphics', 'sceme', 'of', 'my', 'childhood', '(', 'but', 'more', 'bubble', 'and', \"'\", 'clean', \"'\", ')', '.', ' ', 'Hello', \"1990's\", '.', 'What', 'charactes', 'there', 'are', '(', 'that', 'isnot', 'trying', 'to', 'kill', 'me', ')', 'were', 'likable', 'and', 'a', 'bit', 'odd', '.', ' ', 'I', 'did', 'do', 'a', 'few', 'noob', 'things', 'though', ',', 'such', 'as', ':', 'Oh', 'look', 'a', 'class', 'room', 'full', 'of', 'ghosts', 'from', 'dead', 'children', ',', 'lets', 'shine', 'my', 'flashlight', 'on', 'them', 'and', 'stand', 'there', 'staring', 'at', 'them', '..', 'Or', ',', 'hmm', 'creepy', 'music', ',', 'I', \"'ll\", 'turn', 'around', 'and', 'see', 'if', 'I', 'can', 'see', 'what', \"'s\", 'chasing', 'me', '.', 'Never', 'before', 'in', 'a', 'game', 'have', 'I', 'been', 'this', 'afraid', 'of', 'finding', 'a', 'locked', 'door', '.']</td>\n",
       "      <td>[hearing, creepy, pause, moment, write, review, wait, heart, beat, return, somewhat, calmer, time, game, adorable, creepy, like, happy, tree, graphic, childhood, bubble, clean, hello, trying, kill, likable, bit, odd, oh, look, class, room, dead, shine, flashlight, stand, staring, creepy, music, turn, chasing, game, afraid, finding, locked, door]</td>\n",
       "      <td>hearing creepy pause moment write review wait heart beat return somewhat calmer time game adorable creepy like happy tree graphic childhood bubble clean hello trying kill likable bit odd oh look class room dead shine flashlight stand staring creepy music turn chasing game afraid finding locked door action adventure free to play indie</td>\n",
       "    </tr>\n",
       "  </tbody>\n",
       "</table>\n",
       "</div>"
      ],
      "text/plain": [
       "   review_id                        title  \\\n",
       "0          1  Spooky's Jump Scare Mansion   \n",
       "\n",
       "                                               tags    year  \\\n",
       "0  ['Action', 'Adventure', 'Free to Play', 'Indie']  2016.0   \n",
       "\n",
       "                                                                                                                                                                                                                                                                                                                                                                                                                                                                                                                                                                                                                                                                                                                              user_review  \\\n",
       "0  I'm scared and hearing creepy voices.  So I'll pause for a moment and write a review while I wait for my heart beat to return to atleast somewhat calmer times.  This game is adorable and creepy like my happy tree friends but with the graphics sceme of my childhood (but more bubble and 'clean').  Hello 1990's.What charactes there are (that isnot trying to kill me) were likable and a bit odd.  I did do a few noob things though, such as:Oh look a class room full of ghosts from dead children, lets shine my flashlight on them and stand there staring at them..Or, hmm creepy music, I'll turn around and see if I can see what's chasing me.Never before in a game have I been this afraid of finding a locked door.   \n",
       "\n",
       "   user_suggestion                                          url  \\\n",
       "0                1  https://www.youtube.com/watch?v=48NzbFQebxg   \n",
       "\n",
       "                                                                                                                                                                                                                                                                                                                                                                                                                                                                                                                                                                                                                                                                                                                                                                                                                                                                                                                                                                                                                                                                                                                                                                                                                                                                            Tokens  \\\n",
       "0  ['I', \"'m\", 'scared', 'and', 'hearing', 'creepy', 'voices', '.', ' ', 'So', 'I', \"'ll\", 'pause', 'for', 'a', 'moment', 'and', 'write', 'a', 'review', 'while', 'I', 'wait', 'for', 'my', 'heart', 'beat', 'to', 'return', 'to', 'atleast', 'somewhat', 'calmer', 'times', '.', ' ', 'This', 'game', 'is', 'adorable', 'and', 'creepy', 'like', 'my', 'happy', 'tree', 'friends', 'but', 'with', 'the', 'graphics', 'sceme', 'of', 'my', 'childhood', '(', 'but', 'more', 'bubble', 'and', \"'\", 'clean', \"'\", ')', '.', ' ', 'Hello', \"1990's\", '.', 'What', 'charactes', 'there', 'are', '(', 'that', 'isnot', 'trying', 'to', 'kill', 'me', ')', 'were', 'likable', 'and', 'a', 'bit', 'odd', '.', ' ', 'I', 'did', 'do', 'a', 'few', 'noob', 'things', 'though', ',', 'such', 'as', ':', 'Oh', 'look', 'a', 'class', 'room', 'full', 'of', 'ghosts', 'from', 'dead', 'children', ',', 'lets', 'shine', 'my', 'flashlight', 'on', 'them', 'and', 'stand', 'there', 'staring', 'at', 'them', '..', 'Or', ',', 'hmm', 'creepy', 'music', ',', 'I', \"'ll\", 'turn', 'around', 'and', 'see', 'if', 'I', 'can', 'see', 'what', \"'s\", 'chasing', 'me', '.', 'Never', 'before', 'in', 'a', 'game', 'have', 'I', 'been', 'this', 'afraid', 'of', 'finding', 'a', 'locked', 'door', '.']   \n",
       "\n",
       "                                                                                                                                                                                                                                                                                                                                                 ProcessTokens  \\\n",
       "0  [hearing, creepy, pause, moment, write, review, wait, heart, beat, return, somewhat, calmer, time, game, adorable, creepy, like, happy, tree, graphic, childhood, bubble, clean, hello, trying, kill, likable, bit, odd, oh, look, class, room, dead, shine, flashlight, stand, staring, creepy, music, turn, chasing, game, afraid, finding, locked, door]   \n",
       "\n",
       "                                                                                                                                                                                                                                                                                                                                              soup  \n",
       "0  hearing creepy pause moment write review wait heart beat return somewhat calmer time game adorable creepy like happy tree graphic childhood bubble clean hello trying kill likable bit odd oh look class room dead shine flashlight stand staring creepy music turn chasing game afraid finding locked door action adventure free to play indie  "
      ]
     },
     "execution_count": 12,
     "metadata": {},
     "output_type": "execute_result"
    }
   ],
   "source": [
    "#load the dataset\n",
    "pd.set_option('display.max_colwidth', None)\n",
    "df = pd.read_csv('data/final_dataset.csv', converters={'ProcessTokens': literal_eval})\n",
    "df.head(1)"
   ]
  },
  {
   "cell_type": "code",
   "execution_count": 13,
   "id": "535b8e44",
   "metadata": {},
   "outputs": [],
   "source": [
    "#Converting the datatype of processtokens fromm list to string, so that our vectorization4 works right.\n",
    "df['ProcessTokens'] = df['ProcessTokens'].astype(\"string\")"
   ]
  },
  {
   "cell_type": "code",
   "execution_count": 14,
   "id": "3dc4ab95",
   "metadata": {},
   "outputs": [],
   "source": [
    "def getSearchTerms():\n",
    "    genres = ['Action', 'Adventure', 'Casual', 'Free to Play', 'Massively Multiplayer', 'RPG']\n",
    "    review1 = [\"I love plains of eidolon, let's remove every mission in the game and put their rewards in the plains so we can play max range nova every game.\"]\n",
    "    review2 = []\n",
    "    review3 = []\n",
    "    searchTerms = genres + review1 + review2 + review3\n",
    "    \n",
    "    searchTerms = \" \".join(map(str, searchTerms))\n",
    "    searchTerms = searchTerms.lower()\n",
    "    return searchTerms"
   ]
  },
  {
   "cell_type": "code",
   "execution_count": 15,
   "id": "0d6ae582",
   "metadata": {},
   "outputs": [],
   "source": [
    "def make_recommendation(df=df):\n",
    "    new_row = df.iloc[-1,:].copy() #creating a copy of the last row of the \n",
    "    #dataset, which we will use to input the user's input\n",
    "\n",
    "    #grabbing the new wordsoup from the user\n",
    "    searchTerms = getSearchTerms()\n",
    "    new_row['soup'] = searchTerms\n",
    "    new_row['title'] = 'UserInput'\n",
    "\n",
    "    #adding the new row to the dataset\n",
    "    df = df.append(new_row)\n",
    "#     df.iloc[-1] = searchTerms #adding the input to our new row\n",
    "\n",
    "    #Vectorizing the entire matrix as described above!\n",
    "    count = CountVectorizer(stop_words='english')\n",
    "    count_matrix = count.fit_transform(df['soup'])\n",
    "\n",
    "    #running pairwise cosine similarity \n",
    "    cosine_sim2 = cosine_similarity(count_matrix, count_matrix) #getting a similarity matrix\n",
    "\n",
    "    #sorting cosine similarities by highest to lowest\n",
    "    sim_scores = list(enumerate(cosine_sim2[-1,:]))\n",
    "    sim_scores = sorted(sim_scores, key=lambda x: x[1], reverse=True)\n",
    "    #matching the similarities to the movie titles and ids\n",
    "    #   ranked_titles = []\n",
    "    #   for i in range(1, 11):\n",
    "    #     indx = sim_scores[i][0]\n",
    "    #     ranked_titles.append([df['title'].iloc[indx], df['soup'].iloc[indx]])\n",
    "    i = 10\n",
    "    inc = 1 # we start from the 1-th row because, the 0th row is the input itself. dont want that.\n",
    "    \n",
    "    ranked_titles = []\n",
    "    while i>=0:\n",
    "        indx = sim_scores[inc][0]\n",
    "        inc = inc + 1\n",
    "        current_title = df['title'].iloc[indx]\n",
    "        if(current_title == 'UserInput'):\n",
    "            continue\n",
    "        if(current_title not in chain(*ranked_titles)):\n",
    "            ranked_titles.append([df['title'].iloc[indx], sim_scores[inc-1][1]])\n",
    "            i = i - 1\n",
    "\n",
    "    return ranked_titles"
   ]
  },
  {
   "cell_type": "code",
   "execution_count": 16,
   "id": "979ddf43",
   "metadata": {
    "scrolled": true
   },
   "outputs": [
    {
     "name": "stderr",
     "output_type": "stream",
     "text": [
      "C:\\Users\\User\\AppData\\Local\\Temp\\ipykernel_8796\\1075782700.py:11: FutureWarning: The frame.append method is deprecated and will be removed from pandas in a future version. Use pandas.concat instead.\n",
      "  df = df.append(new_row)\n"
     ]
    },
    {
     "data": {
      "text/plain": [
       "[['School of Dragons', 0.6267831705280087],\n",
       " ['Elsword', 0.6213697660012],\n",
       " ['Creativerse', 0.6172133998483675],\n",
       " ['Realm of the Mad God', 0.6123724356957945],\n",
       " ['Neverwinter', 0.607142857142857],\n",
       " ['Path of Exile', 0.6047431568147635],\n",
       " ['Trove', 0.6043672230190351],\n",
       " ['AdventureQuest 3D', 0.602763781115103],\n",
       " ['Infestation: The New Z', 0.5958540230683373],\n",
       " ['World of Tanks Blitz', 0.5910828046793255],\n",
       " ['Robocraft', 0.5819143739626463]]"
      ]
     },
     "metadata": {},
     "output_type": "display_data"
    },
    {
     "name": "stdout",
     "output_type": "stream",
     "text": [
      "--- 13.12232494354248 seconds ---\n"
     ]
    }
   ],
   "source": [
    "start_time = time.time()\n",
    "#let's try our recommendation function now\n",
    "user_recs = make_recommendation()\n",
    "display(user_recs)\n",
    "print(\"--- %s seconds ---\" % (time.time() - start_time))"
   ]
  }
 ],
 "metadata": {
  "kernelspec": {
   "display_name": "Python 3",
   "language": "python",
   "name": "python3"
  },
  "language_info": {
   "codemirror_mode": {
    "name": "ipython",
    "version": 3
   },
   "file_extension": ".py",
   "mimetype": "text/x-python",
   "name": "python",
   "nbconvert_exporter": "python",
   "pygments_lexer": "ipython3",
   "version": "3.10.9"
  },
  "vscode": {
   "interpreter": {
    "hash": "3b7e9cb8e453d6cda0fe8c8dd13f891a1f09162f0e7c66ffeae7751a7aecf00d"
   }
  }
 },
 "nbformat": 4,
 "nbformat_minor": 5
}
