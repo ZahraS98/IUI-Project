{
 "cells": [
  {
   "cell_type": "code",
   "execution_count": null,
   "id": "85734d1f",
   "metadata": {},
   "outputs": [],
   "source": [
    "#import necessary libraries\n",
    "import pandas as pd\n",
    "from ast import literal_eval\n",
    "from sklearn.feature_extraction.text import CountVectorizer\n",
    "from sklearn.metrics.pairwise import cosine_similarity\n",
    "from itertools import chain\n",
    "import time\n"
   ]
  },
  {
   "cell_type": "code",
   "execution_count": null,
   "id": "b437a90f",
   "metadata": {
    "scrolled": true
   },
   "outputs": [],
   "source": [
    "#load the dataset\n",
    "pd.set_option('display.max_colwidth', None)\n",
    "df = pd.read_csv('data/final_dataset.csv', converters={'ProcessTokens': literal_eval})\n",
    "df.head(1)"
   ]
  },
  {
   "cell_type": "code",
   "execution_count": null,
   "id": "535b8e44",
   "metadata": {},
   "outputs": [],
   "source": [
    "#Converting the datatype of processtokens fromm list to string, so that our vectorization4 works right.\n",
    "df['ProcessTokens'] = df['ProcessTokens'].astype(\"string\")"
   ]
  },
  {
   "cell_type": "code",
   "execution_count": null,
   "id": "3dc4ab95",
   "metadata": {},
   "outputs": [],
   "source": [
    "def getSearchTerms():\n",
    "    genres = ['Action', 'Adventure', 'Casual', 'Free to Play', 'Massively Multiplayer', 'RPG']\n",
    "    review1 = [\"I love plains of eidolon, let's remove every mission in the game and put their rewards in the plains so we can play max range nova every game.\"]\n",
    "    review2 = []\n",
    "    review3 = []\n",
    "    searchTerms = genres + review1 + review2 + review3\n",
    "    \n",
    "    searchTerms = \" \".join(map(str, searchTerms))\n",
    "    searchTerms = searchTerms.lower()\n",
    "    return searchTerms"
   ]
  },
  {
   "cell_type": "code",
   "execution_count": null,
   "id": "0d6ae582",
   "metadata": {},
   "outputs": [],
   "source": [
    "def make_recommendation(df=df):\n",
    "    new_row = df.iloc[-1,:].copy() #creating a copy of the last row of the \n",
    "    #dataset, which we will use to input the user's input\n",
    "\n",
    "    #grabbing the new wordsoup from the user\n",
    "    searchTerms = getSearchTerms()\n",
    "    new_row['soup'] = searchTerms\n",
    "    new_row['title'] = 'UserInput'\n",
    "\n",
    "    #adding the new row to the dataset\n",
    "    df = df.append(new_row)\n",
    "#     df.iloc[-1] = searchTerms #adding the input to our new row\n",
    "\n",
    "    #Vectorizing the entire matrix as described above!\n",
    "    count = CountVectorizer(stop_words='english')\n",
    "    count_matrix = count.fit_transform(df['soup'])\n",
    "\n",
    "    #running pairwise cosine similarity \n",
    "    cosine_sim2 = cosine_similarity(count_matrix, count_matrix) #getting a similarity matrix\n",
    "\n",
    "    #sorting cosine similarities by highest to lowest\n",
    "    sim_scores = list(enumerate(cosine_sim2[-1,:]))\n",
    "    sim_scores = sorted(sim_scores, key=lambda x: x[1], reverse=True)\n",
    "    #matching the similarities to the movie titles and ids\n",
    "    #   ranked_titles = []\n",
    "    #   for i in range(1, 11):\n",
    "    #     indx = sim_scores[i][0]\n",
    "    #     ranked_titles.append([df['title'].iloc[indx], df['soup'].iloc[indx]])\n",
    "    i = 10\n",
    "    inc = 1 # we start from the 1-th row because, the 0th row is the input itself. dont want that.\n",
    "    \n",
    "    ranked_titles = []\n",
    "    while i>=0:\n",
    "        indx = sim_scores[inc][0]\n",
    "        inc = inc + 1\n",
    "        current_title = df['title'].iloc[indx]\n",
    "        if(current_title == 'UserInput'):\n",
    "            continue\n",
    "        if(current_title not in chain(*ranked_titles)):\n",
    "            ranked_titles.append([df['title'].iloc[indx], sim_scores[inc-1][1]])\n",
    "            i = i - 1\n",
    "\n",
    "    return ranked_titles"
   ]
  },
  {
   "cell_type": "code",
   "execution_count": null,
   "id": "979ddf43",
   "metadata": {
    "scrolled": true
   },
   "outputs": [],
   "source": [
    "start_time = time.time()\n",
    "#let's try our recommendation function now\n",
    "user_recs = make_recommendation()\n",
    "display(user_recs)\n",
    "print(\"--- %s seconds ---\" % (time.time() - start_time))"
   ]
  }
 ],
 "metadata": {
  "kernelspec": {
   "display_name": "Python 3",
   "language": "python",
   "name": "python3"
  },
  "language_info": {
   "codemirror_mode": {
    "name": "ipython",
    "version": 3
   },
   "file_extension": ".py",
   "mimetype": "text/x-python",
   "name": "python",
   "nbconvert_exporter": "python",
   "pygments_lexer": "ipython3",
   "version": "3.10.9"
  },
  "vscode": {
   "interpreter": {
    "hash": "3b7e9cb8e453d6cda0fe8c8dd13f891a1f09162f0e7c66ffeae7751a7aecf00d"
   }
  }
 },
 "nbformat": 4,
 "nbformat_minor": 5
}
